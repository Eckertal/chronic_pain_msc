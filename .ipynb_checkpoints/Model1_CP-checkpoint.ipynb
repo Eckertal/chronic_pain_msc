{
 "cells": [
  {
   "cell_type": "markdown",
   "metadata": {},
   "source": [
    "# Model 1\n",
    "\n",
    "### Simple perception model\n",
    "\n",
    "2 latent conditions, 2 sensations, 5 parameters...\n",
    "* Prior probability of pain, connected to first latent condition\n",
    "* Latent condition 1 and 2, connected to each other over time; general expectation of pain over time. Values: Pain, no pain\n",
    "* Sensations 1 and 2, connected to latent condition, likelihood model and precisions. Values: tickle, nociceptive input. "
   ]
  },
  {
   "cell_type": "code",
   "execution_count": 1,
   "metadata": {
    "collapsed": true
   },
   "outputs": [],
   "source": [
    "import sys\n",
    "import numpy as np\n",
    "import sumProduct as sp\n",
    "sys.path.append('Desktop/Masterarbeit')\n",
    "import graphviz as gp\n",
    "import subprocess\n",
    "import matplotlib.pyplot as plt"
   ]
  },
  {
   "cell_type": "code",
   "execution_count": 2,
   "metadata": {
    "collapsed": true
   },
   "outputs": [],
   "source": [
    "factors = []\n",
    "latent = []\n",
    "sensory = []\n",
    "variables = []"
   ]
  },
  {
   "cell_type": "markdown",
   "metadata": {},
   "source": [
    "# Construct Model"
   ]
  },
  {
   "cell_type": "code",
   "execution_count": 3,
   "metadata": {
    "collapsed": false
   },
   "outputs": [],
   "source": [
    "# Initialize latent conditions. \n",
    "Pt1 = sp.variableNode('Pt1')\n",
    "Pt2 = sp.variableNode('Pt2')\n",
    "latent += [Pt1, Pt2]\n",
    "# Initialize sensations\n",
    "S1 = sp.variableNode('S1')\n",
    "S2 = sp.variableNode('S2')\n",
    "sensory += [S1, S2]\n",
    "variables = sensory + latent"
   ]
  },
  {
   "cell_type": "code",
   "execution_count": 4,
   "metadata": {
    "collapsed": false
   },
   "outputs": [
    {
     "ename": "IndexError",
     "evalue": "tuple index out of range",
     "output_type": "error",
     "traceback": [
      "\u001b[0;31m---------------------------------------------------------------------------\u001b[0m",
      "\u001b[0;31mIndexError\u001b[0m                                Traceback (most recent call last)",
      "\u001b[0;32m<ipython-input-4-85c168910534>\u001b[0m in \u001b[0;36m<module>\u001b[0;34m()\u001b[0m\n\u001b[1;32m     12\u001b[0m \u001b[0mPPt1\u001b[0m \u001b[1;33m=\u001b[0m \u001b[0msp\u001b[0m\u001b[1;33m.\u001b[0m\u001b[0mfactorNode\u001b[0m\u001b[1;33m(\u001b[0m\u001b[1;33m)\u001b[0m\u001b[1;33m\u001b[0m\u001b[0m\n\u001b[1;32m     13\u001b[0m \u001b[0mPPt1\u001b[0m\u001b[1;33m.\u001b[0m\u001b[0maddNeighbour\u001b[0m\u001b[1;33m(\u001b[0m\u001b[0mPt1\u001b[0m\u001b[1;33m)\u001b[0m\u001b[1;33m\u001b[0m\u001b[0m\n\u001b[0;32m---> 14\u001b[0;31m \u001b[0mPPt1\u001b[0m\u001b[1;33m.\u001b[0m\u001b[0msetValues\u001b[0m\u001b[1;33m(\u001b[0m\u001b[1;32mlambda\u001b[0m \u001b[0mx\u001b[0m\u001b[1;33m:\u001b[0m\u001b[1;36m0.8\u001b[0m\u001b[1;33m*\u001b[0m\u001b[1;33m(\u001b[0m\u001b[0mx\u001b[0m\u001b[1;33m[\u001b[0m\u001b[1;36m0\u001b[0m\u001b[1;33m]\u001b[0m\u001b[1;33m==\u001b[0m\u001b[0mx\u001b[0m\u001b[1;33m[\u001b[0m\u001b[1;36m1\u001b[0m\u001b[1;33m]\u001b[0m\u001b[1;33m)\u001b[0m\u001b[1;33m+\u001b[0m\u001b[1;36m0.2\u001b[0m\u001b[1;33m*\u001b[0m\u001b[1;33m(\u001b[0m\u001b[0mx\u001b[0m\u001b[1;33m[\u001b[0m\u001b[1;36m0\u001b[0m\u001b[1;33m]\u001b[0m\u001b[1;33m!=\u001b[0m\u001b[0mx\u001b[0m\u001b[1;33m[\u001b[0m\u001b[1;36m1\u001b[0m\u001b[1;33m]\u001b[0m\u001b[1;33m)\u001b[0m\u001b[1;33m)\u001b[0m\u001b[1;33m\u001b[0m\u001b[0m\n\u001b[0m\u001b[1;32m     15\u001b[0m \u001b[1;33m\u001b[0m\u001b[0m\n\u001b[1;32m     16\u001b[0m \u001b[0mPS2Pt2\u001b[0m \u001b[1;33m=\u001b[0m \u001b[0msp\u001b[0m\u001b[1;33m.\u001b[0m\u001b[0mfactorNode\u001b[0m\u001b[1;33m(\u001b[0m\u001b[1;33m)\u001b[0m\u001b[1;33m\u001b[0m\u001b[0m\n",
      "\u001b[0;32mC:\\Users\\OEM\\Desktop\\Masterarbeit\\sumProduct.py\u001b[0m in \u001b[0;36msetValues\u001b[0;34m(self, callback)\u001b[0m\n\u001b[1;32m    208\u001b[0m     \u001b[1;32mdef\u001b[0m \u001b[0msetValues\u001b[0m\u001b[1;33m(\u001b[0m\u001b[0mself\u001b[0m\u001b[1;33m,\u001b[0m\u001b[0mcallback\u001b[0m\u001b[1;33m)\u001b[0m\u001b[1;33m:\u001b[0m\u001b[1;33m\u001b[0m\u001b[0m\n\u001b[1;32m    209\u001b[0m         \u001b[1;34m\"\"\"Get the values for the factor by calling callback, a function which accepts a tuple of values as argument\"\"\"\u001b[0m\u001b[1;33m\u001b[0m\u001b[0m\n\u001b[0;32m--> 210\u001b[0;31m         \u001b[1;32mfor\u001b[0m \u001b[0mvr\u001b[0m \u001b[1;32min\u001b[0m \u001b[0mself\u001b[0m\u001b[1;33m.\u001b[0m\u001b[0mranges\u001b[0m\u001b[1;33m:\u001b[0m \u001b[0mself\u001b[0m\u001b[1;33m.\u001b[0m\u001b[0mfactor\u001b[0m\u001b[1;33m[\u001b[0m\u001b[0mvr\u001b[0m\u001b[1;33m]\u001b[0m\u001b[1;33m=\u001b[0m\u001b[0mcallback\u001b[0m\u001b[1;33m(\u001b[0m\u001b[0mvr\u001b[0m\u001b[1;33m)\u001b[0m\u001b[1;33m\u001b[0m\u001b[0m\n\u001b[0m\u001b[1;32m    211\u001b[0m \u001b[1;33m\u001b[0m\u001b[0m\n\u001b[1;32m    212\u001b[0m     \u001b[1;32mdef\u001b[0m \u001b[0m_printNode\u001b[0m\u001b[1;33m(\u001b[0m\u001b[0mself\u001b[0m\u001b[1;33m)\u001b[0m\u001b[1;33m:\u001b[0m\u001b[1;33m\u001b[0m\u001b[0m\n",
      "\u001b[0;32m<ipython-input-4-85c168910534>\u001b[0m in \u001b[0;36m<lambda>\u001b[0;34m(x)\u001b[0m\n\u001b[1;32m     12\u001b[0m \u001b[0mPPt1\u001b[0m \u001b[1;33m=\u001b[0m \u001b[0msp\u001b[0m\u001b[1;33m.\u001b[0m\u001b[0mfactorNode\u001b[0m\u001b[1;33m(\u001b[0m\u001b[1;33m)\u001b[0m\u001b[1;33m\u001b[0m\u001b[0m\n\u001b[1;32m     13\u001b[0m \u001b[0mPPt1\u001b[0m\u001b[1;33m.\u001b[0m\u001b[0maddNeighbour\u001b[0m\u001b[1;33m(\u001b[0m\u001b[0mPt1\u001b[0m\u001b[1;33m)\u001b[0m\u001b[1;33m\u001b[0m\u001b[0m\n\u001b[0;32m---> 14\u001b[0;31m \u001b[0mPPt1\u001b[0m\u001b[1;33m.\u001b[0m\u001b[0msetValues\u001b[0m\u001b[1;33m(\u001b[0m\u001b[1;32mlambda\u001b[0m \u001b[0mx\u001b[0m\u001b[1;33m:\u001b[0m\u001b[1;36m0.8\u001b[0m\u001b[1;33m*\u001b[0m\u001b[1;33m(\u001b[0m\u001b[0mx\u001b[0m\u001b[1;33m[\u001b[0m\u001b[1;36m0\u001b[0m\u001b[1;33m]\u001b[0m\u001b[1;33m==\u001b[0m\u001b[0mx\u001b[0m\u001b[1;33m[\u001b[0m\u001b[1;36m1\u001b[0m\u001b[1;33m]\u001b[0m\u001b[1;33m)\u001b[0m\u001b[1;33m+\u001b[0m\u001b[1;36m0.2\u001b[0m\u001b[1;33m*\u001b[0m\u001b[1;33m(\u001b[0m\u001b[0mx\u001b[0m\u001b[1;33m[\u001b[0m\u001b[1;36m0\u001b[0m\u001b[1;33m]\u001b[0m\u001b[1;33m!=\u001b[0m\u001b[0mx\u001b[0m\u001b[1;33m[\u001b[0m\u001b[1;36m1\u001b[0m\u001b[1;33m]\u001b[0m\u001b[1;33m)\u001b[0m\u001b[1;33m)\u001b[0m\u001b[1;33m\u001b[0m\u001b[0m\n\u001b[0m\u001b[1;32m     15\u001b[0m \u001b[1;33m\u001b[0m\u001b[0m\n\u001b[1;32m     16\u001b[0m \u001b[0mPS2Pt2\u001b[0m \u001b[1;33m=\u001b[0m \u001b[0msp\u001b[0m\u001b[1;33m.\u001b[0m\u001b[0mfactorNode\u001b[0m\u001b[1;33m(\u001b[0m\u001b[1;33m)\u001b[0m\u001b[1;33m\u001b[0m\u001b[0m\n",
      "\u001b[0;31mIndexError\u001b[0m: tuple index out of range"
     ]
    }
   ],
   "source": [
    "# Initialize parameters\n",
    "PPt2Pt1 = sp.factorNode()\n",
    "PPt2Pt1.addNeighbour(Pt2)\n",
    "PPt2Pt1.addNeighbour(Pt1)\n",
    "PPt2Pt1.setValues(lambda x:0.8*(x[0]==x[1])+0.2*(x[0]!=x[1]))\n",
    "\n",
    "PS1Pt1 = sp.factorNode()\n",
    "PS1Pt1.addNeighbour(S1)\n",
    "PS1Pt1.addNeighbour(Pt1)\n",
    "PS1Pt1.setValues(lambda x:0.8*(x[0]==x[1])+0.2*(x[0]!=x[1]))\n",
    "\n",
    "PPt1 = sp.factorNode()\n",
    "PPt1.addNeighbour(Pt1)\n",
    "PPt1.setValues(lambda x:0.8*(x[0]==x[1])+0.2*(x[0]!=x[1]))\n",
    "\n",
    "PS2Pt2 = sp.factorNode()\n",
    "PS2Pt2.addNeighbour(S2)\n",
    "PS2Pt2.addNeighbour(Pt2)\n",
    "PS2Pt2.setValues(lambda x:0.8*(x[0]==x[1])+0.2*(x[0]!=x[1]))\n",
    "\n",
    "factors += [PPt2Pt1, PS1Pt1, PPt1, PS2Pt2]"
   ]
  },
  {
   "cell_type": "code",
   "execution_count": 17,
   "metadata": {
    "collapsed": false
   },
   "outputs": [],
   "source": [
    "allNodes = variables + factors"
   ]
  },
  {
   "cell_type": "code",
   "execution_count": 22,
   "metadata": {
    "collapsed": false
   },
   "outputs": [
    {
     "data": {
      "text/plain": [
       "[<sumProduct.variableNode at 0x2598ec48898>,\n",
       " <sumProduct.variableNode at 0x2598ec48828>,\n",
       " <sumProduct.variableNode at 0x2598ec487f0>,\n",
       " <sumProduct.variableNode at 0x2598ec48748>,\n",
       " <sumProduct.factorNode at 0x2598ec5c240>,\n",
       " <sumProduct.factorNode at 0x2598ec5c2b0>,\n",
       " <sumProduct.factorNode at 0x2598ec5c2e8>,\n",
       " <sumProduct.factorNode at 0x2598ec5c278>]"
      ]
     },
     "execution_count": 22,
     "metadata": {},
     "output_type": "execute_result"
    }
   ],
   "source": [
    "allNodes"
   ]
  },
  {
   "cell_type": "code",
   "execution_count": 18,
   "metadata": {
    "collapsed": false
   },
   "outputs": [
    {
     "data": {
      "text/plain": [
       "0"
      ]
     },
     "execution_count": 18,
     "metadata": {},
     "output_type": "execute_result"
    }
   ],
   "source": [
    "# plotting the factor graph using graphviz\n",
    "outf=open(\"Model1.dot\",\"w\")\n",
    "outf.write(Pt1.dotPrint())\n",
    "outf.close()\n",
    "subprocess.call(\"neato -T png -o Model1.png Model1.dot\", shell=True)\n",
    "\n",
    "# Insert image of factor graph here\n",
    "# why are the names of the factors turned around? Eg it should be factor PS2Pt2 not the other way round..."
   ]
  },
  {
   "cell_type": "markdown",
   "metadata": {},
   "source": [
    "<img src=\"files/Model1.png\">"
   ]
  },
  {
   "cell_type": "code",
   "execution_count": 23,
   "metadata": {
    "collapsed": false
   },
   "outputs": [
    {
     "ename": "KeyError",
     "evalue": "(True,)",
     "output_type": "error",
     "traceback": [
      "\u001b[0;31m---------------------------------------------------------------------------\u001b[0m",
      "\u001b[0;31mKeyError\u001b[0m                                  Traceback (most recent call last)",
      "\u001b[0;32m<ipython-input-23-180381b3e1a4>\u001b[0m in \u001b[0;36m<module>\u001b[0;34m()\u001b[0m\n\u001b[0;32m----> 1\u001b[0;31m \u001b[0msp\u001b[0m\u001b[1;33m.\u001b[0m\u001b[0mrunSumProduct\u001b[0m\u001b[1;33m(\u001b[0m\u001b[0mallNodes\u001b[0m\u001b[1;33m)\u001b[0m\u001b[1;33m\u001b[0m\u001b[0m\n\u001b[0m\u001b[1;32m      2\u001b[0m \u001b[1;32mfor\u001b[0m \u001b[0mv\u001b[0m \u001b[1;32min\u001b[0m \u001b[0mvariables\u001b[0m\u001b[1;33m:\u001b[0m\u001b[1;33m\u001b[0m\u001b[0m\n\u001b[1;32m      3\u001b[0m     \u001b[0mprint\u001b[0m\u001b[1;33m(\u001b[0m\u001b[1;34m\"Node\"\u001b[0m\u001b[1;33m,\u001b[0m\u001b[0mv\u001b[0m\u001b[1;33m.\u001b[0m\u001b[0mname\u001b[0m\u001b[1;33m,\u001b[0m\u001b[1;34m\"has marginal \"\u001b[0m\u001b[1;33m,\u001b[0m\u001b[0mv\u001b[0m\u001b[1;33m.\u001b[0m\u001b[0mmarginal\u001b[0m\u001b[1;33m(\u001b[0m\u001b[1;33m)\u001b[0m\u001b[1;33m)\u001b[0m\u001b[1;33m\u001b[0m\u001b[0m\n\u001b[1;32m      4\u001b[0m \u001b[0mprint\u001b[0m\u001b[1;33m(\u001b[0m\u001b[1;33m)\u001b[0m\u001b[1;33m\u001b[0m\u001b[0m\n",
      "\u001b[0;32mC:\\Users\\OEM\\Desktop\\Masterarbeit\\sumProduct.py\u001b[0m in \u001b[0;36mrunSumProduct\u001b[0;34m(allNodes, msgType)\u001b[0m\n\u001b[1;32m    224\u001b[0m         \u001b[1;32mfor\u001b[0m \u001b[0mno\u001b[0m \u001b[1;32min\u001b[0m \u001b[0mallNodes\u001b[0m\u001b[1;33m:\u001b[0m\u001b[1;33m\u001b[0m\u001b[0m\n\u001b[1;32m    225\u001b[0m             \u001b[0mno\u001b[0m\u001b[1;33m.\u001b[0m\u001b[0mreceive\u001b[0m\u001b[1;33m(\u001b[0m\u001b[0mmsgBuffer\u001b[0m\u001b[1;33m)\u001b[0m\u001b[1;33m\u001b[0m\u001b[0m\n\u001b[0;32m--> 226\u001b[0;31m             \u001b[0mno\u001b[0m\u001b[1;33m.\u001b[0m\u001b[0msend\u001b[0m\u001b[1;33m(\u001b[0m\u001b[0mmsgBuffer\u001b[0m\u001b[1;33m,\u001b[0m\u001b[0mmsgType\u001b[0m\u001b[1;33m)\u001b[0m\u001b[1;33m\u001b[0m\u001b[0m\n\u001b[0m\u001b[1;32m    227\u001b[0m             \u001b[0mdone\u001b[0m \u001b[1;33m&=\u001b[0m \u001b[0mno\u001b[0m\u001b[1;33m.\u001b[0m\u001b[0mdone\u001b[0m\u001b[1;33m(\u001b[0m\u001b[1;33m)\u001b[0m\u001b[1;33m\u001b[0m\u001b[0m\n\u001b[1;32m    228\u001b[0m \u001b[1;33m\u001b[0m\u001b[0m\n",
      "\u001b[0;32mC:\\Users\\OEM\\Desktop\\Masterarbeit\\sumProduct.py\u001b[0m in \u001b[0;36msend\u001b[0;34m(self, msgBuffer, msgType)\u001b[0m\n\u001b[1;32m     48\u001b[0m                 \u001b[0mhaveAll\u001b[0m \u001b[1;33m&=\u001b[0m \u001b[0mnn\u001b[0m\u001b[1;33m.\u001b[0m\u001b[0mname\u001b[0m \u001b[1;32min\u001b[0m \u001b[0mself\u001b[0m\u001b[1;33m.\u001b[0m\u001b[0mreceivedMessages\u001b[0m\u001b[1;33m\u001b[0m\u001b[0m\n\u001b[1;32m     49\u001b[0m \u001b[1;33m\u001b[0m\u001b[0m\n\u001b[0;32m---> 50\u001b[0;31m             \u001b[1;32mif\u001b[0m \u001b[0mhaveAll\u001b[0m\u001b[1;33m:\u001b[0m \u001b[0msendableMessages\u001b[0m\u001b[1;33m.\u001b[0m\u001b[0mupdate\u001b[0m\u001b[1;33m(\u001b[0m\u001b[0mself\u001b[0m\u001b[1;33m.\u001b[0m\u001b[0mcompute\u001b[0m\u001b[1;33m(\u001b[0m\u001b[0mneighbour\u001b[0m\u001b[1;33m,\u001b[0m\u001b[0mmsgType\u001b[0m\u001b[1;33m)\u001b[0m\u001b[1;33m)\u001b[0m\u001b[1;33m\u001b[0m\u001b[0m\n\u001b[0m\u001b[1;32m     51\u001b[0m \u001b[1;33m\u001b[0m\u001b[0m\n\u001b[1;32m     52\u001b[0m         \u001b[0mmsgBuffer\u001b[0m\u001b[1;33m+=\u001b[0m\u001b[0mmap\u001b[0m\u001b[1;33m(\u001b[0m\u001b[1;32mlambda\u001b[0m \u001b[0mmsg\u001b[0m\u001b[1;33m:\u001b[0m\u001b[1;33m{\u001b[0m\u001b[1;34m'from'\u001b[0m\u001b[1;33m:\u001b[0m\u001b[0mself\u001b[0m\u001b[1;33m.\u001b[0m\u001b[0mname\u001b[0m\u001b[1;33m,\u001b[0m\u001b[1;34m'to'\u001b[0m\u001b[1;33m:\u001b[0m\u001b[0mmsg\u001b[0m\u001b[1;33m[\u001b[0m\u001b[1;36m0\u001b[0m\u001b[1;33m]\u001b[0m\u001b[1;33m,\u001b[0m\u001b[1;34m'msg'\u001b[0m\u001b[1;33m:\u001b[0m\u001b[0mmsg\u001b[0m\u001b[1;33m[\u001b[0m\u001b[1;36m1\u001b[0m\u001b[1;33m]\u001b[0m\u001b[1;33m}\u001b[0m\u001b[1;33m,\u001b[0m\u001b[0msendableMessages\u001b[0m\u001b[1;33m.\u001b[0m\u001b[0mitems\u001b[0m\u001b[1;33m(\u001b[0m\u001b[1;33m)\u001b[0m\u001b[1;33m)\u001b[0m\u001b[1;33m\u001b[0m\u001b[0m\n",
      "\u001b[0;32mC:\\Users\\OEM\\Desktop\\Masterarbeit\\sumProduct.py\u001b[0m in \u001b[0;36mcompute\u001b[0;34m(self, neighbour, msgType)\u001b[0m\n\u001b[1;32m    197\u001b[0m             msgContrib=functools.reduce(lambda prev,nnv:self.receivedMessages[nnv[0].name][nnv[1]]*prev,\n\u001b[1;32m    198\u001b[0m                                                      \u001b[0mzip\u001b[0m\u001b[1;33m(\u001b[0m\u001b[0mallOthers\u001b[0m\u001b[1;33m,\u001b[0m\u001b[0mvrao\u001b[0m\u001b[1;33m)\u001b[0m\u001b[1;33m,\u001b[0m\u001b[1;33m\u001b[0m\u001b[0m\n\u001b[0;32m--> 199\u001b[0;31m                                                      self.factor[vr])\n\u001b[0m\u001b[1;32m    200\u001b[0m \u001b[1;33m\u001b[0m\u001b[0m\n\u001b[1;32m    201\u001b[0m \u001b[1;33m\u001b[0m\u001b[0m\n",
      "\u001b[0;31mKeyError\u001b[0m: (True,)"
     ]
    }
   ],
   "source": [
    "sp.runSumProduct(allNodes)\n",
    "for v in variables: \n",
    "    print(\"Node\",v.name,\"has marginal \",v.marginal())\n",
    "print()"
   ]
  },
  {
   "cell_type": "code",
   "execution_count": null,
   "metadata": {
    "collapsed": false
   },
   "outputs": [],
   "source": [
    "PPt1._printNode()"
   ]
  },
  {
   "cell_type": "markdown",
   "metadata": {},
   "source": [
    "### PPt1\n",
    "\n",
    "Prior probability of pain zum 1st hidden state. \n",
    "* Sollte bei chronic Pain erhöht sein \n",
    "* Sollte bei Gesunden relativ uninformative (flat) sein"
   ]
  },
  {
   "cell_type": "markdown",
   "metadata": {},
   "source": [
    "### PPt2Pt1\n",
    "\n",
    "Expectation über die Zeit.\n",
    "* sollte bei chronic pain so eingestellt sein, dass man leichter in einen pain state kommt. \n",
    "    * Bsp.: Wenn Pt1 = pain dann sollte Pt2 = pain mit noch höherer Wahrscheinlichkeit sein. \n",
    "    * Wenn Pt1 = NOpain dann sollte Pt2 dennoch leicht wahrscheinlicher auch pain sein. \n",
    "          \n",
    "* Bei Gesunden: Bsp.: \n",
    "    * Wenn Pt1 = NOpain dann sollte pain zu Pt2 sehr unwahrscheinlich sein. \n",
    "    * Wenn Pt1 = pain dann sollte pain zu Pt2 50/50 sein \n",
    "    * das top-down Modell \"sensations are caused by pain\" sollte einfach deutlich weniger precision haben als bei den CPlern. "
   ]
  },
  {
   "cell_type": "code",
   "execution_count": null,
   "metadata": {
    "collapsed": false
   },
   "outputs": [],
   "source": [
    "PPt2Pt1.ranges"
   ]
  },
  {
   "cell_type": "markdown",
   "metadata": {},
   "source": [
    "### PS1Pt1 & PS2Pt2"
   ]
  },
  {
   "cell_type": "markdown",
   "metadata": {},
   "source": [
    "Likelihood. Inwiefern eine sensation mit dem hidden pain state assoziiert ist. \n",
    "\n",
    "* Bei CP: verstellt. Jede sensation ist mit einer größeren Wahrscheinlichkeit mit dem pain state assoziiert. \n",
    "* Bei Gesunden: Tickle ist mit no pain assoziiert, nociception ist mit pain assoziiert. "
   ]
  },
  {
   "cell_type": "markdown",
   "metadata": {},
   "source": [
    "### Pt1 & Pt2\n",
    "\n",
    "Hidden conditions; pain and no pain. (Boolean). "
   ]
  },
  {
   "cell_type": "code",
   "execution_count": null,
   "metadata": {
    "collapsed": false
   },
   "outputs": [],
   "source": [
    "#for l in latent: \n",
    " #   l.vrange=['Pain', 'NOPain']"
   ]
  },
  {
   "cell_type": "code",
   "execution_count": null,
   "metadata": {
    "collapsed": false
   },
   "outputs": [],
   "source": [
    "#Pt1.vrange"
   ]
  },
  {
   "cell_type": "markdown",
   "metadata": {},
   "source": [
    "### S1 & S2\n",
    "Sensations - in our easy example: 2 manifestations: nociceptive stimulus & tickle. (Boolean). "
   ]
  },
  {
   "cell_type": "code",
   "execution_count": null,
   "metadata": {
    "collapsed": true
   },
   "outputs": [],
   "source": [
    "#for s in sensory: \n",
    " #   s.vrange=['Noci', 'tickle']"
   ]
  },
  {
   "cell_type": "code",
   "execution_count": null,
   "metadata": {
    "collapsed": false
   },
   "outputs": [],
   "source": [
    "#S1.observe('Noci')"
   ]
  },
  {
   "cell_type": "code",
   "execution_count": null,
   "metadata": {
    "collapsed": true
   },
   "outputs": [],
   "source": []
  }
 ],
 "metadata": {
  "kernelspec": {
   "display_name": "Python 3",
   "language": "python",
   "name": "python3"
  },
  "language_info": {
   "codemirror_mode": {
    "name": "ipython",
    "version": 3
   },
   "file_extension": ".py",
   "mimetype": "text/x-python",
   "name": "python",
   "nbconvert_exporter": "python",
   "pygments_lexer": "ipython3",
   "version": "3.6.0"
  }
 },
 "nbformat": 4,
 "nbformat_minor": 2
}
