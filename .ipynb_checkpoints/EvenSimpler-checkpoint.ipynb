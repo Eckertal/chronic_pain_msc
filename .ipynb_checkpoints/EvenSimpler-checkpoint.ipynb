{
 "cells": [
  {
   "cell_type": "markdown",
   "metadata": {},
   "source": [
    "# Super stupid Model.\n",
    "\n",
    "Taking one step back in order to understand how values are set & consequences of different value settings for sum product results.\n",
    "\n",
    "Simple perception model\n",
    "2 latent conditions, 2 sensations, 5 parameters"
   ]
  },
  {
   "cell_type": "code",
   "execution_count": 1,
   "metadata": {
    "collapsed": true
   },
   "outputs": [],
   "source": [
    "import sys\n",
    "import numpy as np\n",
    "import sumProduct as sp\n",
    "sys.path.append('Desktop/Masterarbeit')\n",
    "import graphviz as gp\n",
    "import subprocess\n",
    "import matplotlib.pyplot as plt"
   ]
  },
  {
   "cell_type": "code",
   "execution_count": 2,
   "metadata": {
    "collapsed": true
   },
   "outputs": [],
   "source": [
    "factors=[]\n",
    "variables=[]\n",
    "allNodes=[]"
   ]
  },
  {
   "cell_type": "code",
   "execution_count": 3,
   "metadata": {
    "collapsed": true
   },
   "outputs": [],
   "source": [
    "######################### NEW AND EASIER WAY START ###################\n",
    "Vlist='P1','P2','P3','P4','P5','P6','P7'"
   ]
  },
  {
   "cell_type": "code",
   "execution_count": 4,
   "metadata": {
    "collapsed": false
   },
   "outputs": [
    {
     "data": {
      "text/plain": [
       "7"
      ]
     },
     "execution_count": 4,
     "metadata": {},
     "output_type": "execute_result"
    }
   ],
   "source": [
    "variables=[sp.variableNode(name, vrange=['pain','nopain']) for name in Vlist]\n",
    "len(variables)"
   ]
  },
  {
   "cell_type": "code",
   "execution_count": 5,
   "metadata": {
    "collapsed": false
   },
   "outputs": [],
   "source": [
    "pT1=sp.factorNode()\n",
    "pT1.addNeighbour(variables[0])\n",
    "def PT1(x):\n",
    "    T1,=x\n",
    "    if T1=='pain':\n",
    "        return 0.3\n",
    "    if T1=='nopain':\n",
    "        return 0.7\n",
    "    raise ValueError('Invalid argument'+str(x))\n",
    "pT1.setValues(PT1)\n",
    "factors+=[pT1]"
   ]
  },
  {
   "cell_type": "code",
   "execution_count": 6,
   "metadata": {
    "collapsed": false
   },
   "outputs": [],
   "source": [
    "parent=variables[0]\n",
    "for child in variables[1:]:\n",
    "    p=sp.factorNode()\n",
    "    p.addNeighbour(parent)\n",
    "    p.addNeighbour(child)\n",
    "    def pTgivenT(x): \n",
    "        T2,T1=x\n",
    "        if T1=='pain' and T2=='pain':\n",
    "            return 0.5\n",
    "        if T1=='pain' and T2=='nopain':\n",
    "            return 0.5\n",
    "        if T1=='nopain' and T2=='pain':\n",
    "            return 0.2\n",
    "        if T1=='nopain' and T2=='nopain':\n",
    "            return 0.8  \n",
    "        raise ValueError('Invalid argument'+str(x))\n",
    "    p.setValues(pTgivenT)\n",
    "    \n",
    "\n",
    "########################### NEW AND EASIER WAY STOP #####################"
   ]
  },
  {
   "cell_type": "code",
   "execution_count": 8,
   "metadata": {
    "collapsed": false
   },
   "outputs": [
    {
     "data": {
      "text/plain": [
       "0"
      ]
     },
     "execution_count": 8,
     "metadata": {},
     "output_type": "execute_result"
    }
   ],
   "source": [
    "outf=open(\"StupidModel3.dot\",\"w\")\n",
    "outf.write(pT1.dotPrint())\n",
    "outf.close()\n",
    "subprocess.call(\"neato -T png -o StupidModel3.png StupidModel3.dot\", shell=True)"
   ]
  },
  {
   "cell_type": "code",
   "execution_count": 3,
   "metadata": {
    "collapsed": false
   },
   "outputs": [],
   "source": [
    "########################## OLD AND TEDIOUS WAY START #####################\n",
    "\n",
    "\n",
    "T1 = sp.variableNode('T1',vrange=[\"pain\",\"nopain\"])\n",
    "T2 = sp.variableNode('T2',vrange=[\"pain\",\"nopain\"])\n",
    "S1 = sp.variableNode('S1',vrange=[\"tickle\",\"noci\"])\n",
    "S2 = sp.variableNode('S2',vrange=[\"tickle\",\"noci\"])\n",
    "variables += [T1, T2, S1, S2]\n",
    "\n",
    "T2T1 = sp.factorNode()\n",
    "S1T1 = sp.factorNode()\n",
    "S2T2 = sp.factorNode()\n",
    "pT1 = sp.factorNode()\n",
    "factors += [pT1, S1T1, T2T1, S2T2]\n",
    "allNodes=factors+variables"
   ]
  },
  {
   "cell_type": "code",
   "execution_count": 4,
   "metadata": {
    "collapsed": false
   },
   "outputs": [],
   "source": [
    "S1T1.addNeighbour(S1)\n",
    "S1T1.addNeighbour(T1)\n",
    "\n",
    "def pSgivenT(x):\n",
    "    S1,T1=x\n",
    "    if S1=='tickle' and T1=='nopain':\n",
    "        return 0.8\n",
    "    if S1=='noci' and T1=='nopain':\n",
    "        return 0.2\n",
    "    if S1=='tickle' and T1=='pain':\n",
    "        return 0.1\n",
    "    if S1=='noci' and T1=='pain':\n",
    "        return 0.9\n",
    "    raise ValueError('Invalid argument'+str(x))\n",
    "    \n",
    "S1T1.setValues(pSgivenT)\n",
    "\n",
    "T2T1.addNeighbour(T2)\n",
    "T2T1.addNeighbour(T1)\n",
    "\n",
    "def pTgivenT(x): \n",
    "    T2,T1=x\n",
    "    if T1=='pain' and T2=='pain':\n",
    "        return 0.5\n",
    "    if T1=='pain' and T2=='nopain':\n",
    "        return 0.5\n",
    "    if T1=='nopain' and T2=='pain':\n",
    "        return 0.2\n",
    "    if T1=='nopain' and T2=='nopain':\n",
    "        return 0.8  \n",
    "    raise ValueError('Invalid argument'+str(x))\n",
    "    \n",
    "T2T1.setValues(pTgivenT)\n",
    "\n",
    "S2T2.addNeighbour(S2)\n",
    "S2T2.addNeighbour(T2)    \n",
    "S2T2.setValues(pSgivenT)\n",
    "\n",
    "pT1.addNeighbour(T1)\n",
    "\n",
    "def PT1(x):\n",
    "    T1,=x\n",
    "    if T1=='pain':\n",
    "        return 0.3\n",
    "    if T1=='nopain':\n",
    "        return 0.7\n",
    "    raise ValueError('Invalid argument'+str(x))\n",
    "\n",
    "pT1.setValues(PT1)"
   ]
  },
  {
   "cell_type": "code",
   "execution_count": 5,
   "metadata": {
    "collapsed": false
   },
   "outputs": [
    {
     "data": {
      "text/plain": [
       "[('tickle', 'pain'),\n",
       " ('tickle', 'nopain'),\n",
       " ('noci', 'pain'),\n",
       " ('noci', 'nopain')]"
      ]
     },
     "execution_count": 5,
     "metadata": {},
     "output_type": "execute_result"
    }
   ],
   "source": [
    "S1T1.ranges"
   ]
  },
  {
   "cell_type": "code",
   "execution_count": 6,
   "metadata": {
    "collapsed": false
   },
   "outputs": [
    {
     "name": "stdout",
     "output_type": "stream",
     "text": [
      "[<sumProduct.variableNode object at 0x0000020FC1A707B8>, <sumProduct.variableNode object at 0x0000020FC1A707F0>, <sumProduct.variableNode object at 0x0000020FC1A70860>, <sumProduct.variableNode object at 0x0000020FC1A70898>]\n",
      "[<sumProduct.factorNode object at 0x0000020FC1A70940>, <sumProduct.factorNode object at 0x0000020FC1A70828>, <sumProduct.factorNode object at 0x0000020FC1A70908>, <sumProduct.factorNode object at 0x0000020FC1A70780>]\n"
     ]
    },
    {
     "data": {
      "text/plain": [
       "('nodeT1 [shape=circle,label=\"T1\"];',\n",
       " 'nodefactorT2T1 [shape=box,label=\"factorT2T1\"];')"
      ]
     },
     "execution_count": 6,
     "metadata": {},
     "output_type": "execute_result"
    }
   ],
   "source": [
    "print(variables)\n",
    "print(factors)\n",
    "T1._printNode(), T2T1._printNode()"
   ]
  },
  {
   "cell_type": "code",
   "execution_count": 7,
   "metadata": {
    "collapsed": false
   },
   "outputs": [
    {
     "data": {
      "text/plain": [
       "0"
      ]
     },
     "execution_count": 7,
     "metadata": {},
     "output_type": "execute_result"
    }
   ],
   "source": [
    "outf=open(\"StupidModel1.dot\",\"w\")\n",
    "outf.write(T1.dotPrint())\n",
    "outf.close()\n",
    "subprocess.call(\"neato -T png -o StupidModel1.png StupidModel1.dot\", shell=True)"
   ]
  },
  {
   "cell_type": "markdown",
   "metadata": {},
   "source": [
    "<img src=\"files/StupidModel1.png\">"
   ]
  },
  {
   "cell_type": "code",
   "execution_count": 8,
   "metadata": {
    "collapsed": false
   },
   "outputs": [
    {
     "data": {
      "text/plain": [
       "[<sumProduct.factorNode at 0x20fc1a70940>,\n",
       " <sumProduct.factorNode at 0x20fc1a70828>,\n",
       " <sumProduct.factorNode at 0x20fc1a70908>,\n",
       " <sumProduct.factorNode at 0x20fc1a70780>,\n",
       " <sumProduct.variableNode at 0x20fc1a707b8>,\n",
       " <sumProduct.variableNode at 0x20fc1a707f0>,\n",
       " <sumProduct.variableNode at 0x20fc1a70860>,\n",
       " <sumProduct.variableNode at 0x20fc1a70898>]"
      ]
     },
     "execution_count": 8,
     "metadata": {},
     "output_type": "execute_result"
    }
   ],
   "source": [
    "allNodes"
   ]
  },
  {
   "cell_type": "code",
   "execution_count": 9,
   "metadata": {
    "collapsed": true
   },
   "outputs": [],
   "source": [
    "S1.observe('tickle')"
   ]
  },
  {
   "cell_type": "code",
   "execution_count": 10,
   "metadata": {
    "collapsed": false
   },
   "outputs": [],
   "source": [
    "sp.runSumProduct(allNodes)"
   ]
  },
  {
   "cell_type": "code",
   "execution_count": 11,
   "metadata": {
    "collapsed": false
   },
   "outputs": [
    {
     "name": "stdout",
     "output_type": "stream",
     "text": [
      "Node  T1  has marginals  ({'pain': 0.05084745762711865, 'nopain': 0.9491525423728813}, 0.59)\n",
      "Node  T2  has marginals  ({'pain': 0.2152542372881356, 'nopain': 0.7847457627118644}, 0.59)\n",
      "Node  S1  has marginals  ({'tickle': 1.0, 'noci': 0.0}, 0.59)\n",
      "Node  S2  has marginals  ({'tickle': 0.6493220338983051, 'noci': 0.35067796610169494}, 0.59)\n",
      "\n"
     ]
    }
   ],
   "source": [
    "for v in variables: \n",
    "    print(\"Node \",v.name,\" has marginals \",v.marginal())\n",
    "print()"
   ]
  },
  {
   "cell_type": "code",
   "execution_count": 12,
   "metadata": {
    "collapsed": false
   },
   "outputs": [
    {
     "data": {
      "text/plain": [
       "({'nopain': 0.9491525423728813, 'pain': 0.05084745762711865}, 0.59)"
      ]
     },
     "execution_count": 12,
     "metadata": {},
     "output_type": "execute_result"
    }
   ],
   "source": [
    "T1.marginal()"
   ]
  },
  {
   "cell_type": "code",
   "execution_count": 13,
   "metadata": {
    "collapsed": false
   },
   "outputs": [
    {
     "data": {
      "text/plain": [
       "{'T1': {'nopain': 1.0, 'pain': 1.0}}"
      ]
     },
     "execution_count": 13,
     "metadata": {},
     "output_type": "execute_result"
    }
   ],
   "source": [
    "T2T1.compute(T1,msgType=\"sum\")"
   ]
  },
  {
   "cell_type": "code",
   "execution_count": 18,
   "metadata": {
    "collapsed": false
   },
   "outputs": [
    {
     "name": "stdout",
     "output_type": "stream",
     "text": [
      "Node T1 has marginals  ({'pain': 0.3, 'nopain': 0.7}, 1.0)\n",
      "Node T2 has marginals  ({'pain': 0.29, 'nopain': 0.71}, 1.0)\n",
      "Node S1 has marginals  ({'tickle': 0.59, 'noci': 0.41000000000000003}, 1.0)\n",
      "Node S2 has marginals  ({'tickle': 0.597, 'noci': 0.403}, 1.0)\n",
      "\n"
     ]
    }
   ],
   "source": [
    "S1.observe()\n",
    "sp.runSumProduct(allNodes)\n",
    "for v in variables: \n",
    "    print('Node',v.name,'has marginals ',v.marginal())\n",
    "print()"
   ]
  },
  {
   "cell_type": "code",
   "execution_count": 22,
   "metadata": {
    "collapsed": false
   },
   "outputs": [
    {
     "name": "stdout",
     "output_type": "stream",
     "text": [
      "Node  T1 has marginals  ({'pain': 0.6585365853658537, 'nopain': 0.34146341463414626}, 0.41000000000000003)\n",
      "Node  T2 has marginals  ({'pain': 0.39756097560975606, 'nopain': 0.6024390243902439}, 0.41000000000000003)\n",
      "Node  S1 has marginals  ({'tickle': 0.0, 'noci': 1.0}, 0.41000000000000003)\n",
      "Node  S2 has marginals  ({'tickle': 0.5217073170731708, 'noci': 0.47829268292682925}, 0.41000000000000003)\n"
     ]
    }
   ],
   "source": [
    "S1.observe('noci')\n",
    "sp.runSumProduct(allNodes)\n",
    "for v in variables: \n",
    "    print('Node ', v.name, 'has marginals ', v.marginal())"
   ]
  },
  {
   "cell_type": "code",
   "execution_count": 20,
   "metadata": {
    "collapsed": true
   },
   "outputs": [],
   "source": [
    "sensations=[]\n",
    "sensations+='nociceptive stimulus','tickle'"
   ]
  },
  {
   "cell_type": "code",
   "execution_count": 21,
   "metadata": {
    "collapsed": false
   },
   "outputs": [
    {
     "ename": "AttributeError",
     "evalue": "'variableNode' object has no attribute 'range'",
     "output_type": "error",
     "traceback": [
      "\u001b[0;31m---------------------------------------------------------------------------\u001b[0m",
      "\u001b[0;31mAttributeError\u001b[0m                            Traceback (most recent call last)",
      "\u001b[0;32m<ipython-input-21-ea917335e9f6>\u001b[0m in \u001b[0;36m<module>\u001b[0;34m()\u001b[0m\n\u001b[1;32m      3\u001b[0m \u001b[0mplt\u001b[0m\u001b[1;33m.\u001b[0m\u001b[0mylabel\u001b[0m\u001b[1;33m(\u001b[0m\u001b[1;34m'Probability of Pain'\u001b[0m\u001b[1;33m,\u001b[0m \u001b[0mfontsize\u001b[0m\u001b[1;33m=\u001b[0m\u001b[1;36m18\u001b[0m\u001b[1;33m)\u001b[0m\u001b[1;33m\u001b[0m\u001b[0m\n\u001b[1;32m      4\u001b[0m \u001b[0mplt\u001b[0m\u001b[1;33m.\u001b[0m\u001b[0mxlabel\u001b[0m\u001b[1;33m(\u001b[0m\u001b[1;34m'Sensation'\u001b[0m\u001b[1;33m,\u001b[0m \u001b[0mfontsize\u001b[0m\u001b[1;33m=\u001b[0m\u001b[1;36m18\u001b[0m\u001b[1;33m)\u001b[0m\u001b[1;33m\u001b[0m\u001b[0m\n\u001b[0;32m----> 5\u001b[0;31m \u001b[0mplt\u001b[0m\u001b[1;33m.\u001b[0m\u001b[0mxticks\u001b[0m\u001b[1;33m(\u001b[0m\u001b[0mT1\u001b[0m\u001b[1;33m.\u001b[0m\u001b[0mrange\u001b[0m\u001b[1;33m)\u001b[0m\u001b[1;33m\u001b[0m\u001b[0m\n\u001b[0m\u001b[1;32m      6\u001b[0m \u001b[1;33m\u001b[0m\u001b[0m\n\u001b[1;32m      7\u001b[0m \u001b[0mplt\u001b[0m\u001b[1;33m.\u001b[0m\u001b[0mbar\u001b[0m\u001b[1;33m(\u001b[0m\u001b[0mT1\u001b[0m\u001b[1;33m.\u001b[0m\u001b[0mmarginal\u001b[0m\u001b[1;33m,\u001b[0m \u001b[0malpha\u001b[0m\u001b[1;33m=\u001b[0m\u001b[1;36m0.5\u001b[0m\u001b[1;33m,\u001b[0m \u001b[0mcolor\u001b[0m\u001b[1;33m=\u001b[0m\u001b[1;34m\"green\"\u001b[0m\u001b[1;33m)\u001b[0m\u001b[1;33m\u001b[0m\u001b[0m\n",
      "\u001b[0;31mAttributeError\u001b[0m: 'variableNode' object has no attribute 'range'"
     ]
    }
   ],
   "source": [
    "plt.figure(figsize=(12.0,8.0))\n",
    "plt.title(\"Pain Probability - Healthy Control\", fontsize=20)\n",
    "plt.ylabel('Probability of Pain', fontsize=18)\n",
    "plt.xlabel('Sensation', fontsize=18)\n",
    "plt.xticks(T1.range)\n",
    "\n",
    "plt.bar(T1.marginal, alpha=0.5, color=\"green\")\n",
    "plt.bar(T1.marginal, alpha=0.5, color=\"blue\") \n",
    "\n",
    "plt.tight_layout()\n",
    "plt.savefig(\"HistogramPain.pdf\")\n",
    "plt.show()"
   ]
  },
  {
   "cell_type": "raw",
   "metadata": {
    "collapsed": true
   },
   "source": []
  }
 ],
 "metadata": {
  "kernelspec": {
   "display_name": "Python 3",
   "language": "python",
   "name": "python3"
  },
  "language_info": {
   "codemirror_mode": {
    "name": "ipython",
    "version": 3
   },
   "file_extension": ".py",
   "mimetype": "text/x-python",
   "name": "python",
   "nbconvert_exporter": "python",
   "pygments_lexer": "ipython3",
   "version": "3.6.0"
  }
 },
 "nbformat": 4,
 "nbformat_minor": 2
}
