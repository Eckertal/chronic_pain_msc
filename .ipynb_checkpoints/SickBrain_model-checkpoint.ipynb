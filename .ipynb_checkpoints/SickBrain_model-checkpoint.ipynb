{
 "cells": [
  {
   "cell_type": "markdown",
   "metadata": {},
   "source": [
    "# Chronic Pain"
   ]
  },
  {
   "cell_type": "code",
   "execution_count": 20,
   "metadata": {
    "collapsed": true
   },
   "outputs": [],
   "source": [
    "import sumProduct as sp\n",
    "import numpy as np\n",
    "import graphviz as gp\n",
    "import subprocess\n",
    "import matplotlib.pyplot as plt\n",
    "import numpy as np"
   ]
  },
  {
   "cell_type": "code",
   "execution_count": 21,
   "metadata": {
    "collapsed": true
   },
   "outputs": [],
   "source": [
    "factors = []\n",
    "variables = []\n",
    "hidden = []\n",
    "sensory = []\n",
    "allNodes = []"
   ]
  },
  {
   "cell_type": "code",
   "execution_count": 22,
   "metadata": {
    "collapsed": false
   },
   "outputs": [
    {
     "data": {
      "text/plain": [
       "30"
      ]
     },
     "execution_count": 22,
     "metadata": {},
     "output_type": "execute_result"
    }
   ],
   "source": [
    "vlist=['P'+str(i) for i in range(30)]\n",
    "hidden=[sp.variableNode(name, vrange=['pain','nopain']) for name in vlist]\n",
    "len(hidden)"
   ]
  },
  {
   "cell_type": "code",
   "execution_count": 23,
   "metadata": {
    "collapsed": false
   },
   "outputs": [
    {
     "name": "stdout",
     "output_type": "stream",
     "text": [
      "60\n"
     ]
    }
   ],
   "source": [
    "Slist=['S'+str(i) for i in range(30)]\n",
    "sensory=[sp.variableNode(name, vrange=['tickle','noci']) for name in Slist]\n",
    "variables=hidden+sensory\n",
    "print(len(variables))"
   ]
  },
  {
   "cell_type": "code",
   "execution_count": 26,
   "metadata": {
    "collapsed": false
   },
   "outputs": [],
   "source": [
    "a = [[0.8,0,0.2,0], \n",
    "     [1,1,0,0], \n",
    "     [0,0.8,0,0.2], \n",
    "     [0,0,1,1]]"
   ]
  },
  {
   "cell_type": "code",
   "execution_count": 31,
   "metadata": {
    "collapsed": false
   },
   "outputs": [
    {
     "name": "stdout",
     "output_type": "stream",
     "text": [
      "[[0.8, 0, 0.2, 0], [1, 1, 0, 0], [0, 0.8, 0, 0.2], [0, 0, 1, 1]]\n"
     ]
    }
   ],
   "source": [
    "print(a)"
   ]
  },
  {
   "cell_type": "code",
   "execution_count": 32,
   "metadata": {
    "collapsed": true
   },
   "outputs": [],
   "source": [
    "b = np.array([0.8,1,0.2,1])"
   ]
  },
  {
   "cell_type": "code",
   "execution_count": 37,
   "metadata": {
    "collapsed": false
   },
   "outputs": [],
   "source": [
    "# Muss man noch irgendwo sagen dass a+x=b??"
   ]
  },
  {
   "cell_type": "code",
   "execution_count": 33,
   "metadata": {
    "collapsed": false
   },
   "outputs": [
    {
     "ename": "LinAlgError",
     "evalue": "Singular matrix",
     "output_type": "error",
     "traceback": [
      "\u001b[0;31m---------------------------------------------------------------------------\u001b[0m",
      "\u001b[0;31mLinAlgError\u001b[0m                               Traceback (most recent call last)",
      "\u001b[0;32m<ipython-input-33-c147edc3580a>\u001b[0m in \u001b[0;36m<module>\u001b[0;34m()\u001b[0m\n\u001b[0;32m----> 1\u001b[0;31m \u001b[0mx\u001b[0m \u001b[1;33m=\u001b[0m \u001b[0mnp\u001b[0m\u001b[1;33m.\u001b[0m\u001b[0mlinalg\u001b[0m\u001b[1;33m.\u001b[0m\u001b[0msolve\u001b[0m\u001b[1;33m(\u001b[0m\u001b[0ma\u001b[0m\u001b[1;33m,\u001b[0m\u001b[0mb\u001b[0m\u001b[1;33m)\u001b[0m\u001b[1;33m\u001b[0m\u001b[0m\n\u001b[0m",
      "\u001b[0;32mC:\\Users\\OEM\\Anaconda3\\lib\\site-packages\\numpy\\linalg\\linalg.py\u001b[0m in \u001b[0;36msolve\u001b[0;34m(a, b)\u001b[0m\n\u001b[1;32m    382\u001b[0m     \u001b[0msignature\u001b[0m \u001b[1;33m=\u001b[0m \u001b[1;34m'DD->D'\u001b[0m \u001b[1;32mif\u001b[0m \u001b[0misComplexType\u001b[0m\u001b[1;33m(\u001b[0m\u001b[0mt\u001b[0m\u001b[1;33m)\u001b[0m \u001b[1;32melse\u001b[0m \u001b[1;34m'dd->d'\u001b[0m\u001b[1;33m\u001b[0m\u001b[0m\n\u001b[1;32m    383\u001b[0m     \u001b[0mextobj\u001b[0m \u001b[1;33m=\u001b[0m \u001b[0mget_linalg_error_extobj\u001b[0m\u001b[1;33m(\u001b[0m\u001b[0m_raise_linalgerror_singular\u001b[0m\u001b[1;33m)\u001b[0m\u001b[1;33m\u001b[0m\u001b[0m\n\u001b[0;32m--> 384\u001b[0;31m     \u001b[0mr\u001b[0m \u001b[1;33m=\u001b[0m \u001b[0mgufunc\u001b[0m\u001b[1;33m(\u001b[0m\u001b[0ma\u001b[0m\u001b[1;33m,\u001b[0m \u001b[0mb\u001b[0m\u001b[1;33m,\u001b[0m \u001b[0msignature\u001b[0m\u001b[1;33m=\u001b[0m\u001b[0msignature\u001b[0m\u001b[1;33m,\u001b[0m \u001b[0mextobj\u001b[0m\u001b[1;33m=\u001b[0m\u001b[0mextobj\u001b[0m\u001b[1;33m)\u001b[0m\u001b[1;33m\u001b[0m\u001b[0m\n\u001b[0m\u001b[1;32m    385\u001b[0m \u001b[1;33m\u001b[0m\u001b[0m\n\u001b[1;32m    386\u001b[0m     \u001b[1;32mreturn\u001b[0m \u001b[0mwrap\u001b[0m\u001b[1;33m(\u001b[0m\u001b[0mr\u001b[0m\u001b[1;33m.\u001b[0m\u001b[0mastype\u001b[0m\u001b[1;33m(\u001b[0m\u001b[0mresult_t\u001b[0m\u001b[1;33m,\u001b[0m \u001b[0mcopy\u001b[0m\u001b[1;33m=\u001b[0m\u001b[1;32mFalse\u001b[0m\u001b[1;33m)\u001b[0m\u001b[1;33m)\u001b[0m\u001b[1;33m\u001b[0m\u001b[0m\n",
      "\u001b[0;32mC:\\Users\\OEM\\Anaconda3\\lib\\site-packages\\numpy\\linalg\\linalg.py\u001b[0m in \u001b[0;36m_raise_linalgerror_singular\u001b[0;34m(err, flag)\u001b[0m\n\u001b[1;32m     88\u001b[0m \u001b[1;33m\u001b[0m\u001b[0m\n\u001b[1;32m     89\u001b[0m \u001b[1;32mdef\u001b[0m \u001b[0m_raise_linalgerror_singular\u001b[0m\u001b[1;33m(\u001b[0m\u001b[0merr\u001b[0m\u001b[1;33m,\u001b[0m \u001b[0mflag\u001b[0m\u001b[1;33m)\u001b[0m\u001b[1;33m:\u001b[0m\u001b[1;33m\u001b[0m\u001b[0m\n\u001b[0;32m---> 90\u001b[0;31m     \u001b[1;32mraise\u001b[0m \u001b[0mLinAlgError\u001b[0m\u001b[1;33m(\u001b[0m\u001b[1;34m\"Singular matrix\"\u001b[0m\u001b[1;33m)\u001b[0m\u001b[1;33m\u001b[0m\u001b[0m\n\u001b[0m\u001b[1;32m     91\u001b[0m \u001b[1;33m\u001b[0m\u001b[0m\n\u001b[1;32m     92\u001b[0m \u001b[1;32mdef\u001b[0m \u001b[0m_raise_linalgerror_nonposdef\u001b[0m\u001b[1;33m(\u001b[0m\u001b[0merr\u001b[0m\u001b[1;33m,\u001b[0m \u001b[0mflag\u001b[0m\u001b[1;33m)\u001b[0m\u001b[1;33m:\u001b[0m\u001b[1;33m\u001b[0m\u001b[0m\n",
      "\u001b[0;31mLinAlgError\u001b[0m: Singular matrix"
     ]
    }
   ],
   "source": [
    "x = np.linalg.solve(a,b)"
   ]
  },
  {
   "cell_type": "code",
   "execution_count": 34,
   "metadata": {
    "collapsed": false
   },
   "outputs": [
    {
     "data": {
      "text/plain": [
       "False"
      ]
     },
     "execution_count": 34,
     "metadata": {},
     "output_type": "execute_result"
    }
   ],
   "source": [
    "# prüfen ob die Lösung korrekt ist: wenn hier True erscheint\n",
    "np.allclose(np.dot(a,x), b)"
   ]
  },
  {
   "cell_type": "code",
   "execution_count": 5,
   "metadata": {
    "collapsed": false
   },
   "outputs": [
    {
     "name": "stdout",
     "output_type": "stream",
     "text": [
      "1\n"
     ]
    }
   ],
   "source": [
    "pT0=sp.factorNode()\n",
    "pT0.addNeighbour(hidden[0])\n",
    "\n",
    "def PT0(x):\n",
    "    T1,=x\n",
    "    if T1=='pain':\n",
    "        return 0.7\n",
    "    if T1=='nopain':\n",
    "        return 0.3\n",
    "    raise ValueError('Invalid argument'+str(x))\n",
    "pT0.setValues(PT0)\n",
    "factors+=[pT0]\n",
    "print(len(factors))"
   ]
  },
  {
   "cell_type": "code",
   "execution_count": 6,
   "metadata": {
    "collapsed": true
   },
   "outputs": [],
   "source": [
    "def pTgivenT(x):\n",
    "    T2,T1=x\n",
    "    if T1=='pain' and T2=='pain':\n",
    "        return 0.8\n",
    "    if T1=='pain' and T2=='nopain':\n",
    "        return 0.2\n",
    "    if T1=='nopain' and T2=='pain':\n",
    "        return 0.8\n",
    "    if T1=='nopain' and T2=='nopain':\n",
    "        return 0.2  \n",
    "    raise ValueError('Invalid argument'+str(x))\n",
    "\n",
    "def pSgivenT(x):\n",
    "    S1,T1=x\n",
    "    if S1=='tickle' and T1=='nopain':\n",
    "        return 0.2\n",
    "    if S1=='noci' and T1=='nopain':\n",
    "        return 0.1\n",
    "    if S1=='tickle' and T1=='pain':\n",
    "        return 0.8\n",
    "    if S1=='noci' and T1=='pain':\n",
    "        return 0.9\n",
    "    raise ValueError('Invalid argument'+str(x))"
   ]
  },
  {
   "cell_type": "code",
   "execution_count": 7,
   "metadata": {
    "collapsed": false
   },
   "outputs": [
    {
     "name": "stdout",
     "output_type": "stream",
     "text": [
      "60\n"
     ]
    }
   ],
   "source": [
    "parent=hidden[0]\n",
    "\n",
    "for child in hidden[1:]:\n",
    "        p=sp.factorNode()\n",
    "        p.addNeighbour(child)\n",
    "        p.addNeighbour(parent)\n",
    "        p.setValues(pTgivenT)\n",
    "        s=sp.factorNode()\n",
    "        factors+=[p]\n",
    "        parent=child\n",
    "\n",
    "child = sensory[0]\n",
    "\n",
    "for s,h in zip(hidden,sensory):\n",
    "    f=sp.factorNode()\n",
    "    f.addNeighbour(h)\n",
    "    f.addNeighbour(s)\n",
    "    factors+=[f]\n",
    "    f.setValues(pSgivenT)\n",
    "\n",
    "print(len(factors))"
   ]
  },
  {
   "cell_type": "code",
   "execution_count": 8,
   "metadata": {
    "collapsed": false
   },
   "outputs": [
    {
     "data": {
      "text/plain": [
       "0"
      ]
     },
     "execution_count": 8,
     "metadata": {},
     "output_type": "execute_result"
    }
   ],
   "source": [
    "outf=open(\"Easier.dot\",\"w\")\n",
    "outf.write(pT0.dotPrint())\n",
    "outf.close()\n",
    "subprocess.call(\"neato -T png -o Easier.png Easier.dot\", shell=True)"
   ]
  },
  {
   "cell_type": "markdown",
   "metadata": {},
   "source": [
    "<img src=\"files/image.png\">"
   ]
  },
  {
   "cell_type": "code",
   "execution_count": 9,
   "metadata": {
    "collapsed": false
   },
   "outputs": [
    {
     "name": "stdout",
     "output_type": "stream",
     "text": [
      "Node  P0 has marginals  ({'pain': 0.9296875000000001, 'nopain': 0.0703125}, 33386.58176607136)\n",
      "Node  P1 has marginals  ({'pain': 0.9577464788732395, 'nopain': 0.04225352112676056}, 33386.58176607136)\n",
      "Node  P2 has marginals  ({'pain': 0.9577464788732395, 'nopain': 0.04225352112676057}, 33386.58176607135)\n",
      "Node  P3 has marginals  ({'pain': 0.9577464788732395, 'nopain': 0.04225352112676057}, 33386.58176607135)\n",
      "Node  P4 has marginals  ({'pain': 0.9577464788732395, 'nopain': 0.04225352112676057}, 33386.58176607135)\n",
      "Node  P5 has marginals  ({'pain': 0.9577464788732395, 'nopain': 0.04225352112676057}, 33386.58176607135)\n",
      "Node  P6 has marginals  ({'pain': 0.9577464788732395, 'nopain': 0.04225352112676057}, 33386.58176607135)\n",
      "Node  P7 has marginals  ({'pain': 0.9577464788732395, 'nopain': 0.04225352112676056}, 33386.58176607136)\n",
      "Node  P8 has marginals  ({'pain': 0.9577464788732395, 'nopain': 0.04225352112676056}, 33386.58176607136)\n",
      "Node  P9 has marginals  ({'pain': 0.9577464788732395, 'nopain': 0.04225352112676056}, 33386.58176607136)\n",
      "Node  P10 has marginals  ({'pain': 0.9577464788732395, 'nopain': 0.04225352112676056}, 33386.581766071366)\n",
      "Node  P11 has marginals  ({'pain': 0.9577464788732395, 'nopain': 0.04225352112676057}, 33386.58176607137)\n",
      "Node  P12 has marginals  ({'pain': 0.9577464788732394, 'nopain': 0.04225352112676056}, 33386.58176607138)\n",
      "Node  P13 has marginals  ({'pain': 0.9577464788732394, 'nopain': 0.04225352112676056}, 33386.58176607138)\n",
      "Node  P14 has marginals  ({'pain': 0.9577464788732394, 'nopain': 0.04225352112676056}, 33386.58176607138)\n",
      "Node  P15 has marginals  ({'pain': 0.9577464788732394, 'nopain': 0.04225352112676056}, 33386.58176607138)\n",
      "Node  P16 has marginals  ({'pain': 0.9577464788732395, 'nopain': 0.04225352112676057}, 33386.58176607137)\n",
      "Node  P17 has marginals  ({'pain': 0.9577464788732395, 'nopain': 0.04225352112676057}, 33386.58176607137)\n",
      "Node  P18 has marginals  ({'pain': 0.9577464788732395, 'nopain': 0.04225352112676057}, 33386.58176607137)\n",
      "Node  P19 has marginals  ({'pain': 0.9577464788732395, 'nopain': 0.04225352112676057}, 33386.58176607137)\n",
      "Node  P20 has marginals  ({'pain': 0.9577464788732395, 'nopain': 0.04225352112676057}, 33386.58176607137)\n",
      "Node  P21 has marginals  ({'pain': 0.9577464788732395, 'nopain': 0.04225352112676056}, 33386.581766071366)\n",
      "Node  P22 has marginals  ({'pain': 0.9577464788732395, 'nopain': 0.04225352112676057}, 33386.58176607137)\n",
      "Node  P23 has marginals  ({'pain': 0.9577464788732395, 'nopain': 0.04225352112676057}, 33386.58176607137)\n",
      "Node  P24 has marginals  ({'pain': 0.9577464788732394, 'nopain': 0.04225352112676056}, 33386.58176607138)\n",
      "Node  P25 has marginals  ({'pain': 0.9577464788732394, 'nopain': 0.04225352112676056}, 33386.58176607138)\n",
      "Node  P26 has marginals  ({'pain': 0.9577464788732394, 'nopain': 0.04225352112676056}, 33386.58176607138)\n",
      "Node  P27 has marginals  ({'pain': 0.9577464788732395, 'nopain': 0.04225352112676057}, 33386.58176607137)\n",
      "Node  P28 has marginals  ({'pain': 0.9577464788732395, 'nopain': 0.04225352112676057}, 33386.58176607137)\n",
      "Node  P29 has marginals  ({'pain': 0.9577464788732395, 'nopain': 0.04225352112676057}, 33386.58176607137)\n",
      "Node  S0 has marginals  ({'tickle': 0.48437499999999994, 'noci': 0.515625}, 33386.581766071366)\n",
      "Node  S1 has marginals  ({'tickle': 0.47887323943661975, 'noci': 0.5211267605633803}, 33386.58176607136)\n",
      "Node  S2 has marginals  ({'tickle': 0.47887323943661975, 'noci': 0.5211267605633803}, 33386.58176607135)\n",
      "Node  S3 has marginals  ({'tickle': 0.47887323943661975, 'noci': 0.5211267605633803}, 33386.58176607135)\n",
      "Node  S4 has marginals  ({'tickle': 0.47887323943661975, 'noci': 0.5211267605633803}, 33386.58176607135)\n",
      "Node  S5 has marginals  ({'tickle': 0.47887323943661975, 'noci': 0.5211267605633803}, 33386.58176607135)\n",
      "Node  S6 has marginals  ({'tickle': 0.47887323943661975, 'noci': 0.5211267605633803}, 33386.58176607135)\n",
      "Node  S7 has marginals  ({'tickle': 0.47887323943661975, 'noci': 0.5211267605633803}, 33386.58176607136)\n",
      "Node  S8 has marginals  ({'tickle': 0.47887323943661975, 'noci': 0.5211267605633803}, 33386.58176607136)\n",
      "Node  S9 has marginals  ({'tickle': 0.47887323943661975, 'noci': 0.5211267605633803}, 33386.58176607136)\n",
      "Node  S10 has marginals  ({'tickle': 0.47887323943661975, 'noci': 0.5211267605633801}, 33386.581766071366)\n",
      "Node  S11 has marginals  ({'tickle': 0.4788732394366198, 'noci': 0.5211267605633803}, 33386.581766071366)\n",
      "Node  S12 has marginals  ({'tickle': 0.4788732394366198, 'noci': 0.5211267605633803}, 33386.58176607137)\n",
      "Node  S13 has marginals  ({'tickle': 0.4788732394366198, 'noci': 0.5211267605633803}, 33386.58176607137)\n",
      "Node  S14 has marginals  ({'tickle': 0.4788732394366198, 'noci': 0.5211267605633803}, 33386.58176607137)\n",
      "Node  S15 has marginals  ({'tickle': 0.4788732394366198, 'noci': 0.5211267605633803}, 33386.58176607137)\n",
      "Node  S16 has marginals  ({'tickle': 0.4788732394366198, 'noci': 0.5211267605633803}, 33386.581766071366)\n",
      "Node  S17 has marginals  ({'tickle': 0.4788732394366198, 'noci': 0.5211267605633803}, 33386.581766071366)\n",
      "Node  S18 has marginals  ({'tickle': 0.4788732394366198, 'noci': 0.5211267605633803}, 33386.581766071366)\n",
      "Node  S19 has marginals  ({'tickle': 0.4788732394366198, 'noci': 0.5211267605633803}, 33386.581766071366)\n",
      "Node  S20 has marginals  ({'tickle': 0.4788732394366198, 'noci': 0.5211267605633803}, 33386.581766071366)\n",
      "Node  S21 has marginals  ({'tickle': 0.47887323943661975, 'noci': 0.5211267605633801}, 33386.581766071366)\n",
      "Node  S22 has marginals  ({'tickle': 0.4788732394366198, 'noci': 0.5211267605633803}, 33386.581766071366)\n",
      "Node  S23 has marginals  ({'tickle': 0.4788732394366198, 'noci': 0.5211267605633803}, 33386.581766071366)\n",
      "Node  S24 has marginals  ({'tickle': 0.4788732394366198, 'noci': 0.5211267605633803}, 33386.58176607137)\n",
      "Node  S25 has marginals  ({'tickle': 0.4788732394366198, 'noci': 0.5211267605633803}, 33386.58176607137)\n",
      "Node  S26 has marginals  ({'tickle': 0.4788732394366198, 'noci': 0.5211267605633803}, 33386.58176607137)\n",
      "Node  S27 has marginals  ({'tickle': 0.4788732394366198, 'noci': 0.5211267605633803}, 33386.581766071366)\n",
      "Node  S28 has marginals  ({'tickle': 0.4788732394366198, 'noci': 0.5211267605633803}, 33386.581766071366)\n",
      "Node  S29 has marginals  ({'tickle': 0.4788732394366198, 'noci': 0.5211267605633803}, 33386.581766071366)\n"
     ]
    }
   ],
   "source": [
    "allNodes=variables+factors\n",
    "sp.runSumProduct(allNodes)\n",
    "for v in variables: \n",
    "    print(\"Node \", v.name,\"has marginals \", v.marginal())"
   ]
  },
  {
   "cell_type": "code",
   "execution_count": 10,
   "metadata": {
    "collapsed": false
   },
   "outputs": [
    {
     "name": "stdout",
     "output_type": "stream",
     "text": [
      "Node  P0 has marginals  ({'pain': 0.9545454545454545, 'nopain': 0.04545454545454545}, 17214.956223130546)\n",
      "Node  P1 has marginals  ({'pain': 0.9577464788732395, 'nopain': 0.04225352112676057}, 17214.956223130543)\n",
      "Node  P2 has marginals  ({'pain': 0.9577464788732395, 'nopain': 0.04225352112676057}, 17214.956223130543)\n",
      "Node  P3 has marginals  ({'pain': 0.9577464788732395, 'nopain': 0.04225352112676057}, 17214.956223130543)\n",
      "Node  P4 has marginals  ({'pain': 0.9577464788732395, 'nopain': 0.04225352112676057}, 17214.956223130543)\n",
      "Node  P5 has marginals  ({'pain': 0.9577464788732395, 'nopain': 0.04225352112676057}, 17214.956223130543)\n",
      "Node  P6 has marginals  ({'pain': 0.9577464788732395, 'nopain': 0.04225352112676057}, 17214.956223130543)\n",
      "Node  P7 has marginals  ({'pain': 0.9577464788732395, 'nopain': 0.04225352112676057}, 17214.956223130546)\n",
      "Node  P8 has marginals  ({'pain': 0.9577464788732395, 'nopain': 0.04225352112676057}, 17214.956223130543)\n",
      "Node  P9 has marginals  ({'pain': 0.9577464788732395, 'nopain': 0.04225352112676057}, 17214.956223130543)\n",
      "Node  P10 has marginals  ({'pain': 0.9577464788732395, 'nopain': 0.04225352112676057}, 17214.956223130543)\n",
      "Node  P11 has marginals  ({'pain': 0.9577464788732395, 'nopain': 0.04225352112676057}, 17214.95622313054)\n",
      "Node  P12 has marginals  ({'pain': 0.9577464788732395, 'nopain': 0.04225352112676057}, 17214.956223130543)\n",
      "Node  P13 has marginals  ({'pain': 0.9577464788732395, 'nopain': 0.04225352112676057}, 17214.956223130543)\n",
      "Node  P14 has marginals  ({'pain': 0.9577464788732395, 'nopain': 0.04225352112676057}, 17214.956223130546)\n",
      "Node  P15 has marginals  ({'pain': 0.9577464788732395, 'nopain': 0.04225352112676057}, 17214.956223130543)\n",
      "Node  P16 has marginals  ({'pain': 0.9577464788732395, 'nopain': 0.04225352112676057}, 17214.956223130543)\n",
      "Node  P17 has marginals  ({'pain': 0.9577464788732395, 'nopain': 0.04225352112676057}, 17214.95622313054)\n",
      "Node  P18 has marginals  ({'pain': 0.9577464788732395, 'nopain': 0.04225352112676057}, 17214.95622313054)\n",
      "Node  P19 has marginals  ({'pain': 0.9577464788732395, 'nopain': 0.04225352112676057}, 17214.956223130543)\n",
      "Node  P20 has marginals  ({'pain': 0.9577464788732395, 'nopain': 0.04225352112676057}, 17214.95622313054)\n",
      "Node  P21 has marginals  ({'pain': 0.9577464788732395, 'nopain': 0.04225352112676057}, 17214.95622313054)\n",
      "Node  P22 has marginals  ({'pain': 0.9577464788732395, 'nopain': 0.04225352112676057}, 17214.95622313054)\n",
      "Node  P23 has marginals  ({'pain': 0.9577464788732395, 'nopain': 0.04225352112676057}, 17214.956223130543)\n",
      "Node  P24 has marginals  ({'pain': 0.9577464788732395, 'nopain': 0.04225352112676057}, 17214.956223130543)\n",
      "Node  P25 has marginals  ({'pain': 0.9577464788732395, 'nopain': 0.04225352112676057}, 17214.956223130543)\n",
      "Node  P26 has marginals  ({'pain': 0.9577464788732395, 'nopain': 0.04225352112676057}, 17214.956223130543)\n",
      "Node  P27 has marginals  ({'pain': 0.9577464788732395, 'nopain': 0.04225352112676057}, 17214.956223130546)\n",
      "Node  P28 has marginals  ({'pain': 0.9577464788732395, 'nopain': 0.04225352112676057}, 17214.956223130543)\n",
      "Node  P29 has marginals  ({'pain': 0.9577464788732395, 'nopain': 0.04225352112676057}, 17214.956223130543)\n",
      "Node  S0 has marginals  ({'tickle': 0.0, 'noci': 1.0}, 17214.956223130546)\n",
      "Node  S1 has marginals  ({'tickle': 0.47887323943661975, 'noci': 0.5211267605633804}, 17214.95622313054)\n",
      "Node  S2 has marginals  ({'tickle': 0.47887323943661975, 'noci': 0.5211267605633804}, 17214.95622313054)\n",
      "Node  S3 has marginals  ({'tickle': 0.47887323943661975, 'noci': 0.5211267605633804}, 17214.95622313054)\n",
      "Node  S4 has marginals  ({'tickle': 0.47887323943661975, 'noci': 0.5211267605633804}, 17214.95622313054)\n",
      "Node  S5 has marginals  ({'tickle': 0.47887323943661975, 'noci': 0.5211267605633804}, 17214.95622313054)\n",
      "Node  S6 has marginals  ({'tickle': 0.47887323943661975, 'noci': 0.5211267605633804}, 17214.95622313054)\n",
      "Node  S7 has marginals  ({'tickle': 0.47887323943661975, 'noci': 0.5211267605633803}, 17214.956223130546)\n",
      "Node  S8 has marginals  ({'tickle': 0.47887323943661975, 'noci': 0.5211267605633804}, 17214.95622313054)\n",
      "Node  S9 has marginals  ({'tickle': 0.47887323943661975, 'noci': 0.5211267605633804}, 17214.95622313054)\n",
      "Node  S10 has marginals  ({'tickle': 0.47887323943661975, 'noci': 0.5211267605633804}, 17214.95622313054)\n",
      "Node  S11 has marginals  ({'tickle': 0.47887323943661975, 'noci': 0.5211267605633803}, 17214.95622313054)\n",
      "Node  S12 has marginals  ({'tickle': 0.47887323943661975, 'noci': 0.5211267605633804}, 17214.95622313054)\n",
      "Node  S13 has marginals  ({'tickle': 0.47887323943661975, 'noci': 0.5211267605633804}, 17214.95622313054)\n",
      "Node  S14 has marginals  ({'tickle': 0.47887323943661975, 'noci': 0.5211267605633803}, 17214.956223130546)\n",
      "Node  S15 has marginals  ({'tickle': 0.47887323943661975, 'noci': 0.5211267605633804}, 17214.95622313054)\n",
      "Node  S16 has marginals  ({'tickle': 0.47887323943661975, 'noci': 0.5211267605633804}, 17214.95622313054)\n",
      "Node  S17 has marginals  ({'tickle': 0.47887323943661975, 'noci': 0.5211267605633803}, 17214.95622313054)\n",
      "Node  S18 has marginals  ({'tickle': 0.47887323943661975, 'noci': 0.5211267605633803}, 17214.95622313054)\n",
      "Node  S19 has marginals  ({'tickle': 0.47887323943661975, 'noci': 0.5211267605633804}, 17214.95622313054)\n",
      "Node  S20 has marginals  ({'tickle': 0.47887323943661975, 'noci': 0.5211267605633803}, 17214.95622313054)\n",
      "Node  S21 has marginals  ({'tickle': 0.47887323943661975, 'noci': 0.5211267605633803}, 17214.95622313054)\n",
      "Node  S22 has marginals  ({'tickle': 0.47887323943661975, 'noci': 0.5211267605633803}, 17214.95622313054)\n",
      "Node  S23 has marginals  ({'tickle': 0.47887323943661975, 'noci': 0.5211267605633804}, 17214.95622313054)\n",
      "Node  S24 has marginals  ({'tickle': 0.47887323943661975, 'noci': 0.5211267605633804}, 17214.95622313054)\n",
      "Node  S25 has marginals  ({'tickle': 0.47887323943661975, 'noci': 0.5211267605633804}, 17214.95622313054)\n",
      "Node  S26 has marginals  ({'tickle': 0.47887323943661975, 'noci': 0.5211267605633804}, 17214.95622313054)\n",
      "Node  S27 has marginals  ({'tickle': 0.47887323943661975, 'noci': 0.5211267605633803}, 17214.956223130546)\n",
      "Node  S28 has marginals  ({'tickle': 0.47887323943661975, 'noci': 0.5211267605633804}, 17214.95622313054)\n",
      "Node  S29 has marginals  ({'tickle': 0.47887323943661975, 'noci': 0.5211267605633804}, 17214.95622313054)\n"
     ]
    }
   ],
   "source": [
    "sensory[0].observe('noci')\n",
    "sp.runSumProduct(allNodes)\n",
    "for v in variables: \n",
    "    print(\"Node \", v.name,\"has marginals \", v.marginal())"
   ]
  },
  {
   "cell_type": "code",
   "execution_count": 11,
   "metadata": {
    "collapsed": false
   },
   "outputs": [
    {
     "name": "stdout",
     "output_type": "stream",
     "text": [
      "[17398.641202037183, 17398.641202037186, 17398.641202037186, 17398.641202037186, 17398.641202037186, 17398.641202037194, 17398.641202037194, 17398.641202037194, 17398.641202037194, 17398.641202037194, 17398.641202037194, 17398.641202037194, 17398.641202037194, 17398.641202037194, 17398.641202037194, 17398.641202037194, 17398.641202037194, 17398.641202037194, 17398.641202037194, 17398.641202037194, 17398.641202037194, 17398.641202037194, 17398.641202037194, 17398.641202037194, 17398.641202037194, 17398.641202037194, 17398.641202037194, 17398.641202037194, 17398.641202037194, 17398.641202037194]\n"
     ]
    }
   ],
   "source": [
    "sensory[0].observe()\n",
    "sensory[1].observe('noci')\n",
    "sp.runSumProduct(allNodes)\n",
    "S1nocisurprise=[]\n",
    "for node in sensory: \n",
    "    S1nocisurprise.append(node.marginal()[1])\n",
    "print(S1nocisurprise)"
   ]
  },
  {
   "cell_type": "code",
   "execution_count": 12,
   "metadata": {
    "collapsed": false
   },
   "outputs": [
    {
     "name": "stdout",
     "output_type": "stream",
     "text": [
      "[17398.641202037183, 17398.641202037186, 17398.641202037183, 17398.641202037186, 17398.641202037186, 17398.641202037186, 17398.641202037186, 17398.64120203718, 17398.64120203718, 17398.64120203718, 17398.64120203718, 17398.641202037186, 17398.641202037186, 17398.641202037186, 17398.641202037186, 17398.64120203718, 17398.64120203718, 17398.64120203718, 17398.64120203718, 17398.64120203718, 17398.64120203718, 17398.641202037175, 17398.64120203718, 17398.64120203718, 17398.64120203718, 17398.64120203718, 17398.64120203718, 17398.64120203718, 17398.64120203718, 17398.64120203718]\n"
     ]
    }
   ],
   "source": [
    "sensory[0].observe()\n",
    "sensory[1].observe()\n",
    "sensory[2].observe('noci')\n",
    "sp.runSumProduct(allNodes)\n",
    "S2nocisurprise=[]\n",
    "for node in sensory: \n",
    "    S2nocisurprise.append(node.marginal()[1])\n",
    "print(S2nocisurprise)"
   ]
  },
  {
   "cell_type": "code",
   "execution_count": 13,
   "metadata": {
    "collapsed": false
   },
   "outputs": [
    {
     "name": "stdout",
     "output_type": "stream",
     "text": [
      "[17398.641202037183, 17398.641202037186, 17398.64120203718, 17398.641202037183, 17398.641202037186, 17398.641202037186, 17398.641202037186, 17398.64120203718, 17398.64120203718, 17398.64120203718, 17398.64120203718, 17398.641202037186, 17398.641202037186, 17398.641202037186, 17398.641202037186, 17398.64120203718, 17398.64120203718, 17398.64120203718, 17398.64120203718, 17398.64120203718, 17398.64120203718, 17398.641202037175, 17398.64120203718, 17398.64120203718, 17398.64120203718, 17398.64120203718, 17398.64120203718, 17398.64120203718, 17398.64120203718, 17398.64120203718]\n"
     ]
    }
   ],
   "source": [
    "sensory[2].observe()\n",
    "sensory[3].observe('noci')\n",
    "sp.runSumProduct(allNodes)\n",
    "S3nocisurprise=[]\n",
    "for node in sensory: \n",
    "    S3nocisurprise.append(node.marginal()[1])\n",
    "print(S3nocisurprise)"
   ]
  },
  {
   "cell_type": "markdown",
   "metadata": {},
   "source": [
    "### Die Werte für die surprise scheinen recht stark abhängig von den Prior Parameter settings!"
   ]
  },
  {
   "cell_type": "code",
   "execution_count": 14,
   "metadata": {
    "collapsed": false
   },
   "outputs": [
    {
     "data": {
      "image/png": "[encoded data removed]",
      "text/plain": [
       "<matplotlib.figure.Figure at 0x18b3743de80>"
      ]
     },
     "metadata": {},
     "output_type": "display_data"
    }
   ],
   "source": [
    "bar_width = 0.3\n",
    "opacity = 0.9\n",
    "index=np.arange(len(hidden))\n",
    "\n",
    "plt.figure(figsize=(12.0,8.0))\n",
    "plt.title(\"Surprise after different observation time points, Sick Brain\", fontsize=20)\n",
    "plt.ylabel(\"Surprise\", fontsize=18)\n",
    "plt.xlabel(\"Timestep\", fontsize=18)\n",
    "plt.xticks(index)\n",
    "\n",
    "plt.bar(index, height=S1nocisurprise, width=bar_width, align='center', alpha=0.75, label='Noci at S1', color='yellow')\n",
    "plt.bar(index+bar_width, height=S2nocisurprise, width=bar_width, align='center', alpha=0.75, label='Noci at S2', color='red')\n",
    "plt.bar(index+2*bar_width, height=S3nocisurprise, width=bar_width, align='center', alpha=0.75, label='Noci at S3', color='orange')\n",
    "\n",
    "plt.legend(fontsize=13)\n",
    "plt.tight_layout()\n",
    "plt.savefig(\"Surprise_Sick_NociTimepoint.png\")\n",
    "plt.show()\n"
   ]
  },
  {
   "cell_type": "markdown",
   "metadata": {},
   "source": [
    "## Was man hier erwarten würde: je später der nociceptive Stimulus gegeben wird, desto weniger überraschend sollte er sein!"
   ]
  },
  {
   "cell_type": "code",
   "execution_count": 15,
   "metadata": {
    "collapsed": false
   },
   "outputs": [
    {
     "name": "stdout",
     "output_type": "stream",
     "text": [
      "[8331.743674214991, 8331.74367421499, 8331.743674214988, 8331.743674214988, 8331.743674214988, 8331.74367421499, 8331.74367421499, 8331.74367421499, 8331.74367421499, 8331.743674214991, 8331.743674214991, 8331.743674214991, 8331.743674214991, 8331.74367421499, 8331.743674214991, 8331.74367421499, 8331.74367421499, 8331.743674214988, 8331.74367421499, 8331.74367421499, 8331.743674214988, 8331.743674214988, 8331.743674214988, 8331.743674214988, 8331.743674214988, 8331.743674214988, 8331.743674214988, 8331.74367421499, 8331.74367421499, 8331.743674214988]\n"
     ]
    }
   ],
   "source": [
    "sensory[1].observe('tickle')\n",
    "sp.runSumProduct(allNodes)\n",
    "S0ticklesurprise=[]\n",
    "for node in sensory: \n",
    "    S0ticklesurprise.append(node.marginal()[1])\n",
    "print(S0ticklesurprise)"
   ]
  },
  {
   "cell_type": "code",
   "execution_count": 16,
   "metadata": {
    "collapsed": false
   },
   "outputs": [
    {
     "name": "stdout",
     "output_type": "stream",
     "text": [
      "({'pain': 0.9296875, 'nopain': 0.0703125}, 17398.641202037186)\n",
      "({'pain': 0.9577464788732395, 'nopain': 0.04225352112676057}, 17398.641202037183)\n",
      "({'pain': 0.9577464788732395, 'nopain': 0.04225352112676057}, 17398.641202037183)\n",
      "({'pain': 0.972972972972973, 'nopain': 0.027027027027027025}, 17398.641202037183)\n",
      "({'pain': 0.9577464788732395, 'nopain': 0.04225352112676057}, 17398.641202037183)\n",
      "({'pain': 0.9577464788732395, 'nopain': 0.04225352112676057}, 17398.641202037183)\n",
      "({'pain': 0.9577464788732395, 'nopain': 0.04225352112676057}, 17398.641202037183)\n",
      "({'pain': 0.9577464788732395, 'nopain': 0.04225352112676057}, 17398.641202037183)\n",
      "({'pain': 0.9577464788732395, 'nopain': 0.04225352112676057}, 17398.641202037183)\n",
      "({'pain': 0.9577464788732395, 'nopain': 0.04225352112676057}, 17398.641202037183)\n",
      "({'pain': 0.9577464788732395, 'nopain': 0.04225352112676057}, 17398.641202037183)\n",
      "({'pain': 0.9577464788732395, 'nopain': 0.04225352112676057}, 17398.641202037183)\n",
      "({'pain': 0.9577464788732395, 'nopain': 0.04225352112676057}, 17398.641202037186)\n",
      "({'pain': 0.9577464788732395, 'nopain': 0.04225352112676057}, 17398.641202037186)\n",
      "({'pain': 0.9577464788732395, 'nopain': 0.04225352112676057}, 17398.641202037183)\n",
      "({'pain': 0.9577464788732395, 'nopain': 0.04225352112676057}, 17398.641202037183)\n",
      "({'pain': 0.9577464788732395, 'nopain': 0.04225352112676057}, 17398.641202037183)\n",
      "({'pain': 0.9577464788732395, 'nopain': 0.04225352112676057}, 17398.641202037183)\n",
      "({'pain': 0.9577464788732395, 'nopain': 0.04225352112676056}, 17398.64120203718)\n",
      "({'pain': 0.9577464788732395, 'nopain': 0.04225352112676056}, 17398.64120203718)\n",
      "({'pain': 0.9577464788732395, 'nopain': 0.04225352112676056}, 17398.64120203718)\n",
      "({'pain': 0.9577464788732395, 'nopain': 0.04225352112676056}, 17398.641202037175)\n",
      "({'pain': 0.9577464788732395, 'nopain': 0.04225352112676056}, 17398.64120203718)\n",
      "({'pain': 0.9577464788732395, 'nopain': 0.04225352112676056}, 17398.64120203718)\n",
      "({'pain': 0.9577464788732395, 'nopain': 0.04225352112676057}, 17398.641202037183)\n",
      "({'pain': 0.9577464788732395, 'nopain': 0.04225352112676056}, 17398.64120203718)\n",
      "({'pain': 0.9577464788732395, 'nopain': 0.04225352112676056}, 17398.64120203718)\n",
      "({'pain': 0.9577464788732395, 'nopain': 0.04225352112676057}, 17398.641202037183)\n",
      "({'pain': 0.9577464788732395, 'nopain': 0.04225352112676057}, 17398.641202037183)\n",
      "({'pain': 0.9577464788732395, 'nopain': 0.04225352112676056}, 17398.64120203718)\n",
      "({'tickle': 0.48437500000000006, 'noci': 0.5156249999999999}, 17398.641202037183)\n",
      "({'tickle': 0.47887323943661964, 'noci': 0.5211267605633803}, 17398.641202037186)\n",
      "({'tickle': 0.47887323943661975, 'noci': 0.5211267605633804}, 17398.64120203718)\n",
      "({'tickle': 0.0, 'noci': 1.0}, 17398.641202037183)\n",
      "({'tickle': 0.47887323943661964, 'noci': 0.5211267605633803}, 17398.641202037186)\n",
      "({'tickle': 0.47887323943661964, 'noci': 0.5211267605633803}, 17398.641202037186)\n",
      "({'tickle': 0.47887323943661964, 'noci': 0.5211267605633803}, 17398.641202037186)\n",
      "({'tickle': 0.47887323943661975, 'noci': 0.5211267605633804}, 17398.64120203718)\n",
      "({'tickle': 0.47887323943661975, 'noci': 0.5211267605633804}, 17398.64120203718)\n",
      "({'tickle': 0.47887323943661975, 'noci': 0.5211267605633804}, 17398.64120203718)\n",
      "({'tickle': 0.47887323943661975, 'noci': 0.5211267605633804}, 17398.64120203718)\n",
      "({'tickle': 0.47887323943661964, 'noci': 0.5211267605633803}, 17398.641202037186)\n",
      "({'tickle': 0.47887323943661975, 'noci': 0.5211267605633804}, 17398.641202037186)\n",
      "({'tickle': 0.47887323943661975, 'noci': 0.5211267605633804}, 17398.641202037186)\n",
      "({'tickle': 0.47887323943661964, 'noci': 0.5211267605633803}, 17398.641202037186)\n",
      "({'tickle': 0.47887323943661975, 'noci': 0.5211267605633804}, 17398.64120203718)\n",
      "({'tickle': 0.47887323943661975, 'noci': 0.5211267605633804}, 17398.64120203718)\n",
      "({'tickle': 0.47887323943661975, 'noci': 0.5211267605633804}, 17398.64120203718)\n",
      "({'tickle': 0.47887323943661975, 'noci': 0.5211267605633803}, 17398.64120203718)\n",
      "({'tickle': 0.47887323943661975, 'noci': 0.5211267605633803}, 17398.64120203718)\n",
      "({'tickle': 0.47887323943661975, 'noci': 0.5211267605633803}, 17398.64120203718)\n",
      "({'tickle': 0.47887323943661975, 'noci': 0.5211267605633803}, 17398.641202037175)\n",
      "({'tickle': 0.47887323943661975, 'noci': 0.5211267605633803}, 17398.64120203718)\n",
      "({'tickle': 0.47887323943661975, 'noci': 0.5211267605633803}, 17398.64120203718)\n",
      "({'tickle': 0.47887323943661975, 'noci': 0.5211267605633804}, 17398.64120203718)\n",
      "({'tickle': 0.47887323943661975, 'noci': 0.5211267605633803}, 17398.64120203718)\n",
      "({'tickle': 0.47887323943661975, 'noci': 0.5211267605633803}, 17398.64120203718)\n",
      "({'tickle': 0.47887323943661975, 'noci': 0.5211267605633804}, 17398.64120203718)\n",
      "({'tickle': 0.47887323943661975, 'noci': 0.5211267605633804}, 17398.64120203718)\n",
      "({'tickle': 0.47887323943661975, 'noci': 0.5211267605633803}, 17398.64120203718)\n"
     ]
    }
   ],
   "source": [
    "# Pain Plot\n",
    "sensory[1].observe()\n",
    "marginals=[]\n",
    "pain_prob=[]\n",
    "sp.runSumProduct(allNodes)\n",
    "for v in variables: \n",
    "    print(v.marginal())"
   ]
  },
  {
   "cell_type": "code",
   "execution_count": 17,
   "metadata": {
    "collapsed": false
   },
   "outputs": [
    {
     "name": "stdout",
     "output_type": "stream",
     "text": [
      "[{'pain': 0.9296875, 'nopain': 0.0703125}, {'pain': 0.9577464788732395, 'nopain': 0.04225352112676057}, {'pain': 0.9577464788732395, 'nopain': 0.04225352112676057}, {'pain': 0.972972972972973, 'nopain': 0.027027027027027025}, {'pain': 0.9577464788732395, 'nopain': 0.04225352112676057}, {'pain': 0.9577464788732395, 'nopain': 0.04225352112676057}, {'pain': 0.9577464788732395, 'nopain': 0.04225352112676057}, {'pain': 0.9577464788732395, 'nopain': 0.04225352112676057}, {'pain': 0.9577464788732395, 'nopain': 0.04225352112676057}, {'pain': 0.9577464788732395, 'nopain': 0.04225352112676057}, {'pain': 0.9577464788732395, 'nopain': 0.04225352112676057}, {'pain': 0.9577464788732395, 'nopain': 0.04225352112676057}, {'pain': 0.9577464788732395, 'nopain': 0.04225352112676057}, {'pain': 0.9577464788732395, 'nopain': 0.04225352112676057}, {'pain': 0.9577464788732395, 'nopain': 0.04225352112676057}, {'pain': 0.9577464788732395, 'nopain': 0.04225352112676057}, {'pain': 0.9577464788732395, 'nopain': 0.04225352112676057}, {'pain': 0.9577464788732395, 'nopain': 0.04225352112676057}, {'pain': 0.9577464788732395, 'nopain': 0.04225352112676056}, {'pain': 0.9577464788732395, 'nopain': 0.04225352112676056}, {'pain': 0.9577464788732395, 'nopain': 0.04225352112676056}, {'pain': 0.9577464788732395, 'nopain': 0.04225352112676056}, {'pain': 0.9577464788732395, 'nopain': 0.04225352112676056}, {'pain': 0.9577464788732395, 'nopain': 0.04225352112676056}, {'pain': 0.9577464788732395, 'nopain': 0.04225352112676057}, {'pain': 0.9577464788732395, 'nopain': 0.04225352112676056}, {'pain': 0.9577464788732395, 'nopain': 0.04225352112676056}, {'pain': 0.9577464788732395, 'nopain': 0.04225352112676057}, {'pain': 0.9577464788732395, 'nopain': 0.04225352112676057}, {'pain': 0.9577464788732395, 'nopain': 0.04225352112676056}]\n"
     ]
    }
   ],
   "source": [
    "for h in hidden: \n",
    "    marginals.append(h.marginal()[0])\n",
    "print(marginals)"
   ]
  },
  {
   "cell_type": "code",
   "execution_count": 18,
   "metadata": {
    "collapsed": false
   },
   "outputs": [
    {
     "name": "stdout",
     "output_type": "stream",
     "text": [
      "[0.9296875, 0.9577464788732395, 0.9577464788732395, 0.972972972972973, 0.9577464788732395, 0.9577464788732395, 0.9577464788732395, 0.9577464788732395, 0.9577464788732395, 0.9577464788732395, 0.9577464788732395, 0.9577464788732395, 0.9577464788732395, 0.9577464788732395, 0.9577464788732395, 0.9577464788732395, 0.9577464788732395, 0.9577464788732395, 0.9577464788732395, 0.9577464788732395, 0.9577464788732395, 0.9577464788732395, 0.9577464788732395, 0.9577464788732395, 0.9577464788732395, 0.9577464788732395, 0.9577464788732395, 0.9577464788732395, 0.9577464788732395, 0.9577464788732395]\n",
      "[0.0703125, 0.04225352112676057, 0.04225352112676057, 0.027027027027027025, 0.04225352112676057, 0.04225352112676057, 0.04225352112676057, 0.04225352112676057, 0.04225352112676057, 0.04225352112676057, 0.04225352112676057, 0.04225352112676057, 0.04225352112676057, 0.04225352112676057, 0.04225352112676057, 0.04225352112676057, 0.04225352112676057, 0.04225352112676057, 0.04225352112676056, 0.04225352112676056, 0.04225352112676056, 0.04225352112676056, 0.04225352112676056, 0.04225352112676056, 0.04225352112676057, 0.04225352112676056, 0.04225352112676056, 0.04225352112676057, 0.04225352112676057, 0.04225352112676056]\n"
     ]
    }
   ],
   "source": [
    "pain_prob = [d['pain'] for d in marginals]\n",
    "print(pain_prob)\n",
    "nopain_prob = [d['nopain'] for d in marginals]\n",
    "print(nopain_prob)"
   ]
  },
  {
   "cell_type": "code",
   "execution_count": 19,
   "metadata": {
    "collapsed": false
   },
   "outputs": [
    {
     "data": {
      "image/png": "[encoded data removed]",
      "text/plain": [
       "<matplotlib.figure.Figure at 0x18b37976780>"
      ]
     },
     "metadata": {},
     "output_type": "display_data"
    }
   ],
   "source": [
    "bar_width=0.3\n",
    "opacity=0.9\n",
    "index=np.arange(len(hidden))\n",
    "\n",
    "plt.figure(figsize=(12.0,8.0))\n",
    "plt.title(\"Pain Probability - Sick Brain\", fontsize=20)\n",
    "plt.ylabel('Probability of Pain/ No pain', fontsize=18)\n",
    "plt.xlabel('Timepoint', fontsize=18)\n",
    "plt.xticks(index)\n",
    "\n",
    "plt.bar(index, height=pain_prob, width=bar_width, align='center', alpha=0.75, label='Pain', color='red')\n",
    "plt.bar(index+bar_width, height=nopain_prob, width=bar_width, align='center', alpha=0.75, label='No Pain', color='yellow')\n",
    "\n",
    "plt.legend(fontsize=15)\n",
    "plt.tight_layout()\n",
    "plt.savefig(\"PainProb_Sick.pdf\")\n",
    "plt.show()"
   ]
  },
  {
   "cell_type": "markdown",
   "metadata": {},
   "source": [
    "Nächster Plot: \n",
    "\n",
    "S3 kriegt Noci. Was ich erwarte: die pain probability sollte da schon sehr hoch sein? Sollte mehr oder weniger unbeenflusst davon sein, ob ein nociceptiver Stimulus gegeben wird oder nicht! Pain sollte sogar ohne irgend eine observation schon sehr schnell hochgehen---"
   ]
  },
  {
   "cell_type": "code",
   "execution_count": 20,
   "metadata": {
    "collapsed": false
   },
   "outputs": [
    {
     "name": "stdout",
     "output_type": "stream",
     "text": [
      "[{'pain': 0.9296875, 'nopain': 0.0703125}, {'pain': 0.9577464788732395, 'nopain': 0.04225352112676057}, {'pain': 0.9577464788732395, 'nopain': 0.04225352112676057}, {'pain': 0.972972972972973, 'nopain': 0.027027027027027025}, {'pain': 0.9577464788732395, 'nopain': 0.04225352112676057}, {'pain': 0.9577464788732395, 'nopain': 0.04225352112676057}, {'pain': 0.9577464788732395, 'nopain': 0.04225352112676057}, {'pain': 0.9577464788732395, 'nopain': 0.04225352112676057}, {'pain': 0.9577464788732395, 'nopain': 0.04225352112676057}, {'pain': 0.9577464788732395, 'nopain': 0.04225352112676057}, {'pain': 0.9577464788732395, 'nopain': 0.04225352112676057}, {'pain': 0.9577464788732395, 'nopain': 0.04225352112676057}, {'pain': 0.9577464788732395, 'nopain': 0.04225352112676057}, {'pain': 0.9577464788732395, 'nopain': 0.04225352112676057}, {'pain': 0.9577464788732395, 'nopain': 0.04225352112676057}, {'pain': 0.9577464788732395, 'nopain': 0.04225352112676057}, {'pain': 0.9577464788732395, 'nopain': 0.04225352112676057}, {'pain': 0.9577464788732395, 'nopain': 0.04225352112676057}, {'pain': 0.9577464788732395, 'nopain': 0.04225352112676056}, {'pain': 0.9577464788732395, 'nopain': 0.04225352112676056}, {'pain': 0.9577464788732395, 'nopain': 0.04225352112676056}, {'pain': 0.9577464788732395, 'nopain': 0.04225352112676056}, {'pain': 0.9577464788732395, 'nopain': 0.04225352112676056}, {'pain': 0.9577464788732395, 'nopain': 0.04225352112676056}, {'pain': 0.9577464788732395, 'nopain': 0.04225352112676057}, {'pain': 0.9577464788732395, 'nopain': 0.04225352112676056}, {'pain': 0.9577464788732395, 'nopain': 0.04225352112676056}, {'pain': 0.9577464788732395, 'nopain': 0.04225352112676057}, {'pain': 0.9577464788732395, 'nopain': 0.04225352112676057}, {'pain': 0.9577464788732395, 'nopain': 0.04225352112676056}]\n",
      "[0.9296875, 0.9577464788732395, 0.9577464788732395, 0.972972972972973, 0.9577464788732395, 0.9577464788732395, 0.9577464788732395, 0.9577464788732395, 0.9577464788732395, 0.9577464788732395, 0.9577464788732395, 0.9577464788732395, 0.9577464788732395, 0.9577464788732395, 0.9577464788732395, 0.9577464788732395, 0.9577464788732395, 0.9577464788732395, 0.9577464788732395, 0.9577464788732395, 0.9577464788732395, 0.9577464788732395, 0.9577464788732395, 0.9577464788732395, 0.9577464788732395, 0.9577464788732395, 0.9577464788732395, 0.9577464788732395, 0.9577464788732395, 0.9577464788732395]\n",
      "[0.0703125, 0.04225352112676057, 0.04225352112676057, 0.027027027027027025, 0.04225352112676057, 0.04225352112676057, 0.04225352112676057, 0.04225352112676057, 0.04225352112676057, 0.04225352112676057, 0.04225352112676057, 0.04225352112676057, 0.04225352112676057, 0.04225352112676057, 0.04225352112676057, 0.04225352112676057, 0.04225352112676057, 0.04225352112676057, 0.04225352112676056, 0.04225352112676056, 0.04225352112676056, 0.04225352112676056, 0.04225352112676056, 0.04225352112676056, 0.04225352112676057, 0.04225352112676056, 0.04225352112676056, 0.04225352112676057, 0.04225352112676057, 0.04225352112676056]\n"
     ]
    }
   ],
   "source": [
    "sensory[3].observe('noci')\n",
    "sp.runSumProduct(allNodes)\n",
    "marginalss3=[]\n",
    "\n",
    "for h in hidden:   \n",
    "    marginalss3.append(h.marginal()[0])\n",
    "print(marginalss3)\n",
    "\n",
    "pain_probs3 = [d['pain'] for d in marginalss3]\n",
    "print(pain_prob)\n",
    "nopain_probs3 = [d['nopain'] for d in marginalss3]\n",
    "print(nopain_prob)"
   ]
  },
  {
   "cell_type": "code",
   "execution_count": 21,
   "metadata": {
    "collapsed": false
   },
   "outputs": [
    {
     "data": {
      "image/png": "[encoded data removed]",
      "text/plain": [
       "<matplotlib.figure.Figure at 0x18b37ab3eb8>"
      ]
     },
     "metadata": {},
     "output_type": "display_data"
    }
   ],
   "source": [
    "bar_width=0.3\n",
    "opacity=0.9\n",
    "index=np.arange(len(hidden))\n",
    "\n",
    "plt.figure(figsize=(12.0,8.0))\n",
    "plt.title(\"Pain Probability - Sick Brain\", fontsize=20)\n",
    "plt.ylabel('Probability of Pain/ No pain', fontsize=18)\n",
    "plt.xlabel('Timepoint', fontsize=18)\n",
    "plt.xticks(index)\n",
    "\n",
    "plt.bar(index, height=pain_probs3, width=bar_width, align='center', alpha=0.75, label='Pain', color='red')\n",
    "plt.bar(index+bar_width, height=nopain_probs3, width=bar_width, align='center', alpha=0.75, label='No Pain', color='yellow')\n",
    "\n",
    "plt.legend(fontsize=15)\n",
    "plt.tight_layout()\n",
    "plt.savefig(\"PainProb_Sick.pdf\")\n",
    "plt.show()"
   ]
  },
  {
   "cell_type": "code",
   "execution_count": 22,
   "metadata": {
    "collapsed": true
   },
   "outputs": [],
   "source": [
    "for s in sensory: \n",
    "    s.observe()"
   ]
  },
  {
   "cell_type": "code",
   "execution_count": 23,
   "metadata": {
    "collapsed": false
   },
   "outputs": [
    {
     "name": "stdout",
     "output_type": "stream",
     "text": [
      "Node  P0 has marginals  ({'pain': 0.9296875000000001, 'nopain': 0.0703125}, 33386.58176607136)\n",
      "Node  P1 has marginals  ({'pain': 0.9577464788732395, 'nopain': 0.04225352112676056}, 33386.58176607136)\n",
      "Node  P2 has marginals  ({'pain': 0.9577464788732395, 'nopain': 0.04225352112676057}, 33386.58176607135)\n",
      "Node  P3 has marginals  ({'pain': 0.9577464788732395, 'nopain': 0.04225352112676057}, 33386.58176607135)\n",
      "Node  P4 has marginals  ({'pain': 0.9577464788732395, 'nopain': 0.04225352112676057}, 33386.58176607135)\n",
      "Node  P5 has marginals  ({'pain': 0.9577464788732395, 'nopain': 0.04225352112676057}, 33386.58176607135)\n",
      "Node  P6 has marginals  ({'pain': 0.9577464788732395, 'nopain': 0.04225352112676057}, 33386.58176607135)\n",
      "Node  P7 has marginals  ({'pain': 0.9577464788732395, 'nopain': 0.04225352112676056}, 33386.58176607136)\n",
      "Node  P8 has marginals  ({'pain': 0.9577464788732395, 'nopain': 0.04225352112676056}, 33386.58176607136)\n",
      "Node  P9 has marginals  ({'pain': 0.9577464788732395, 'nopain': 0.04225352112676056}, 33386.58176607136)\n",
      "Node  P10 has marginals  ({'pain': 0.9577464788732395, 'nopain': 0.04225352112676056}, 33386.581766071366)\n",
      "Node  P11 has marginals  ({'pain': 0.9577464788732395, 'nopain': 0.04225352112676057}, 33386.58176607137)\n",
      "Node  P12 has marginals  ({'pain': 0.9577464788732394, 'nopain': 0.04225352112676056}, 33386.58176607138)\n",
      "Node  P13 has marginals  ({'pain': 0.9577464788732394, 'nopain': 0.04225352112676056}, 33386.58176607138)\n",
      "Node  P14 has marginals  ({'pain': 0.9577464788732394, 'nopain': 0.04225352112676056}, 33386.58176607138)\n",
      "Node  P15 has marginals  ({'pain': 0.9577464788732394, 'nopain': 0.04225352112676056}, 33386.58176607138)\n",
      "Node  P16 has marginals  ({'pain': 0.9577464788732395, 'nopain': 0.04225352112676057}, 33386.58176607137)\n",
      "Node  P17 has marginals  ({'pain': 0.9577464788732395, 'nopain': 0.04225352112676057}, 33386.58176607137)\n",
      "Node  P18 has marginals  ({'pain': 0.9577464788732395, 'nopain': 0.04225352112676057}, 33386.58176607137)\n",
      "Node  P19 has marginals  ({'pain': 0.9577464788732395, 'nopain': 0.04225352112676057}, 33386.58176607137)\n",
      "Node  P20 has marginals  ({'pain': 0.9577464788732395, 'nopain': 0.04225352112676057}, 33386.58176607137)\n",
      "Node  P21 has marginals  ({'pain': 0.9577464788732395, 'nopain': 0.04225352112676056}, 33386.581766071366)\n",
      "Node  P22 has marginals  ({'pain': 0.9577464788732395, 'nopain': 0.04225352112676057}, 33386.58176607137)\n",
      "Node  P23 has marginals  ({'pain': 0.9577464788732395, 'nopain': 0.04225352112676057}, 33386.58176607137)\n",
      "Node  P24 has marginals  ({'pain': 0.9577464788732394, 'nopain': 0.04225352112676056}, 33386.58176607138)\n",
      "Node  P25 has marginals  ({'pain': 0.9577464788732394, 'nopain': 0.04225352112676056}, 33386.58176607138)\n",
      "Node  P26 has marginals  ({'pain': 0.9577464788732394, 'nopain': 0.04225352112676056}, 33386.58176607138)\n",
      "Node  P27 has marginals  ({'pain': 0.9577464788732395, 'nopain': 0.04225352112676057}, 33386.58176607137)\n",
      "Node  P28 has marginals  ({'pain': 0.9577464788732395, 'nopain': 0.04225352112676057}, 33386.58176607137)\n",
      "Node  P29 has marginals  ({'pain': 0.9577464788732395, 'nopain': 0.04225352112676057}, 33386.58176607137)\n",
      "Node  S0 has marginals  ({'tickle': 0.48437499999999994, 'noci': 0.515625}, 33386.581766071366)\n",
      "Node  S1 has marginals  ({'tickle': 0.47887323943661975, 'noci': 0.5211267605633803}, 33386.58176607136)\n",
      "Node  S2 has marginals  ({'tickle': 0.47887323943661975, 'noci': 0.5211267605633803}, 33386.58176607135)\n",
      "Node  S3 has marginals  ({'tickle': 0.47887323943661975, 'noci': 0.5211267605633803}, 33386.58176607135)\n",
      "Node  S4 has marginals  ({'tickle': 0.47887323943661975, 'noci': 0.5211267605633803}, 33386.58176607135)\n",
      "Node  S5 has marginals  ({'tickle': 0.47887323943661975, 'noci': 0.5211267605633803}, 33386.58176607135)\n",
      "Node  S6 has marginals  ({'tickle': 0.47887323943661975, 'noci': 0.5211267605633803}, 33386.58176607135)\n",
      "Node  S7 has marginals  ({'tickle': 0.47887323943661975, 'noci': 0.5211267605633803}, 33386.58176607136)\n",
      "Node  S8 has marginals  ({'tickle': 0.47887323943661975, 'noci': 0.5211267605633803}, 33386.58176607136)\n",
      "Node  S9 has marginals  ({'tickle': 0.47887323943661975, 'noci': 0.5211267605633803}, 33386.58176607136)\n",
      "Node  S10 has marginals  ({'tickle': 0.47887323943661975, 'noci': 0.5211267605633801}, 33386.581766071366)\n",
      "Node  S11 has marginals  ({'tickle': 0.4788732394366198, 'noci': 0.5211267605633803}, 33386.581766071366)\n",
      "Node  S12 has marginals  ({'tickle': 0.4788732394366198, 'noci': 0.5211267605633803}, 33386.58176607137)\n",
      "Node  S13 has marginals  ({'tickle': 0.4788732394366198, 'noci': 0.5211267605633803}, 33386.58176607137)\n",
      "Node  S14 has marginals  ({'tickle': 0.4788732394366198, 'noci': 0.5211267605633803}, 33386.58176607137)\n",
      "Node  S15 has marginals  ({'tickle': 0.4788732394366198, 'noci': 0.5211267605633803}, 33386.58176607137)\n",
      "Node  S16 has marginals  ({'tickle': 0.4788732394366198, 'noci': 0.5211267605633803}, 33386.581766071366)\n",
      "Node  S17 has marginals  ({'tickle': 0.4788732394366198, 'noci': 0.5211267605633803}, 33386.581766071366)\n",
      "Node  S18 has marginals  ({'tickle': 0.4788732394366198, 'noci': 0.5211267605633803}, 33386.581766071366)\n",
      "Node  S19 has marginals  ({'tickle': 0.4788732394366198, 'noci': 0.5211267605633803}, 33386.581766071366)\n",
      "Node  S20 has marginals  ({'tickle': 0.4788732394366198, 'noci': 0.5211267605633803}, 33386.581766071366)\n",
      "Node  S21 has marginals  ({'tickle': 0.47887323943661975, 'noci': 0.5211267605633801}, 33386.581766071366)\n",
      "Node  S22 has marginals  ({'tickle': 0.4788732394366198, 'noci': 0.5211267605633803}, 33386.581766071366)\n",
      "Node  S23 has marginals  ({'tickle': 0.4788732394366198, 'noci': 0.5211267605633803}, 33386.581766071366)\n",
      "Node  S24 has marginals  ({'tickle': 0.4788732394366198, 'noci': 0.5211267605633803}, 33386.58176607137)\n",
      "Node  S25 has marginals  ({'tickle': 0.4788732394366198, 'noci': 0.5211267605633803}, 33386.58176607137)\n",
      "Node  S26 has marginals  ({'tickle': 0.4788732394366198, 'noci': 0.5211267605633803}, 33386.58176607137)\n",
      "Node  S27 has marginals  ({'tickle': 0.4788732394366198, 'noci': 0.5211267605633803}, 33386.581766071366)\n",
      "Node  S28 has marginals  ({'tickle': 0.4788732394366198, 'noci': 0.5211267605633803}, 33386.581766071366)\n",
      "Node  S29 has marginals  ({'tickle': 0.4788732394366198, 'noci': 0.5211267605633803}, 33386.581766071366)\n"
     ]
    }
   ],
   "source": [
    "sp.runSumProduct(allNodes)\n",
    "for v in variables: \n",
    "    print(\"Node \", v.name, \"has marginals \", v.marginal())"
   ]
  },
  {
   "cell_type": "code",
   "execution_count": 24,
   "metadata": {
    "collapsed": false
   },
   "outputs": [
    {
     "name": "stdout",
     "output_type": "stream",
     "text": [
      "Node  P0 has marginals  ({'pain': 0.9296875, 'nopain': 0.0703125}, 17398.641202037186)\n",
      "Node  P1 has marginals  ({'pain': 0.9577464788732395, 'nopain': 0.04225352112676057}, 17398.641202037183)\n",
      "Node  P2 has marginals  ({'pain': 0.972972972972973, 'nopain': 0.027027027027027025}, 17398.641202037183)\n",
      "Node  P3 has marginals  ({'pain': 0.9577464788732395, 'nopain': 0.04225352112676057}, 17398.641202037183)\n",
      "Node  P4 has marginals  ({'pain': 0.9577464788732395, 'nopain': 0.04225352112676057}, 17398.641202037183)\n",
      "Node  P5 has marginals  ({'pain': 0.9577464788732395, 'nopain': 0.04225352112676057}, 17398.641202037183)\n",
      "Node  P6 has marginals  ({'pain': 0.9577464788732395, 'nopain': 0.04225352112676057}, 17398.641202037183)\n",
      "Node  P7 has marginals  ({'pain': 0.9577464788732395, 'nopain': 0.04225352112676057}, 17398.641202037183)\n",
      "Node  P8 has marginals  ({'pain': 0.9577464788732395, 'nopain': 0.04225352112676057}, 17398.641202037183)\n",
      "Node  P9 has marginals  ({'pain': 0.9577464788732395, 'nopain': 0.04225352112676057}, 17398.641202037183)\n",
      "Node  P10 has marginals  ({'pain': 0.9577464788732395, 'nopain': 0.04225352112676057}, 17398.641202037183)\n",
      "Node  P11 has marginals  ({'pain': 0.9577464788732395, 'nopain': 0.04225352112676057}, 17398.641202037183)\n",
      "Node  P12 has marginals  ({'pain': 0.9577464788732395, 'nopain': 0.04225352112676057}, 17398.641202037186)\n",
      "Node  P13 has marginals  ({'pain': 0.9577464788732395, 'nopain': 0.04225352112676057}, 17398.641202037186)\n",
      "Node  P14 has marginals  ({'pain': 0.9577464788732395, 'nopain': 0.04225352112676057}, 17398.641202037183)\n",
      "Node  P15 has marginals  ({'pain': 0.9577464788732395, 'nopain': 0.04225352112676057}, 17398.641202037183)\n",
      "Node  P16 has marginals  ({'pain': 0.9577464788732395, 'nopain': 0.04225352112676057}, 17398.641202037183)\n",
      "Node  P17 has marginals  ({'pain': 0.9577464788732395, 'nopain': 0.04225352112676057}, 17398.641202037183)\n",
      "Node  P18 has marginals  ({'pain': 0.9577464788732395, 'nopain': 0.04225352112676056}, 17398.64120203718)\n",
      "Node  P19 has marginals  ({'pain': 0.9577464788732395, 'nopain': 0.04225352112676056}, 17398.64120203718)\n",
      "Node  P20 has marginals  ({'pain': 0.9577464788732395, 'nopain': 0.04225352112676056}, 17398.64120203718)\n",
      "Node  P21 has marginals  ({'pain': 0.9577464788732395, 'nopain': 0.04225352112676056}, 17398.641202037175)\n",
      "Node  P22 has marginals  ({'pain': 0.9577464788732395, 'nopain': 0.04225352112676056}, 17398.64120203718)\n",
      "Node  P23 has marginals  ({'pain': 0.9577464788732395, 'nopain': 0.04225352112676056}, 17398.64120203718)\n",
      "Node  P24 has marginals  ({'pain': 0.9577464788732395, 'nopain': 0.04225352112676057}, 17398.641202037183)\n",
      "Node  P25 has marginals  ({'pain': 0.9577464788732395, 'nopain': 0.04225352112676056}, 17398.64120203718)\n",
      "Node  P26 has marginals  ({'pain': 0.9577464788732395, 'nopain': 0.04225352112676056}, 17398.64120203718)\n",
      "Node  P27 has marginals  ({'pain': 0.9577464788732395, 'nopain': 0.04225352112676057}, 17398.641202037183)\n",
      "Node  P28 has marginals  ({'pain': 0.9577464788732395, 'nopain': 0.04225352112676057}, 17398.641202037183)\n",
      "Node  P29 has marginals  ({'pain': 0.9577464788732395, 'nopain': 0.04225352112676056}, 17398.64120203718)\n",
      "Node  S0 has marginals  ({'tickle': 0.48437500000000006, 'noci': 0.5156249999999999}, 17398.641202037183)\n",
      "Node  S1 has marginals  ({'tickle': 0.47887323943661964, 'noci': 0.5211267605633803}, 17398.641202037186)\n",
      "Node  S2 has marginals  ({'tickle': 0.0, 'noci': 1.0}, 17398.641202037183)\n",
      "Node  S3 has marginals  ({'tickle': 0.47887323943661964, 'noci': 0.5211267605633803}, 17398.641202037186)\n",
      "Node  S4 has marginals  ({'tickle': 0.47887323943661964, 'noci': 0.5211267605633803}, 17398.641202037186)\n",
      "Node  S5 has marginals  ({'tickle': 0.47887323943661964, 'noci': 0.5211267605633803}, 17398.641202037186)\n",
      "Node  S6 has marginals  ({'tickle': 0.47887323943661964, 'noci': 0.5211267605633803}, 17398.641202037186)\n",
      "Node  S7 has marginals  ({'tickle': 0.47887323943661975, 'noci': 0.5211267605633804}, 17398.64120203718)\n",
      "Node  S8 has marginals  ({'tickle': 0.47887323943661975, 'noci': 0.5211267605633804}, 17398.64120203718)\n",
      "Node  S9 has marginals  ({'tickle': 0.47887323943661975, 'noci': 0.5211267605633804}, 17398.64120203718)\n",
      "Node  S10 has marginals  ({'tickle': 0.47887323943661975, 'noci': 0.5211267605633804}, 17398.64120203718)\n",
      "Node  S11 has marginals  ({'tickle': 0.47887323943661964, 'noci': 0.5211267605633803}, 17398.641202037186)\n",
      "Node  S12 has marginals  ({'tickle': 0.47887323943661975, 'noci': 0.5211267605633804}, 17398.641202037186)\n",
      "Node  S13 has marginals  ({'tickle': 0.47887323943661975, 'noci': 0.5211267605633804}, 17398.641202037186)\n",
      "Node  S14 has marginals  ({'tickle': 0.47887323943661964, 'noci': 0.5211267605633803}, 17398.641202037186)\n",
      "Node  S15 has marginals  ({'tickle': 0.47887323943661975, 'noci': 0.5211267605633804}, 17398.64120203718)\n",
      "Node  S16 has marginals  ({'tickle': 0.47887323943661975, 'noci': 0.5211267605633804}, 17398.64120203718)\n",
      "Node  S17 has marginals  ({'tickle': 0.47887323943661975, 'noci': 0.5211267605633804}, 17398.64120203718)\n",
      "Node  S18 has marginals  ({'tickle': 0.47887323943661975, 'noci': 0.5211267605633803}, 17398.64120203718)\n",
      "Node  S19 has marginals  ({'tickle': 0.47887323943661975, 'noci': 0.5211267605633803}, 17398.64120203718)\n",
      "Node  S20 has marginals  ({'tickle': 0.47887323943661975, 'noci': 0.5211267605633803}, 17398.64120203718)\n",
      "Node  S21 has marginals  ({'tickle': 0.47887323943661975, 'noci': 0.5211267605633803}, 17398.641202037175)\n",
      "Node  S22 has marginals  ({'tickle': 0.47887323943661975, 'noci': 0.5211267605633803}, 17398.64120203718)\n",
      "Node  S23 has marginals  ({'tickle': 0.47887323943661975, 'noci': 0.5211267605633803}, 17398.64120203718)\n",
      "Node  S24 has marginals  ({'tickle': 0.47887323943661975, 'noci': 0.5211267605633804}, 17398.64120203718)\n",
      "Node  S25 has marginals  ({'tickle': 0.47887323943661975, 'noci': 0.5211267605633803}, 17398.64120203718)\n",
      "Node  S26 has marginals  ({'tickle': 0.47887323943661975, 'noci': 0.5211267605633803}, 17398.64120203718)\n",
      "Node  S27 has marginals  ({'tickle': 0.47887323943661975, 'noci': 0.5211267605633804}, 17398.64120203718)\n",
      "Node  S28 has marginals  ({'tickle': 0.47887323943661975, 'noci': 0.5211267605633804}, 17398.64120203718)\n",
      "Node  S29 has marginals  ({'tickle': 0.47887323943661975, 'noci': 0.5211267605633803}, 17398.64120203718)\n"
     ]
    }
   ],
   "source": [
    "sensory[2].observe('noci')\n",
    "sp.runSumProduct(allNodes)\n",
    "for v in variables: \n",
    "    print(\"Node \", v.name, \"has marginals \", v.marginal())"
   ]
  },
  {
   "cell_type": "markdown",
   "metadata": {},
   "source": [
    "### 0. Auf dem richtigen Weg? \n",
    "# 1. Surprise\n",
    "Ich werde aus den Werten nicht schlau. Warum sind sie unbeeinträchtigt von den observations? Oder habe ich irgendwo einen Fehler drin? Warum ist sie hier immer >1 in den kranken settings?\n",
    "+ Wie kann ich sie nochmal umprogrammieren damit sie so formuliert ist wie bei Friston? log irgendwas?\n",
    "\n",
    "# 2. Next steps: \n",
    "Soll ich als nächstes... \n",
    "\n",
    "a) mit mehr timesteps rechnen? Done. \n",
    "\n",
    "b) Noch mehr mit der observe Funktion plotten?\n",
    "\n",
    "c) einen direkteren Vergleichsplot gesund - krank? \n"
   ]
  },
  {
   "cell_type": "markdown",
   "metadata": {},
   "source": [
    "First order markov"
   ]
  },
  {
   "cell_type": "code",
   "execution_count": null,
   "metadata": {
    "collapsed": true
   },
   "outputs": [],
   "source": []
  }
 ],
 "metadata": {
  "kernelspec": {
   "display_name": "Python 3",
   "language": "python",
   "name": "python3"
  },
  "language_info": {
   "codemirror_mode": {
    "name": "ipython",
    "version": 3
   },
   "file_extension": ".py",
   "mimetype": "text/x-python",
   "name": "python",
   "nbconvert_exporter": "python",
   "pygments_lexer": "ipython3",
   "version": "3.6.0"
  }
 },
 "nbformat": 4,
 "nbformat_minor": 2
}
