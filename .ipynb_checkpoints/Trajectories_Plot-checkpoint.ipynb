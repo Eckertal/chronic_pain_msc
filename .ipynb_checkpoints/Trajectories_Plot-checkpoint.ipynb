{
 "cells": [
  {
   "cell_type": "markdown",
   "metadata": {},
   "source": [
    "# Healthy Brain"
   ]
  },
  {
   "cell_type": "code",
   "execution_count": 1,
   "metadata": {
    "collapsed": false
   },
   "outputs": [],
   "source": [
    "import sumProduct as sp\n",
    "import numpy as np\n",
    "import graphviz as gp\n",
    "import subprocess\n",
    "import matplotlib.pyplot as plt\n",
    "import matplotlib.ticker as ticker"
   ]
  },
  {
   "cell_type": "code",
   "execution_count": 2,
   "metadata": {
    "collapsed": false
   },
   "outputs": [],
   "source": [
    "factors=[] \n",
    "variables=[]\n",
    "hidden=[]\n",
    "sensory=[]\n",
    "allNodes=[]"
   ]
  },
  {
   "cell_type": "code",
   "execution_count": 3,
   "metadata": {
    "collapsed": false
   },
   "outputs": [
    {
     "data": {
      "text/plain": [
       "50"
      ]
     },
     "execution_count": 3,
     "metadata": {},
     "output_type": "execute_result"
    }
   ],
   "source": [
    "vlist=['P'+str(i) for i in range(50)]\n",
    "hidden=[sp.variableNode(name, vrange=['pain','nopain']) for name in vlist]\n",
    "len(hidden)"
   ]
  },
  {
   "cell_type": "code",
   "execution_count": 4,
   "metadata": {
    "collapsed": false
   },
   "outputs": [
    {
     "name": "stdout",
     "output_type": "stream",
     "text": [
      "100\n"
     ]
    }
   ],
   "source": [
    "Slist=['S'+str(i) for i in range(50)]\n",
    "sensory=[sp.variableNode(name, vrange=['tickle','noci']) for name in Slist]\n",
    "variables=hidden+sensory\n",
    "print(len(variables))"
   ]
  },
  {
   "cell_type": "code",
   "execution_count": 5,
   "metadata": {
    "collapsed": false
   },
   "outputs": [
    {
     "name": "stdout",
     "output_type": "stream",
     "text": [
      "1\n"
     ]
    }
   ],
   "source": [
    "pT0=sp.factorNode()\n",
    "pT0.addNeighbour(hidden[0])\n",
    "\n",
    "def PT0(x):\n",
    "    T1,=x\n",
    "    if T1=='pain':\n",
    "        return 0.7\n",
    "    if T1=='nopain':\n",
    "        return 0.3\n",
    "    raise ValueError('Invalid argument'+str(x))\n",
    "    \n",
    "pT0.setValues(PT0)\n",
    "factors+=[pT0]\n",
    "print(len(factors))"
   ]
  },
  {
   "cell_type": "code",
   "execution_count": 6,
   "metadata": {
    "collapsed": true
   },
   "outputs": [],
   "source": [
    "def pTgivenT(x):\n",
    "    T1,T2=x\n",
    "    if T1=='pain' and T2=='pain':\n",
    "        return 0.43324968665739805\n",
    "    if T1=='pain' and T2=='nopain':\n",
    "        return 0.2428929914325436\n",
    "    if T1=='nopain' and T2=='pain':\n",
    "        return 0.566750313342602\n",
    "    if T1=='nopain' and T2=='nopain':\n",
    "        return 0.7571070085674564  \n",
    "    raise ValueError('Invalid argument'+str(x))\n",
    "\n",
    "def pSgivenT(x):\n",
    "    S1,T1=x\n",
    "    if S1=='tickle' and T1=='nopain':\n",
    "        return 0.9\n",
    "    if S1=='noci' and T1=='nopain':\n",
    "        return 0.1\n",
    "    if S1=='tickle' and T1=='pain':\n",
    "        return 0.1\n",
    "    if S1=='noci' and T1=='pain':\n",
    "        return 0.9\n",
    "    raise ValueError('Invalid argument'+str(x))"
   ]
  },
  {
   "cell_type": "code",
   "execution_count": 7,
   "metadata": {
    "collapsed": false
   },
   "outputs": [
    {
     "name": "stdout",
     "output_type": "stream",
     "text": [
      "100\n"
     ]
    }
   ],
   "source": [
    "parent=hidden[0]\n",
    "\n",
    "for child in hidden[1:]:\n",
    "        p=sp.factorNode()\n",
    "        p.addNeighbour(child)\n",
    "        p.addNeighbour(parent)\n",
    "        p.setValues(pTgivenT)\n",
    "        factors+=[p]\n",
    "        parent=child\n",
    "\n",
    "child = sensory[0]\n",
    "\n",
    "for h,s in zip(hidden,sensory):\n",
    "    f=sp.factorNode()\n",
    "    f.addNeighbour(s)\n",
    "    f.addNeighbour(h)\n",
    "    factors+=[f]\n",
    "    f.setValues(pSgivenT)\n",
    "\n",
    "print(len(factors))\n",
    "\n",
    "allNodes=variables+factors"
   ]
  },
  {
   "cell_type": "code",
   "execution_count": 8,
   "metadata": {
    "collapsed": false
   },
   "outputs": [],
   "source": [
    "sp.runSumProduct(allNodes)"
   ]
  },
  {
   "cell_type": "code",
   "execution_count": 9,
   "metadata": {
    "collapsed": false
   },
   "outputs": [],
   "source": [
    "Marginals=[]\n",
    "for h in hidden: \n",
    "    Marginals.append(h.marginal()[0])"
   ]
  },
  {
   "cell_type": "code",
   "execution_count": 10,
   "metadata": {
    "collapsed": false
   },
   "outputs": [
    {
     "name": "stdout",
     "output_type": "stream",
     "text": [
      "[0.7, 0.3761426780899417, 0.31449426856677115, 0.302759081064072, 0.3005252095532141, 0.30009997715485026, 0.3000190313207952, 0.3000036227393323, 0.30000068961268694, 0.30000013127239206, 0.30000002498857864, 0.30000000475674315, 0.3000000009054778, 0.30000000017236367, 0.3000000000328105, 0.30000000000624566, 0.3000000000011888, 0.30000000000022625, 0.300000000000043, 0.3000000000000081, 0.30000000000000143, 0.3000000000000002, 0.3, 0.3, 0.3, 0.3, 0.3, 0.3, 0.3, 0.3, 0.3, 0.3, 0.3, 0.3, 0.3, 0.3, 0.3, 0.3, 0.3, 0.3, 0.3, 0.3, 0.3, 0.3, 0.3, 0.3, 0.3, 0.3, 0.3, 0.3]\n",
      "[0.3, 0.6238573219100583, 0.6855057314332288, 0.697240918935928, 0.6994747904467858, 0.6999000228451497, 0.6999809686792048, 0.6999963772606678, 0.6999993103873131, 0.699999868727608, 0.6999999750114213, 0.6999999952432567, 0.6999999990945222, 0.6999999998276363, 0.6999999999671894, 0.6999999999937543, 0.6999999999988111, 0.6999999999997737, 0.699999999999957, 0.6999999999999919, 0.6999999999999985, 0.6999999999999998, 0.7000000000000001, 0.7000000000000001, 0.7000000000000001, 0.7000000000000001, 0.7000000000000001, 0.7000000000000001, 0.7000000000000001, 0.7000000000000001, 0.7000000000000001, 0.7000000000000001, 0.7000000000000001, 0.7000000000000001, 0.7000000000000001, 0.7000000000000001, 0.7000000000000001, 0.7000000000000001, 0.7000000000000001, 0.7000000000000001, 0.7000000000000001, 0.7000000000000001, 0.7000000000000001, 0.7000000000000001, 0.7000000000000001, 0.7000000000000001, 0.7000000000000001, 0.7000000000000001, 0.7000000000000001, 0.7000000000000001]\n"
     ]
    }
   ],
   "source": [
    "pain_prob = [d['pain'] for d in Marginals]\n",
    "print(pain_prob)\n",
    "nopain_prob = [d['nopain'] for d in Marginals]\n",
    "print(nopain_prob)"
   ]
  },
  {
   "cell_type": "code",
   "execution_count": 11,
   "metadata": {
    "collapsed": false
   },
   "outputs": [],
   "source": [
    "hiddenNames=[]\n",
    "for h in hidden: \n",
    "    hiddenNames.append(h.name)"
   ]
  },
  {
   "cell_type": "code",
   "execution_count": 12,
   "metadata": {
    "collapsed": false
   },
   "outputs": [
    {
     "data": {
      "text/plain": [
       "<matplotlib.figure.Figure at 0x1532cf804a8>"
      ]
     },
     "metadata": {},
     "output_type": "display_data"
    },
    {
     "data": {
      "image/png": "[encoded data removed]",
      "text/plain": [
       "<matplotlib.figure.Figure at 0x1532cf76b00>"
      ]
     },
     "metadata": {},
     "output_type": "display_data"
    }
   ],
   "source": [
    "fig = plt.figure()\n",
    "plt.figure(figsize=(12.0,8.0))\n",
    "plt.style.use('seaborn-whitegrid')\n",
    "ax = plt.axes()\n",
    "\n",
    "plt.title('Trajectories until asymptote', fontsize=20)\n",
    "ax.plot(pain_prob, label='Prior=0.7')\n",
    "\n",
    "ax.xaxis.set_major_locator(ticker.MultipleLocator(5))\n",
    "ax.xaxis.set_minor_locator(ticker.MultipleLocator(1))\n",
    "plt.xlabel('Timesteps', fontsize=15)\n",
    "plt.ylabel('Probability of Pain (Pp)', fontsize=18)\n",
    "plt.xticks(pain_prob, hiddenNames, fontsize=15)\n",
    "\n",
    "\n",
    "plt.legend(fontsize=15)\n",
    "\n",
    "plt.savefig(\"Trajectories.png\")\n",
    "plt.show()"
   ]
  },
  {
   "cell_type": "code",
   "execution_count": null,
   "metadata": {
    "collapsed": true
   },
   "outputs": [],
   "source": []
  }
 ],
 "metadata": {
  "kernelspec": {
   "display_name": "Python 3",
   "language": "python",
   "name": "python3"
  },
  "language_info": {
   "codemirror_mode": {
    "name": "ipython",
    "version": 3
   },
   "file_extension": ".py",
   "mimetype": "text/x-python",
   "name": "python",
   "nbconvert_exporter": "python",
   "pygments_lexer": "ipython3",
   "version": "3.6.0"
  }
 },
 "nbformat": 4,
 "nbformat_minor": 2
}
