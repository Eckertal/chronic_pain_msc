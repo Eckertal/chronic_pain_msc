{
 "cells": [
  {
   "cell_type": "markdown",
   "metadata": {},
   "source": [
    "# Baustelle: Vereinfachte Modellkonstruktion\n",
    "\n",
    "Ich möchte das Modell mit for loops aufbauen, anstatt jeden node manuell zu programmieren. \n",
    "\n",
    "Dazu möchte ich eine Liste mit Variable Node namen erstellen und die dann den Nodes zuordnen. \n",
    "\n",
    "Die Liste mit Namen könnte aus dem mergen zwischen 'V' und der Zahl von 0-10 bestehen. \n",
    "\n",
    "Manches funktioniert auch schon - aber warum steht da nicht der Name wenn ich v.name aufrufe?"
   ]
  },
  {
   "cell_type": "code",
   "execution_count": 1,
   "metadata": {
    "collapsed": true
   },
   "outputs": [],
   "source": [
    "import sumProduct as sp\n",
    "from itertools import product"
   ]
  },
  {
   "cell_type": "markdown",
   "metadata": {},
   "source": [
    "- I want to create a list of variable nodes that I want to be named as P1, P2, P3..."
   ]
  },
  {
   "cell_type": "code",
   "execution_count": 2,
   "metadata": {
    "collapsed": false
   },
   "outputs": [
    {
     "data": {
      "text/plain": [
       "'P1'"
      ]
     },
     "execution_count": 2,
     "metadata": {},
     "output_type": "execute_result"
    }
   ],
   "source": [
    "'P'+'1'"
   ]
  },
  {
   "cell_type": "code",
   "execution_count": 3,
   "metadata": {
    "collapsed": false
   },
   "outputs": [],
   "source": [
    "Vlist=['P1','P2','P3','P4','P5','P6','P7','P8','P9','P10','P11']"
   ]
  },
  {
   "cell_type": "code",
   "execution_count": 4,
   "metadata": {
    "collapsed": false
   },
   "outputs": [],
   "source": [
    "variables=[sp.variableNode(name,vrange=['pain','nopain']) for name in Vlist]"
   ]
  },
  {
   "cell_type": "code",
   "execution_count": 5,
   "metadata": {
    "collapsed": false
   },
   "outputs": [
    {
     "data": {
      "text/plain": [
       "[<sumProduct.variableNode at 0x1651fd6efd0>,\n",
       " <sumProduct.variableNode at 0x1651fd83048>,\n",
       " <sumProduct.variableNode at 0x1651fd830b8>,\n",
       " <sumProduct.variableNode at 0x1651fd830f0>,\n",
       " <sumProduct.variableNode at 0x1651fd83128>,\n",
       " <sumProduct.variableNode at 0x1651fd83160>,\n",
       " <sumProduct.variableNode at 0x1651fd83198>,\n",
       " <sumProduct.variableNode at 0x1651fd831d0>,\n",
       " <sumProduct.variableNode at 0x1651fd83208>,\n",
       " <sumProduct.variableNode at 0x1651fd83240>,\n",
       " <sumProduct.variableNode at 0x1651fd83278>]"
      ]
     },
     "execution_count": 5,
     "metadata": {},
     "output_type": "execute_result"
    }
   ],
   "source": [
    "variables"
   ]
  },
  {
   "cell_type": "markdown",
   "metadata": {},
   "source": [
    "# Baustelle Factor graph\n",
    "\n",
    "Ich möchte einen übersichtlicheren und intuitiveren Factor graph erstellen, in dem man zB die beiden Hierarchiebenen eindeutig voneinander unterscheiden kann. Kann auch ruhig etwas farbenfroher sein. "
   ]
  },
  {
   "cell_type": "code",
   "execution_count": 6,
   "metadata": {
    "collapsed": false
   },
   "outputs": [],
   "source": [
    "from graphviz import Digraph\n",
    "from IPython.display import Image"
   ]
  },
  {
   "cell_type": "code",
   "execution_count": 13,
   "metadata": {
    "collapsed": false
   },
   "outputs": [
    {
     "data": {
      "text/plain": [
       "'process.gv.pdf'"
      ]
     },
     "execution_count": 13,
     "metadata": {},
     "output_type": "execute_result"
    }
   ],
   "source": [
    "from graphviz import Graph\n",
    "g = Graph('G', filename='process.gv', engine='sfdp')\n",
    "\n",
    "g.edge('run', 'intr')\n",
    "g.edge('intr', 'runbl')\n",
    "g.edge('runbl', 'run')\n",
    "g.edge('run', 'kernel')\n",
    "g.edge('kernel', 'zombie')\n",
    "g.edge('kernel', 'sleep')\n",
    "g.edge('kernel', 'runmem')\n",
    "g.edge('sleep', 'swap')\n",
    "g.edge('swap', 'runswap')\n",
    "g.edge('runswap', 'new')\n",
    "g.edge('runswap', 'runmem')\n",
    "g.edge('new', 'runmem')\n",
    "g.edge('sleep', 'runmem')\n",
    "\n",
    "g.view()"
   ]
  },
  {
   "cell_type": "code",
   "execution_count": 49,
   "metadata": {
    "collapsed": false
   },
   "outputs": [
    {
     "data": {
      "text/plain": [
       "'StupidModel.gv.pdf'"
      ]
     },
     "execution_count": 49,
     "metadata": {},
     "output_type": "execute_result"
    }
   ],
   "source": [
    "# This should make a nice factor graph for the stupid perception model\n",
    "from graphviz import Digraph\n",
    "f=Digraph('finite_state_machine', filename='StupidModel.gv')\n",
    "f.attr(rankdit='LR', size='8.5')\n",
    "# Factor Nodes\n",
    "f.attr('node', shape='box')\n",
    "f.node('p(P1)')\n",
    "f.node('p(P2P1)')\n",
    "f.node('p(S1P1)')\n",
    "f.node('p(S2P2)')\n",
    "\n",
    "# Variable Nodes\n",
    "f.attr('node', shape='circle')\n",
    "f.node('P1')\n",
    "f.node('P2')\n",
    "f.node('P3')\n",
    "f.node('S1')\n",
    "f.node('S2')\n",
    "\n",
    "f.edge('p(S1P1)', 'S1')\n",
    "f.edge('p(S2P2)', 'S2')\n",
    "f.edge('p(P1)', 'P1')\n",
    "f.edge('P1', 'p(P2P1)')\n",
    "f.edge('P1', 'p(S1P1)')\n",
    "f.edge('p(P2P1)', 'P2')\n",
    "f.edge('P2', 'p(S2P2)')\n",
    "\n",
    "\n",
    "\n",
    "f.view()"
   ]
  },
  {
   "cell_type": "code",
   "execution_count": 62,
   "metadata": {
    "collapsed": false
   },
   "outputs": [
    {
     "ename": "TypeError",
     "evalue": "subgraph() got an unexpected keyword argument 'ordering'",
     "output_type": "error",
     "traceback": [
      "\u001b[0;31m---------------------------------------------------------------------------\u001b[0m",
      "\u001b[0;31mTypeError\u001b[0m                                 Traceback (most recent call last)",
      "\u001b[0;32m<ipython-input-62-9c40dc5369b9>\u001b[0m in \u001b[0;36m<module>\u001b[0;34m()\u001b[0m\n\u001b[1;32m      3\u001b[0m \u001b[0mh\u001b[0m\u001b[1;33m=\u001b[0m\u001b[0mDigraph\u001b[0m\u001b[1;33m(\u001b[0m\u001b[1;34m'H'\u001b[0m\u001b[1;33m,\u001b[0m \u001b[0mfilename\u001b[0m\u001b[1;33m=\u001b[0m\u001b[1;34m'Horizontalpriorextra.gv'\u001b[0m\u001b[1;33m)\u001b[0m\u001b[1;33m\u001b[0m\u001b[0m\n\u001b[1;32m      4\u001b[0m \u001b[1;33m\u001b[0m\u001b[0m\n\u001b[0;32m----> 5\u001b[0;31m \u001b[1;32mwith\u001b[0m \u001b[0mh\u001b[0m\u001b[1;33m.\u001b[0m\u001b[0msubgraph\u001b[0m\u001b[1;33m(\u001b[0m\u001b[0mname\u001b[0m\u001b[1;33m=\u001b[0m\u001b[1;34m'cluster_P'\u001b[0m\u001b[1;33m,\u001b[0m \u001b[0mordering\u001b[0m\u001b[1;33m=\u001b[0m\u001b[1;34m'out'\u001b[0m\u001b[1;33m)\u001b[0m \u001b[1;32mas\u001b[0m \u001b[0mc\u001b[0m\u001b[1;33m:\u001b[0m\u001b[1;33m\u001b[0m\u001b[0m\n\u001b[0m\u001b[1;32m      6\u001b[0m \u001b[1;33m\u001b[0m\u001b[0m\n\u001b[1;32m      7\u001b[0m     \u001b[0mc\u001b[0m\u001b[1;33m.\u001b[0m\u001b[0mnode_attr\u001b[0m\u001b[1;33m.\u001b[0m\u001b[0mupdate\u001b[0m\u001b[1;33m(\u001b[0m\u001b[0mcolor\u001b[0m\u001b[1;33m=\u001b[0m\u001b[1;34m'green'\u001b[0m\u001b[1;33m)\u001b[0m\u001b[1;33m\u001b[0m\u001b[0m\n",
      "\u001b[0;31mTypeError\u001b[0m: subgraph() got an unexpected keyword argument 'ordering'"
     ]
    }
   ],
   "source": [
    "# Now try to make this more horizontal. \n",
    "\n",
    "h=Digraph('H', filename='Horizontalpriorextra.gv')\n",
    "    \n",
    "with h.subgraph(name='cluster_P') as c: \n",
    "    \n",
    "    c.node_attr.update(color='green')\n",
    "    c.edges([('p(P1)', 'P1'),('P1', 'p(P2P1)'), ('p(P2P1)', 'P2'), ('p(P3P2)', 'P3'), ('P2', 'p(P3P2)')])\n",
    "\n",
    "with h.subgraph(name='cluster_S') as c:\n",
    "    c.node_attr.update(color='red')\n",
    "    c.edges([('p(S1P1)', 'S1'), ('p(S2P2)', 'S2'), ('p(S3P3)', 'S3')])\n",
    "    \n",
    "h.edge('P1', 'p(S1P1)')\n",
    "h.edge('P2', 'p(S2P2)')\n",
    "h.edge('P3', 'p(S3P3)')\n",
    "\n",
    "h.node('p(S1P1)', shape='box', color='black')\n",
    "h.node('p(S2P2)', shape='box', color='black')\n",
    "h.node('p(P2P1)', shape='box', color='black')\n",
    "h.node('p(P1)', shape='box', color='black')\n",
    "h.node('p(P3P2)', shape='box', color='black')\n",
    "h.node('p(S3P3)', shape='box', color='black')\n",
    "#h.node(['p(S1P1)','p(S2P2)','p(P1)','p(P2P1)'], shape='box')\n",
    "#h.node(['S1','S2','P1','P2'], shape='circle')\n",
    "\n",
    "h.view()"
   ]
  },
  {
   "cell_type": "code",
   "execution_count": 48,
   "metadata": {
    "collapsed": false
   },
   "outputs": [
    {
     "data": {
      "text/plain": [
       "'Angles.gv.pdf'"
      ]
     },
     "execution_count": 48,
     "metadata": {},
     "output_type": "execute_result"
    }
   ],
   "source": [
    "g=Digraph('G', filename='Angles.gv')\n",
    "g.attr(bgcolor='white')\n",
    "with g.subgraph(name='cluster_1') as c:\n",
    "    c.attr(fontcolor='black')\n",
    "    c.attr('node', shape='circle', style='filled', fillcolor='yellow:red', gradientangle='360', label='P9:360', fontcolor='black')\n",
    "    c.node('n9')\n",
    "    for i, a in zip(range(8, 0, -1), range(360 - 45, -1, -45)):\n",
    "        c.attr('node', gradientangle='%d' %a, label='n%d_%d' % (i,a))\n",
    "        c.node('n%d' % i)\n",
    "    c.attr(label='Hierarchical factor graph TRYOUT')\n",
    "with g.subgraph(name='cluster_2') as c:\n",
    "    c.attr(fontcolor='white')\n",
    "    c.attr('node', shape='circle', style='radial', fillcolor='white:green', gradientangle='360', label='P18:360', fontcolor='black')\n",
    "    c.node('n18')\n",
    "    for i, a in zip(range(17, 9, -1), range(360 - 45, -1, -45)):\n",
    "        c.attr('node', label='S9:360')\n",
    "        c.node('n%d' % i)\n",
    "        c.attr(label='Radial Angle Variations (blue to green gradient)')\n",
    "g.edge('n5', 'n14')\n",
    "g.view()"
   ]
  },
  {
   "cell_type": "code",
   "execution_count": null,
   "metadata": {
    "collapsed": true
   },
   "outputs": [],
   "source": []
  }
 ],
 "metadata": {
  "kernelspec": {
   "display_name": "Python 3",
   "language": "python",
   "name": "python3"
  },
  "language_info": {
   "codemirror_mode": {
    "name": "ipython",
    "version": 3
   },
   "file_extension": ".py",
   "mimetype": "text/x-python",
   "name": "python",
   "nbconvert_exporter": "python",
   "pygments_lexer": "ipython3",
   "version": "3.6.0"
  }
 },
 "nbformat": 4,
 "nbformat_minor": 2
}
