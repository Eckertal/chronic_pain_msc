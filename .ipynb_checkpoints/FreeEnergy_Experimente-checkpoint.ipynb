{
 "cells": [
  {
   "cell_type": "markdown",
   "metadata": {},
   "source": [
    "# Free Energy Factor Nodes"
   ]
  },
  {
   "cell_type": "code",
   "execution_count": 1,
   "metadata": {
    "collapsed": true
   },
   "outputs": [],
   "source": [
    "import sumProduct as sp\n",
    "import numpy as np\n",
    "import matplotlib.pyplot as plt\n",
    "import subprocess\n",
    "import graphviz as gp\n",
    "import scipy.special"
   ]
  },
  {
   "cell_type": "markdown",
   "metadata": {},
   "source": [
    "### Hier schauen was passiert wenn man mehrere Zeitschritte implementiert: Effekte auf lambda/ nu?\n",
    "\n",
    "Plan: plotten für jedes Modell...?"
   ]
  },
  {
   "cell_type": "code",
   "execution_count": 2,
   "metadata": {
    "collapsed": false
   },
   "outputs": [
    {
     "data": {
      "text/plain": [
       "2"
      ]
     },
     "execution_count": 2,
     "metadata": {},
     "output_type": "execute_result"
    }
   ],
   "source": [
    "vlist=['P'+str(i) for i in range(2)]\n",
    "hidden=[sp.variableNode(name, vrange=['pain', 'nopain']) for name in vlist]\n",
    "len(hidden)"
   ]
  },
  {
   "cell_type": "code",
   "execution_count": 3,
   "metadata": {
    "collapsed": false
   },
   "outputs": [
    {
     "name": "stdout",
     "output_type": "stream",
     "text": [
      "4\n"
     ]
    }
   ],
   "source": [
    "Slist=['S'+str(i) for i in range(2)]\n",
    "sensory=[sp.variableNode(name, vrange=['tickle','noci']) for name in Slist]\n",
    "variables=sensory+hidden\n",
    "print(len(variables))"
   ]
  },
  {
   "cell_type": "code",
   "execution_count": 4,
   "metadata": {
    "collapsed": false
   },
   "outputs": [
    {
     "data": {
      "text/plain": [
       "1"
      ]
     },
     "execution_count": 4,
     "metadata": {},
     "output_type": "execute_result"
    }
   ],
   "source": [
    "prior=sp.freeEnergyFactorNode()\n",
    "prior.addNeighbour(hidden[0])\n",
    "\n",
    "def exprior(condrv,conditioners):\n",
    "    if condrv[0] is None:\n",
    "        return 10.0\n",
    "    if condrv[0]=='nopain':\n",
    "        return 0.9\n",
    "    if condrv[0]=='pain':\n",
    "        return 0.1\n",
    "    \n",
    "prior.setPrior(exprior)\n",
    "factors=[]\n",
    "factors.append(prior)\n",
    "prior.predictFactor()\n",
    "len(factors)"
   ]
  },
  {
   "cell_type": "markdown",
   "metadata": {},
   "source": [
    "### Hier anschauen was passiert wenn man den Pseudocount hochstellt\n",
    "### Verschiedene Werte für die probabilities ausprobieren"
   ]
  },
  {
   "cell_type": "code",
   "execution_count": 7,
   "metadata": {
    "collapsed": true
   },
   "outputs": [],
   "source": [
    "#latent zu latent\n",
    "def hiddenprior(condrv,conditioners):\n",
    "    print(condrv,conditioners)\n",
    "    if condrv[0] is None:\n",
    "        return 10.0\n",
    "    if conditioners[0]=='pain':\n",
    "        if condrv[0]=='pain':\n",
    "            return 0.3\n",
    "        if condrv[0]=='nopain':\n",
    "            return 0.7\n",
    "    else:\n",
    "        if condrv[0]=='pain':\n",
    "            return 0.1\n",
    "        if condrv[0]=='nopain':\n",
    "            return 0.9\n",
    "    print(condrv,conditioners)"
   ]
  },
  {
   "cell_type": "code",
   "execution_count": 8,
   "metadata": {
    "collapsed": false
   },
   "outputs": [
    {
     "name": "stdout",
     "output_type": "stream",
     "text": [
      "(None,) ('pain',)\n",
      "('pain',) ('pain',)\n",
      "('nopain',) ('pain',)\n",
      "(None,) ('nopain',)\n",
      "('pain',) ('nopain',)\n",
      "('nopain',) ('nopain',)\n",
      "2\n"
     ]
    }
   ],
   "source": [
    "parent=hidden[0]\n",
    "\n",
    "for child in hidden[1:]:\n",
    "    fe=sp.freeEnergyFactorNode()\n",
    "    fe.addNeighbour(child,isConditioner=False)\n",
    "    fe.addNeighbour(parent,isConditioner=True)\n",
    "    fe.setPrior(hiddenprior)\n",
    "    factors.append(fe)\n",
    "    parent=child\n",
    "    fe.predictFactor()\n",
    "\n",
    "print(len(factors))"
   ]
  },
  {
   "cell_type": "code",
   "execution_count": 7,
   "metadata": {
    "collapsed": false
   },
   "outputs": [],
   "source": [
    "# Observed zu latent \n",
    "def sensprior(condrv,conditioners):\n",
    "    print(condrv,conditioners)\n",
    "    if condrv[0] is None: \n",
    "        return 10.0\n",
    "    if conditioners[0]=='pain':\n",
    "        if condrv[0]=='noci':\n",
    "            return 0.8\n",
    "        if condrv[0]=='tickle':\n",
    "            return 0.2\n",
    "    else:\n",
    "        if condrv[0]=='tickle':\n",
    "            return 0.1\n",
    "        if condrv[0]=='noci':\n",
    "            return 0.9"
   ]
  },
  {
   "cell_type": "code",
   "execution_count": 8,
   "metadata": {
    "collapsed": false
   },
   "outputs": [
    {
     "name": "stdout",
     "output_type": "stream",
     "text": [
      "(None,) ('pain',)\n",
      "('tickle',) ('pain',)\n",
      "('noci',) ('pain',)\n",
      "(None,) ('nopain',)\n",
      "('tickle',) ('nopain',)\n",
      "('noci',) ('nopain',)\n",
      "(None,) ('pain',)\n",
      "('tickle',) ('pain',)\n",
      "('noci',) ('pain',)\n",
      "(None,) ('nopain',)\n",
      "('tickle',) ('nopain',)\n",
      "('noci',) ('nopain',)\n"
     ]
    }
   ],
   "source": [
    "for h,s in zip(hidden,sensory):\n",
    "    f=sp.freeEnergyFactorNode()\n",
    "    f.addNeighbour(s)\n",
    "    f.addNeighbour(h,isConditioner=True)\n",
    "    f.setPrior(sensprior)\n",
    "    factors+=[f]\n",
    "    f.predictFactor()"
   ]
  },
  {
   "cell_type": "code",
   "execution_count": 9,
   "metadata": {
    "collapsed": false
   },
   "outputs": [
    {
     "data": {
      "text/plain": [
       "{('nopain', 'nopain'): 0.93807216600829657,\n",
       " ('nopain', 'pain'): 0.72111517802286296,\n",
       " ('pain', 'nopain'): 0.061927833991703381,\n",
       " ('pain', 'pain'): 0.27888482197713699}"
      ]
     },
     "execution_count": 9,
     "metadata": {},
     "output_type": "execute_result"
    }
   ],
   "source": [
    "factors[1].factor"
   ]
  },
  {
   "cell_type": "code",
   "execution_count": 10,
   "metadata": {
    "collapsed": false
   },
   "outputs": [],
   "source": [
    "allNodes=variables+factors"
   ]
  },
  {
   "cell_type": "code",
   "execution_count": 11,
   "metadata": {
    "collapsed": false
   },
   "outputs": [
    {
     "data": {
      "text/plain": [
       "0"
      ]
     },
     "execution_count": 11,
     "metadata": {},
     "output_type": "execute_result"
    }
   ],
   "source": [
    "outf=open(\"FEFN.dot\",\"w\")\n",
    "outf.write(hidden[0].dotPrint())\n",
    "outf.close()\n",
    "subprocess.call(\"neato -T png -o FEFN.png FEFN.dot\", shell=True)"
   ]
  },
  {
   "cell_type": "code",
   "execution_count": 12,
   "metadata": {
    "collapsed": false
   },
   "outputs": [
    {
     "data": {
      "text/plain": [
       "[<sumProduct.variableNode at 0x27d1e268dd8>,\n",
       " <sumProduct.variableNode at 0x27d1e268eb8>,\n",
       " <sumProduct.variableNode at 0x27d1e268a90>,\n",
       " <sumProduct.variableNode at 0x27d1e268b70>,\n",
       " <sumProduct.freeEnergyFactorNode at 0x27d1e27d860>,\n",
       " <sumProduct.freeEnergyFactorNode at 0x27d1e2849b0>,\n",
       " <sumProduct.freeEnergyFactorNode at 0x27d1e284198>,\n",
       " <sumProduct.freeEnergyFactorNode at 0x27d1e284128>]"
      ]
     },
     "execution_count": 12,
     "metadata": {},
     "output_type": "execute_result"
    }
   ],
   "source": [
    "allNodes"
   ]
  },
  {
   "cell_type": "code",
   "execution_count": 13,
   "metadata": {
    "collapsed": false
   },
   "outputs": [],
   "source": [
    "sp.runSumProduct(allNodes)"
   ]
  },
  {
   "cell_type": "code",
   "execution_count": 14,
   "metadata": {
    "collapsed": false
   },
   "outputs": [
    {
     "name": "stdout",
     "output_type": "stream",
     "text": [
      "started learning for freeEnergyFactor:P0|\n",
      "started learning for freeEnergyFactor:P1|P0\n",
      "started learning for freeEnergyFactor:S0|P0\n",
      "started learning for freeEnergyFactor:S1|P1\n",
      "accumulated evidence for freeEnergyFactor:P0|\n",
      "accumulated evidence for freeEnergyFactor:P1|P0\n",
      "accumulated evidence for freeEnergyFactor:S0|P0\n",
      "accumulated evidence for freeEnergyFactor:S1|P1\n",
      "accumulated evidence for freeEnergyFactor:P0|\n",
      "accumulated evidence for freeEnergyFactor:P1|P0\n",
      "accumulated evidence for freeEnergyFactor:S0|P0\n",
      "accumulated evidence for freeEnergyFactor:S1|P1\n",
      "S0 ({'tickle': 0.0, 'noci': 1.0}, 0.93144251502058439)\n",
      "S1 ({'tickle': 0.069840756415455021, 'noci': 0.93015924358454494}, 0.93144251502058428)\n",
      "P0 ({'pain': 0.055250995688069883, 'nopain': 0.9447490043119301}, 0.93144251502058439)\n",
      "P1 ({'pain': 0.073914923599383217, 'nopain': 0.92608507640061677}, 0.93144251502058428)\n"
     ]
    }
   ],
   "source": [
    "sp.startLearning(allNodes)\n",
    "for trial in range(2):\n",
    "    sensory[0].observe('noci')\n",
    "    sp.runSumProduct(allNodes)\n",
    "    sp.accumulateEvidence(allNodes)\n",
    "for node in variables: \n",
    "    print(node.name,node.marginal())"
   ]
  },
  {
   "cell_type": "code",
   "execution_count": 15,
   "metadata": {
    "collapsed": false
   },
   "outputs": [
    {
     "name": "stdout",
     "output_type": "stream",
     "text": [
      "learned for freeEnergyFactor:P0|\n",
      "learned for freeEnergyFactor:P1|P0\n",
      "learned for freeEnergyFactor:S0|P0\n",
      "learned for freeEnergyFactor:S1|P1\n"
     ]
    }
   ],
   "source": [
    "sp.learn(allNodes)"
   ]
  },
  {
   "cell_type": "code",
   "execution_count": 16,
   "metadata": {
    "collapsed": false
   },
   "outputs": [
    {
     "name": "stdout",
     "output_type": "stream",
     "text": [
      "S0 has marginals ({'tickle': 0.0, 'noci': 1.0}, 0.93144251502058439)\n",
      "S1 has marginals ({'tickle': 0.069840756415455021, 'noci': 0.93015924358454494}, 0.93144251502058428)\n",
      "P0 has marginals ({'pain': 0.055250995688069883, 'nopain': 0.9447490043119301}, 0.93144251502058439)\n",
      "P1 has marginals ({'pain': 0.073914923599383217, 'nopain': 0.92608507640061677}, 0.93144251502058428)\n"
     ]
    }
   ],
   "source": [
    "for node in variables: \n",
    "    print(node.name,\"has marginals\",node.marginal())"
   ]
  },
  {
   "cell_type": "code",
   "execution_count": 17,
   "metadata": {
    "collapsed": false
   },
   "outputs": [
    {
     "name": "stdout",
     "output_type": "stream",
     "text": [
      "accumulated evidence for freeEnergyFactor:P0|\n",
      "accumulated evidence for freeEnergyFactor:P1|P0\n",
      "accumulated evidence for freeEnergyFactor:S0|P0\n",
      "accumulated evidence for freeEnergyFactor:S1|P1\n",
      "accumulated evidence for freeEnergyFactor:P0|\n",
      "accumulated evidence for freeEnergyFactor:P1|P0\n",
      "accumulated evidence for freeEnergyFactor:S0|P0\n",
      "accumulated evidence for freeEnergyFactor:S1|P1\n",
      "accumulated evidence for freeEnergyFactor:P0|\n",
      "accumulated evidence for freeEnergyFactor:P1|P0\n",
      "accumulated evidence for freeEnergyFactor:S0|P0\n",
      "accumulated evidence for freeEnergyFactor:S1|P1\n",
      "accumulated evidence for freeEnergyFactor:P0|\n",
      "accumulated evidence for freeEnergyFactor:P1|P0\n",
      "accumulated evidence for freeEnergyFactor:S0|P0\n",
      "accumulated evidence for freeEnergyFactor:S1|P1\n"
     ]
    }
   ],
   "source": [
    "# Perceive (runsumprod) and remember (accumulateevi)\n",
    "for trial in range(4):\n",
    "    sensory[0].observe(\"noci\")\n",
    "    sp.runSumProduct(allNodes)\n",
    "    sp.accumulateEvidence(allNodes)"
   ]
  },
  {
   "cell_type": "code",
   "execution_count": 18,
   "metadata": {
    "collapsed": false
   },
   "outputs": [
    {
     "name": "stdout",
     "output_type": "stream",
     "text": [
      "S0 has marginals ({'tickle': 0.0, 'noci': 1.0}, 0.92961254815247252)\n",
      "S1 has marginals ({'tickle': 0.17961609442508317, 'noci': 0.82038390557491681}, 0.92961254815247263)\n",
      "P0 has marginals ({'pain': 0.14817730658275435, 'nopain': 0.8518226934172457}, 0.92961254815247252)\n",
      "P1 has marginals ({'pain': 0.19675860071161083, 'nopain': 0.80324139928838922}, 0.92961254815247263)\n"
     ]
    }
   ],
   "source": [
    "for node in variables:\n",
    "    print(node.name,\"has marginals\",node.marginal())"
   ]
  },
  {
   "cell_type": "code",
   "execution_count": 19,
   "metadata": {
    "collapsed": false
   },
   "outputs": [
    {
     "name": "stdout",
     "output_type": "stream",
     "text": [
      "[0.14817730658275435, 0.19675860071161083]\n",
      "[0.8518226934172457, 0.80324139928838922]\n"
     ]
    }
   ],
   "source": [
    "Marginals=[]\n",
    "for h in hidden: \n",
    "    Marginals.append(h.marginal()[0])\n",
    "pain_prob = [d['pain'] for d in Marginals]\n",
    "print(pain_prob)\n",
    "nopain_prob = [d['nopain'] for d in Marginals]\n",
    "print(nopain_prob)"
   ]
  },
  {
   "cell_type": "code",
   "execution_count": 20,
   "metadata": {
    "collapsed": false
   },
   "outputs": [
    {
     "data": {
      "text/plain": [
       "{('nopain', 'nopain'): 0.8183776864810689,\n",
       " ('nopain', 'pain'): 0.71622785300284697,\n",
       " ('pain', 'nopain'): 0.18162231351893099,\n",
       " ('pain', 'pain'): 0.28377214699715303}"
      ]
     },
     "execution_count": 20,
     "metadata": {},
     "output_type": "execute_result"
    }
   ],
   "source": [
    "factors[1].factor"
   ]
  },
  {
   "cell_type": "code",
   "execution_count": 21,
   "metadata": {
    "collapsed": false
   },
   "outputs": [
    {
     "name": "stdout",
     "output_type": "stream",
     "text": [
      "S0 has marginals ({'tickle': 0.070387451847527413, 'noci': 0.92961254815247263}, 0.99999999999999989)\n",
      "S1 has marginals ({'tickle': 0.17961388576276055, 'noci': 0.82038611423723951}, 1.0)\n",
      "P0 has marginals ({'pain': 0.16530318740445066, 'nopain': 0.83469681259554929}, 1.0)\n",
      "P1 has marginals ({'pain': 0.19850800658571496, 'nopain': 0.80149199341428501}, 1.0)\n"
     ]
    }
   ],
   "source": [
    "# Make a prediction: keine observations, deshalb am Ende 1.0...\n",
    "sensory[0].observe()\n",
    "sp.runSumProduct(allNodes)\n",
    "for node in variables:\n",
    "    print(node.name,\"has marginals\",node.marginal())"
   ]
  },
  {
   "cell_type": "markdown",
   "metadata": {},
   "source": [
    "# $$\\eta$$ $$\\nu$$ $$\\lambda$$ FINDEN!"
   ]
  },
  {
   "cell_type": "code",
   "execution_count": 22,
   "metadata": {
    "collapsed": false,
    "scrolled": true
   },
   "outputs": [
    {
     "data": {
      "text/plain": [
       "[{(('nopain',), (None,)): 0.80336829188437442,\n",
       "  (('pain',), (None,)): 0.19663170811562561},\n",
       " {(('nopain',), ('nopain',)): 0.79585979232924198,\n",
       "  (('nopain',), ('pain',)): 0.69596599097600287,\n",
       "  (('pain',), ('nopain',)): 0.20414020767075799,\n",
       "  (('pain',), ('pain',)): 0.30403400902399724},\n",
       " {(('noci',), ('nopain',)): 0.91579758783293619,\n",
       "  (('noci',), ('pain',)): 0.80244680825261261,\n",
       "  (('tickle',), ('nopain',)): 0.084202412167063811,\n",
       "  (('tickle',), ('pain',)): 0.19755319174738734},\n",
       " {(('noci',), ('nopain',)): 0.7973893663160242,\n",
       "  (('noci',), ('pain',)): 0.79195972097148026,\n",
       "  (('tickle',), ('nopain',)): 0.2026106336839758,\n",
       "  (('tickle',), ('pain',)): 0.20804027902851974}]"
      ]
     },
     "execution_count": 22,
     "metadata": {},
     "output_type": "execute_result"
    }
   ],
   "source": [
    "# Das ist das lambda? Parameter über die conjugate prior. Erwartungswert der sufficient stats\n",
    "# Was bedeuten diese Zahlen eigentlich?\n",
    "natparams=[]\n",
    "for node in factors:\n",
    "    natparams.append(node.naturalParams)\n",
    "natparams"
   ]
  },
  {
   "cell_type": "markdown",
   "metadata": {},
   "source": [
    "Werte von .factor anschauen dadurch sieht man was man gelesen hat\n",
    "Anfangen mit start learning dann evi dann runsumprod das gibt die marginals dann accumulate evi, dann learn. "
   ]
  },
  {
   "cell_type": "markdown",
   "metadata": {},
   "source": [
    "Wo sind die Lambdas? "
   ]
  },
  {
   "cell_type": "code",
   "execution_count": 23,
   "metadata": {
    "collapsed": false
   },
   "outputs": [
    {
     "name": "stdout",
     "output_type": "stream",
     "text": [
      "{(None,): 10.0, (): 13.538179738841315}\n",
      "{('pain',): 10.205852505524348, ('nopain',): 13.519917554557988}\n",
      "{('pain',): 10.123855667983406, ('nopain',): 11.876144332016594}\n",
      "{('pain',): 10.275390009339855, ('nopain',): 13.450380050742481}\n"
     ]
    }
   ],
   "source": [
    "# Hier müssten die nus drin stecken. Das sind praktisch die observten Datenpunkte die in die Berechnung des Posteriors gehen?\n",
    "for node in factors:\n",
    "    print(node.pseudoCounts)"
   ]
  },
  {
   "cell_type": "markdown",
   "metadata": {},
   "source": [
    "1) Mehr Zeitschritte verwenden und schauen welche EInstellungen von den nühs und lambdas dabei rauskommen\n",
    "Lambda: das ist sowas wie erwartungswert der sufficient statistics --> anschauen wie der sich entwickelt wenn man lernt. Wenn man dem Netzwerk x mal etwas zeigt und dem einen prior gibt den es eher pain erwarten lässt: dann müsssten nach einigen Lernbsp pain noci vorhersagen...\n",
    "\n",
    "2) Erstmal: mit den prior einstellungen hantieren. In dem pseudocount einstellen (condrv is None) den hochstellen und schauen was passiert wenn man das prpagiert. \n",
    "dann lernen: erst alles osberven (sowohl sensory als auch latent) alles observen, dann schauen ob pain und nociception assoziiert werden indem man accumulate und start learning observe, belief propagate, accumulate... dann learn, wenn man dann pseudocounts ausgeben lässt muss man sehen dass man aus 100 bsp gelernt hat"
   ]
  },
  {
   "cell_type": "markdown",
   "metadata": {},
   "source": [
    "### Observen aller Variables (hidden und sensory) und dann schauen, ob Pain und Nociception assoziiert sind?"
   ]
  },
  {
   "cell_type": "code",
   "execution_count": 24,
   "metadata": {
    "collapsed": false
   },
   "outputs": [
    {
     "name": "stdout",
     "output_type": "stream",
     "text": [
      "started learning for freeEnergyFactor:P0|\n",
      "started learning for freeEnergyFactor:P1|P0\n",
      "started learning for freeEnergyFactor:S0|P0\n",
      "started learning for freeEnergyFactor:S1|P1\n",
      "accumulated evidence for freeEnergyFactor:P0|\n",
      "accumulated evidence for freeEnergyFactor:P1|P0\n",
      "accumulated evidence for freeEnergyFactor:S0|P0\n",
      "accumulated evidence for freeEnergyFactor:S1|P1\n",
      "P0 has marginals ({'pain': 1.0, 'nopain': 0.0}, 0.03210754417153943)\n",
      "P1 has marginals ({'pain': 1.0, 'nopain': 0.0}, 0.032107544171539423)\n",
      "S0 has marginals ({'tickle': 0.0, 'noci': 1.0}, 0.03210754417153943)\n",
      "S1 has marginals ({'tickle': 0.0, 'noci': 1.0}, 0.032107544171539423)\n"
     ]
    }
   ],
   "source": [
    "sensory[0].observe()\n",
    "for node in sensory:\n",
    "    node.observe('noci')\n",
    "for node in hidden:\n",
    "    node.observe('pain')\n",
    "\n",
    "for node in factors:\n",
    "    node.predictFactor()\n",
    "sp.startLearning(allNodes)\n",
    "sp.runSumProduct(allNodes)\n",
    "sp.accumulateEvidence(allNodes)\n",
    "\n",
    "\n",
    "for node in hidden:\n",
    "    print(node.name,\"has marginals\",node.marginal())\n",
    "for node in sensory:\n",
    "    print(node.name,\"has marginals\",node.marginal())"
   ]
  },
  {
   "cell_type": "markdown",
   "metadata": {},
   "source": [
    "1) Ich habe den Pseudocount verändert und die Marginals haben sich verändert. Aber wie abbilden? Was ist das Ziel der Analyse? \n",
    "\n",
    "2) Wie komme ich an die lambdas? Das sind die Mittelwerte der sufficient statistics... was genau sagen sie? Auch hier: wie kann ich das sinnvoll plotten?\n",
    "\n",
    "3) Prior Einstellungen verändern --> würde dem sick/ healthy brain entsprechen. Kommen da irgendwo auch noch unsere transition probabilities ins Spiel?\n",
    "\n",
    "4) \"Observen aller Variablen um zu schauen ob pain und noci assoziiert sind\": von der Logik her bräuchte man da doch die conditionals $$p(pain|noci)$$ im Vergleich zu $$p(pain|tickle)$$ oder?"
   ]
  },
  {
   "cell_type": "markdown",
   "metadata": {},
   "source": [
    "Bsp.: Prior: Pseudocount=100, nopain=0.9, pain=0.1: diese Leute gehen nie in den chronic pain Zustand\n",
    "Bsp.: Prior: Pseudocount=100, nopain=0.3, pain=0.7: diese Leute gehen eher in den chronic pain Zustand.\n",
    "Bsp.: Prior: Pseudocount=1, nopain=0.2, pain=0.8: hier müsste CP Zustand eher wahrscheinlich sein. \n",
    "\n",
    "Bsp.: Prior auf die observations... CP: von tickle zu pain eher wahrscheinlich; von noci zu pain certain, von tickle zu nopain eher unwahrscheinlich...\n",
    "Bsp.: Prior auf die hiddens... CP: Pain zu pain sehr wahrscheinlich, pain zu nopain sehr unwahrscheinlich"
   ]
  },
  {
   "cell_type": "markdown",
   "metadata": {},
   "source": [
    "Wie oft und wann muss ich vor runsumproduct predict factor aufrufen? Oder reicht das einmal nachdem die Factors instantiated sind?"
   ]
  },
  {
   "cell_type": "markdown",
   "metadata": {
    "collapsed": true
   },
   "source": [
    "Bar plots machen über die distributions... \n",
    "\n",
    "Kurven: prior plotten: aktuelles lambda und nuh nehmen und in der Formel des conjugate priors. in eta is x achse. dann die Formel in den Plot stecken. \n",
    "\n",
    "3d plot: nach rechts: timesteps, hinten: lernsessions, oben: oribs. Netzwerk immer aus einem Anfangszustand loslaufen lassen\n",
    "\n",
    "Learnen, dann muss man sich die .factors das ist die Wahrscheinlichkeit anschauen... \n",
    "\n",
    "Erwähnen: dass der Erwartungswert... $$<p>$$ ist was wir wollen aber wir berechnen $$<e^{log p}>$$\n",
    "\n",
    "Und das ist wegen der free energy so weil es durch die Jensens inequaity immer eine Annäherung von unten an die wahre Verteilung ist oder so....."
   ]
  },
  {
   "cell_type": "code",
   "execution_count": 25,
   "metadata": {
    "collapsed": true
   },
   "outputs": [],
   "source": [
    "import scipy.special\n",
    "import numpy as np"
   ]
  },
  {
   "cell_type": "code",
   "execution_count": 26,
   "metadata": {
    "collapsed": true
   },
   "outputs": [],
   "source": [
    "x=np.arange(0.1,5.0,0.1)"
   ]
  },
  {
   "cell_type": "code",
   "execution_count": 27,
   "metadata": {
    "collapsed": true
   },
   "outputs": [],
   "source": [
    "y=scipy.special.gamma(x)"
   ]
  },
  {
   "cell_type": "code",
   "execution_count": 28,
   "metadata": {
    "collapsed": false
   },
   "outputs": [
    {
     "data": {
      "image/png": "[encoded data removed]",
      "text/plain": [
       "<matplotlib.figure.Figure at 0x27d1e28f320>"
      ]
     },
     "metadata": {},
     "output_type": "display_data"
    }
   ],
   "source": [
    "plt.plot(x,y)\n",
    "plt.show()"
   ]
  },
  {
   "cell_type": "markdown",
   "metadata": {},
   "source": [
    "Plot: \n",
    "Für verschiedene Werte für lambda und nüh werte einsetzen... Das in die Formel des priors einsetzen und schauen inwiefern sich die dirichlet verteilung verändert...\n",
    "Dann kann man irgendwie so sehen wie die Varianzen enger werden anscheinend. Wow crazy \n",
    "\n",
    "Dann einen 3D Plot versuchen zu machen über Zeit, Tag und Nopainprob... I don't even know. \n",
    "\n",
    "Aber was ich jetzt auf jeden Fall weiß: \n",
    "\n",
    "Lambda ist der natural Parameter; und nüh ist der pseudocount und mit eta kommt man praktisch nie in Kontakt..."
   ]
  },
  {
   "cell_type": "code",
   "execution_count": 29,
   "metadata": {
    "collapsed": true
   },
   "outputs": [],
   "source": [
    "eta=[]\n",
    "natparams=[]\n",
    "pseudocount=[]"
   ]
  },
  {
   "cell_type": "code",
   "execution_count": 30,
   "metadata": {
    "collapsed": true
   },
   "outputs": [],
   "source": [
    "a=[1,2,3,4,5,6,7,8,9]"
   ]
  },
  {
   "cell_type": "code",
   "execution_count": 31,
   "metadata": {
    "collapsed": false
   },
   "outputs": [
    {
     "data": {
      "text/plain": [
       "[9]"
      ]
     },
     "execution_count": 31,
     "metadata": {},
     "output_type": "execute_result"
    }
   ],
   "source": [
    "a[-1:]"
   ]
  },
  {
   "cell_type": "code",
   "execution_count": 32,
   "metadata": {
    "collapsed": false
   },
   "outputs": [
    {
     "name": "stdout",
     "output_type": "stream",
     "text": [
      "[5 4]\n",
      "[5 4]\n"
     ]
    }
   ],
   "source": [
    "#Vektortransposition?\n",
    "a=np.array([5,4])\n",
    "print(a)\n",
    "print(a.T)"
   ]
  },
  {
   "cell_type": "code",
   "execution_count": 33,
   "metadata": {
    "collapsed": false
   },
   "outputs": [],
   "source": [
    "def fNormalisation(natparams,pseudocount):\n",
    "    (scipy.special.gamma(pseudocount))/scipy.special.gamma(pseudocount(1-sum(natparams[:-1]))*np.prod(scipy.special.gamma(pseudocount*natparams)))\n",
    "    return #IDK"
   ]
  },
  {
   "cell_type": "code",
   "execution_count": 34,
   "metadata": {
    "collapsed": true
   },
   "outputs": [],
   "source": [
    "def gNormalisation(eta):\n",
    "    1/1+sum(np.exp(eta))\n",
    "    return #IDK"
   ]
  },
  {
   "cell_type": "code",
   "execution_count": 35,
   "metadata": {
    "collapsed": true
   },
   "outputs": [],
   "source": [
    "def conjugatePrior(eta,natparams,pseudocount):\n",
    "    fNormalisation(natparams,pseudocount)*eta*gNormalisation(eta)**pseudocount*np.exp(pseudocount*eta.T*natparams)\n",
    "    return (eta|natparams,pseudocount)"
   ]
  },
  {
   "cell_type": "code",
   "execution_count": null,
   "metadata": {
    "collapsed": true
   },
   "outputs": [],
   "source": []
  }
 ],
 "metadata": {
  "kernelspec": {
   "display_name": "Python 3",
   "language": "python",
   "name": "python3"
  },
  "language_info": {
   "codemirror_mode": {
    "name": "ipython",
    "version": 3
   },
   "file_extension": ".py",
   "mimetype": "text/x-python",
   "name": "python",
   "nbconvert_exporter": "python",
   "pygments_lexer": "ipython3",
   "version": "3.6.0"
  }
 },
 "nbformat": 4,
 "nbformat_minor": 2
}
