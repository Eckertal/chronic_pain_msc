{
 "cells": [
  {
   "cell_type": "code",
   "execution_count": 2,
   "metadata": {
    "collapsed": true
   },
   "outputs": [],
   "source": [
    "import matplotlib.pyplot as plt\n",
    "import numpy as np\n",
    "import os\n",
    "import pandas as pd"
   ]
  },
  {
   "cell_type": "code",
   "execution_count": 3,
   "metadata": {
    "collapsed": false
   },
   "outputs": [
    {
     "data": {
      "text/plain": [
       "array([ 50.,  20.,  35.,  70.,   7.,   5.,   4.,   3.,  10.,  10.,  10.,\n",
       "        10.,  15.,  50.,   3.,   0.,   3.,   3.,   4.,   3.,  10.,   5.,\n",
       "        10.,  10.,   0.,   0.,   0.,   0.,   0.,   3.,   0.,  20.,  18.,\n",
       "        33.,  31.,  44.,  22.,  35.,   0.,   0.,  69.,  73.,  53.,  38.,\n",
       "        25.,  30.,  30.,  33.,   0.,   0.,   0.,   0.,  20.,  45.,  70.,\n",
       "        50.,   7.,  13.,  13.,  14.,   3.,   3.,  16.,   6.,   0.,  50.,\n",
       "        50.,  20.,   7.,   4.,   1.,  13.,  36.,  20.,  39.,  42.,   1.,\n",
       "        32.,  31.,  72.,  53.,  38.,  30.,  69.,  92.,  48.,  45.,  80.,\n",
       "        88.,  83.,  93.,  46.,   4.,  82.,  74.,  96.,  53.,  73.,  77.,\n",
       "        77.,  25.,  56.,  24.,   8.,   0.,   0.,  43.,  93.,  88.,  91.,\n",
       "        93.,  99.,  31.,  75.,  48.,  92.,   3.,  31.,  17.,   2.,   4.,\n",
       "        13.,  19.,   1.,  18.,  44.,  29.,  92., 100., 100., 100., 100.,\n",
       "        12.,  43.,   0.,  12.,  99.,  54.,  36.,  98.])"
      ]
     },
     "execution_count": 3,
     "metadata": {},
     "output_type": "execute_result"
    }
   ],
   "source": [
    "data=np.genfromtxt('PI-ANNA_DatenN=35CSV.csv', delimiter=\";\",skip_header=2,dtype=str)\n",
    "\n",
    "type(data[1,1])\n",
    "\n",
    "for i in range(data.shape[0]):\n",
    "    for j in range(data.shape[1]):\n",
    "        data[i,j]=str(data[i,j]).replace(\",\",\".\")\n",
    "\n",
    "data=data[:,1:5].astype(\"float\").flatten()\n",
    "data"
   ]
  },
  {
   "cell_type": "code",
   "execution_count": 4,
   "metadata": {
    "collapsed": false
   },
   "outputs": [
    {
     "data": {
      "image/png": "[encoded data removed]",
      "text/plain": [
       "<matplotlib.figure.Figure at 0x1eaad842630>"
      ]
     },
     "metadata": {},
     "output_type": "display_data"
    }
   ],
   "source": [
    "plt.figure(figsize=(18,10))\n",
    "plt.title(\"Frequency of responses from 0 [Pain very unlikely] to 100 [Pain almost sure]\", fontsize=18)\n",
    "plt.hist(data, 30, facecolor='b', alpha=0.75)\n",
    "plt.yticks(fontsize=12)\n",
    "plt.xticks(fontsize=12)\n",
    "plt.xlabel('Probability of Pain in Percent', fontsize=15)\n",
    "plt.ylabel('Frequency of response', fontsize=15)\n",
    "plt.savefig('Datafrequency.png')\n",
    "plt.show()"
   ]
  },
  {
   "cell_type": "markdown",
   "metadata": {},
   "source": [
    "Hier: alles über ca. 55 ist Pain. Diesen Plot in die MA machen und damit rechtfertigen warum wir ab 55 sagen das ist Pain!\n",
    "\n",
    "1) Betaregression code: hier die diskretisieren Werte reinstecken! Pro Versuchsperson, per for loop über die Zeilen der Matrix. Hier die diskretisierte matrix reinstecken\n",
    "\n",
    "2) Schauen ob die beta regression das gut reproduzieren kann: da kommen dann die transitions raus, die man in den factor stecken... wenn nicht: dann ist das markov model nicht adäquat weil es keine transitin probs gibt die das reproduzieren kann!\n",
    "\n",
    "2.5) Das Time model bauen! for time in 4: for x in y usw...\n",
    "\n",
    "3) schauen: wie sieht die surprise aus? \n",
    "\n",
    "4) Prior: uninformativ = lambda 0,5, nu = 1"
   ]
  },
  {
   "cell_type": "code",
   "execution_count": 10,
   "metadata": {
    "collapsed": false
   },
   "outputs": [
    {
     "ename": "AttributeError",
     "evalue": "'tuple' object has no attribute 'astype'",
     "output_type": "error",
     "traceback": [
      "\u001b[0;31m---------------------------------------------------------------------------\u001b[0m",
      "\u001b[0;31mAttributeError\u001b[0m                            Traceback (most recent call last)",
      "\u001b[0;32m<ipython-input-10-8ed3dfe4ee1f>\u001b[0m in \u001b[0;36m<module>\u001b[0;34m()\u001b[0m\n\u001b[0;32m----> 1\u001b[0;31m \u001b[1;33m(\u001b[0m\u001b[0mdata\u001b[0m\u001b[1;33m<\u001b[0m\u001b[1;36m28\u001b[0m\u001b[1;33m)\u001b[0m\u001b[1;33m.\u001b[0m\u001b[0mastype\u001b[0m\u001b[1;33m(\u001b[0m\u001b[1;34m'float'\u001b[0m\u001b[1;33m)\u001b[0m\u001b[1;33m*\u001b[0m\u001b[1;36m.15\u001b[0m\u001b[1;33m+\u001b[0m\u001b[1;33m(\u001b[0m\u001b[0mdata\u001b[0m\u001b[1;33m>\u001b[0m\u001b[1;36m25\u001b[0m\u001b[1;33m,\u001b[0m\u001b[0mnp\u001b[0m\u001b[1;33m.\u001b[0m\u001b[0mlogical_and\u001b[0m\u001b[1;33m,\u001b[0m \u001b[0mdata\u001b[0m\u001b[1;33m<\u001b[0m\u001b[1;36m55\u001b[0m\u001b[1;33m)\u001b[0m\u001b[1;33m.\u001b[0m\u001b[0mastype\u001b[0m\u001b[1;33m(\u001b[0m\u001b[1;34m'float'\u001b[0m\u001b[1;33m)\u001b[0m\u001b[1;33m*\u001b[0m\u001b[1;36m50\u001b[0m\u001b[1;33m+\u001b[0m\u001b[1;33m(\u001b[0m\u001b[0mdata\u001b[0m\u001b[1;33m>\u001b[0m\u001b[1;36m55\u001b[0m\u001b[1;33m)\u001b[0m\u001b[1;33m.\u001b[0m\u001b[0mastype\u001b[0m\u001b[1;33m(\u001b[0m\u001b[1;34m'float'\u001b[0m\u001b[1;33m)\u001b[0m\u001b[1;33m*\u001b[0m\u001b[1;36m75\u001b[0m\u001b[1;33m\u001b[0m\u001b[0m\n\u001b[0m",
      "\u001b[0;31mAttributeError\u001b[0m: 'tuple' object has no attribute 'astype'"
     ]
    }
   ],
   "source": [
    "(data<28).astype('float')*.15+(data>25,np.logical_and, data<55).astype('float')*50+(data>55).astype('float')*75"
   ]
  },
  {
   "cell_type": "code",
   "execution_count": 23,
   "metadata": {
    "collapsed": false
   },
   "outputs": [
    {
     "data": {
      "text/plain": [
       "array([ 50.,  20.,  35.,  70.,   7.,   5.,   4.,   3.,  10.,  10.,  10.,\n",
       "        10.,  15.,  50.,   3.,   0.,   3.,   3.,   4.,   3.,  10.,   5.,\n",
       "        10.,  10.,   0.,   0.,   0.,   0.,   0.,   3.,   0.,  20.,  18.,\n",
       "        33.,  31.,  44.,  22.,  35.,   0.,   0.,  69.,  73.,  53.,  38.,\n",
       "        25.,  30.,  30.,  33.,   0.,   0.,   0.,   0.,  20.,  45.,  70.,\n",
       "        50.,   7.,  13.,  13.,  14.,   3.,   3.,  16.,   6.,   0.,  50.,\n",
       "        50.,  20.,   7.,   4.,   1.,  13.,  36.,  20.,  39.,  42.,   1.,\n",
       "        32.,  31.,  72.,  53.,  38.,  30.,  69.,  92.,  48.,  45.,  80.,\n",
       "        88.,  83.,  93.,  46.,   4.,  82.,  74.,  96.,  53.,  73.,  77.,\n",
       "        77.,  25.,  56.,  24.,   8.,   0.,   0.,  43.,  93.,  88.,  91.,\n",
       "        93.,  99.,  31.,  75.,  48.,  92.,   3.,  31.,  17.,   2.,   4.,\n",
       "        13.,  19.,   1.,  18.,  44.,  29.,  92., 100., 100., 100., 100.,\n",
       "        12.,  43.,   0.,  12.,  99.,  54.,  36.,  98.])"
      ]
     },
     "execution_count": 23,
     "metadata": {},
     "output_type": "execute_result"
    }
   ],
   "source": [
    "data"
   ]
  },
  {
   "cell_type": "code",
   "execution_count": 64,
   "metadata": {
    "collapsed": false
   },
   "outputs": [],
   "source": [
    "x=data"
   ]
  },
  {
   "cell_type": "code",
   "execution_count": 73,
   "metadata": {
    "collapsed": false
   },
   "outputs": [
    {
     "data": {
      "text/plain": [
       "array([ 0., 20.,  0., 70., 20., 20., 20., 20., 20., 20., 20., 20., 20.,\n",
       "        0., 20., 20., 20., 20., 20., 20., 20., 20., 20., 20., 20., 20.,\n",
       "       20., 20., 20., 20., 20., 20., 20.,  0.,  0.,  0., 20.,  0., 20.,\n",
       "       20., 70., 70.,  0.,  0.,  0.,  0.,  0.,  0., 20., 20., 20., 20.,\n",
       "       20.,  0., 70.,  0., 20., 20., 20., 20., 20., 20., 20., 20., 20.,\n",
       "        0.,  0., 20., 20., 20., 20., 20.,  0., 20.,  0.,  0., 20.,  0.,\n",
       "        0., 70.,  0.,  0.,  0., 70., 70.,  0.,  0., 70., 70., 70., 70.,\n",
       "        0., 20., 70., 70., 70.,  0., 70., 70., 70.,  0.,  0., 20., 20.,\n",
       "       20., 20.,  0., 70., 70., 70., 70., 70.,  0., 70.,  0., 70., 20.,\n",
       "        0., 20., 20., 20., 20., 20., 20., 20.,  0.,  0., 70., 70., 70.,\n",
       "       70., 70., 20.,  0., 20., 20., 70.,  0.,  0., 70.])"
      ]
     },
     "execution_count": 73,
     "metadata": {},
     "output_type": "execute_result"
    }
   ],
   "source": [
    "A=(x<25).astype('float')*20 + (x>58).astype('float')*70\n",
    "A"
   ]
  },
  {
   "cell_type": "code",
   "execution_count": 74,
   "metadata": {
    "collapsed": false
   },
   "outputs": [
    {
     "data": {
      "text/plain": [
       "array([50., 20., 50., 70., 20., 20., 20., 20., 20., 20., 20., 20., 20.,\n",
       "       50., 20., 20., 20., 20., 20., 20., 20., 20., 20., 20., 20., 20.,\n",
       "       20., 20., 20., 20., 20., 20., 20., 50., 50., 50., 20., 50., 20.,\n",
       "       20., 70., 70., 50., 50., 50., 50., 50., 50., 20., 20., 20., 20.,\n",
       "       20., 50., 70., 50., 20., 20., 20., 20., 20., 20., 20., 20., 20.,\n",
       "       50., 50., 20., 20., 20., 20., 20., 50., 20., 50., 50., 20., 50.,\n",
       "       50., 70., 50., 50., 50., 70., 70., 50., 50., 70., 70., 70., 70.,\n",
       "       50., 20., 70., 70., 70., 50., 70., 70., 70., 50., 50., 20., 20.,\n",
       "       20., 20., 50., 70., 70., 70., 70., 70., 50., 70., 50., 70., 20.,\n",
       "       50., 20., 20., 20., 20., 20., 20., 20., 50., 50., 70., 70., 70.,\n",
       "       70., 70., 20., 50., 20., 20., 70., 50., 50., 70.])"
      ]
     },
     "execution_count": 74,
     "metadata": {},
     "output_type": "execute_result"
    }
   ],
   "source": [
    "A[A < .25] = 50\n",
    "A"
   ]
  }
 ],
 "metadata": {
  "kernelspec": {
   "display_name": "Python 3",
   "language": "python",
   "name": "python3"
  },
  "language_info": {
   "codemirror_mode": {
    "name": "ipython",
    "version": 3
   },
   "file_extension": ".py",
   "mimetype": "text/x-python",
   "name": "python",
   "nbconvert_exporter": "python",
   "pygments_lexer": "ipython3",
   "version": "3.6.0"
  }
 },
 "nbformat": 4,
 "nbformat_minor": 2
}
