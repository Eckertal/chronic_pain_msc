{
 "cells": [
  {
   "cell_type": "markdown",
   "metadata": {},
   "source": [
    "# Modelling PI-ANNA questions"
   ]
  },
  {
   "cell_type": "code",
   "execution_count": 1,
   "metadata": {
    "collapsed": true
   },
   "outputs": [],
   "source": [
    "import scipy.io\n",
    "import os\n",
    "import numpy as np\n",
    "\n",
    "import sumProduct as sp\n",
    "import graphviz as gp\n",
    "import matplotlib.pyplot as plt\n",
    "import subprocess"
   ]
  },
  {
   "cell_type": "markdown",
   "metadata": {},
   "source": [
    "Hiermit suchen wir jetzt das P(Pain) das dazu führt dass der Patient im chronic pain state landet - welche Werte müssen für P(Pain) und P(Nopain)\n",
    "\n",
    "Die ersten beiden Werte: pain und nopain, der zweite: residuals"
   ]
  },
  {
   "cell_type": "code",
   "execution_count": 2,
   "metadata": {
    "collapsed": false
   },
   "outputs": [],
   "source": [
    "A = np.array([[0.5, 1-.5],[0.2, 1-0.2],[0.35, 1-0.35],\n",
    "             [0.07, 1-0.07],[0.05, 1-0.05],[0.04, 1-0.04],\n",
    "             [0.1, 1-0.1],[0.1, 1-0.1],[0.1, 1-0.1],\n",
    "             [0.15, 1-0.15],[0.5, 0.5],[0.03, 1-0.03],\n",
    "             [0.03, 1-0.03],[0.03, 1-0.03],[0.04, 1-0.04],\n",
    "             [0.1, 1-0.1],[0.05, 1-0.05],[0.1, 1-0.1],\n",
    "             [0.0,0.0],[0.0,0.0],[0.0,0.0],\n",
    "             [0.0,0.0],[0.03,1-0.03],[0.0,0.0],\n",
    "             [0.18,1-0.18],[0.33,1-0.33],[0.31,1-0.31],\n",
    "             [0.22,1-0.22],[0.35,1-0.35],[0.0,0.0],\n",
    "             [0.69,1-0.69],[0.73,1-0.73],[0.53,1-0.53],\n",
    "             [0.25,1-0.25],[0.3,1-0.3],[0.3,1-0.3],\n",
    "             [0.0,0.0],[0.0,0.0],[0.0,0.0],\n",
    "             [0.2,1-0.2],[0.45,1-0.45],[0.7,1-0.7],\n",
    "             [0.07,1-0.07],[0.13,1-0.13],[0.13,1-0.13],\n",
    "             [0.03,1-0.03],[0.03,1-0.03],[0.16,1-0.16],\n",
    "             [0.0,0.0],[0.5,0.5],[0.5,0.5],\n",
    "             [0.07,1-0.07],[0.04,1-0.04],[0.01,1-0.01],\n",
    "             [0.36,1-0.36],[0.2,1-0.2],[0.39,1-0.39],\n",
    "             [0.01, 1-0.01],[.32,1-0.32],[0.31,1-0.31],\n",
    "             [0.53, 1-0.53],[0.38,1-0.38],[0.3,1-0.3],\n",
    "             [0.92,1-0.92],[0.48,1-0.48],[0.45,1-0.45],\n",
    "             [0.88,1-0.88],[0.83,1-0.83],[0.93,1-0.93],\n",
    "             [0.04,1-0.04],[.82,1-0.82],[.74,1-.74],\n",
    "             [0.53,1-0.53],[0.73,1-0.73],[0.77,1-0.77],\n",
    "             [0.25,1-0.25],[0.56,1-0.56],[0.24,1-0.24],\n",
    "             [0,0],[0,0],[.43,1-.43],\n",
    "             [.88,1-.88],[.91,1-.91],[.93,1-.93],\n",
    "             [.31,1-.31],[.75,1-.75],[.48,1-.48],\n",
    "             [.03,1-0.03],[.31,1-.31],[.17,1-.17],\n",
    "             [.04,1-.04],[.13,1-.13],[.19,1-.19],\n",
    "             [.18,1-.18],[.44,1-.44],[.29,1-.29],\n",
    "             [1.0,0.0],[1.0,0.0],[1.0,0.0],\n",
    "             [.12,1-.12],[.43,1-.43],[0.0,0.0],\n",
    "             [.99,1-.99],[.54,1-.54],[.36,1-.36]])"
   ]
  },
  {
   "cell_type": "code",
   "execution_count": 3,
   "metadata": {
    "collapsed": false
   },
   "outputs": [
    {
     "data": {
      "text/plain": [
       "array([[ 0.5 ,  0.5 ],\n",
       "       [ 0.2 ,  0.8 ],\n",
       "       [ 0.35,  0.65],\n",
       "       [ 0.07,  0.93],\n",
       "       [ 0.05,  0.95],\n",
       "       [ 0.04,  0.96],\n",
       "       [ 0.1 ,  0.9 ],\n",
       "       [ 0.1 ,  0.9 ],\n",
       "       [ 0.1 ,  0.9 ],\n",
       "       [ 0.15,  0.85],\n",
       "       [ 0.5 ,  0.5 ],\n",
       "       [ 0.03,  0.97],\n",
       "       [ 0.03,  0.97],\n",
       "       [ 0.03,  0.97],\n",
       "       [ 0.04,  0.96],\n",
       "       [ 0.1 ,  0.9 ],\n",
       "       [ 0.05,  0.95],\n",
       "       [ 0.1 ,  0.9 ],\n",
       "       [ 0.  ,  0.  ],\n",
       "       [ 0.  ,  0.  ],\n",
       "       [ 0.  ,  0.  ],\n",
       "       [ 0.  ,  0.  ],\n",
       "       [ 0.03,  0.97],\n",
       "       [ 0.  ,  0.  ],\n",
       "       [ 0.18,  0.82],\n",
       "       [ 0.33,  0.67],\n",
       "       [ 0.31,  0.69],\n",
       "       [ 0.22,  0.78],\n",
       "       [ 0.35,  0.65],\n",
       "       [ 0.  ,  0.  ],\n",
       "       [ 0.69,  0.31],\n",
       "       [ 0.73,  0.27],\n",
       "       [ 0.53,  0.47],\n",
       "       [ 0.25,  0.75],\n",
       "       [ 0.3 ,  0.7 ],\n",
       "       [ 0.3 ,  0.7 ],\n",
       "       [ 0.  ,  0.  ],\n",
       "       [ 0.  ,  0.  ],\n",
       "       [ 0.  ,  0.  ],\n",
       "       [ 0.2 ,  0.8 ],\n",
       "       [ 0.45,  0.55],\n",
       "       [ 0.7 ,  0.3 ],\n",
       "       [ 0.07,  0.93],\n",
       "       [ 0.13,  0.87],\n",
       "       [ 0.13,  0.87],\n",
       "       [ 0.03,  0.97],\n",
       "       [ 0.03,  0.97],\n",
       "       [ 0.16,  0.84],\n",
       "       [ 0.  ,  0.  ],\n",
       "       [ 0.5 ,  0.5 ],\n",
       "       [ 0.5 ,  0.5 ],\n",
       "       [ 0.07,  0.93],\n",
       "       [ 0.04,  0.96],\n",
       "       [ 0.01,  0.99],\n",
       "       [ 0.36,  0.64],\n",
       "       [ 0.2 ,  0.8 ],\n",
       "       [ 0.39,  0.61],\n",
       "       [ 0.01,  0.99],\n",
       "       [ 0.32,  0.68],\n",
       "       [ 0.31,  0.69],\n",
       "       [ 0.53,  0.47],\n",
       "       [ 0.38,  0.62],\n",
       "       [ 0.3 ,  0.7 ],\n",
       "       [ 0.92,  0.08],\n",
       "       [ 0.48,  0.52],\n",
       "       [ 0.45,  0.55],\n",
       "       [ 0.88,  0.12],\n",
       "       [ 0.83,  0.17],\n",
       "       [ 0.93,  0.07],\n",
       "       [ 0.04,  0.96],\n",
       "       [ 0.82,  0.18],\n",
       "       [ 0.74,  0.26],\n",
       "       [ 0.53,  0.47],\n",
       "       [ 0.73,  0.27],\n",
       "       [ 0.77,  0.23],\n",
       "       [ 0.25,  0.75],\n",
       "       [ 0.56,  0.44],\n",
       "       [ 0.24,  0.76],\n",
       "       [ 0.  ,  0.  ],\n",
       "       [ 0.  ,  0.  ],\n",
       "       [ 0.43,  0.57],\n",
       "       [ 0.88,  0.12],\n",
       "       [ 0.91,  0.09],\n",
       "       [ 0.93,  0.07],\n",
       "       [ 0.31,  0.69],\n",
       "       [ 0.75,  0.25],\n",
       "       [ 0.48,  0.52],\n",
       "       [ 0.03,  0.97],\n",
       "       [ 0.31,  0.69],\n",
       "       [ 0.17,  0.83],\n",
       "       [ 0.04,  0.96],\n",
       "       [ 0.13,  0.87],\n",
       "       [ 0.19,  0.81],\n",
       "       [ 0.18,  0.82],\n",
       "       [ 0.44,  0.56],\n",
       "       [ 0.29,  0.71],\n",
       "       [ 1.  ,  0.  ],\n",
       "       [ 1.  ,  0.  ],\n",
       "       [ 1.  ,  0.  ],\n",
       "       [ 0.12,  0.88],\n",
       "       [ 0.43,  0.57],\n",
       "       [ 0.  ,  0.  ],\n",
       "       [ 0.99,  0.01],\n",
       "       [ 0.54,  0.46],\n",
       "       [ 0.36,  0.64]])"
      ]
     },
     "execution_count": 3,
     "metadata": {},
     "output_type": "execute_result"
    }
   ],
   "source": [
    "A"
   ]
  },
  {
   "cell_type": "code",
   "execution_count": 4,
   "metadata": {
    "collapsed": false
   },
   "outputs": [
    {
     "name": "stdout",
     "output_type": "stream",
     "text": [
      "[[ 0.5  0.5]\n",
      " [ 1.   0. ]\n",
      " [ 0.   1. ]\n",
      " [ 0.5  0.5]\n",
      " [ 1.   0. ]\n",
      " [ 0.   1. ]\n",
      " [ 0.5  0.5]\n",
      " [ 1.   0. ]\n",
      " [ 0.   1. ]]\n",
      "[[ 1. ]\n",
      " [ 0. ]\n",
      " [ 0.1]\n",
      " [ 1. ]\n",
      " [ 0. ]\n",
      " [ 0.1]\n",
      " [ 1. ]\n",
      " [ 0. ]\n",
      " [ 0.1]]\n",
      "[[ 0.31666667]\n",
      " [ 0.41666667]]\n"
     ]
    }
   ],
   "source": [
    "a= np.array([[.5,1-.5],[1,0],[0,1],[.5,1-.5],[1,0],[0,1],[.5,1-.5],[1,0],[0,1]])\n",
    "b = np.array([[1],[0],[.1],[1],[0],[.1],[1],[0],[.1]])\n",
    "print(a)\n",
    "print(b)\n",
    "P=np.linalg.lstsq(a,b)[0]\n",
    "print(P)"
   ]
  },
  {
   "cell_type": "code",
   "execution_count": 5,
   "metadata": {
    "collapsed": true
   },
   "outputs": [],
   "source": [
    "B = np.array([[0.2],[0.35],[.7],\n",
    "              [0.05],[0.04],[0.03],\n",
    "              [0.1],[0.1],[0.1],\n",
    "              [.5],[.03],[.0],\n",
    "              [.03],[.04],[.03],\n",
    "              [.05],[.1],[.1],\n",
    "              [0.0],[0.0],[0.0],\n",
    "              [0.03],[0.0],[0.2],\n",
    "              [.33],[.31],[.44],\n",
    "              [.35],[.0],[.0],\n",
    "              [.73],[.53],[.38],\n",
    "              [.3],[.3],[.33],\n",
    "              [0],[0],[0],\n",
    "              [.45],[.7],[.5],\n",
    "              [.13],[.13],[.14],\n",
    "              [.03],[.16],[.06],\n",
    "              [.5],[.5],[.2],\n",
    "              [.04],[.01],[.13],\n",
    "              [.2],[.39],[.42],\n",
    "              [.32],[.31],[.72],\n",
    "              [.38],[.3],[.69],\n",
    "              [.48],[.45],[.80],\n",
    "              [.83],[.93],[.46],\n",
    "              [.82],[.74],[.96],\n",
    "              [.73],[.77],[.77],\n",
    "              [.56],[.24],[.08],\n",
    "              [.0],[.43],[.93],\n",
    "              [.91],[.93],[.99],\n",
    "              [.75],[.48],[.92],\n",
    "              [.31],[.17],[.02],\n",
    "              [.13],[.19],[.01],\n",
    "              [.44],[.29],[.92],\n",
    "              [1],[1],[1],\n",
    "              [.43],[.0],[.12],\n",
    "              [.54],[.36],[.98]])"
   ]
  },
  {
   "cell_type": "code",
   "execution_count": 6,
   "metadata": {
    "collapsed": false
   },
   "outputs": [
    {
     "data": {
      "text/plain": [
       "array([[ 0.2 ],\n",
       "       [ 0.35],\n",
       "       [ 0.7 ],\n",
       "       [ 0.05],\n",
       "       [ 0.04],\n",
       "       [ 0.03],\n",
       "       [ 0.1 ],\n",
       "       [ 0.1 ],\n",
       "       [ 0.1 ],\n",
       "       [ 0.5 ],\n",
       "       [ 0.03],\n",
       "       [ 0.  ],\n",
       "       [ 0.03],\n",
       "       [ 0.04],\n",
       "       [ 0.03],\n",
       "       [ 0.05],\n",
       "       [ 0.1 ],\n",
       "       [ 0.1 ],\n",
       "       [ 0.  ],\n",
       "       [ 0.  ],\n",
       "       [ 0.  ],\n",
       "       [ 0.03],\n",
       "       [ 0.  ],\n",
       "       [ 0.2 ],\n",
       "       [ 0.33],\n",
       "       [ 0.31],\n",
       "       [ 0.44],\n",
       "       [ 0.35],\n",
       "       [ 0.  ],\n",
       "       [ 0.  ],\n",
       "       [ 0.73],\n",
       "       [ 0.53],\n",
       "       [ 0.38],\n",
       "       [ 0.3 ],\n",
       "       [ 0.3 ],\n",
       "       [ 0.33],\n",
       "       [ 0.  ],\n",
       "       [ 0.  ],\n",
       "       [ 0.  ],\n",
       "       [ 0.45],\n",
       "       [ 0.7 ],\n",
       "       [ 0.5 ],\n",
       "       [ 0.13],\n",
       "       [ 0.13],\n",
       "       [ 0.14],\n",
       "       [ 0.03],\n",
       "       [ 0.16],\n",
       "       [ 0.06],\n",
       "       [ 0.5 ],\n",
       "       [ 0.5 ],\n",
       "       [ 0.2 ],\n",
       "       [ 0.04],\n",
       "       [ 0.01],\n",
       "       [ 0.13],\n",
       "       [ 0.2 ],\n",
       "       [ 0.39],\n",
       "       [ 0.42],\n",
       "       [ 0.32],\n",
       "       [ 0.31],\n",
       "       [ 0.72],\n",
       "       [ 0.38],\n",
       "       [ 0.3 ],\n",
       "       [ 0.69],\n",
       "       [ 0.48],\n",
       "       [ 0.45],\n",
       "       [ 0.8 ],\n",
       "       [ 0.83],\n",
       "       [ 0.93],\n",
       "       [ 0.46],\n",
       "       [ 0.82],\n",
       "       [ 0.74],\n",
       "       [ 0.96],\n",
       "       [ 0.73],\n",
       "       [ 0.77],\n",
       "       [ 0.77],\n",
       "       [ 0.56],\n",
       "       [ 0.24],\n",
       "       [ 0.08],\n",
       "       [ 0.  ],\n",
       "       [ 0.43],\n",
       "       [ 0.93],\n",
       "       [ 0.91],\n",
       "       [ 0.93],\n",
       "       [ 0.99],\n",
       "       [ 0.75],\n",
       "       [ 0.48],\n",
       "       [ 0.92],\n",
       "       [ 0.31],\n",
       "       [ 0.17],\n",
       "       [ 0.02],\n",
       "       [ 0.13],\n",
       "       [ 0.19],\n",
       "       [ 0.01],\n",
       "       [ 0.44],\n",
       "       [ 0.29],\n",
       "       [ 0.92],\n",
       "       [ 1.  ],\n",
       "       [ 1.  ],\n",
       "       [ 1.  ],\n",
       "       [ 0.43],\n",
       "       [ 0.  ],\n",
       "       [ 0.12],\n",
       "       [ 0.54],\n",
       "       [ 0.36],\n",
       "       [ 0.98]])"
      ]
     },
     "execution_count": 6,
     "metadata": {},
     "output_type": "execute_result"
    }
   ],
   "source": [
    "B"
   ]
  },
  {
   "cell_type": "code",
   "execution_count": 7,
   "metadata": {
    "collapsed": false
   },
   "outputs": [
    {
     "data": {
      "text/plain": [
       "105"
      ]
     },
     "execution_count": 7,
     "metadata": {},
     "output_type": "execute_result"
    }
   ],
   "source": [
    "len(B)"
   ]
  },
  {
   "cell_type": "code",
   "execution_count": 8,
   "metadata": {
    "collapsed": false
   },
   "outputs": [
    {
     "data": {
      "text/plain": [
       "3.0"
      ]
     },
     "execution_count": 8,
     "metadata": {},
     "output_type": "execute_result"
    }
   ],
   "source": [
    "105/35"
   ]
  },
  {
   "cell_type": "code",
   "execution_count": 9,
   "metadata": {
    "collapsed": false
   },
   "outputs": [],
   "source": [
    "P = np.linalg.lstsq(A,B)[0]"
   ]
  },
  {
   "cell_type": "code",
   "execution_count": 10,
   "metadata": {
    "collapsed": false
   },
   "outputs": [
    {
     "data": {
      "text/plain": [
       "array([[ 0.87493722],\n",
       "       [ 0.12563615]])"
      ]
     },
     "execution_count": 10,
     "metadata": {},
     "output_type": "execute_result"
    }
   ],
   "source": [
    "P"
   ]
  },
  {
   "cell_type": "code",
   "execution_count": 11,
   "metadata": {
    "collapsed": false
   },
   "outputs": [
    {
     "data": {
      "text/plain": [
       "105"
      ]
     },
     "execution_count": 11,
     "metadata": {},
     "output_type": "execute_result"
    }
   ],
   "source": [
    "C = np.dot(A,P)\n",
    "len(C)"
   ]
  },
  {
   "cell_type": "markdown",
   "metadata": {},
   "source": [
    "P = in den hiddens die lambdas für pain und nopain. \n",
    "\n",
    "um die As und Bs zu bauen alle Werte von den Tageszeiten für Schmerzen mitteln und dann mit least squares fitten. Alles in \n",
    "\n",
    "Die ersten drei Werte in der A Zeile VP 1, die nächsten "
   ]
  },
  {
   "cell_type": "markdown",
   "metadata": {},
   "source": [
    "Therapieren versuchen. Laufen lassen und schauen: auch wenn man das für mehr als 4 Zeitschritte laufen lässt\n",
    "\n",
    "1) Matrix bauen aus allen Versuchspersonen. \n",
    "2) Vektor bauen\n",
    "3) least square\n",
    "4) hidden factors diese Probs einfügen\n",
    "5) laufen lassen bzw. therapieren. \n",
    "\n"
   ]
  },
  {
   "cell_type": "markdown",
   "metadata": {
    "collapsed": true
   },
   "source": [
    "# Model"
   ]
  },
  {
   "cell_type": "code",
   "execution_count": 12,
   "metadata": {
    "collapsed": false
   },
   "outputs": [
    {
     "name": "stdout",
     "output_type": "stream",
     "text": [
      "8\n"
     ]
    }
   ],
   "source": [
    "vlist=['H'+str(i) for i in range(4)]\n",
    "hidden=[sp.variableNode(name, vrange=['pain', 'nopain']) for name in vlist]\n",
    "Slist=['S'+str(i) for i in range(4)]\n",
    "sensory=[sp.variableNode(name, vrange=['tickle','noci']) for name in Slist]\n",
    "variables=sensory+hidden\n",
    "print(len(variables))\n",
    "factors=[]"
   ]
  },
  {
   "cell_type": "code",
   "execution_count": 13,
   "metadata": {
    "collapsed": true
   },
   "outputs": [],
   "source": [
    "prior=sp.freeEnergyFactorNode()\n",
    "prior.addNeighbour(hidden[0])\n",
    "\n",
    "def exprior(condrv,conditioners):\n",
    "    if condrv[0] is None:\n",
    "        return 500.0\n",
    "    if condrv[0]=='nopain':\n",
    "        return 0.2\n",
    "    if condrv[0]=='pain':\n",
    "        return 0.8\n",
    "    \n",
    "prior.setPrior(exprior)\n",
    "factors.append(prior)\n",
    "prior.predictFactor()\n",
    "\n",
    "\n",
    "\n",
    "# Hier kommen die PkeepPain und PkeepNoPain aus den Daten rein\n",
    "def hiddenprior(condrv,conditioners):\n",
    "    print(condrv,conditioners),\n",
    "    if condrv[0] is None:\n",
    "        return 200.0\n",
    "    if conditioners[0]=='pain':\n",
    "        if condrv[0]=='pain':\n",
    "            return 0.9\n",
    "        if condrv[0]=='nopain':\n",
    "            return 0.1\n",
    "    else:\n",
    "        if condrv[0]=='pain':\n",
    "            return 0.9\n",
    "        if condrv[0]=='nopain':\n",
    "            return 0.1\n",
    "\n",
    "        \n",
    "#Hier kommen die P(sensation|pain) rein aus den Daten\n",
    "def sensprior(condrv,conditioners):\n",
    "    print(condrv,conditioners)\n",
    "    if condrv[0] is None:\n",
    "        return 1000.0\n",
    "    if conditioners[0]=='pain':\n",
    "        if condrv[0]=='noci':\n",
    "            return 0.9\n",
    "        if condrv[0]=='tickle':\n",
    "            return 0.1\n",
    "    else:\n",
    "        if condrv[0]=='tickle':\n",
    "            return 0.9\n",
    "        if condrv[0]=='noci':\n",
    "            return 0.1        "
   ]
  },
  {
   "cell_type": "code",
   "execution_count": 14,
   "metadata": {
    "collapsed": false
   },
   "outputs": [
    {
     "name": "stdout",
     "output_type": "stream",
     "text": [
      "(None,) ('pain',)\n",
      "('pain',) ('pain',)\n",
      "('nopain',) ('pain',)\n",
      "(None,) ('nopain',)\n",
      "('pain',) ('nopain',)\n",
      "('nopain',) ('nopain',)\n",
      "(None,) ('pain',)\n",
      "('pain',) ('pain',)\n",
      "('nopain',) ('pain',)\n",
      "(None,) ('nopain',)\n",
      "('pain',) ('nopain',)\n",
      "('nopain',) ('nopain',)\n",
      "(None,) ('pain',)\n",
      "('pain',) ('pain',)\n",
      "('nopain',) ('pain',)\n",
      "(None,) ('nopain',)\n",
      "('pain',) ('nopain',)\n",
      "('nopain',) ('nopain',)\n",
      "4\n",
      "3\n"
     ]
    }
   ],
   "source": [
    "parent=hidden[0]\n",
    "hiddenfactors=[]\n",
    "for child in hidden[1:]:\n",
    "    fe=sp.freeEnergyFactorNode()\n",
    "    fe.addNeighbour(child,isConditioner=False)\n",
    "    fe.addNeighbour(parent,isConditioner=True)\n",
    "    fe.setPrior(hiddenprior)\n",
    "    factors.append(fe)\n",
    "    hiddenfactors.append(fe)\n",
    "    parent=child\n",
    "    fe.predictFactor()\n",
    "print(len(factors))\n",
    "print(len(hiddenfactors))"
   ]
  },
  {
   "cell_type": "code",
   "execution_count": 15,
   "metadata": {
    "collapsed": false
   },
   "outputs": [
    {
     "name": "stdout",
     "output_type": "stream",
     "text": [
      "(None,) ('pain',)\n",
      "('tickle',) ('pain',)\n",
      "('noci',) ('pain',)\n",
      "(None,) ('nopain',)\n",
      "('tickle',) ('nopain',)\n",
      "('noci',) ('nopain',)\n",
      "(None,) ('pain',)\n",
      "('tickle',) ('pain',)\n",
      "('noci',) ('pain',)\n",
      "(None,) ('nopain',)\n",
      "('tickle',) ('nopain',)\n",
      "('noci',) ('nopain',)\n",
      "(None,) ('pain',)\n",
      "('tickle',) ('pain',)\n",
      "('noci',) ('pain',)\n",
      "(None,) ('nopain',)\n",
      "('tickle',) ('nopain',)\n",
      "('noci',) ('nopain',)\n",
      "(None,) ('pain',)\n",
      "('tickle',) ('pain',)\n",
      "('noci',) ('pain',)\n",
      "(None,) ('nopain',)\n",
      "('tickle',) ('nopain',)\n",
      "('noci',) ('nopain',)\n"
     ]
    }
   ],
   "source": [
    "sensfactors=[]\n",
    "for h,s in zip(hidden,sensory):\n",
    "    f=sp.freeEnergyFactorNode()\n",
    "    f.addNeighbour(s)\n",
    "    f.addNeighbour(h,isConditioner=True)\n",
    "    f.setPrior(sensprior)\n",
    "    factors+=[f]\n",
    "    sensfactors+=[f]\n",
    "    f.predictFactor()\n",
    "    \n",
    "allNodes=variables+factors"
   ]
  },
  {
   "cell_type": "code",
   "execution_count": 16,
   "metadata": {
    "collapsed": false
   },
   "outputs": [
    {
     "data": {
      "text/plain": [
       "0"
      ]
     },
     "execution_count": 16,
     "metadata": {},
     "output_type": "execute_result"
    }
   ],
   "source": [
    "outf=open(\"PiANNA.dot\",\"w\")\n",
    "outf.write(hidden[0].dotPrint())\n",
    "outf.close()\n",
    "subprocess.call(\"neato -T png -o PiANNA.png PiANNA.dot\", shell=True)"
   ]
  },
  {
   "cell_type": "code",
   "execution_count": null,
   "metadata": {
    "collapsed": true
   },
   "outputs": [],
   "source": []
  }
 ],
 "metadata": {
  "kernelspec": {
   "display_name": "Python 3",
   "language": "python",
   "name": "python3"
  },
  "language_info": {
   "codemirror_mode": {
    "name": "ipython",
    "version": 3
   },
   "file_extension": ".py",
   "mimetype": "text/x-python",
   "name": "python",
   "nbconvert_exporter": "python",
   "pygments_lexer": "ipython3",
   "version": "3.6.0"
  }
 },
 "nbformat": 4,
 "nbformat_minor": 2
}
