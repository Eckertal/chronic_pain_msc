{
 "cells": [
  {
   "cell_type": "markdown",
   "metadata": {},
   "source": [
    "# Basic Model"
   ]
  },
  {
   "cell_type": "code",
   "execution_count": 1,
   "metadata": {
    "collapsed": true
   },
   "outputs": [],
   "source": [
    "import sumProduct as sp\n",
    "import numpy as np\n",
    "import graphviz as gp\n",
    "import matplotlib.pyplot as plt\n",
    "import subprocess"
   ]
  },
  {
   "cell_type": "code",
   "execution_count": 2,
   "metadata": {
    "collapsed": false
   },
   "outputs": [],
   "source": [
    "prior=sp.freeEnergyFactorNode()\n",
    "var=sp.variableNode(name='var',vrange=['pain','nopain'])\n",
    "prior.addNeighbour(var)"
   ]
  },
  {
   "cell_type": "code",
   "execution_count": 3,
   "metadata": {
    "collapsed": false
   },
   "outputs": [],
   "source": [
    "def exprior(condrv,conditioners):\n",
    "    if condrv[0] is None:\n",
    "        return 100.0\n",
    "    if condrv[0]=='nopain':\n",
    "        return 0.8\n",
    "    if condrv[0]=='pain':\n",
    "        return 0.2\n",
    "    \n",
    "prior.setPrior(exprior)\n",
    "prior.predictFactor()\n",
    "allNodes=[var,prior]"
   ]
  },
  {
   "cell_type": "code",
   "execution_count": 4,
   "metadata": {
    "collapsed": false
   },
   "outputs": [
    {
     "data": {
      "text/plain": [
       "1"
      ]
     },
     "execution_count": 4,
     "metadata": {},
     "output_type": "execute_result"
    }
   ],
   "source": [
    "outf=open(\"Basic.dot\",\"w\")\n",
    "outf.write(prior.dotPrint())\n",
    "outf.close()\n",
    "subprocess.call(\"neato -T png -o Basic.png Basic.dot\", shell=True)"
   ]
  },
  {
   "cell_type": "markdown",
   "metadata": {},
   "source": [
    "<img src=\"files/Basic.png\">"
   ]
  },
  {
   "cell_type": "code",
   "execution_count": 5,
   "metadata": {
    "collapsed": false
   },
   "outputs": [],
   "source": [
    "prior.pseudoCounts\n",
    "marginals=[]"
   ]
  },
  {
   "cell_type": "code",
   "execution_count": 6,
   "metadata": {
    "collapsed": false
   },
   "outputs": [
    {
     "name": "stdout",
     "output_type": "stream",
     "text": [
      "starting learning for 2 nodes\n",
      "Runing Sum-product\n",
      "accumulating evidence for 2 nodes\n",
      "learning for 2 nodes\n",
      "starting learning for 2 nodes\n",
      "Runing Sum-product\n",
      "accumulating evidence for 2 nodes\n",
      "learning for 2 nodes\n",
      "starting learning for 2 nodes\n",
      "Runing Sum-product\n",
      "accumulating evidence for 2 nodes\n",
      "learning for 2 nodes\n",
      "starting learning for 2 nodes\n",
      "Runing Sum-product\n",
      "accumulating evidence for 2 nodes\n",
      "learning for 2 nodes\n",
      "starting learning for 2 nodes\n",
      "Runing Sum-product\n",
      "accumulating evidence for 2 nodes\n",
      "learning for 2 nodes\n",
      "starting learning for 2 nodes\n",
      "Runing Sum-product\n",
      "accumulating evidence for 2 nodes\n",
      "learning for 2 nodes\n",
      "starting learning for 2 nodes\n",
      "Runing Sum-product\n",
      "accumulating evidence for 2 nodes\n",
      "learning for 2 nodes\n",
      "starting learning for 2 nodes\n",
      "Runing Sum-product\n",
      "accumulating evidence for 2 nodes\n",
      "learning for 2 nodes\n",
      "starting learning for 2 nodes\n",
      "Runing Sum-product\n",
      "accumulating evidence for 2 nodes\n",
      "learning for 2 nodes\n",
      "starting learning for 2 nodes\n",
      "Runing Sum-product\n",
      "accumulating evidence for 2 nodes\n",
      "learning for 2 nodes\n",
      "starting learning for 2 nodes\n",
      "Runing Sum-product\n",
      "accumulating evidence for 2 nodes\n",
      "learning for 2 nodes\n",
      "starting learning for 2 nodes\n",
      "Runing Sum-product\n",
      "accumulating evidence for 2 nodes\n",
      "learning for 2 nodes\n",
      "starting learning for 2 nodes\n",
      "Runing Sum-product\n",
      "accumulating evidence for 2 nodes\n",
      "learning for 2 nodes\n",
      "starting learning for 2 nodes\n",
      "Runing Sum-product\n",
      "accumulating evidence for 2 nodes\n",
      "learning for 2 nodes\n",
      "starting learning for 2 nodes\n",
      "Runing Sum-product\n",
      "accumulating evidence for 2 nodes\n",
      "learning for 2 nodes\n",
      "starting learning for 2 nodes\n",
      "Runing Sum-product\n",
      "accumulating evidence for 2 nodes\n",
      "learning for 2 nodes\n",
      "starting learning for 2 nodes\n",
      "Runing Sum-product\n",
      "accumulating evidence for 2 nodes\n",
      "learning for 2 nodes\n",
      "starting learning for 2 nodes\n",
      "Runing Sum-product\n",
      "accumulating evidence for 2 nodes\n",
      "learning for 2 nodes\n",
      "starting learning for 2 nodes\n",
      "Runing Sum-product\n",
      "accumulating evidence for 2 nodes\n",
      "learning for 2 nodes\n",
      "starting learning for 2 nodes\n",
      "Runing Sum-product\n",
      "accumulating evidence for 2 nodes\n",
      "learning for 2 nodes\n",
      "starting learning for 2 nodes\n",
      "Runing Sum-product\n",
      "accumulating evidence for 2 nodes\n",
      "learning for 2 nodes\n",
      "starting learning for 2 nodes\n",
      "Runing Sum-product\n",
      "accumulating evidence for 2 nodes\n",
      "learning for 2 nodes\n",
      "starting learning for 2 nodes\n",
      "Runing Sum-product\n",
      "accumulating evidence for 2 nodes\n",
      "learning for 2 nodes\n",
      "starting learning for 2 nodes\n",
      "Runing Sum-product\n",
      "accumulating evidence for 2 nodes\n",
      "learning for 2 nodes\n",
      "starting learning for 2 nodes\n",
      "Runing Sum-product\n",
      "accumulating evidence for 2 nodes\n",
      "learning for 2 nodes\n",
      "starting learning for 2 nodes\n",
      "Runing Sum-product\n",
      "accumulating evidence for 2 nodes\n",
      "learning for 2 nodes\n",
      "starting learning for 2 nodes\n",
      "Runing Sum-product\n",
      "accumulating evidence for 2 nodes\n",
      "learning for 2 nodes\n",
      "starting learning for 2 nodes\n",
      "Runing Sum-product\n",
      "accumulating evidence for 2 nodes\n",
      "learning for 2 nodes\n",
      "starting learning for 2 nodes\n",
      "Runing Sum-product\n",
      "accumulating evidence for 2 nodes\n",
      "learning for 2 nodes\n",
      "starting learning for 2 nodes\n",
      "Runing Sum-product\n",
      "accumulating evidence for 2 nodes\n",
      "learning for 2 nodes\n",
      "starting learning for 2 nodes\n",
      "Runing Sum-product\n",
      "{(None,): 100.0, (): 101.0}\n",
      "accumulating evidence for 2 nodes\n",
      "learning for 2 nodes\n",
      "starting learning for 2 nodes\n",
      "Runing Sum-product\n",
      "{(None,): 100.0, (): 101.0}\n",
      "accumulating evidence for 2 nodes\n",
      "learning for 2 nodes\n",
      "starting learning for 2 nodes\n",
      "Runing Sum-product\n",
      "{(None,): 100.0, (): 101.0}\n",
      "accumulating evidence for 2 nodes\n",
      "learning for 2 nodes\n",
      "starting learning for 2 nodes\n",
      "Runing Sum-product\n",
      "{(None,): 100.0, (): 101.0}\n",
      "accumulating evidence for 2 nodes\n",
      "learning for 2 nodes\n",
      "starting learning for 2 nodes\n",
      "Runing Sum-product\n",
      "{(None,): 100.0, (): 101.0}\n",
      "accumulating evidence for 2 nodes\n",
      "learning for 2 nodes\n",
      "starting learning for 2 nodes\n",
      "Runing Sum-product\n",
      "{(None,): 100.0, (): 101.0}\n",
      "accumulating evidence for 2 nodes\n",
      "learning for 2 nodes\n",
      "starting learning for 2 nodes\n",
      "Runing Sum-product\n",
      "{(None,): 100.0, (): 101.0}\n",
      "accumulating evidence for 2 nodes\n",
      "learning for 2 nodes\n",
      "starting learning for 2 nodes\n",
      "Runing Sum-product\n",
      "{(None,): 100.0, (): 101.0}\n",
      "accumulating evidence for 2 nodes\n",
      "learning for 2 nodes\n",
      "starting learning for 2 nodes\n",
      "Runing Sum-product\n",
      "{(None,): 100.0, (): 101.0}\n",
      "accumulating evidence for 2 nodes\n",
      "learning for 2 nodes\n",
      "starting learning for 2 nodes\n",
      "Runing Sum-product\n",
      "{(None,): 100.0, (): 101.0}\n",
      "accumulating evidence for 2 nodes\n",
      "learning for 2 nodes\n",
      "starting learning for 2 nodes\n",
      "Runing Sum-product\n",
      "{(None,): 100.0, (): 101.0}\n",
      "accumulating evidence for 2 nodes\n",
      "learning for 2 nodes\n",
      "starting learning for 2 nodes\n",
      "Runing Sum-product\n",
      "{(None,): 100.0, (): 101.0}\n",
      "accumulating evidence for 2 nodes\n",
      "learning for 2 nodes\n",
      "starting learning for 2 nodes\n",
      "Runing Sum-product\n",
      "{(None,): 100.0, (): 101.0}\n",
      "accumulating evidence for 2 nodes\n",
      "learning for 2 nodes\n",
      "starting learning for 2 nodes\n",
      "Runing Sum-product\n",
      "{(None,): 100.0, (): 101.0}\n",
      "accumulating evidence for 2 nodes\n",
      "learning for 2 nodes\n",
      "starting learning for 2 nodes\n",
      "Runing Sum-product\n",
      "{(None,): 100.0, (): 101.0}\n",
      "accumulating evidence for 2 nodes\n",
      "learning for 2 nodes\n",
      "starting learning for 2 nodes\n",
      "Runing Sum-product\n",
      "{(None,): 100.0, (): 101.0}\n",
      "accumulating evidence for 2 nodes\n",
      "learning for 2 nodes\n",
      "starting learning for 2 nodes\n",
      "Runing Sum-product\n",
      "{(None,): 100.0, (): 101.0}\n",
      "accumulating evidence for 2 nodes\n",
      "learning for 2 nodes\n",
      "starting learning for 2 nodes\n",
      "Runing Sum-product\n",
      "{(None,): 100.0, (): 101.0}\n",
      "accumulating evidence for 2 nodes\n",
      "learning for 2 nodes\n",
      "starting learning for 2 nodes\n",
      "Runing Sum-product\n",
      "{(None,): 100.0, (): 101.0}\n",
      "accumulating evidence for 2 nodes\n",
      "learning for 2 nodes\n",
      "starting learning for 2 nodes\n",
      "Runing Sum-product\n",
      "{(None,): 100.0, (): 101.0}\n",
      "accumulating evidence for 2 nodes\n",
      "learning for 2 nodes\n",
      "starting learning for 2 nodes\n",
      "Runing Sum-product\n",
      "{(None,): 100.0, (): 101.0}\n",
      "accumulating evidence for 2 nodes\n",
      "learning for 2 nodes\n",
      "starting learning for 2 nodes\n",
      "Runing Sum-product\n",
      "{(None,): 100.0, (): 101.0}\n",
      "accumulating evidence for 2 nodes\n",
      "learning for 2 nodes\n",
      "starting learning for 2 nodes\n",
      "Runing Sum-product\n",
      "{(None,): 100.0, (): 101.0}\n",
      "accumulating evidence for 2 nodes\n",
      "learning for 2 nodes\n",
      "starting learning for 2 nodes\n",
      "Runing Sum-product\n",
      "{(None,): 100.0, (): 101.0}\n",
      "accumulating evidence for 2 nodes\n",
      "learning for 2 nodes\n",
      "starting learning for 2 nodes\n",
      "Runing Sum-product\n",
      "{(None,): 100.0, (): 101.0}\n",
      "accumulating evidence for 2 nodes\n",
      "learning for 2 nodes\n",
      "starting learning for 2 nodes\n",
      "Runing Sum-product\n",
      "{(None,): 100.0, (): 101.0}\n",
      "accumulating evidence for 2 nodes\n",
      "learning for 2 nodes\n",
      "starting learning for 2 nodes\n",
      "Runing Sum-product\n",
      "{(None,): 100.0, (): 101.0}\n",
      "accumulating evidence for 2 nodes\n",
      "learning for 2 nodes\n",
      "starting learning for 2 nodes\n",
      "Runing Sum-product\n",
      "{(None,): 100.0, (): 101.0}\n",
      "accumulating evidence for 2 nodes\n",
      "learning for 2 nodes\n",
      "starting learning for 2 nodes\n",
      "Runing Sum-product\n",
      "{(None,): 100.0, (): 101.0}\n",
      "accumulating evidence for 2 nodes\n",
      "learning for 2 nodes\n",
      "starting learning for 2 nodes\n",
      "Runing Sum-product\n",
      "{(None,): 100.0, (): 101.0}\n",
      "accumulating evidence for 2 nodes\n",
      "learning for 2 nodes\n"
     ]
    }
   ],
   "source": [
    "ppain=[]\n",
    "pnopain=[]\n",
    "Pseudocounts=[]\n",
    "for trial in range(30):\n",
    "    sp.startLearning(allNodes)\n",
    "    var.observe('nopain')\n",
    "    sp.runSumProduct(allNodes)\n",
    "    ppain.append(prior.naturalParams[(('pain',),(None,))])\n",
    "    pnopain.append(prior.naturalParams[(('nopain',),(None,))])\n",
    "    marginals.append(var.marginal()[-1])\n",
    "    Pseudocounts.append(prior.pseudoCounts)\n",
    "    sp.accumulateEvidence(allNodes)\n",
    "    sp.learn(allNodes) \n",
    "for trial in range(30):\n",
    "    sp.startLearning(allNodes)\n",
    "    var.observe('pain')\n",
    "    sp.runSumProduct(allNodes)\n",
    "    print(prior.pseudoCounts)\n",
    "    ppain.append(prior.naturalParams[(('pain',),(None,))])\n",
    "    pnopain.append(prior.naturalParams[(('nopain',),(None,))])\n",
    "    marginals.append(var.marginal()[-1])\n",
    "    Pseudocounts.append(prior.pseudoCounts)\n",
    "    sp.accumulateEvidence(allNodes)\n",
    "    sp.learn(allNodes)"
   ]
  },
  {
   "cell_type": "code",
   "execution_count": 8,
   "metadata": {
    "collapsed": false
   },
   "outputs": [
    {
     "data": {
      "image/png": "[encoded data removed]",
      "text/plain": [
       "<matplotlib.figure.Figure at 0x1613cc1cd30>"
      ]
     },
     "metadata": {},
     "output_type": "display_data"
    }
   ],
   "source": [
    "plt.plot(marginals)\n",
    "plt.title('Surprise after 60 observations')\n",
    "plt.show()"
   ]
  },
  {
   "cell_type": "code",
   "execution_count": 9,
   "metadata": {
    "collapsed": false
   },
   "outputs": [
    {
     "data": {
      "image/png": "[encoded data removed]",
      "text/plain": [
       "<matplotlib.figure.Figure at 0x1613cc5a978>"
      ]
     },
     "metadata": {},
     "output_type": "display_data"
    }
   ],
   "source": [
    "plt.figure(figsize=(8.0,5.0))\n",
    "plt.title(\"Basic Model. Observations: 60xpain\", fontsize=18)\n",
    "plt.xlabel('Number of observations')\n",
    "plt.ylabel('Probability')\n",
    "axes = plt.gca()\n",
    "axes.set_xlim([0,60])\n",
    "axes.set_ylim([0,1])\n",
    "plt.plot(pnopain, 'g+', label='$P(No Pain)$')\n",
    "plt.plot(ppain, 'ro', label='$P(Pain)$')\n",
    "plt.legend()\n",
    "#plt.savefig(\"SimpleModel_Prior-Nu=10-LambdaPain=0.1.png\")\n",
    "plt.tight_layout()\n",
    "plt.show()"
   ]
  },
  {
   "cell_type": "code",
   "execution_count": null,
   "metadata": {
    "collapsed": true
   },
   "outputs": [],
   "source": []
  }
 ],
 "metadata": {
  "kernelspec": {
   "display_name": "Python 3",
   "language": "python",
   "name": "python3"
  },
  "language_info": {
   "codemirror_mode": {
    "name": "ipython",
    "version": 3
   },
   "file_extension": ".py",
   "mimetype": "text/x-python",
   "name": "python",
   "nbconvert_exporter": "python",
   "pygments_lexer": "ipython3",
   "version": "3.6.0"
  }
 },
 "nbformat": 4,
 "nbformat_minor": 2
}
