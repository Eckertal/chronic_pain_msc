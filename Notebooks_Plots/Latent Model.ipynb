{
 "cells": [
  {
   "cell_type": "markdown",
   "metadata": {},
   "source": [
    "# Model mit einer LATENTEN VARIABLE"
   ]
  },
  {
   "cell_type": "code",
   "execution_count": 1,
   "metadata": {
    "collapsed": true
   },
   "outputs": [],
   "source": [
    "import sumProduct as sp\n",
    "import numpy as np\n",
    "import graphviz as gp\n",
    "import matplotlib.pyplot as plt\n",
    "import subprocess"
   ]
  },
  {
   "cell_type": "code",
   "execution_count": 2,
   "metadata": {
    "collapsed": false
   },
   "outputs": [],
   "source": [
    "prior=sp.freeEnergyFactorNode()\n",
    "var=sp.variableNode(name='var',vrange=['pain','nopain'])\n",
    "prior.addNeighbour(var)\n",
    "\n",
    "def exprior(condrv,conditioners):\n",
    "    if condrv[0] is None:\n",
    "        return 1000.0\n",
    "    if condrv[0]=='nopain':\n",
    "        return 0.2\n",
    "    if condrv[0]=='pain':\n",
    "        return 0.8\n",
    "    \n",
    "prior.setPrior(exprior)\n",
    "prior.predictFactor()\n",
    "allNodes=[var,prior]"
   ]
  },
  {
   "cell_type": "code",
   "execution_count": 3,
   "metadata": {
    "collapsed": false
   },
   "outputs": [
    {
     "data": {
      "text/plain": [
       "{(None,): 1000.0}"
      ]
     },
     "execution_count": 3,
     "metadata": {},
     "output_type": "execute_result"
    }
   ],
   "source": [
    "prior.pseudoCounts"
   ]
  },
  {
   "cell_type": "code",
   "execution_count": 4,
   "metadata": {
    "collapsed": false
   },
   "outputs": [],
   "source": [
    "sens=sp.variableNode(name='Sensation',vrange=('noci','tickle'))\n",
    "variable=[sens,var]\n",
    "senstovar=sp.freeEnergyFactorNode()\n",
    "senstovar.addNeighbour(sens,isConditioner=False)\n",
    "senstovar.addNeighbour(var,isConditioner=True)"
   ]
  },
  {
   "cell_type": "code",
   "execution_count": 5,
   "metadata": {
    "collapsed": false
   },
   "outputs": [
    {
     "data": {
      "text/plain": [
       "1"
      ]
     },
     "execution_count": 5,
     "metadata": {},
     "output_type": "execute_result"
    }
   ],
   "source": [
    "outf=open(\"Latent.dot\",\"w\")\n",
    "outf.write(prior.dotPrint())\n",
    "outf.close()\n",
    "subprocess.call(\"neato -T png -o Latent.png Latent.dot\", shell=True)"
   ]
  },
  {
   "cell_type": "code",
   "execution_count": 6,
   "metadata": {
    "collapsed": false
   },
   "outputs": [
    {
     "data": {
      "text/plain": [
       "[<sumProduct.variableNode at 0x1b4942f28d0>,\n",
       " <sumProduct.freeEnergyFactorNode at 0x1b4942f2908>,\n",
       " <sumProduct.variableNode at 0x1b4942f22b0>,\n",
       " <sumProduct.freeEnergyFactorNode at 0x1b4942f2240>]"
      ]
     },
     "execution_count": 6,
     "metadata": {},
     "output_type": "execute_result"
    }
   ],
   "source": [
    "def sensprior(condrv,conditioners):\n",
    "    if condrv[0] is None:\n",
    "        return 500.0\n",
    "    if conditioners[0]=='pain':\n",
    "        if condrv[0]=='noci':\n",
    "            return 0.5\n",
    "        if condrv[0]=='tickle':\n",
    "            return 0.5\n",
    "    if conditioners[0]=='nopain':\n",
    "        if condrv[0]=='tickle':\n",
    "            return 0.5\n",
    "        if condrv[0]=='noci':\n",
    "            return 0.5\n",
    "senstovar.setPrior(sensprior)  \n",
    "allNodes+=sens,senstovar\n",
    "allNodes"
   ]
  },
  {
   "cell_type": "code",
   "execution_count": 7,
   "metadata": {
    "collapsed": false
   },
   "outputs": [
    {
     "data": {
      "text/plain": [
       "{(None,): 1000.0}"
      ]
     },
     "execution_count": 7,
     "metadata": {},
     "output_type": "execute_result"
    }
   ],
   "source": [
    "prior.pseudoCounts"
   ]
  },
  {
   "cell_type": "code",
   "execution_count": 8,
   "metadata": {
    "collapsed": true
   },
   "outputs": [],
   "source": [
    "NP_ppain_noci=[]\n",
    "NP_ppain_tickle=[]\n",
    "NP_pnopain_noci=[]\n",
    "NP_pnopain_tickle=[]\n",
    "PCpain=[]\n",
    "PCnopain=[]\n",
    "Prior_PC_pain=[]\n",
    "Prior_PC_nopain=[]\n",
    "Prior_NP_pain=[]\n",
    "Prior_NP_nopain=[]"
   ]
  },
  {
   "cell_type": "code",
   "execution_count": 9,
   "metadata": {
    "collapsed": false
   },
   "outputs": [
    {
     "name": "stdout",
     "output_type": "stream",
     "text": [
      "starting learning for 4 nodes\n",
      "Runing Sum-product\n",
      "accumulating evidence for 4 nodes\n",
      "learning for 4 nodes\n",
      "starting learning for 4 nodes\n",
      "Runing Sum-product\n",
      "accumulating evidence for 4 nodes\n",
      "learning for 4 nodes\n",
      "starting learning for 4 nodes\n",
      "Runing Sum-product\n",
      "accumulating evidence for 4 nodes\n",
      "learning for 4 nodes\n",
      "starting learning for 4 nodes\n",
      "Runing Sum-product\n",
      "accumulating evidence for 4 nodes\n",
      "learning for 4 nodes\n",
      "starting learning for 4 nodes\n",
      "Runing Sum-product\n",
      "accumulating evidence for 4 nodes\n",
      "learning for 4 nodes\n",
      "starting learning for 4 nodes\n",
      "Runing Sum-product\n",
      "accumulating evidence for 4 nodes\n",
      "learning for 4 nodes\n",
      "starting learning for 4 nodes\n",
      "Runing Sum-product\n",
      "accumulating evidence for 4 nodes\n",
      "learning for 4 nodes\n",
      "starting learning for 4 nodes\n",
      "Runing Sum-product\n",
      "accumulating evidence for 4 nodes\n",
      "learning for 4 nodes\n",
      "starting learning for 4 nodes\n",
      "Runing Sum-product\n",
      "accumulating evidence for 4 nodes\n",
      "learning for 4 nodes\n",
      "starting learning for 4 nodes\n",
      "Runing Sum-product\n",
      "accumulating evidence for 4 nodes\n",
      "learning for 4 nodes\n",
      "starting learning for 4 nodes\n",
      "Runing Sum-product\n",
      "accumulating evidence for 4 nodes\n",
      "learning for 4 nodes\n",
      "starting learning for 4 nodes\n",
      "Runing Sum-product\n",
      "accumulating evidence for 4 nodes\n",
      "learning for 4 nodes\n",
      "starting learning for 4 nodes\n",
      "Runing Sum-product\n",
      "accumulating evidence for 4 nodes\n",
      "learning for 4 nodes\n",
      "starting learning for 4 nodes\n",
      "Runing Sum-product\n",
      "accumulating evidence for 4 nodes\n",
      "learning for 4 nodes\n",
      "starting learning for 4 nodes\n",
      "Runing Sum-product\n",
      "accumulating evidence for 4 nodes\n",
      "learning for 4 nodes\n",
      "starting learning for 4 nodes\n",
      "Runing Sum-product\n",
      "accumulating evidence for 4 nodes\n",
      "learning for 4 nodes\n",
      "starting learning for 4 nodes\n",
      "Runing Sum-product\n",
      "accumulating evidence for 4 nodes\n",
      "learning for 4 nodes\n",
      "starting learning for 4 nodes\n",
      "Runing Sum-product\n",
      "accumulating evidence for 4 nodes\n",
      "learning for 4 nodes\n",
      "starting learning for 4 nodes\n",
      "Runing Sum-product\n",
      "accumulating evidence for 4 nodes\n",
      "learning for 4 nodes\n",
      "starting learning for 4 nodes\n",
      "Runing Sum-product\n",
      "accumulating evidence for 4 nodes\n",
      "learning for 4 nodes\n",
      "starting learning for 4 nodes\n",
      "Runing Sum-product\n",
      "accumulating evidence for 4 nodes\n",
      "learning for 4 nodes\n",
      "starting learning for 4 nodes\n",
      "Runing Sum-product\n",
      "accumulating evidence for 4 nodes\n",
      "learning for 4 nodes\n",
      "starting learning for 4 nodes\n",
      "Runing Sum-product\n",
      "accumulating evidence for 4 nodes\n",
      "learning for 4 nodes\n",
      "starting learning for 4 nodes\n",
      "Runing Sum-product\n",
      "accumulating evidence for 4 nodes\n",
      "learning for 4 nodes\n",
      "starting learning for 4 nodes\n",
      "Runing Sum-product\n",
      "accumulating evidence for 4 nodes\n",
      "learning for 4 nodes\n",
      "starting learning for 4 nodes\n",
      "Runing Sum-product\n",
      "accumulating evidence for 4 nodes\n",
      "learning for 4 nodes\n",
      "starting learning for 4 nodes\n",
      "Runing Sum-product\n",
      "accumulating evidence for 4 nodes\n",
      "learning for 4 nodes\n",
      "starting learning for 4 nodes\n",
      "Runing Sum-product\n",
      "accumulating evidence for 4 nodes\n",
      "learning for 4 nodes\n",
      "starting learning for 4 nodes\n",
      "Runing Sum-product\n",
      "accumulating evidence for 4 nodes\n",
      "learning for 4 nodes\n",
      "starting learning for 4 nodes\n",
      "Runing Sum-product\n",
      "accumulating evidence for 4 nodes\n",
      "learning for 4 nodes\n",
      "starting learning for 4 nodes\n",
      "Runing Sum-product\n",
      "accumulating evidence for 4 nodes\n",
      "learning for 4 nodes\n",
      "starting learning for 4 nodes\n",
      "Runing Sum-product\n",
      "accumulating evidence for 4 nodes\n",
      "learning for 4 nodes\n",
      "starting learning for 4 nodes\n",
      "Runing Sum-product\n",
      "accumulating evidence for 4 nodes\n",
      "learning for 4 nodes\n",
      "starting learning for 4 nodes\n",
      "Runing Sum-product\n",
      "accumulating evidence for 4 nodes\n",
      "learning for 4 nodes\n",
      "starting learning for 4 nodes\n",
      "Runing Sum-product\n",
      "accumulating evidence for 4 nodes\n",
      "learning for 4 nodes\n",
      "starting learning for 4 nodes\n",
      "Runing Sum-product\n",
      "accumulating evidence for 4 nodes\n",
      "learning for 4 nodes\n",
      "starting learning for 4 nodes\n",
      "Runing Sum-product\n",
      "accumulating evidence for 4 nodes\n",
      "learning for 4 nodes\n",
      "starting learning for 4 nodes\n",
      "Runing Sum-product\n",
      "accumulating evidence for 4 nodes\n",
      "learning for 4 nodes\n",
      "starting learning for 4 nodes\n",
      "Runing Sum-product\n",
      "accumulating evidence for 4 nodes\n",
      "learning for 4 nodes\n",
      "starting learning for 4 nodes\n",
      "Runing Sum-product\n",
      "accumulating evidence for 4 nodes\n",
      "learning for 4 nodes\n",
      "starting learning for 4 nodes\n",
      "Runing Sum-product\n",
      "accumulating evidence for 4 nodes\n",
      "learning for 4 nodes\n",
      "starting learning for 4 nodes\n",
      "Runing Sum-product\n",
      "accumulating evidence for 4 nodes\n",
      "learning for 4 nodes\n",
      "starting learning for 4 nodes\n",
      "Runing Sum-product\n",
      "accumulating evidence for 4 nodes\n",
      "learning for 4 nodes\n",
      "starting learning for 4 nodes\n",
      "Runing Sum-product\n",
      "accumulating evidence for 4 nodes\n",
      "learning for 4 nodes\n",
      "starting learning for 4 nodes\n",
      "Runing Sum-product\n",
      "accumulating evidence for 4 nodes\n",
      "learning for 4 nodes\n",
      "starting learning for 4 nodes\n",
      "Runing Sum-product\n",
      "accumulating evidence for 4 nodes\n",
      "learning for 4 nodes\n",
      "starting learning for 4 nodes\n",
      "Runing Sum-product\n",
      "accumulating evidence for 4 nodes\n",
      "learning for 4 nodes\n",
      "starting learning for 4 nodes\n",
      "Runing Sum-product\n",
      "accumulating evidence for 4 nodes\n",
      "learning for 4 nodes\n",
      "starting learning for 4 nodes\n",
      "Runing Sum-product\n",
      "accumulating evidence for 4 nodes\n",
      "learning for 4 nodes\n",
      "starting learning for 4 nodes\n",
      "Runing Sum-product\n",
      "accumulating evidence for 4 nodes\n",
      "learning for 4 nodes\n",
      "starting learning for 4 nodes\n",
      "Runing Sum-product\n",
      "accumulating evidence for 4 nodes\n",
      "learning for 4 nodes\n",
      "starting learning for 4 nodes\n",
      "Runing Sum-product\n",
      "accumulating evidence for 4 nodes\n",
      "learning for 4 nodes\n",
      "starting learning for 4 nodes\n",
      "Runing Sum-product\n",
      "accumulating evidence for 4 nodes\n",
      "learning for 4 nodes\n",
      "starting learning for 4 nodes\n",
      "Runing Sum-product\n",
      "accumulating evidence for 4 nodes\n",
      "learning for 4 nodes\n",
      "starting learning for 4 nodes\n",
      "Runing Sum-product\n",
      "accumulating evidence for 4 nodes\n",
      "learning for 4 nodes\n",
      "starting learning for 4 nodes\n",
      "Runing Sum-product\n",
      "accumulating evidence for 4 nodes\n",
      "learning for 4 nodes\n",
      "starting learning for 4 nodes\n",
      "Runing Sum-product\n",
      "accumulating evidence for 4 nodes\n",
      "learning for 4 nodes\n",
      "starting learning for 4 nodes\n",
      "Runing Sum-product\n",
      "accumulating evidence for 4 nodes\n",
      "learning for 4 nodes\n",
      "starting learning for 4 nodes\n",
      "Runing Sum-product\n",
      "accumulating evidence for 4 nodes\n",
      "learning for 4 nodes\n",
      "starting learning for 4 nodes\n",
      "Runing Sum-product\n",
      "accumulating evidence for 4 nodes\n",
      "learning for 4 nodes\n"
     ]
    }
   ],
   "source": [
    "for trial in range(30): \n",
    "    sp.startLearning(allNodes)\n",
    "    sens.observe('noci')\n",
    "    sp.runSumProduct(allNodes)\n",
    "    sp.accumulateEvidence(allNodes)\n",
    "    sp.learn(allNodes)\n",
    "    NP_ppain_noci.append(senstovar.naturalParams[(('noci',), ('pain',))])\n",
    "    NP_ppain_tickle.append(senstovar.naturalParams[(('tickle',), ('pain',))])\n",
    "    NP_pnopain_noci.append(senstovar.naturalParams[(('noci',), ('nopain',))])\n",
    "    NP_pnopain_tickle.append(senstovar.naturalParams[(('tickle',),('nopain',))])\n",
    "    PCpain.append(senstovar.pseudoCounts[('pain',)])\n",
    "    PCnopain.append(senstovar.pseudoCounts[('nopain',)])\n",
    "    Prior_PC_pain.append(prior.pseudoCounts[(None,)])\n",
    "    Prior_PC_nopain.append(prior.pseudoCounts[()])\n",
    "    Prior_NP_pain.append(prior.naturalParams[(('pain',), (None,))])\n",
    "    Prior_NP_nopain.append(prior.naturalParams[(('nopain',), (None,))])\n",
    "for trial in range(30):\n",
    "    sp.startLearning(allNodes)\n",
    "    sens.observe('tickle')\n",
    "    sp.runSumProduct(allNodes)\n",
    "    sp.accumulateEvidence(allNodes)\n",
    "    sp.learn(allNodes)\n",
    "    NP_ppain_noci.append(senstovar.naturalParams[(('noci',), ('pain',))])\n",
    "    NP_ppain_tickle.append(senstovar.naturalParams[(('tickle',), ('pain',))])\n",
    "    NP_pnopain_noci.append(senstovar.naturalParams[(('noci',), ('nopain',))])\n",
    "    NP_pnopain_tickle.append(senstovar.naturalParams[(('tickle',),('nopain',))])\n",
    "    PCpain.append(senstovar.pseudoCounts[('pain',)])\n",
    "    PCnopain.append(senstovar.pseudoCounts[('nopain',)])\n",
    "    #Prior_PC_pain.append(prior.pseudoCounts[(None,)])\n",
    "    Prior_PC_nopain.append(prior.pseudoCounts[()])\n",
    "    Prior_NP_pain.append(prior.naturalParams[(('pain',), (None,))])\n",
    "    Prior_NP_nopain.append(prior.naturalParams[(('nopain',), (None,))])"
   ]
  },
  {
   "cell_type": "code",
   "execution_count": 10,
   "metadata": {
    "collapsed": false
   },
   "outputs": [],
   "source": [
    "# Pseudocounts des Prior\n",
    "# plt.figure(figsize=(10.0,8.0))\n",
    "# plt.title(\"Pseudocount of Prior in Latent Model\", fontsize=15)\n",
    "# plt.suptitle(r'Observations: 30x Noci, 30x Tickle')\n",
    "# plt.plot(Prior_PC_pain, 'r.',label=r'$\\nu$ Pain')\n",
    "# plt.plot(Prior_PC_nopain, 'y*', label=r'$\\nu$ No Pain')\n",
    "# plt.xlabel(\"Number of observations\")\n",
    "# plt.ylabel(r'$\\nu$',fontsize=18)\n",
    "# plt.legend(fontsize=14)\n",
    "# plt.savefig(\"Latent_Prior_Pseudocount.png\")\n",
    "# plt.show()"
   ]
  },
  {
   "cell_type": "code",
   "execution_count": 11,
   "metadata": {
    "collapsed": false
   },
   "outputs": [
    {
     "data": {
      "image/png": "[encoded data removed]",
      "text/plain": [
       "<matplotlib.figure.Figure at 0x1b4942cfac8>"
      ]
     },
     "metadata": {},
     "output_type": "display_data"
    }
   ],
   "source": [
    "fig=plt.figure(figsize=(10.0,8.0))\n",
    "plt.title('Natural Parameters of Prior')\n",
    "\n",
    "plt.plot(Prior_NP_pain, 'r.', label=r'$\\lambda$ Pain')\n",
    "plt.plot(Prior_NP_nopain, 'g+', label=r'$\\lambda$ No Pain')\n",
    "plt.xlabel('Number of observations', fontsize=14)\n",
    "plt.ylabel(r'$\\lambda$', fontsize=18)\n",
    "plt.legend(fontsize=14)\n",
    "plt.savefig('Latent_Prior_NatParameters')\n",
    "plt.show()"
   ]
  },
  {
   "cell_type": "code",
   "execution_count": 12,
   "metadata": {
    "collapsed": false
   },
   "outputs": [
    {
     "data": {
      "image/png": "[encoded data removed]",
      "text/plain": [
       "<matplotlib.figure.Figure at 0x1b49eef3278>"
      ]
     },
     "metadata": {},
     "output_type": "display_data"
    }
   ],
   "source": [
    "fig1=plt.figure(figsize=(10.0,8.0))\n",
    "plt.title(r\"Latent Model, pseudocounts $P(Sensation | Hidden)$\", fontsize=15)\n",
    "plt.suptitle(r'Observations: 30x Noci, 30x Pain')\n",
    "plt.plot(PCpain, 'r.',label=r'$\\nu$ Pain')\n",
    "plt.plot(PCnopain, 'g+', label=r'$\\nu$ No Pain')\n",
    "plt.xlabel(\"Number of observations\")\n",
    "plt.ylabel(r'$\\nu$',fontsize=18)\n",
    "plt.legend(fontsize=14)\n",
    "plt.savefig(\"pc_latentmodel_bothprecise.png\")\n",
    "plt.show()"
   ]
  },
  {
   "cell_type": "code",
   "execution_count": 15,
   "metadata": {
    "collapsed": false
   },
   "outputs": [
    {
     "data": {
      "image/png": "[encoded data removed]",
      "text/plain": [
       "<matplotlib.figure.Figure at 0x1b494387c50>"
      ]
     },
     "metadata": {},
     "output_type": "display_data"
    }
   ],
   "source": [
    "\n",
    "fig2=plt.figure(figsize=(19.0,8.0))\n",
    "plt.title(\"Latent Model, Natural Parameters $P(Sensation | Hidden)$\", fontsize=18)\n",
    "axes = plt.gca()\n",
    "axes.set_ylim([0.4,0.7])\n",
    "plt.xlabel('Number of Observations', fontsize=18)\n",
    "plt.ylabel('Probability', fontsize=18)\n",
    "plt.plot(NP_ppain_noci, 'r-', label=\"P(Noci|Pain)\")\n",
    "plt.plot(NP_ppain_tickle, 'b+', label=\"P(Tickle|Pain)\")\n",
    "plt.plot(NP_pnopain_noci, 'c*', label=\"P(Noci|Nopain)\")\n",
    "plt.plot(NP_pnopain_tickle, 'go', label=\"P(Tickle|Nopain)\")\n",
    "plt.legend(fontsize=15)\n",
    "plt.savefig(\"Prior_Nopain=0.5_Transprobs=0.9PpNoci_0.1NPnoci.png\")\n",
    "plt.show()"
   ]
  },
  {
   "cell_type": "code",
   "execution_count": 14,
   "metadata": {
    "collapsed": false
   },
   "outputs": [
    {
     "name": "stdout",
     "output_type": "stream",
     "text": [
      "({'noci': 0.0, 'tickle': 1.0}, 0.4992854934426555)\n",
      "({'pain': 0.8000368902166121, 'nopain': 0.1999631097833879}, 0.4992854934426555)\n"
     ]
    }
   ],
   "source": [
    "for v in variable: \n",
    "    print(v.marginal())"
   ]
  }
 ],
 "metadata": {
  "kernelspec": {
   "display_name": "Python 3",
   "language": "python",
   "name": "python3"
  },
  "language_info": {
   "codemirror_mode": {
    "name": "ipython",
    "version": 3
   },
   "file_extension": ".py",
   "mimetype": "text/x-python",
   "name": "python",
   "nbconvert_exporter": "python",
   "pygments_lexer": "ipython3",
   "version": "3.6.0"
  }
 },
 "nbformat": 4,
 "nbformat_minor": 2
}
