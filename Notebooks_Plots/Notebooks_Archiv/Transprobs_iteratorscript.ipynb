{
 "cells": [
  {
   "cell_type": "markdown",
   "metadata": {},
   "source": [
    "# Transition Probs Iterator script"
   ]
  },
  {
   "cell_type": "code",
   "execution_count": 1,
   "metadata": {
    "collapsed": false
   },
   "outputs": [],
   "source": [
    "import sumProduct as sp\n",
    "import numpy as np\n",
    "import graphviz as gp\n",
    "import subprocess\n",
    "import matplotlib.pyplot as plt\n",
    "import matplotlib.ticker as ticker"
   ]
  },
  {
   "cell_type": "code",
   "execution_count": 2,
   "metadata": {
    "collapsed": true
   },
   "outputs": [],
   "source": [
    "factors=[] \n",
    "variables=[]\n",
    "hidden=[]\n",
    "sensory=[]\n",
    "allNodes=[]"
   ]
  },
  {
   "cell_type": "code",
   "execution_count": 3,
   "metadata": {
    "collapsed": false
   },
   "outputs": [
    {
     "data": {
      "text/plain": [
       "20"
      ]
     },
     "execution_count": 3,
     "metadata": {},
     "output_type": "execute_result"
    }
   ],
   "source": [
    "vlist=['P'+str(i) for i in range(20)]\n",
    "hidden=[sp.variableNode(name, vrange=['pain','nopain']) for name in vlist]\n",
    "len(hidden)"
   ]
  },
  {
   "cell_type": "code",
   "execution_count": 4,
   "metadata": {
    "collapsed": false
   },
   "outputs": [
    {
     "name": "stdout",
     "output_type": "stream",
     "text": [
      "40\n"
     ]
    }
   ],
   "source": [
    "Slist=['S'+str(i) for i in range(20)]\n",
    "sensory=[sp.variableNode(name, vrange=['tickle','noci']) for name in Slist]\n",
    "variables=hidden+sensory\n",
    "print(len(variables))"
   ]
  },
  {
   "cell_type": "code",
   "execution_count": 5,
   "metadata": {
    "collapsed": false
   },
   "outputs": [
    {
     "name": "stdout",
     "output_type": "stream",
     "text": [
      "1\n"
     ]
    }
   ],
   "source": [
    "pT0=sp.factorNode()\n",
    "pT0.addNeighbour(hidden[0])\n",
    "# Kann man den prior hier als 'situationsspezifischen' Prior verstehen? \n",
    "def PT0(x):\n",
    "    T1,=x\n",
    "    if T1=='pain':\n",
    "        return 0.3\n",
    "    if T1=='nopain':\n",
    "        return 0.7\n",
    "    raise ValueError('Invalid argument'+str(x))\n",
    "    \n",
    "pT0.setValues(PT0)\n",
    "factors+=[pT0]\n",
    "print(len(factors))"
   ]
  },
  {
   "cell_type": "code",
   "execution_count": 6,
   "metadata": {
    "collapsed": true
   },
   "outputs": [],
   "source": [
    "def pTgivenT(x):\n",
    "    T1,T2=x\n",
    "    if T1=='pain' and T2=='pain':\n",
    "        return 0.9889531994561856 #Pp=0.3, Pnp=0.7\n",
    "    if T1=='pain' and T2=='nopain':\n",
    "        return 1-0.9558127978247422\n",
    "    if T1=='nopain' and T2=='pain':\n",
    "        return 1-0.9889531994561856\n",
    "    if T1=='nopain' and T2=='nopain':\n",
    "        return 0.9558127978247422\n",
    "    raise ValueError('Invalid argument'+str(x))\n",
    "\n",
    "def pSgivenT(x):\n",
    "    S1,T1=x\n",
    "    if S1=='tickle' and T1=='nopain':\n",
    "        return 0.9\n",
    "    if S1=='noci' and T1=='nopain':\n",
    "        return 0.1\n",
    "    if S1=='tickle' and T1=='pain':\n",
    "        return 0.1\n",
    "    if S1=='noci' and T1=='pain':\n",
    "        return 0.9\n",
    "    raise ValueError('Invalid argument'+str(x))"
   ]
  },
  {
   "cell_type": "code",
   "execution_count": 7,
   "metadata": {
    "collapsed": false
   },
   "outputs": [
    {
     "name": "stdout",
     "output_type": "stream",
     "text": [
      "40\n"
     ]
    }
   ],
   "source": [
    "parent=hidden[0]\n",
    "\n",
    "for child in hidden[1:]:\n",
    "        p=sp.factorNode()\n",
    "        p.addNeighbour(child)\n",
    "        p.addNeighbour(parent)\n",
    "        p.setValues(pTgivenT)\n",
    "        factors+=[p]\n",
    "        parent=child\n",
    "\n",
    "child = sensory[0]\n",
    "\n",
    "for h,s in zip(hidden,sensory):\n",
    "    f=sp.factorNode()\n",
    "    f.addNeighbour(s)\n",
    "    f.addNeighbour(h)\n",
    "    factors+=[f]\n",
    "    f.setValues(pSgivenT)\n",
    "\n",
    "print(len(factors))\n",
    "\n",
    "allNodes=variables+factors"
   ]
  },
  {
   "cell_type": "code",
   "execution_count": 8,
   "metadata": {
    "collapsed": false
   },
   "outputs": [],
   "source": [
    "sp.runSumProduct(allNodes)"
   ]
  },
  {
   "cell_type": "code",
   "execution_count": 9,
   "metadata": {
    "collapsed": true
   },
   "outputs": [],
   "source": [
    "Marginals=[]\n",
    "for h in hidden: \n",
    "    Marginals.append(h.marginal()[0])"
   ]
  },
  {
   "cell_type": "code",
   "execution_count": 10,
   "metadata": {
    "collapsed": false
   },
   "outputs": [
    {
     "name": "stdout",
     "output_type": "stream",
     "text": [
      "[0.3, 0.3276170013595362, 0.35370860519088715, 0.3783590653052723, 0.4016479818386731, 0.4236505582929438, 0.4444378443795127, 0.46407696544985394, 0.4826313392535958, 0.500160880724211, 0.5167221954535743, 0.5323687624801445, 0.547151106981025, 0.5611169634255495, 0.574311429717243, 0.5867771128219045, 0.5985542663520679, 0.6096809205521233, 0.6201930051038388, 0.6301244651488416]\n",
      "[0.7, 0.6723829986404638, 0.6462913948091129, 0.6216409346947278, 0.5983520181613269, 0.5763494417070562, 0.5555621556204873, 0.535923034550146, 0.5173686607464042, 0.4998391192757889, 0.48327780454642566, 0.4676312375198555, 0.4528488930189751, 0.4388830365744505, 0.42568857028275703, 0.4132228871780956, 0.40144573364793207, 0.39031907944787664, 0.37980699489616127, 0.36987553485115837]\n"
     ]
    }
   ],
   "source": [
    "pain_prob = [d['pain'] for d in Marginals]\n",
    "print(pain_prob)\n",
    "nopain_prob = [d['nopain'] for d in Marginals]\n",
    "print(nopain_prob)"
   ]
  },
  {
   "cell_type": "code",
   "execution_count": null,
   "metadata": {
    "collapsed": true
   },
   "outputs": [],
   "source": []
  }
 ],
 "metadata": {
  "kernelspec": {
   "display_name": "Python 3",
   "language": "python",
   "name": "python3"
  },
  "language_info": {
   "codemirror_mode": {
    "name": "ipython",
    "version": 3
   },
   "file_extension": ".py",
   "mimetype": "text/x-python",
   "name": "python",
   "nbconvert_exporter": "python",
   "pygments_lexer": "ipython3",
   "version": "3.6.0"
  }
 },
 "nbformat": 4,
 "nbformat_minor": 2
}
