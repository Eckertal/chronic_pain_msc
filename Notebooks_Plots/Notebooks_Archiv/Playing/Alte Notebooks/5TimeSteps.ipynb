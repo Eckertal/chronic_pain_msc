{
 "cells": [
  {
   "cell_type": "markdown",
   "metadata": {},
   "source": [
    "## Model with 5 time-steps"
   ]
  },
  {
   "cell_type": "code",
   "execution_count": 1,
   "metadata": {
    "collapsed": true
   },
   "outputs": [],
   "source": [
    "import sumProduct as sp\n",
    "import numpy as np\n",
    "import graphviz as gp\n",
    "import subprocess\n",
    "import matplotlib.pyplot as plt"
   ]
  },
  {
   "cell_type": "code",
   "execution_count": 2,
   "metadata": {
    "collapsed": true
   },
   "outputs": [],
   "source": [
    "factors = []\n",
    "variables = []"
   ]
  },
  {
   "cell_type": "code",
   "execution_count": 3,
   "metadata": {
    "collapsed": true
   },
   "outputs": [],
   "source": [
    "P1=sp.variableNode('P1')\n",
    "P2=sp.variableNode('P2')\n",
    "P3=sp.variableNode('P3')\n",
    "P4=sp.variableNode('P4')\n",
    "P5=sp.variableNode('P5')\n",
    "variables+=[P1, P2, P3, P4, P5]"
   ]
  },
  {
   "cell_type": "code",
   "execution_count": 5,
   "metadata": {
    "collapsed": true
   },
   "outputs": [],
   "source": [
    "S1=sp.variableNode('S1')\n",
    "S2=sp.variableNode('S2')\n",
    "S3=sp.variableNode('S3')\n",
    "S4=sp.variableNode('S4')\n",
    "S5=sp.variableNode('S5')\n",
    "variables+=[S1,S2,S3,S4,S5]"
   ]
  },
  {
   "cell_type": "code",
   "execution_count": 6,
   "metadata": {
    "collapsed": true
   },
   "outputs": [],
   "source": [
    "fP1=sp.factorNode()\n",
    "fS1P1=sp.factorNode()\n",
    "fS2P2=sp.factorNode()\n",
    "fS3P3=sp.factorNode()\n",
    "fS4P4=sp.factorNode()\n",
    "fS5P5=sp.factorNode()\n",
    "factors+=[fP1,fS1P1,fS2P2,fS3P3,fS4P4,fS5P5]"
   ]
  },
  {
   "cell_type": "code",
   "execution_count": 8,
   "metadata": {
    "collapsed": true
   },
   "outputs": [],
   "source": [
    "fP2P1=sp.factorNode()\n",
    "fP3P2=sp.factorNode()\n",
    "fP4P3=sp.factorNode()\n",
    "fP5P4=sp.factorNode()\n",
    "factors+=[fP2P1,fP3P2,fP4P3,fP5P4]"
   ]
  },
  {
   "cell_type": "code",
   "execution_count": 9,
   "metadata": {
    "collapsed": true
   },
   "outputs": [],
   "source": [
    "# Prior parameters\n",
    "a= 0.4\n",
    "b=0.3\n",
    "\n",
    "#time-series: from latent to latent\n",
    "# .setValues(lambda x:c*(x[0]==x[1])+d*(x[0]!=x[1]))\n",
    "c=0.5\n",
    "d=0.2\n",
    "\n",
    "# likelihood/ precision: from latent to sensation\n",
    "# .setValues(lambda x:e*(x[0]==x[1])+f*(x[0]!=x[1]))\n",
    "e=0.5\n",
    "f=0.2"
   ]
  },
  {
   "cell_type": "code",
   "execution_count": 10,
   "metadata": {
    "collapsed": true
   },
   "outputs": [],
   "source": [
    "#Prior on P1\n",
    "fP1.addNeighbour(P1)\n",
    "fP1.setValues(lambda x:a+b*x[0])\n",
    "#P of P2 g P1\n",
    "fP2P1.addNeighbour(P1)\n",
    "fP2P1.addNeighbour(P2)\n",
    "fP2P1.setValues(lambda x:c*(x[0]==x[1])+d*(x[0]!=x[1]))\n",
    "#P of S1 g P1\n",
    "fS1P1.addNeighbour(P1)\n",
    "fS1P1.addNeighbour(S1)\n",
    "fS1P1.setValues(lambda x:e*(x[0]==x[1])+f*(x[0]!=x[1]))\n",
    "#P of P3 g P2\n",
    "fP3P2.addNeighbour(P2)\n",
    "fP3P2.addNeighbour(P3)\n",
    "fP3P2.setValues(lambda x:c*(x[0]==x[1])+d*(x[0]!=x[1]))\n",
    "#P of S2 g P2\n",
    "fS2P2.addNeighbour(P2)\n",
    "fS2P2.addNeighbour(S1)\n",
    "fS2P2.setValues(lambda x:e*(x[0]==x[1])+f*(x[0]!=x[1]))"
   ]
  },
  {
   "cell_type": "code",
   "execution_count": 13,
   "metadata": {
    "collapsed": false
   },
   "outputs": [],
   "source": [
    "#P of P4 g P3\n",
    "fP4P3.addNeighbour(P3)\n",
    "fP4P3.addNeighbour(P4)\n",
    "fP4P3.setValues(lambda x:c*(x[0]==x[1])+d*(x[0]!=x[1]))\n",
    "#P of S3 g P3\n",
    "fS3P3.addNeighbour(P3)\n",
    "fS3P3.addNeighbour(S3)\n",
    "fS3P3.setValues(lambda x:e*(x[0]==x[1])+f*(x[0]!=x[1]))\n",
    "#P of P5 g P4\n",
    "fP5P4.addNeighbour(P4)\n",
    "fP5P4.addNeighbour(P5)\n",
    "fP5P4.setValues(lambda x:c*(x[0]==x[1])+d*(x[0]!=x[1]))\n",
    "#P of S4 g P4\n",
    "fS4P4.addNeighbour(P4)\n",
    "fS4P4.addNeighbour(S5)\n",
    "fS4P4.setValues(lambda x:e*(x[0]==x[1])+f*(x[0]!=x[1]))\n",
    "#P of S5 g P5\n",
    "fS5P5.addNeighbour(P5)\n",
    "fS5P5.addNeighbour(S5)\n",
    "fS5P5.setValues(lambda x:e*(x[0]==x[1])+f*(x[0]!=x[1]))"
   ]
  },
  {
   "cell_type": "code",
   "execution_count": null,
   "metadata": {
    "collapsed": true
   },
   "outputs": [],
   "source": []
  }
 ],
 "metadata": {
  "kernelspec": {
   "display_name": "Python 3",
   "language": "python",
   "name": "python3"
  },
  "language_info": {
   "codemirror_mode": {
    "name": "ipython",
    "version": 3
   },
   "file_extension": ".py",
   "mimetype": "text/x-python",
   "name": "python",
   "nbconvert_exporter": "python",
   "pygments_lexer": "ipython3",
   "version": "3.6.0"
  }
 },
 "nbformat": 4,
 "nbformat_minor": 2
}
