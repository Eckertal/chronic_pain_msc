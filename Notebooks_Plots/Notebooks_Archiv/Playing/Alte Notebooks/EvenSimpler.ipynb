{
 "cells": [
  {
   "cell_type": "markdown",
   "metadata": {},
   "source": [
    "# Super stupid Model.\n",
    "\n",
    "Taking one step back in order to understand how values are set & consequences of different value settings for sum product results.\n",
    "\n",
    "Simple perception model\n",
    "2 latent conditions, 2 sensations, 5 parameters"
   ]
  },
  {
   "cell_type": "code",
   "execution_count": 1,
   "metadata": {
    "collapsed": true
   },
   "outputs": [],
   "source": [
    "import sys\n",
    "import numpy as np\n",
    "import sumProduct as sp\n",
    "sys.path.append('Desktop/Masterarbeit')\n",
    "import graphviz as gp\n",
    "import subprocess\n",
    "import matplotlib.pyplot as plt"
   ]
  },
  {
   "cell_type": "code",
   "execution_count": 2,
   "metadata": {
    "collapsed": true
   },
   "outputs": [],
   "source": [
    "factors=[]\n",
    "variables=[]\n",
    "allNodes=[]"
   ]
  },
  {
   "cell_type": "code",
   "execution_count": 3,
   "metadata": {
    "collapsed": true
   },
   "outputs": [],
   "source": [
    "######################### NEW AND EASIER WAY START ###################\n",
    "Vlist='P1','P2','P3','P4','P5','P6','P7'"
   ]
  },
  {
   "cell_type": "code",
   "execution_count": 4,
   "metadata": {
    "collapsed": false
   },
   "outputs": [
    {
     "data": {
      "text/plain": [
       "7"
      ]
     },
     "execution_count": 4,
     "metadata": {},
     "output_type": "execute_result"
    }
   ],
   "source": [
    "variables=[sp.variableNode(name, vrange=['pain','nopain']) for name in Vlist]\n",
    "len(variables)"
   ]
  },
  {
   "cell_type": "code",
   "execution_count": 5,
   "metadata": {
    "collapsed": false
   },
   "outputs": [],
   "source": [
    "pT1=sp.factorNode()\n",
    "pT1.addNeighbour(variables[0])\n",
    "def PT1(x):\n",
    "    T1,=x\n",
    "    if T1=='pain':\n",
    "        return 0.3\n",
    "    if T1=='nopain':\n",
    "        return 0.7\n",
    "    raise ValueError('Invalid argument'+str(x))\n",
    "pT1.setValues(PT1)\n",
    "factors+=[pT1]"
   ]
  },
  {
   "cell_type": "code",
   "execution_count": 6,
   "metadata": {
    "collapsed": false
   },
   "outputs": [],
   "source": [
    "parent=variables[0]\n",
    "for child in variables[1:]:\n",
    "    p=sp.factorNode()\n",
    "    p.addNeighbour(parent)\n",
    "    p.addNeighbour(child)\n",
    "    def pTgivenT(x): \n",
    "        T2,T1=x\n",
    "        if T1=='pain' and T2=='pain':\n",
    "            return 0.5\n",
    "        if T1=='pain' and T2=='nopain':\n",
    "            return 0.5\n",
    "        if T1=='nopain' and T2=='pain':\n",
    "            return 0.2\n",
    "        if T1=='nopain' and T2=='nopain':\n",
    "            return 0.8  \n",
    "        raise ValueError('Invalid argument'+str(x))\n",
    "    p.setValues(pTgivenT)\n",
    "    \n",
    "\n",
    "########################### NEW AND EASIER WAY STOP #####################"
   ]
  },
  {
   "cell_type": "code",
   "execution_count": 7,
   "metadata": {
    "collapsed": false
   },
   "outputs": [
    {
     "data": {
      "text/plain": [
       "0"
      ]
     },
     "execution_count": 7,
     "metadata": {},
     "output_type": "execute_result"
    }
   ],
   "source": [
    "outf=open(\"StupidModel3.dot\",\"w\")\n",
    "outf.write(pT1.dotPrint())\n",
    "outf.close()\n",
    "subprocess.call(\"neato -T png -o StupidModel3.png StupidModel3.dot\", shell=True)"
   ]
  },
  {
   "cell_type": "code",
   "execution_count": 8,
   "metadata": {
    "collapsed": false
   },
   "outputs": [],
   "source": [
    "########################## OLD AND TEDIOUS WAY START #####################\n",
    "\n",
    "\n",
    "T1 = sp.variableNode('T1',vrange=[\"pain\",\"nopain\"])\n",
    "T2 = sp.variableNode('T2',vrange=[\"pain\",\"nopain\"])\n",
    "S1 = sp.variableNode('S1',vrange=[\"tickle\",\"noci\"])\n",
    "S2 = sp.variableNode('S2',vrange=[\"tickle\",\"noci\"])\n",
    "variables += [T1, T2, S1, S2]\n",
    "\n",
    "T2T1 = sp.factorNode()\n",
    "S1T1 = sp.factorNode()\n",
    "S2T2 = sp.factorNode()\n",
    "pT1 = sp.factorNode()\n",
    "factors += [pT1, S1T1, T2T1, S2T2]\n",
    "allNodes=factors+variables"
   ]
  },
  {
   "cell_type": "code",
   "execution_count": 9,
   "metadata": {
    "collapsed": false
   },
   "outputs": [],
   "source": [
    "S1T1.addNeighbour(S1)\n",
    "S1T1.addNeighbour(T1)\n",
    "\n",
    "def pSgivenT(x):\n",
    "    S1,T1=x\n",
    "    if S1=='tickle' and T1=='nopain':\n",
    "        return 0.8\n",
    "    if S1=='noci' and T1=='nopain':\n",
    "        return 0.2\n",
    "    if S1=='tickle' and T1=='pain':\n",
    "        return 0.1\n",
    "    if S1=='noci' and T1=='pain':\n",
    "        return 0.9\n",
    "    raise ValueError('Invalid argument'+str(x))\n",
    "    \n",
    "S1T1.setValues(pSgivenT)\n",
    "\n",
    "T2T1.addNeighbour(T2)\n",
    "T2T1.addNeighbour(T1)\n",
    "\n",
    "def pTgivenT(x): \n",
    "    T2,T1=x\n",
    "    if T1=='pain' and T2=='pain':\n",
    "        return 0.5\n",
    "    if T1=='pain' and T2=='nopain':\n",
    "        return 0.5\n",
    "    if T1=='nopain' and T2=='pain':\n",
    "        return 0.2\n",
    "    if T1=='nopain' and T2=='nopain':\n",
    "        return 0.8  \n",
    "    raise ValueError('Invalid argument'+str(x))\n",
    "    \n",
    "T2T1.setValues(pTgivenT)\n",
    "\n",
    "S2T2.addNeighbour(S2)\n",
    "S2T2.addNeighbour(T2)    \n",
    "S2T2.setValues(pSgivenT)\n",
    "\n",
    "pT1.addNeighbour(T1)\n",
    "\n",
    "def PT1(x):\n",
    "    T1,=x\n",
    "    if T1=='pain':\n",
    "        return 0.3\n",
    "    if T1=='nopain':\n",
    "        return 0.7\n",
    "    raise ValueError('Invalid argument'+str(x))\n",
    "\n",
    "pT1.setValues(PT1)"
   ]
  },
  {
   "cell_type": "code",
   "execution_count": 10,
   "metadata": {
    "collapsed": false
   },
   "outputs": [
    {
     "data": {
      "text/plain": [
       "[('tickle', 'pain'),\n",
       " ('tickle', 'nopain'),\n",
       " ('noci', 'pain'),\n",
       " ('noci', 'nopain')]"
      ]
     },
     "execution_count": 10,
     "metadata": {},
     "output_type": "execute_result"
    }
   ],
   "source": [
    "S1T1.ranges"
   ]
  },
  {
   "cell_type": "code",
   "execution_count": 11,
   "metadata": {
    "collapsed": false
   },
   "outputs": [
    {
     "name": "stdout",
     "output_type": "stream",
     "text": [
      "[<sumProduct.variableNode object at 0x00000270CF7C77F0>, <sumProduct.variableNode object at 0x00000270CF7C7828>, <sumProduct.variableNode object at 0x00000270CF7C7898>, <sumProduct.variableNode object at 0x00000270CF7C78D0>, <sumProduct.variableNode object at 0x00000270CF7C7908>, <sumProduct.variableNode object at 0x00000270CF7C7940>, <sumProduct.variableNode object at 0x00000270CF7C7978>, <sumProduct.variableNode object at 0x00000270CF7E6160>, <sumProduct.variableNode object at 0x00000270CF7E6198>, <sumProduct.variableNode object at 0x00000270CF7E6208>, <sumProduct.variableNode object at 0x00000270CF7E6240>]\n",
      "[<sumProduct.factorNode object at 0x00000270CF7CC358>, <sumProduct.factorNode object at 0x00000270CF7E61D0>, <sumProduct.factorNode object at 0x00000270CF7E6278>, <sumProduct.factorNode object at 0x00000270CF7E62B0>, <sumProduct.factorNode object at 0x00000270CF7E6128>]\n"
     ]
    },
    {
     "data": {
      "text/plain": [
       "('nodeT1 [shape=circle,label=\"T1\"];',\n",
       " 'nodefactorT2T1 [shape=box,label=\"factorT2T1\"];')"
      ]
     },
     "execution_count": 11,
     "metadata": {},
     "output_type": "execute_result"
    }
   ],
   "source": [
    "print(variables)\n",
    "print(factors)\n",
    "T1._printNode(), T2T1._printNode()"
   ]
  },
  {
   "cell_type": "code",
   "execution_count": 12,
   "metadata": {
    "collapsed": false
   },
   "outputs": [
    {
     "data": {
      "text/plain": [
       "0"
      ]
     },
     "execution_count": 12,
     "metadata": {},
     "output_type": "execute_result"
    }
   ],
   "source": [
    "outf=open(\"StupidModel1.dot\",\"w\")\n",
    "outf.write(T1.dotPrint())\n",
    "outf.close()\n",
    "subprocess.call(\"neato -T png -o StupidModel1.png StupidModel1.dot\", shell=True)"
   ]
  },
  {
   "cell_type": "markdown",
   "metadata": {},
   "source": [
    "<img src=\"files/StupidModel1.png\">"
   ]
  },
  {
   "cell_type": "code",
   "execution_count": 13,
   "metadata": {
    "collapsed": false
   },
   "outputs": [
    {
     "data": {
      "text/plain": [
       "[<sumProduct.factorNode at 0x270cf7cc358>,\n",
       " <sumProduct.factorNode at 0x270cf7e61d0>,\n",
       " <sumProduct.factorNode at 0x270cf7e6278>,\n",
       " <sumProduct.factorNode at 0x270cf7e62b0>,\n",
       " <sumProduct.factorNode at 0x270cf7e6128>,\n",
       " <sumProduct.variableNode at 0x270cf7c77f0>,\n",
       " <sumProduct.variableNode at 0x270cf7c7828>,\n",
       " <sumProduct.variableNode at 0x270cf7c7898>,\n",
       " <sumProduct.variableNode at 0x270cf7c78d0>,\n",
       " <sumProduct.variableNode at 0x270cf7c7908>,\n",
       " <sumProduct.variableNode at 0x270cf7c7940>,\n",
       " <sumProduct.variableNode at 0x270cf7c7978>,\n",
       " <sumProduct.variableNode at 0x270cf7e6160>,\n",
       " <sumProduct.variableNode at 0x270cf7e6198>,\n",
       " <sumProduct.variableNode at 0x270cf7e6208>,\n",
       " <sumProduct.variableNode at 0x270cf7e6240>]"
      ]
     },
     "execution_count": 13,
     "metadata": {},
     "output_type": "execute_result"
    }
   ],
   "source": [
    "allNodes"
   ]
  },
  {
   "cell_type": "code",
   "execution_count": null,
   "metadata": {
    "collapsed": true
   },
   "outputs": [],
   "source": [
    "S1.observe('tickle')"
   ]
  },
  {
   "cell_type": "code",
   "execution_count": null,
   "metadata": {
    "collapsed": false
   },
   "outputs": [],
   "source": [
    "sp.runSumProduct(allNodes)"
   ]
  },
  {
   "cell_type": "code",
   "execution_count": null,
   "metadata": {
    "collapsed": false
   },
   "outputs": [],
   "source": [
    "for v in variables: \n",
    "    print(\"Node \",v.name,\" has marginals \",v.marginal())\n",
    "print()"
   ]
  },
  {
   "cell_type": "code",
   "execution_count": null,
   "metadata": {
    "collapsed": false
   },
   "outputs": [],
   "source": [
    "T1.marginal()"
   ]
  },
  {
   "cell_type": "code",
   "execution_count": null,
   "metadata": {
    "collapsed": false
   },
   "outputs": [],
   "source": [
    "T2T1.compute(T1,msgType=\"sum\")"
   ]
  },
  {
   "cell_type": "code",
   "execution_count": null,
   "metadata": {
    "collapsed": false
   },
   "outputs": [],
   "source": [
    "S1.observe()\n",
    "sp.runSumProduct(allNodes)\n",
    "for v in variables: \n",
    "    print('Node',v.name,'has marginals ',v.marginal())\n",
    "print()"
   ]
  },
  {
   "cell_type": "code",
   "execution_count": null,
   "metadata": {
    "collapsed": false
   },
   "outputs": [],
   "source": [
    "S1.observe('noci')\n",
    "sp.runSumProduct(allNodes)\n",
    "for v in variables: \n",
    "    print('Node ', v.name, 'has marginals ', v.marginal())"
   ]
  },
  {
   "cell_type": "code",
   "execution_count": null,
   "metadata": {
    "collapsed": true
   },
   "outputs": [],
   "source": [
    "sensations=[]\n",
    "sensations+='nociceptive stimulus','tickle'"
   ]
  },
  {
   "cell_type": "code",
   "execution_count": null,
   "metadata": {
    "collapsed": false
   },
   "outputs": [],
   "source": [
    "plt.figure(figsize=(12.0,8.0))\n",
    "plt.title(\"Pain Probability - Healthy Control\", fontsize=20)\n",
    "plt.ylabel('Probability of Pain', fontsize=18)\n",
    "plt.xlabel('Sensation', fontsize=18)\n",
    "plt.xticks(T1.vrange)\n",
    "\n",
    "plt.bar(T1.marginal, alpha=0.5, color=\"green\")\n",
    "plt.bar(T1.marginal, alpha=0.5, color=\"blue\") \n",
    "\n",
    "plt.tight_layout()\n",
    "plt.savefig(\"HistogramPain.pdf\")\n",
    "plt.show()"
   ]
  },
  {
   "cell_type": "raw",
   "metadata": {
    "collapsed": true
   },
   "source": []
  }
 ],
 "metadata": {
  "kernelspec": {
   "display_name": "Python 3",
   "language": "python",
   "name": "python3"
  },
  "language_info": {
   "codemirror_mode": {
    "name": "ipython",
    "version": 3
   },
   "file_extension": ".py",
   "mimetype": "text/x-python",
   "name": "python",
   "nbconvert_exporter": "python",
   "pygments_lexer": "ipython3",
   "version": "3.6.0"
  }
 },
 "nbformat": 4,
 "nbformat_minor": 2
}
