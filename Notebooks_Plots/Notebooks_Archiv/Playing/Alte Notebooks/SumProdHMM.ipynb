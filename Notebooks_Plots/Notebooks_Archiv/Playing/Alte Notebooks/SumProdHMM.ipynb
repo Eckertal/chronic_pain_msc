{
 "cells": [
  {
   "cell_type": "code",
   "execution_count": 1,
   "metadata": {
    "collapsed": false
   },
   "outputs": [],
   "source": [
    "import sys\n",
    "import sumProduct as sp\n",
    "sys.path.append('/Desktop/Masterarbeit/')\n",
    "import graphviz as gv\n",
    "import subprocess"
   ]
  },
  {
   "cell_type": "markdown",
   "metadata": {},
   "source": [
    "__ E1. Draw factor graph__ "
   ]
  },
  {
   "cell_type": "markdown",
   "metadata": {
    "collapsed": false
   },
   "source": [
    "__E2. What are the marginal distributions of P(X0),...,P(X3)?__"
   ]
  },
  {
   "cell_type": "markdown",
   "metadata": {
    "collapsed": true
   },
   "source": [
    "Marginal distributions mit dem SumProduct Algorhithm ausrechnen. \n",
    "\n",
    "*Dazu: erstmal alle variableNodes und alle factorNodes definieren.*\n",
    "\n",
    "*Dann die Struktur klar machen mit addNeighbour.* \n",
    "\n",
    "**Dann die values der Faktoren auf diese Werte setzen:**\n",
    "\n",
    "Faktoren von latent zu observed (zB P(Xi given Hi) haben value 0.8\n",
    "\n",
    "Faktoren von latent zu latent (zB P(Hi+1 given Hi) haben value 0.7\n",
    "\n",
    "P(H0 - T) = 0.5\n",
    "\n",
    "**dann runsumproduct of some sort.**"
   ]
  },
  {
   "cell_type": "code",
   "execution_count": 2,
   "metadata": {
    "collapsed": false
   },
   "outputs": [],
   "source": [
    "# Initialize variable nodes\n",
    "X0 = sp.variableNode('X0')\n",
    "X1 = sp.variableNode('X1')\n",
    "X2 = sp.variableNode('X2')\n",
    "X3 = sp.variableNode('X3')\n",
    "\n",
    "H0 = sp.variableNode('H0')\n",
    "H1 = sp.variableNode('H1')\n",
    "H2 = sp.variableNode('H2')\n",
    "H3 = sp.variableNode('H3')\n",
    "\n",
    "# initialise factor nodes from latent to latent\n",
    "PH0 = sp.factorNode()\n",
    "PH1H0 = sp.factorNode()\n",
    "PH2H1 = sp.factorNode()\n",
    "PH3H2 = sp.factorNode()\n",
    "\n",
    "# initialize factor nodes from latent to observed\n",
    "PX0H0 = sp.factorNode()\n",
    "PX1H1 = sp.factorNode()\n",
    "PX2H2 = sp.factorNode()\n",
    "PX3H3 = sp.factorNode()"
   ]
  },
  {
   "cell_type": "code",
   "execution_count": 3,
   "metadata": {
    "collapsed": true
   },
   "outputs": [],
   "source": [
    "factors = []\n",
    "variables = []"
   ]
  },
  {
   "cell_type": "code",
   "execution_count": 4,
   "metadata": {
    "collapsed": false
   },
   "outputs": [],
   "source": [
    "#Prior on H0\n",
    "PH0=sp.factorNode()\n",
    "PH0.addNeighbour(H0)\n",
    "PH0.setValues(lambda x:0.3+0.4*x[0])\n",
    "factors +=[PH0]"
   ]
  },
  {
   "cell_type": "code",
   "execution_count": 5,
   "metadata": {
    "collapsed": false
   },
   "outputs": [],
   "source": [
    "#PX0H0\n",
    "PX0H0=sp.factorNode()\n",
    "PX0H0.addNeighbour(H0)\n",
    "PX0H0.addNeighbour(X0)\n",
    "PX0H0.setValues(lambda x:0.8*(x[0]==x[1])+0.2*(x[0]!=x[1]))\n",
    "factors += [PX0H0]\n",
    "\n",
    "#PX1H1\n",
    "PX1H1=sp.factorNode()\n",
    "PX1H1.addNeighbour(H1)\n",
    "PX1H1.addNeighbour(X1)\n",
    "PX1H1.setValues(lambda x:0.8*(x[0]==x[1])+0.2*(x[0]!=x[1]))\n",
    "factors += [PX1H1]\n",
    "\n",
    "#PX2H2\n",
    "PX2H2=sp.factorNode()\n",
    "PX2H2.addNeighbour(H2)\n",
    "PX2H2.addNeighbour(X2)\n",
    "PX2H2.setValues(lambda x:0.8*(x[0]==x[1])+0.2*(x[0]!=x[1]))\n",
    "factors += [PX2H2]\n",
    "\n",
    "#PX3H3\n",
    "PX3H3=sp.factorNode()\n",
    "PX3H3.addNeighbour(H3)\n",
    "PX3H3.addNeighbour(X3)\n",
    "PX3H3.setValues(lambda x:0.8*(x[0]==x[1])+0.2*(x[0]!=x[1]))\n",
    "factors += [PX3H3]"
   ]
  },
  {
   "cell_type": "code",
   "execution_count": 6,
   "metadata": {
    "collapsed": true
   },
   "outputs": [],
   "source": [
    "#PH1H0\n",
    "PH1H0=sp.factorNode()\n",
    "PH1H0.addNeighbour(H0)\n",
    "PH1H0.addNeighbour(H1)\n",
    "PH1H0.setValues(lambda x:0.7*(x[0]==x[1])+0.3*(x[0]!=x[1]))\n",
    "factors += [PH1H0]\n",
    "\n",
    "#PH2H1\n",
    "PH2H1=sp.factorNode()\n",
    "PH2H1.addNeighbour(H1)\n",
    "PH2H1.addNeighbour(H2)\n",
    "PH2H1.setValues(lambda x:0.7*(x[0]==x[1])+0.3*(x[0]!=x[1]))\n",
    "factors += [PH2H1]\n",
    "\n",
    "#PH3H2\n",
    "PH3H2=sp.factorNode()\n",
    "PH3H2.addNeighbour(H2)\n",
    "PH3H2.addNeighbour(H3)\n",
    "PH3H2.setValues(lambda x:0.7*(x[0]==x[1])+0.3*(x[0]!=x[1]))\n",
    "factors += [PH3H2]"
   ]
  },
  {
   "cell_type": "code",
   "execution_count": 7,
   "metadata": {
    "collapsed": false
   },
   "outputs": [
    {
     "name": "stdout",
     "output_type": "stream",
     "text": [
      "[[<sumProduct.factorNode object at 0x00000237938546A0>, <sumProduct.factorNode object at 0x0000023793862F98>, <sumProduct.factorNode object at 0x0000023793862F60>, <sumProduct.factorNode object at 0x0000023793862FD0>, <sumProduct.factorNode object at 0x0000023793854390>, <sumProduct.factorNode object at 0x000002379385D5C0>, <sumProduct.factorNode object at 0x000002379385D588>, <sumProduct.factorNode object at 0x00000237938542E8>]]\n"
     ]
    }
   ],
   "source": [
    "variables = [H0,H1,H2,H3,X0,X1,X2,X3]\n",
    "print([factors])"
   ]
  },
  {
   "cell_type": "code",
   "execution_count": 8,
   "metadata": {
    "collapsed": false
   },
   "outputs": [
    {
     "data": {
      "text/plain": [
       "'nodeH0 [shape=circle,label=\"H0\"];'"
      ]
     },
     "execution_count": 8,
     "metadata": {},
     "output_type": "execute_result"
    }
   ],
   "source": [
    "allNodes=variables+factors\n",
    "H0._printNode()"
   ]
  },
  {
   "cell_type": "code",
   "execution_count": 9,
   "metadata": {
    "collapsed": false
   },
   "outputs": [
    {
     "data": {
      "text/plain": [
       "0"
      ]
     },
     "execution_count": 9,
     "metadata": {},
     "output_type": "execute_result"
    }
   ],
   "source": [
    "# Plotting of the factor graph using graphviz\n",
    "outf=open(\"hmm.dot\",\"w\")\n",
    "outf.write(H0.dotPrint())\n",
    "outf.close()\n",
    "subprocess.call(\"neato -T png -o hmm.png hmm.dot\", shell=True)"
   ]
  },
  {
   "cell_type": "code",
   "execution_count": 10,
   "metadata": {
    "collapsed": false
   },
   "outputs": [
    {
     "name": "stdout",
     "output_type": "stream",
     "text": [
      "Node H0 has marginal  ({True: 0.7, False: 0.3}, 1.0)\n",
      "Node H1 has marginal  ({True: 0.58, False: 0.42}, 1.0)\n",
      "Node H2 has marginal  ({True: 0.532, False: 0.46799999999999997}, 1.0)\n",
      "Node H3 has marginal  ({True: 0.5128, False: 0.48719999999999997}, 1.0)\n",
      "Node X0 has marginal  ({True: 0.62, False: 0.38000000000000006}, 0.9999999999999999)\n",
      "Node X1 has marginal  ({True: 0.5479999999999999, False: 0.452}, 1.0)\n",
      "Node X2 has marginal  ({True: 0.5192, False: 0.4808}, 1.0)\n",
      "Node X3 has marginal  ({True: 0.50768, False: 0.49232}, 1.0)\n",
      "\n"
     ]
    }
   ],
   "source": [
    "sp.runSumProduct(allNodes)\n",
    "#Compute marginals of variables X0,X1,X2,X3\n",
    "for v in variables:\n",
    "    print(\"Node\",v.name,\"has marginal \",v.marginal())\n",
    "print() "
   ]
  },
  {
   "cell_type": "markdown",
   "metadata": {},
   "source": [
    "0.5 for everything because we dont have a biased beforehand. "
   ]
  },
  {
   "cell_type": "markdown",
   "metadata": {},
   "source": [
    "__ E3. Assume you observe the sequence S=(X0=T,X1=F,X2=F,X3=T)__\n",
    "\n",
    "What is the probability distribution P(H3 given S)? \n",
    "\n",
    "--> Inference on the hidden state. "
   ]
  },
  {
   "cell_type": "code",
   "execution_count": 11,
   "metadata": {
    "collapsed": false
   },
   "outputs": [
    {
     "name": "stdout",
     "output_type": "stream",
     "text": [
      "H0 has marginals  ({True: 0.8402572619973142, False: 0.15974273800268568}, 0.056595999999999994)\n",
      "H1 has marginals  ({True: 0.25789808467029474, False: 0.7421019153297053}, 0.056595999999999994)\n",
      "H2 has marginals  ({True: 0.2361863029189342, False: 0.7638136970810658}, 0.056595999999999994)\n",
      "H3 has marginals  ({True: 0.6957382147148209, False: 0.30426178528517916}, 0.056596)\n",
      "X0 has marginals  ({True: 1.0, False: 0.0}, 0.056595999999999994)\n",
      "X1 has marginals  ({True: 0.0, False: 1.0}, 0.056595999999999994)\n",
      "X2 has marginals  ({True: 0.0, False: 1.0}, 0.056596)\n",
      "X3 has marginals  ({True: 1.0, False: 0.0}, 0.056596)\n"
     ]
    }
   ],
   "source": [
    "#S=[X0=True,X1=False,X2=False,X3=True]\n",
    "\n",
    "X0.observe(True)\n",
    "X1.observe(False)\n",
    "X2.observe(False)\n",
    "X3.observe(True)\n",
    "\n",
    "sp.runSumProduct(allNodes)\n",
    "for v in variables: \n",
    "    print (v.name+\" has marginals \",v.marginal())\n"
   ]
  },
  {
   "cell_type": "markdown",
   "metadata": {},
   "source": [
    "__E4. What is the probability distribution P(H0 given S)?__"
   ]
  },
  {
   "cell_type": "code",
   "execution_count": 12,
   "metadata": {
    "collapsed": false
   },
   "outputs": [
    {
     "name": "stdout",
     "output_type": "stream",
     "text": [
      "({True: 0.8402572619973142, False: 0.15974273800268568}, 0.056595999999999994)\n"
     ]
    }
   ],
   "source": [
    "X0.observe(True)\n",
    "X1.observe(False)\n",
    "X2.observe(False)\n",
    "X3.observe(True)\n",
    "\n",
    "sp.runSumProduct(allNodes)\n",
    "\n",
    "print (H0.marginal())"
   ]
  },
  {
   "cell_type": "markdown",
   "metadata": {},
   "source": [
    "__E5. What is the most probable hidden state sequence H0,H1,H2,H3 given these observations?__"
   ]
  },
  {
   "cell_type": "code",
   "execution_count": 13,
   "metadata": {
    "collapsed": false
   },
   "outputs": [
    {
     "name": "stdout",
     "output_type": "stream",
     "text": [
      "\n",
      "Maximally probable state sequence - last node observed\n",
      "H0 has MAX marginals  (0.018063359999999997, True)\n",
      "H1 has MAX marginals  (0.018063359999999997, False)\n",
      "H2 has MAX marginals  (0.018063359999999997, False)\n",
      "H3 has MAX marginals  (0.018063359999999997, True)\n",
      "X0 has MAX marginals  (0.018063359999999997, True)\n",
      "X1 has MAX marginals  (0.018063359999999997, False)\n",
      "X2 has MAX marginals  (0.018063359999999997, False)\n",
      "X3 has MAX marginals  (0.018063359999999997, True)\n"
     ]
    }
   ],
   "source": [
    "X0.observe(True)\n",
    "X1.observe(False)\n",
    "X2.observe(False)\n",
    "X3.observe(True)\n",
    "\n",
    "#v.marginal(max)\n",
    "sp.runSumProduct(allNodes,\"max\")\n",
    "print()\n",
    "print(\"Maximally probable state sequence - last node observed\")\n",
    "for v in variables: \n",
    "    print(v.name+\" has MAX marginals \",v.marginal(\"max\"))"
   ]
  },
  {
   "cell_type": "markdown",
   "metadata": {},
   "source": [
    "__E6. Assume you observe the sequence (X0=T,X1=F,X2=F) - what is probability distribution of X3 given this sequence?__ = Time series prediction"
   ]
  },
  {
   "cell_type": "code",
   "execution_count": 14,
   "metadata": {
    "collapsed": false
   },
   "outputs": [
    {
     "name": "stdout",
     "output_type": "stream",
     "text": [
      "\n",
      "Maximally probable state sequence, last node unobserved\n",
      "H0 has max marginals  (0.042147839999999985, True)\n",
      "H1 has max marginals  (0.04214783999999999, False)\n",
      "H2 has max marginals  (0.04214783999999999, False)\n",
      "H3 has max marginals  (0.04214784, False)\n",
      "X0 has max marginals  (0.04214783999999999, True)\n",
      "X1 has max marginals  (0.04214783999999999, False)\n",
      "X2 has max marginals  (0.04214783999999999, False)\n",
      "X3 has max marginals  (0.04214784, False)\n"
     ]
    }
   ],
   "source": [
    "# X0= True, X1 = False, X2 = False \n",
    "\n",
    "variables[-1].observe(0)\n",
    "sp.runSumProduct(allNodes,\"max\")\n",
    "print()\n",
    "print(\"Maximally probable state sequence, last node unobserved\")\n",
    "for v in variables: \n",
    "    print (v.name+\" has max marginals \",v.marginal(\"max\"))\n",
    "\n",
    "#They observe pain at 0 and then no pain. \n",
    "#What are they expecting for the next step in time?\n",
    "\n",
    "#call empty observe for X3, the last node and runSumproduct\n",
    "#Results: person is going to no pain. preditc from the most recent past: no pain."
   ]
  },
  {
   "cell_type": "markdown",
   "metadata": {},
   "source": [
    "__E7. Assume all variables were unobserved - are X0 and X3 independent?__\n",
    "Assume you knew H2=F; are X0 and X3 independent given this knowledge? "
   ]
  },
  {
   "cell_type": "code",
   "execution_count": 15,
   "metadata": {
    "collapsed": true
   },
   "outputs": [],
   "source": [
    "#Is the solution programmable or rather graphical inspection?"
   ]
  },
  {
   "cell_type": "markdown",
   "metadata": {},
   "source": [
    "This is a matter of __d-separation__ I think - not really sure how I could tackle this quantitatively...\n",
    "\n",
    "- Unobserved ancestors produce dependencies\n",
    "* so yes X0 and X3 are dependent.\n",
    "\n",
    "If H2 is observed: \n",
    "\n",
    "- H2 is kinda an intermediary. \n",
    "- Observed intermediaries no not produce dependencies. "
   ]
  },
  {
   "cell_type": "code",
   "execution_count": 16,
   "metadata": {
    "collapsed": false
   },
   "outputs": [
    {
     "data": {
      "text/plain": [
       "[<sumProduct.variableNode at 0x1bc2f394160>,\n",
       " <sumProduct.variableNode at 0x1bc2f394198>,\n",
       " <sumProduct.variableNode at 0x1bc2f3941d0>,\n",
       " <sumProduct.variableNode at 0x1bc2f394208>,\n",
       " <sumProduct.variableNode at 0x1bc2f3940b8>,\n",
       " <sumProduct.variableNode at 0x1bc2f390fd0>,\n",
       " <sumProduct.variableNode at 0x1bc2f3940f0>,\n",
       " <sumProduct.variableNode at 0x1bc2f394128>,\n",
       " <sumProduct.factorNode at 0x1bc2f390278>,\n",
       " <sumProduct.factorNode at 0x1bc2f3a9eb8>,\n",
       " <sumProduct.factorNode at 0x1bc2f3a9e80>,\n",
       " <sumProduct.factorNode at 0x1bc2f394358>,\n",
       " <sumProduct.factorNode at 0x1bc2f394390>,\n",
       " <sumProduct.factorNode at 0x1bc2f3a93c8>,\n",
       " <sumProduct.factorNode at 0x1bc2f3a9470>,\n",
       " <sumProduct.factorNode at 0x1bc2f394278>]"
      ]
     },
     "execution_count": 16,
     "metadata": {},
     "output_type": "execute_result"
    }
   ],
   "source": [
    "allNodes"
   ]
  },
  {
   "cell_type": "code",
   "execution_count": 17,
   "metadata": {
    "collapsed": false
   },
   "outputs": [
    {
     "name": "stdout",
     "output_type": "stream",
     "text": [
      "Help on NoneType object:\n",
      "\n",
      "class NoneType(object)\n",
      " |  Methods defined here:\n",
      " |  \n",
      " |  __bool__(self, /)\n",
      " |      self != 0\n",
      " |  \n",
      " |  __new__(*args, **kwargs) from builtins.type\n",
      " |      Create and return a new object.  See help(type) for accurate signature.\n",
      " |  \n",
      " |  __repr__(self, /)\n",
      " |      Return repr(self).\n",
      "\n"
     ]
    }
   ],
   "source": [
    "help(sp.runSumProduct(allNodes))"
   ]
  },
  {
   "cell_type": "code",
   "execution_count": null,
   "metadata": {
    "collapsed": true
   },
   "outputs": [],
   "source": [
    "sp.runSumProduct(allNodes,\"max\")"
   ]
  },
  {
   "cell_type": "markdown",
   "metadata": {},
   "source": [
    "Next steps: \n",
    "\n",
    "- Free Energy learning? Does this cover attention allocation? \n",
    "- How long should the HMM be? \n",
    "- How do we simulate data\n",
    "- and how do we use the model on real data...\n",
    "\n",
    "???"
   ]
  },
  {
   "cell_type": "code",
   "execution_count": null,
   "metadata": {
    "collapsed": true
   },
   "outputs": [],
   "source": []
  }
 ],
 "metadata": {
  "kernelspec": {
   "display_name": "Python 3",
   "language": "python",
   "name": "python3"
  },
  "language_info": {
   "codemirror_mode": {
    "name": "ipython",
    "version": 3
   },
   "file_extension": ".py",
   "mimetype": "text/x-python",
   "name": "python",
   "nbconvert_exporter": "python",
   "pygments_lexer": "ipython3",
   "version": "3.6.0"
  }
 },
 "nbformat": 4,
 "nbformat_minor": 2
}
