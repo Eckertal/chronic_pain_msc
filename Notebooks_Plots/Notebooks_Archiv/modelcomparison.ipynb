{
 "cells": [
  {
   "cell_type": "markdown",
   "metadata": {},
   "source": [
    "# Model comparison"
   ]
  },
  {
   "cell_type": "code",
   "execution_count": 19,
   "metadata": {
    "collapsed": true
   },
   "outputs": [],
   "source": [
    "import sumProduct as sp\n",
    "import numpy as np\n",
    "import matplotlib.pyplot as plt\n",
    "import scipy.special\n",
    "import scipy.stats\n",
    "from mpl_toolkits.mplot3d import Axes3D\n",
    "from matplotlib import cm\n",
    "from matplotlib.ticker import LinearLocator, FormatStrFormatter, MaxNLocator\n",
    "import subprocess\n",
    "import graphviz as gp"
   ]
  },
  {
   "cell_type": "code",
   "execution_count": 94,
   "metadata": {
    "collapsed": false
   },
   "outputs": [],
   "source": [
    "def buildmodel(vlistlen,slistlen):\n",
    "    variables=[]\n",
    "    vlist=['H'+str(i) for i in range(vlistlen)]\n",
    "    hidden=[sp.variableNode(name, vrange=['pain','avgpain', 'nopain']) for name in vlist]\n",
    "    Slist=['S'+str(i) for i in range(slistlen)]\n",
    "    sensory=[sp.variableNode(name, vrange=['tickle','noci']) for name in Slist]\n",
    "    variables=sensory+hidden\n",
    "    factors=[]\n",
    "    \n",
    "    \n",
    "    prior=sp.freeEnergyFactorNode()\n",
    "    prior.addNeighbour(hidden[0])\n",
    "\n",
    "    def exprior(condrv,conditioners):\n",
    "        if condrv[0] is None:\n",
    "            return 10.0\n",
    "        if condrv[0]=='nopain':\n",
    "            return 0.1\n",
    "        if condrv[0]=='pain':\n",
    "            return 0.9\n",
    "    \n",
    "    prior.setPrior(exprior)\n",
    "    factors.append(prior)\n",
    "    prior.predictFactor()\n",
    "    \n",
    "    def hiddenprior(condrv,conditioners):\n",
    "        if condrv[0] is None:\n",
    "            return 80.0\n",
    "        if conditioners[0]=='pain':\n",
    "            if condrv[0]=='pain':\n",
    "                return 0.9\n",
    "            if condrv[0]=='nopain':\n",
    "                return 0.1\n",
    "        else:\n",
    "            if condrv[0]=='pain':\n",
    "                return 0.7\n",
    "            if condrv[0]=='nopain':\n",
    "                return 0.3\n",
    "            \n",
    "    parent=hidden[0]\n",
    "    hiddenfactors=[]\n",
    "    for child in hidden[1:]:\n",
    "        fe=sp.freeEnergyFactorNode()\n",
    "        fe.addNeighbour(child,isConditioner=False)\n",
    "        fe.addNeighbour(parent,isConditioner=True)\n",
    "        fe.setPrior(hiddenprior)\n",
    "        factors.append(fe)\n",
    "        hiddenfactors.append(fe)\n",
    "        parent=child\n",
    "        \n",
    "    def sensprior(condrv,conditioners):\n",
    "        if condrv[0] is None:\n",
    "            return 10.0\n",
    "        if conditioners[0]=='pain':\n",
    "            if condrv[0]=='noci':\n",
    "                return 0.9\n",
    "            if condrv[0]=='tickle':\n",
    "                return 0.1\n",
    "        else:\n",
    "            if condrv[0]=='tickle':\n",
    "                return 0.9\n",
    "            if condrv[0]=='noci':\n",
    "                return 0.1\n",
    "    \n",
    "    sensfactors=[]\n",
    "    for h,s in zip(hidden,sensory):\n",
    "        f=sp.freeEnergyFactorNode()\n",
    "        f.addNeighbour(s)\n",
    "        f.addNeighbour(h,isConditioner=True)\n",
    "        f.setPrior(sensprior)\n",
    "        factors+=[f]\n",
    "        sensfactors+=[f]\n",
    "        f.predictFactor()\n",
    "    \n",
    "    allNodes=variables+factors\n",
    "    return(allNodes,variables,hidden,sensory,factors,hiddenfactors,sensfactors)"
   ]
  },
  {
   "cell_type": "code",
   "execution_count": 95,
   "metadata": {
    "collapsed": false
   },
   "outputs": [
    {
     "ename": "TypeError",
     "evalue": "unsupported operand type(s) for *: 'float' and 'NoneType'",
     "output_type": "error",
     "traceback": [
      "\u001b[0;31m---------------------------------------------------------------------------\u001b[0m",
      "\u001b[0;31mTypeError\u001b[0m                                 Traceback (most recent call last)",
      "\u001b[0;32m<ipython-input-95-505a78a27000>\u001b[0m in \u001b[0;36m<module>\u001b[0;34m()\u001b[0m\n\u001b[0;32m----> 1\u001b[0;31m \u001b[0mallNodes\u001b[0m\u001b[1;33m,\u001b[0m\u001b[0mvariables\u001b[0m\u001b[1;33m,\u001b[0m\u001b[0mhidden\u001b[0m\u001b[1;33m,\u001b[0m\u001b[0msensory\u001b[0m\u001b[1;33m,\u001b[0m\u001b[0mfactors\u001b[0m\u001b[1;33m,\u001b[0m\u001b[0mhiddenfactors\u001b[0m\u001b[1;33m,\u001b[0m\u001b[0msensfactors\u001b[0m\u001b[1;33m=\u001b[0m\u001b[0mbuildmodel\u001b[0m\u001b[1;33m(\u001b[0m\u001b[1;36m2\u001b[0m\u001b[1;33m,\u001b[0m\u001b[1;36m2\u001b[0m\u001b[1;33m)\u001b[0m\u001b[1;33m\u001b[0m\u001b[0m\n\u001b[0m",
      "\u001b[0;32m<ipython-input-94-a07520cbc7d1>\u001b[0m in \u001b[0;36mbuildmodel\u001b[0;34m(vlistlen, slistlen)\u001b[0m\n\u001b[1;32m     22\u001b[0m     \u001b[0mprior\u001b[0m\u001b[1;33m.\u001b[0m\u001b[0msetPrior\u001b[0m\u001b[1;33m(\u001b[0m\u001b[0mexprior\u001b[0m\u001b[1;33m)\u001b[0m\u001b[1;33m\u001b[0m\u001b[0m\n\u001b[1;32m     23\u001b[0m     \u001b[0mfactors\u001b[0m\u001b[1;33m.\u001b[0m\u001b[0mappend\u001b[0m\u001b[1;33m(\u001b[0m\u001b[0mprior\u001b[0m\u001b[1;33m)\u001b[0m\u001b[1;33m\u001b[0m\u001b[0m\n\u001b[0;32m---> 24\u001b[0;31m     \u001b[0mprior\u001b[0m\u001b[1;33m.\u001b[0m\u001b[0mpredictFactor\u001b[0m\u001b[1;33m(\u001b[0m\u001b[1;33m)\u001b[0m\u001b[1;33m\u001b[0m\u001b[0m\n\u001b[0m\u001b[1;32m     25\u001b[0m \u001b[1;33m\u001b[0m\u001b[0m\n\u001b[1;32m     26\u001b[0m     \u001b[1;32mdef\u001b[0m \u001b[0mhiddenprior\u001b[0m\u001b[1;33m(\u001b[0m\u001b[0mcondrv\u001b[0m\u001b[1;33m,\u001b[0m\u001b[0mconditioners\u001b[0m\u001b[1;33m)\u001b[0m\u001b[1;33m:\u001b[0m\u001b[1;33m\u001b[0m\u001b[0m\n",
      "\u001b[0;32mC:\\Users\\OEM\\Desktop\\Masterarbeit\\Notebooks_Plots\\sumProduct.py\u001b[0m in \u001b[0;36mpredictFactor\u001b[0;34m(self)\u001b[0m\n\u001b[1;32m    338\u001b[0m \u001b[1;33m\u001b[0m\u001b[0m\n\u001b[1;32m    339\u001b[0m             \u001b[1;32mfor\u001b[0m \u001b[0mcondrv\u001b[0m \u001b[1;32min\u001b[0m \u001b[0mself\u001b[0m\u001b[1;33m.\u001b[0m\u001b[0mconditionedRanges\u001b[0m\u001b[1;33m:\u001b[0m\u001b[1;33m\u001b[0m\u001b[0m\n\u001b[0;32m--> 340\u001b[0;31m                 \u001b[0mself\u001b[0m\u001b[1;33m.\u001b[0m\u001b[0mfactor\u001b[0m\u001b[1;33m[\u001b[0m\u001b[0mcondrv\u001b[0m\u001b[1;33m+\u001b[0m\u001b[0mccond\u001b[0m\u001b[1;33m]\u001b[0m\u001b[1;33m=\u001b[0m\u001b[0mnp\u001b[0m\u001b[1;33m.\u001b[0m\u001b[0mexp\u001b[0m\u001b[1;33m(\u001b[0m\u001b[0mspf\u001b[0m\u001b[1;33m.\u001b[0m\u001b[0mpsi\u001b[0m\u001b[1;33m(\u001b[0m\u001b[0mnu\u001b[0m\u001b[1;33m*\u001b[0m\u001b[0mself\u001b[0m\u001b[1;33m.\u001b[0m\u001b[0mnaturalParams\u001b[0m\u001b[1;33m[\u001b[0m\u001b[1;33m(\u001b[0m\u001b[0mcondrv\u001b[0m\u001b[1;33m,\u001b[0m\u001b[0mconditioner\u001b[0m\u001b[1;33m)\u001b[0m\u001b[1;33m]\u001b[0m\u001b[1;33m)\u001b[0m\u001b[1;33m-\u001b[0m\u001b[0mspf\u001b[0m\u001b[1;33m.\u001b[0m\u001b[0mpsi\u001b[0m\u001b[1;33m(\u001b[0m\u001b[0mnu\u001b[0m\u001b[1;33m)\u001b[0m\u001b[1;33m)\u001b[0m\u001b[1;33m\u001b[0m\u001b[0m\n\u001b[0m\u001b[1;32m    341\u001b[0m                 \u001b[0mfsum\u001b[0m\u001b[1;33m+=\u001b[0m\u001b[0mself\u001b[0m\u001b[1;33m.\u001b[0m\u001b[0mfactor\u001b[0m\u001b[1;33m[\u001b[0m\u001b[0mcondrv\u001b[0m\u001b[1;33m+\u001b[0m\u001b[0mccond\u001b[0m\u001b[1;33m]\u001b[0m\u001b[1;33m\u001b[0m\u001b[0m\n\u001b[1;32m    342\u001b[0m             \u001b[1;32mfor\u001b[0m \u001b[0mcondrv\u001b[0m \u001b[1;32min\u001b[0m \u001b[0mself\u001b[0m\u001b[1;33m.\u001b[0m\u001b[0mconditionedRanges\u001b[0m\u001b[1;33m:\u001b[0m\u001b[1;33m\u001b[0m\u001b[0m\n",
      "\u001b[0;31mTypeError\u001b[0m: unsupported operand type(s) for *: 'float' and 'NoneType'"
     ]
    }
   ],
   "source": [
    "allNodes,variables,hidden,sensory,factors,hiddenfactors,sensfactors=buildmodel(2,2)"
   ]
  },
  {
   "cell_type": "markdown",
   "metadata": {},
   "source": [
    "Noch 2 Funktionen: 1 für chain, 1 für basic\n",
    "Eine Funktion pro Modelltyp"
   ]
  },
  {
   "cell_type": "code",
   "execution_count": 96,
   "metadata": {
    "collapsed": false
   },
   "outputs": [
    {
     "data": {
      "text/plain": [
       "array([[ 3.,  3., 16.,  6.],\n",
       "       [ 0.,  0.,  0.,  0.],\n",
       "       [ 7.,  4.,  1., 13.],\n",
       "       [10.,  5., 10., 10.],\n",
       "       [69., 73., 53., 38.],\n",
       "       [20., 45., 70., 50.],\n",
       "       [ 0.,  3.,  0., 20.],\n",
       "       [10., 10., 10., 10.],\n",
       "       [22., 35.,  0.,  0.],\n",
       "       [18., 33., 31., 44.],\n",
       "       [ 7.,  5.,  4.,  3.],\n",
       "       [25., 30., 30., 33.],\n",
       "       [50., 20., 35., 70.],\n",
       "       [ 7., 13., 13., 14.],\n",
       "       [ 1., 32., 31., 72.],\n",
       "       [15., 50.,  3.,  0.],\n",
       "       [ 0.,  0.,  0.,  0.],\n",
       "       [ 3.,  3.,  4.,  3.],\n",
       "       [ 0., 50., 50., 20.]])"
      ]
     },
     "execution_count": 96,
     "metadata": {},
     "output_type": "execute_result"
    }
   ],
   "source": [
    "data=np.genfromtxt('PI-ANNA_DatenN=36CSV.csv', delimiter=\";\",skip_header=2,dtype=str)\n",
    "\n",
    "type(data[1,1])\n",
    "\n",
    "for i in range(data.shape[0]):\n",
    "    for j in range(data.shape[1]):\n",
    "        data[i,j]=str(data[i,j]).replace(\",\",\".\")\n",
    "\n",
    "data=data[:,1:5].astype(\"float\")\n",
    "data[16:55]"
   ]
  },
  {
   "cell_type": "code",
   "execution_count": 97,
   "metadata": {
    "collapsed": false
   },
   "outputs": [
    {
     "data": {
      "text/plain": [
       "array([[70., 50., 50., 70.],\n",
       "       [50., 50., 50., 70.],\n",
       "       [20., 20., 20., 20.],\n",
       "       [50., 70., 70., 70.],\n",
       "       [20., 50., 20., 20.],\n",
       "       [70., 70., 70., 70.],\n",
       "       [50., 50., 20., 20.],\n",
       "       [20., 50., 50., 70.],\n",
       "       [50., 70., 50., 70.],\n",
       "       [20., 50., 20., 20.],\n",
       "       [20., 70., 70., 70.],\n",
       "       [70., 70., 70., 70.],\n",
       "       [20., 20., 50., 70.],\n",
       "       [70., 50., 50., 70.],\n",
       "       [70., 70., 70., 50.],\n",
       "       [50., 20., 50., 50.],\n",
       "       [20., 20., 20., 20.],\n",
       "       [20., 20., 20., 20.],\n",
       "       [20., 20., 20., 20.],\n",
       "       [20., 20., 20., 20.],\n",
       "       [70., 70., 50., 50.],\n",
       "       [20., 50., 70., 50.],\n",
       "       [20., 20., 20., 20.],\n",
       "       [20., 20., 20., 20.],\n",
       "       [20., 50., 20., 20.],\n",
       "       [20., 50., 50., 50.],\n",
       "       [20., 20., 20., 20.],\n",
       "       [50., 50., 50., 50.],\n",
       "       [50., 20., 50., 70.],\n",
       "       [20., 20., 20., 20.],\n",
       "       [20., 50., 50., 70.],\n",
       "       [20., 50., 20., 20.],\n",
       "       [20., 20., 20., 20.],\n",
       "       [20., 20., 20., 20.],\n",
       "       [20., 50., 50., 20.]])"
      ]
     },
     "execution_count": 97,
     "metadata": {},
     "output_type": "execute_result"
    }
   ],
   "source": [
    "x=data\n",
    "A=(x<25).astype('float')*20 + (x>58).astype('float')*70\n",
    "A[A < .25] = 50\n",
    "A\n",
    "      \n",
    "A\n",
    "\n",
    "# pro Spalte: das ist besser für die chain. das andere array (.flatten()) ist besser für das basic mdoel. "
   ]
  },
  {
   "cell_type": "code",
   "execution_count": 98,
   "metadata": {
    "collapsed": false
   },
   "outputs": [
    {
     "data": {
      "text/plain": [
       "array([70., 50., 50., 70., 50., 50., 50., 70., 20., 20., 20., 20., 50.,\n",
       "       70., 70., 70., 20., 50., 20., 20., 70., 70., 70., 70., 50., 50.,\n",
       "       20., 20., 20., 50., 50., 70., 50., 70., 50., 70., 20., 50., 20.,\n",
       "       20., 20., 70., 70., 70., 70., 70., 70., 70., 20., 20., 50., 70.,\n",
       "       70., 50., 50., 70., 70., 70., 70., 50., 50., 20., 50., 50., 20.,\n",
       "       20., 20., 20., 20., 20., 20., 20., 20., 20., 20., 20., 20., 20.,\n",
       "       20., 20., 70., 70., 50., 50., 20., 50., 70., 50., 20., 20., 20.,\n",
       "       20., 20., 20., 20., 20., 20., 50., 20., 20., 20., 50., 50., 50.,\n",
       "       20., 20., 20., 20., 50., 50., 50., 50., 50., 20., 50., 70., 20.,\n",
       "       20., 20., 20., 20., 50., 50., 70., 20., 50., 20., 20., 20., 20.,\n",
       "       20., 20., 20., 20., 20., 20., 20., 50., 50., 20.])"
      ]
     },
     "execution_count": 98,
     "metadata": {},
     "output_type": "execute_result"
    }
   ],
   "source": [
    "A.flatten()"
   ]
  },
  {
   "cell_type": "code",
   "execution_count": 99,
   "metadata": {
    "collapsed": false
   },
   "outputs": [],
   "source": [
    "# Umwandlung evtl in eine FUnktion mit return allvpdata packen!\n",
    "allvpdata=[]\n",
    "for vp in A:\n",
    "    pain_values=[]\n",
    "    for v in vp:\n",
    "        if v==70.:\n",
    "            pain_values.append('pain')\n",
    "        elif v==50.:\n",
    "            pain_values.append('avgpain')\n",
    "        elif v==20.:\n",
    "            pain_values.append('nopain')\n",
    "        #else:\n",
    "            #raise ValueError('Inexistent value')\n",
    "        allvpdata.append(pain_values)"
   ]
  },
  {
   "cell_type": "code",
   "execution_count": 31,
   "metadata": {
    "collapsed": false
   },
   "outputs": [
    {
     "data": {
      "text/plain": [
       "[['pain', 'avgpain', 'avgpain', 'pain'],\n",
       " ['pain', 'avgpain', 'avgpain', 'pain'],\n",
       " ['pain', 'avgpain', 'avgpain', 'pain'],\n",
       " ['pain', 'avgpain', 'avgpain', 'pain'],\n",
       " ['avgpain', 'avgpain', 'avgpain', 'pain'],\n",
       " ['avgpain', 'avgpain', 'avgpain', 'pain'],\n",
       " ['avgpain', 'avgpain', 'avgpain', 'pain'],\n",
       " ['avgpain', 'avgpain', 'avgpain', 'pain'],\n",
       " ['nopain', 'nopain', 'nopain', 'nopain'],\n",
       " ['nopain', 'nopain', 'nopain', 'nopain'],\n",
       " ['nopain', 'nopain', 'nopain', 'nopain'],\n",
       " ['nopain', 'nopain', 'nopain', 'nopain'],\n",
       " ['avgpain', 'pain', 'pain', 'pain'],\n",
       " ['avgpain', 'pain', 'pain', 'pain'],\n",
       " ['avgpain', 'pain', 'pain', 'pain'],\n",
       " ['avgpain', 'pain', 'pain', 'pain'],\n",
       " ['nopain', 'avgpain', 'nopain', 'nopain'],\n",
       " ['nopain', 'avgpain', 'nopain', 'nopain'],\n",
       " ['nopain', 'avgpain', 'nopain', 'nopain'],\n",
       " ['nopain', 'avgpain', 'nopain', 'nopain'],\n",
       " ['pain', 'pain', 'pain', 'pain'],\n",
       " ['pain', 'pain', 'pain', 'pain'],\n",
       " ['pain', 'pain', 'pain', 'pain'],\n",
       " ['pain', 'pain', 'pain', 'pain'],\n",
       " ['avgpain', 'avgpain', 'nopain', 'nopain'],\n",
       " ['avgpain', 'avgpain', 'nopain', 'nopain'],\n",
       " ['avgpain', 'avgpain', 'nopain', 'nopain'],\n",
       " ['avgpain', 'avgpain', 'nopain', 'nopain'],\n",
       " ['nopain', 'avgpain', 'avgpain', 'pain'],\n",
       " ['nopain', 'avgpain', 'avgpain', 'pain'],\n",
       " ['nopain', 'avgpain', 'avgpain', 'pain'],\n",
       " ['nopain', 'avgpain', 'avgpain', 'pain'],\n",
       " ['avgpain', 'pain', 'avgpain', 'pain'],\n",
       " ['avgpain', 'pain', 'avgpain', 'pain'],\n",
       " ['avgpain', 'pain', 'avgpain', 'pain'],\n",
       " ['avgpain', 'pain', 'avgpain', 'pain'],\n",
       " ['nopain', 'avgpain', 'nopain', 'nopain'],\n",
       " ['nopain', 'avgpain', 'nopain', 'nopain'],\n",
       " ['nopain', 'avgpain', 'nopain', 'nopain'],\n",
       " ['nopain', 'avgpain', 'nopain', 'nopain'],\n",
       " ['nopain', 'pain', 'pain', 'pain'],\n",
       " ['nopain', 'pain', 'pain', 'pain'],\n",
       " ['nopain', 'pain', 'pain', 'pain'],\n",
       " ['nopain', 'pain', 'pain', 'pain'],\n",
       " ['pain', 'pain', 'pain', 'pain'],\n",
       " ['pain', 'pain', 'pain', 'pain'],\n",
       " ['pain', 'pain', 'pain', 'pain'],\n",
       " ['pain', 'pain', 'pain', 'pain'],\n",
       " ['nopain', 'nopain', 'avgpain', 'pain'],\n",
       " ['nopain', 'nopain', 'avgpain', 'pain'],\n",
       " ['nopain', 'nopain', 'avgpain', 'pain'],\n",
       " ['nopain', 'nopain', 'avgpain', 'pain'],\n",
       " ['pain', 'avgpain', 'avgpain', 'pain'],\n",
       " ['pain', 'avgpain', 'avgpain', 'pain'],\n",
       " ['pain', 'avgpain', 'avgpain', 'pain'],\n",
       " ['pain', 'avgpain', 'avgpain', 'pain'],\n",
       " ['pain', 'pain', 'pain', 'avgpain'],\n",
       " ['pain', 'pain', 'pain', 'avgpain'],\n",
       " ['pain', 'pain', 'pain', 'avgpain'],\n",
       " ['pain', 'pain', 'pain', 'avgpain'],\n",
       " ['avgpain', 'nopain', 'avgpain', 'avgpain'],\n",
       " ['avgpain', 'nopain', 'avgpain', 'avgpain'],\n",
       " ['avgpain', 'nopain', 'avgpain', 'avgpain'],\n",
       " ['avgpain', 'nopain', 'avgpain', 'avgpain'],\n",
       " ['nopain', 'nopain', 'nopain', 'nopain'],\n",
       " ['nopain', 'nopain', 'nopain', 'nopain'],\n",
       " ['nopain', 'nopain', 'nopain', 'nopain'],\n",
       " ['nopain', 'nopain', 'nopain', 'nopain'],\n",
       " ['nopain', 'nopain', 'nopain', 'nopain'],\n",
       " ['nopain', 'nopain', 'nopain', 'nopain'],\n",
       " ['nopain', 'nopain', 'nopain', 'nopain'],\n",
       " ['nopain', 'nopain', 'nopain', 'nopain'],\n",
       " ['nopain', 'nopain', 'nopain', 'nopain'],\n",
       " ['nopain', 'nopain', 'nopain', 'nopain'],\n",
       " ['nopain', 'nopain', 'nopain', 'nopain'],\n",
       " ['nopain', 'nopain', 'nopain', 'nopain'],\n",
       " ['nopain', 'nopain', 'nopain', 'nopain'],\n",
       " ['nopain', 'nopain', 'nopain', 'nopain'],\n",
       " ['nopain', 'nopain', 'nopain', 'nopain'],\n",
       " ['nopain', 'nopain', 'nopain', 'nopain'],\n",
       " ['pain', 'pain', 'avgpain', 'avgpain'],\n",
       " ['pain', 'pain', 'avgpain', 'avgpain'],\n",
       " ['pain', 'pain', 'avgpain', 'avgpain'],\n",
       " ['pain', 'pain', 'avgpain', 'avgpain'],\n",
       " ['nopain', 'avgpain', 'pain', 'avgpain'],\n",
       " ['nopain', 'avgpain', 'pain', 'avgpain'],\n",
       " ['nopain', 'avgpain', 'pain', 'avgpain'],\n",
       " ['nopain', 'avgpain', 'pain', 'avgpain'],\n",
       " ['nopain', 'nopain', 'nopain', 'nopain'],\n",
       " ['nopain', 'nopain', 'nopain', 'nopain'],\n",
       " ['nopain', 'nopain', 'nopain', 'nopain'],\n",
       " ['nopain', 'nopain', 'nopain', 'nopain'],\n",
       " ['nopain', 'nopain', 'nopain', 'nopain'],\n",
       " ['nopain', 'nopain', 'nopain', 'nopain'],\n",
       " ['nopain', 'nopain', 'nopain', 'nopain'],\n",
       " ['nopain', 'nopain', 'nopain', 'nopain'],\n",
       " ['nopain', 'avgpain', 'nopain', 'nopain'],\n",
       " ['nopain', 'avgpain', 'nopain', 'nopain'],\n",
       " ['nopain', 'avgpain', 'nopain', 'nopain'],\n",
       " ['nopain', 'avgpain', 'nopain', 'nopain'],\n",
       " ['nopain', 'avgpain', 'avgpain', 'avgpain'],\n",
       " ['nopain', 'avgpain', 'avgpain', 'avgpain'],\n",
       " ['nopain', 'avgpain', 'avgpain', 'avgpain'],\n",
       " ['nopain', 'avgpain', 'avgpain', 'avgpain'],\n",
       " ['nopain', 'nopain', 'nopain', 'nopain'],\n",
       " ['nopain', 'nopain', 'nopain', 'nopain'],\n",
       " ['nopain', 'nopain', 'nopain', 'nopain'],\n",
       " ['nopain', 'nopain', 'nopain', 'nopain'],\n",
       " ['avgpain', 'avgpain', 'avgpain', 'avgpain'],\n",
       " ['avgpain', 'avgpain', 'avgpain', 'avgpain'],\n",
       " ['avgpain', 'avgpain', 'avgpain', 'avgpain'],\n",
       " ['avgpain', 'avgpain', 'avgpain', 'avgpain'],\n",
       " ['avgpain', 'nopain', 'avgpain', 'pain'],\n",
       " ['avgpain', 'nopain', 'avgpain', 'pain'],\n",
       " ['avgpain', 'nopain', 'avgpain', 'pain'],\n",
       " ['avgpain', 'nopain', 'avgpain', 'pain'],\n",
       " ['nopain', 'nopain', 'nopain', 'nopain'],\n",
       " ['nopain', 'nopain', 'nopain', 'nopain'],\n",
       " ['nopain', 'nopain', 'nopain', 'nopain'],\n",
       " ['nopain', 'nopain', 'nopain', 'nopain'],\n",
       " ['nopain', 'avgpain', 'avgpain', 'pain'],\n",
       " ['nopain', 'avgpain', 'avgpain', 'pain'],\n",
       " ['nopain', 'avgpain', 'avgpain', 'pain'],\n",
       " ['nopain', 'avgpain', 'avgpain', 'pain'],\n",
       " ['nopain', 'avgpain', 'nopain', 'nopain'],\n",
       " ['nopain', 'avgpain', 'nopain', 'nopain'],\n",
       " ['nopain', 'avgpain', 'nopain', 'nopain'],\n",
       " ['nopain', 'avgpain', 'nopain', 'nopain'],\n",
       " ['nopain', 'nopain', 'nopain', 'nopain'],\n",
       " ['nopain', 'nopain', 'nopain', 'nopain'],\n",
       " ['nopain', 'nopain', 'nopain', 'nopain'],\n",
       " ['nopain', 'nopain', 'nopain', 'nopain'],\n",
       " ['nopain', 'nopain', 'nopain', 'nopain'],\n",
       " ['nopain', 'nopain', 'nopain', 'nopain'],\n",
       " ['nopain', 'nopain', 'nopain', 'nopain'],\n",
       " ['nopain', 'nopain', 'nopain', 'nopain'],\n",
       " ['nopain', 'avgpain', 'avgpain', 'nopain'],\n",
       " ['nopain', 'avgpain', 'avgpain', 'nopain'],\n",
       " ['nopain', 'avgpain', 'avgpain', 'nopain'],\n",
       " ['nopain', 'avgpain', 'avgpain', 'nopain']]"
      ]
     },
     "execution_count": 31,
     "metadata": {},
     "output_type": "execute_result"
    }
   ],
   "source": [
    "allvpdata"
   ]
  },
  {
   "cell_type": "markdown",
   "metadata": {},
   "source": [
    "# Basic model 1"
   ]
  },
  {
   "cell_type": "code",
   "execution_count": 77,
   "metadata": {
    "collapsed": false
   },
   "outputs": [],
   "source": [
    "# Basic model 1\n",
    "allNodes=[]\n",
    "\n",
    "r=sp.variableNode(name='R', vrange=['pain', 'nopain', 'avgpain'])\n",
    "variables1=[r]\n",
    "f=sp.freeEnergyFactorNode()\n",
    "f.addNeighbour(r)\n",
    "factors1=[f]\n",
    "\n",
    "def exprior(condrv,conditioners):\n",
    "        if condrv[0] is None:\n",
    "            return 10.0\n",
    "        if condrv[0]=='nopain':\n",
    "            return 0.1\n",
    "        if condrv[0]=='pain':\n",
    "            return 0.9\n",
    "    \n",
    "f.setPrior(exprior)\n",
    "allNodes+=r,f"
   ]
  },
  {
   "cell_type": "code",
   "execution_count": 43,
   "metadata": {
    "collapsed": false
   },
   "outputs": [],
   "source": [
    "# Separating the groups: Sick and healthy.\n",
    "sickdata=[]\n",
    "controldata=[]\n",
    "for vp in allvpdata[0:15]: \n",
    "    sickdata.append(vp)\n",
    "for vp in allvpdata[16:35]:\n",
    "    controldata.append(vp)"
   ]
  },
  {
   "cell_type": "code",
   "execution_count": 57,
   "metadata": {
    "collapsed": false
   },
   "outputs": [
    {
     "data": {
      "text/plain": [
       "[['pain', 'avgpain', 'avgpain', 'pain'],\n",
       " ['pain', 'avgpain', 'avgpain', 'pain'],\n",
       " ['pain', 'avgpain', 'avgpain', 'pain'],\n",
       " ['pain', 'avgpain', 'avgpain', 'pain'],\n",
       " ['avgpain', 'avgpain', 'avgpain', 'pain'],\n",
       " ['avgpain', 'avgpain', 'avgpain', 'pain'],\n",
       " ['avgpain', 'avgpain', 'avgpain', 'pain'],\n",
       " ['avgpain', 'avgpain', 'avgpain', 'pain'],\n",
       " ['nopain', 'nopain', 'nopain', 'nopain'],\n",
       " ['nopain', 'nopain', 'nopain', 'nopain'],\n",
       " ['nopain', 'nopain', 'nopain', 'nopain'],\n",
       " ['nopain', 'nopain', 'nopain', 'nopain'],\n",
       " ['avgpain', 'pain', 'pain', 'pain'],\n",
       " ['avgpain', 'pain', 'pain', 'pain'],\n",
       " ['avgpain', 'pain', 'pain', 'pain']]"
      ]
     },
     "execution_count": 57,
     "metadata": {},
     "output_type": "execute_result"
    }
   ],
   "source": [
    "sickdata"
   ]
  },
  {
   "cell_type": "code",
   "execution_count": 93,
   "metadata": {
    "collapsed": false,
    "scrolled": true
   },
   "outputs": [
    {
     "data": {
      "text/plain": [
       "[<sumProduct.variableNode at 0x1e17ae1b470>,\n",
       " <sumProduct.freeEnergyFactorNode at 0x1e17ae1b828>]"
      ]
     },
     "execution_count": 93,
     "metadata": {},
     "output_type": "execute_result"
    }
   ],
   "source": [
    "allNodes"
   ]
  },
  {
   "cell_type": "code",
   "execution_count": 92,
   "metadata": {
    "collapsed": false
   },
   "outputs": [
    {
     "name": "stdout",
     "output_type": "stream",
     "text": [
      "starting learning for 2 nodes\n"
     ]
    },
    {
     "ename": "TypeError",
     "evalue": "unsupported operand type(s) for *: 'float' and 'NoneType'",
     "output_type": "error",
     "traceback": [
      "\u001b[0;31m---------------------------------------------------------------------------\u001b[0m",
      "\u001b[0;31mTypeError\u001b[0m                                 Traceback (most recent call last)",
      "\u001b[0;32m<ipython-input-92-f3b7337de1f4>\u001b[0m in \u001b[0;36m<module>\u001b[0;34m()\u001b[0m\n\u001b[1;32m      3\u001b[0m \u001b[1;32mfor\u001b[0m \u001b[0mvp\u001b[0m \u001b[1;32min\u001b[0m \u001b[0msickdata\u001b[0m\u001b[1;33m:\u001b[0m\u001b[1;33m\u001b[0m\u001b[0m\n\u001b[1;32m      4\u001b[0m     \u001b[1;31m# Hier das Modell jedes Mal neu aufbauen wenn wir von einer prob dis pro vp ausgehen\u001b[0m\u001b[1;33m\u001b[0m\u001b[1;33m\u001b[0m\u001b[0m\n\u001b[0;32m----> 5\u001b[0;31m     \u001b[0msp\u001b[0m\u001b[1;33m.\u001b[0m\u001b[0mstartLearning\u001b[0m\u001b[1;33m(\u001b[0m\u001b[0mallNodes\u001b[0m\u001b[1;33m)\u001b[0m\u001b[1;33m\u001b[0m\u001b[0m\n\u001b[0m\u001b[1;32m      6\u001b[0m     \u001b[1;32mfor\u001b[0m \u001b[0mv\u001b[0m \u001b[1;32min\u001b[0m \u001b[0mvp\u001b[0m\u001b[1;33m:\u001b[0m\u001b[1;33m\u001b[0m\u001b[0m\n\u001b[1;32m      7\u001b[0m         \u001b[0mr\u001b[0m\u001b[1;33m.\u001b[0m\u001b[0mobserve\u001b[0m\u001b[1;33m(\u001b[0m\u001b[0mv\u001b[0m\u001b[1;33m)\u001b[0m\u001b[1;33m\u001b[0m\u001b[0m\n",
      "\u001b[0;32mC:\\Users\\OEM\\Desktop\\Masterarbeit\\Notebooks_Plots\\sumProduct.py\u001b[0m in \u001b[0;36mstartLearning\u001b[0;34m(allNodes)\u001b[0m\n\u001b[1;32m    412\u001b[0m     \u001b[1;32mfor\u001b[0m \u001b[0mnode\u001b[0m \u001b[1;32min\u001b[0m \u001b[0mallNodes\u001b[0m\u001b[1;33m:\u001b[0m\u001b[1;33m\u001b[0m\u001b[0m\n\u001b[1;32m    413\u001b[0m         \u001b[1;32mif\u001b[0m \u001b[0misinstance\u001b[0m\u001b[1;33m(\u001b[0m\u001b[0mnode\u001b[0m\u001b[1;33m,\u001b[0m\u001b[0mfreeEnergyFactorNode\u001b[0m\u001b[1;33m)\u001b[0m\u001b[1;33m:\u001b[0m\u001b[1;33m\u001b[0m\u001b[0m\n\u001b[0;32m--> 414\u001b[0;31m             \u001b[0mnode\u001b[0m\u001b[1;33m.\u001b[0m\u001b[0mpredictFactor\u001b[0m\u001b[1;33m(\u001b[0m\u001b[1;33m)\u001b[0m\u001b[1;33m\u001b[0m\u001b[0m\n\u001b[0m\u001b[1;32m    415\u001b[0m             \u001b[0mnode\u001b[0m\u001b[1;33m.\u001b[0m\u001b[0mresetResponsibilities\u001b[0m\u001b[1;33m(\u001b[0m\u001b[1;33m)\u001b[0m\u001b[1;33m\u001b[0m\u001b[0m\n\u001b[1;32m    416\u001b[0m \u001b[1;33m\u001b[0m\u001b[0m\n",
      "\u001b[0;32mC:\\Users\\OEM\\Desktop\\Masterarbeit\\Notebooks_Plots\\sumProduct.py\u001b[0m in \u001b[0;36mpredictFactor\u001b[0;34m(self)\u001b[0m\n\u001b[1;32m    338\u001b[0m \u001b[1;33m\u001b[0m\u001b[0m\n\u001b[1;32m    339\u001b[0m             \u001b[1;32mfor\u001b[0m \u001b[0mcondrv\u001b[0m \u001b[1;32min\u001b[0m \u001b[0mself\u001b[0m\u001b[1;33m.\u001b[0m\u001b[0mconditionedRanges\u001b[0m\u001b[1;33m:\u001b[0m\u001b[1;33m\u001b[0m\u001b[0m\n\u001b[0;32m--> 340\u001b[0;31m                 \u001b[0mself\u001b[0m\u001b[1;33m.\u001b[0m\u001b[0mfactor\u001b[0m\u001b[1;33m[\u001b[0m\u001b[0mcondrv\u001b[0m\u001b[1;33m+\u001b[0m\u001b[0mccond\u001b[0m\u001b[1;33m]\u001b[0m\u001b[1;33m=\u001b[0m\u001b[0mnp\u001b[0m\u001b[1;33m.\u001b[0m\u001b[0mexp\u001b[0m\u001b[1;33m(\u001b[0m\u001b[0mspf\u001b[0m\u001b[1;33m.\u001b[0m\u001b[0mpsi\u001b[0m\u001b[1;33m(\u001b[0m\u001b[0mnu\u001b[0m\u001b[1;33m*\u001b[0m\u001b[0mself\u001b[0m\u001b[1;33m.\u001b[0m\u001b[0mnaturalParams\u001b[0m\u001b[1;33m[\u001b[0m\u001b[1;33m(\u001b[0m\u001b[0mcondrv\u001b[0m\u001b[1;33m,\u001b[0m\u001b[0mconditioner\u001b[0m\u001b[1;33m)\u001b[0m\u001b[1;33m]\u001b[0m\u001b[1;33m)\u001b[0m\u001b[1;33m-\u001b[0m\u001b[0mspf\u001b[0m\u001b[1;33m.\u001b[0m\u001b[0mpsi\u001b[0m\u001b[1;33m(\u001b[0m\u001b[0mnu\u001b[0m\u001b[1;33m)\u001b[0m\u001b[1;33m)\u001b[0m\u001b[1;33m\u001b[0m\u001b[0m\n\u001b[0m\u001b[1;32m    341\u001b[0m                 \u001b[0mfsum\u001b[0m\u001b[1;33m+=\u001b[0m\u001b[0mself\u001b[0m\u001b[1;33m.\u001b[0m\u001b[0mfactor\u001b[0m\u001b[1;33m[\u001b[0m\u001b[0mcondrv\u001b[0m\u001b[1;33m+\u001b[0m\u001b[0mccond\u001b[0m\u001b[1;33m]\u001b[0m\u001b[1;33m\u001b[0m\u001b[0m\n\u001b[1;32m    342\u001b[0m             \u001b[1;32mfor\u001b[0m \u001b[0mcondrv\u001b[0m \u001b[1;32min\u001b[0m \u001b[0mself\u001b[0m\u001b[1;33m.\u001b[0m\u001b[0mconditionedRanges\u001b[0m\u001b[1;33m:\u001b[0m\u001b[1;33m\u001b[0m\u001b[0m\n",
      "\u001b[0;31mTypeError\u001b[0m: unsupported operand type(s) for *: 'float' and 'NoneType'"
     ]
    }
   ],
   "source": [
    "modelEvidence=0.0\n",
    "# wenn ds Modell für alle gebaut wird_ Modell hier bauen (so ist es aktuell)\n",
    "for vp in sickdata:\n",
    "    # Hier das Modell jedes Mal neu aufbauen wenn wir von einer prob dis pro vp ausgehen\n",
    "    sp.startLearning(allNodes)\n",
    "    for v in vp:\n",
    "        r.observe(v)\n",
    "        sp.runSumProduct(allNodes)\n",
    "        logp=np.log(r.marginal()[-1])\n",
    "        modelEvidence+=logp\n",
    "    sp.accumulateEvidence(allNodes)\n",
    "    sp.learn(allNodes)\n",
    "    modelEvidence+=f.KLDiv_post_prior"
   ]
  },
  {
   "cell_type": "code",
   "execution_count": 76,
   "metadata": {
    "collapsed": false
   },
   "outputs": [
    {
     "data": {
      "text/plain": [
       "-0.3398348547225324"
      ]
     },
     "execution_count": 76,
     "metadata": {},
     "output_type": "execute_result"
    }
   ],
   "source": [
    "modelEvidence"
   ]
  },
  {
   "cell_type": "markdown",
   "metadata": {},
   "source": [
    "# Basic model 2"
   ]
  },
  {
   "cell_type": "code",
   "execution_count": 97,
   "metadata": {
    "collapsed": true
   },
   "outputs": [],
   "source": [
    "# Basic model 2\n",
    "allNodes2=[]\n",
    "r2=sp.variableNode(name='R', vrange=['pain', 'nopain'])\n",
    "variables2=[r2]\n",
    "f2=sp.freeEnergyFactorNode()\n",
    "f2.addNeighbour(r2)\n",
    "factors2=[f2]\n",
    "\n",
    "def exprior(condrv,conditioners):\n",
    "        if condrv[0] is None:\n",
    "            return 10.0\n",
    "        if condrv[0]=='nopain':\n",
    "            return 0.1\n",
    "        if condrv[0]=='pain':\n",
    "            return 0.9\n",
    "    \n",
    "f2.setPrior(exprior)\n",
    "allNodes2+=r2,f2"
   ]
  },
  {
   "cell_type": "code",
   "execution_count": 96,
   "metadata": {
    "collapsed": false
   },
   "outputs": [
    {
     "data": {
      "text/plain": [
       "[<sumProduct.freeEnergyFactorNode at 0x2904ec557f0>]"
      ]
     },
     "execution_count": 96,
     "metadata": {},
     "output_type": "execute_result"
    }
   ],
   "source": [
    "factors2"
   ]
  },
  {
   "cell_type": "code",
   "execution_count": 100,
   "metadata": {
    "collapsed": false
   },
   "outputs": [
    {
     "name": "stdout",
     "output_type": "stream",
     "text": [
      "starting learning for 2 nodes\n",
      "Runing Sum-product\n",
      "accumulating evidence for 2 nodes\n",
      "starting learning for 2 nodes\n",
      "Runing Sum-product\n",
      "accumulating evidence for 2 nodes\n",
      "starting learning for 2 nodes\n",
      "Runing Sum-product\n",
      "accumulating evidence for 2 nodes\n",
      "starting learning for 2 nodes\n",
      "Runing Sum-product\n",
      "accumulating evidence for 2 nodes\n",
      "starting learning for 2 nodes\n",
      "Runing Sum-product\n",
      "accumulating evidence for 2 nodes\n",
      "starting learning for 2 nodes\n",
      "Runing Sum-product\n",
      "accumulating evidence for 2 nodes\n",
      "starting learning for 2 nodes\n",
      "Runing Sum-product\n",
      "accumulating evidence for 2 nodes\n",
      "starting learning for 2 nodes\n",
      "Runing Sum-product\n",
      "accumulating evidence for 2 nodes\n",
      "starting learning for 2 nodes\n",
      "Runing Sum-product\n",
      "accumulating evidence for 2 nodes\n",
      "starting learning for 2 nodes\n",
      "Runing Sum-product\n",
      "accumulating evidence for 2 nodes\n",
      "starting learning for 2 nodes\n",
      "Runing Sum-product\n",
      "accumulating evidence for 2 nodes\n",
      "starting learning for 2 nodes\n",
      "Runing Sum-product\n",
      "accumulating evidence for 2 nodes\n",
      "starting learning for 2 nodes\n",
      "Runing Sum-product\n",
      "accumulating evidence for 2 nodes\n",
      "starting learning for 2 nodes\n",
      "Runing Sum-product\n",
      "accumulating evidence for 2 nodes\n",
      "starting learning for 2 nodes\n",
      "Runing Sum-product\n",
      "accumulating evidence for 2 nodes\n",
      "starting learning for 2 nodes\n",
      "Runing Sum-product\n",
      "accumulating evidence for 2 nodes\n",
      "starting learning for 2 nodes\n",
      "Runing Sum-product\n",
      "accumulating evidence for 2 nodes\n",
      "starting learning for 2 nodes\n",
      "Runing Sum-product\n",
      "accumulating evidence for 2 nodes\n",
      "starting learning for 2 nodes\n",
      "Runing Sum-product\n",
      "accumulating evidence for 2 nodes\n",
      "starting learning for 2 nodes\n",
      "Runing Sum-product\n",
      "accumulating evidence for 2 nodes\n",
      "starting learning for 2 nodes\n",
      "Runing Sum-product\n",
      "accumulating evidence for 2 nodes\n",
      "starting learning for 2 nodes\n",
      "Runing Sum-product\n",
      "accumulating evidence for 2 nodes\n",
      "starting learning for 2 nodes\n",
      "Runing Sum-product\n",
      "accumulating evidence for 2 nodes\n",
      "starting learning for 2 nodes\n",
      "Runing Sum-product\n",
      "accumulating evidence for 2 nodes\n",
      "starting learning for 2 nodes\n",
      "Runing Sum-product\n",
      "accumulating evidence for 2 nodes\n",
      "starting learning for 2 nodes\n",
      "Runing Sum-product\n",
      "accumulating evidence for 2 nodes\n",
      "starting learning for 2 nodes\n",
      "Runing Sum-product\n",
      "accumulating evidence for 2 nodes\n",
      "starting learning for 2 nodes\n",
      "Runing Sum-product\n",
      "accumulating evidence for 2 nodes\n",
      "starting learning for 2 nodes\n",
      "Runing Sum-product\n",
      "accumulating evidence for 2 nodes\n",
      "starting learning for 2 nodes\n",
      "Runing Sum-product\n",
      "accumulating evidence for 2 nodes\n",
      "starting learning for 2 nodes\n",
      "Runing Sum-product\n",
      "accumulating evidence for 2 nodes\n",
      "starting learning for 2 nodes\n",
      "Runing Sum-product\n",
      "accumulating evidence for 2 nodes\n",
      "starting learning for 2 nodes\n",
      "Runing Sum-product\n",
      "accumulating evidence for 2 nodes\n",
      "starting learning for 2 nodes\n",
      "Runing Sum-product\n",
      "accumulating evidence for 2 nodes\n",
      "starting learning for 2 nodes\n",
      "Runing Sum-product\n",
      "accumulating evidence for 2 nodes\n",
      "learning for 2 nodes\n"
     ]
    }
   ],
   "source": [
    "pnopain={}\n",
    "ppain={}\n",
    "modelEvidence2=0.0\n",
    "data=('pain')\n",
    "for p in range(35): \n",
    "    sp.startLearning(allNodes2)\n",
    "    variables2[0].observe('pain') # Hier müssen die Daten rein?! Wie mach ich das?\n",
    "    sp.runSumProduct(allNodes2)\n",
    "    sp.accumulateEvidence(allNodes2)\n",
    "    \n",
    "    logp2=np.log(variables2[0].marginal()[-1])\n",
    "    modelEvidence2+=logp2\n",
    "    \n",
    "sp.learn(allNodes2)\n",
    "    \n",
    "    \n",
    "    \n",
    "modelEvidence2+=f2.KLDiv_post_prior\n",
    "    "
   ]
  },
  {
   "cell_type": "code",
   "execution_count": 99,
   "metadata": {
    "collapsed": false
   },
   "outputs": [
    {
     "data": {
      "text/plain": [
       "-0.3398348547225324"
      ]
     },
     "execution_count": 99,
     "metadata": {},
     "output_type": "execute_result"
    }
   ],
   "source": [
    "modelEvidence2"
   ]
  }
 ],
 "metadata": {
  "kernelspec": {
   "display_name": "Python 3",
   "language": "python",
   "name": "python3"
  },
  "language_info": {
   "codemirror_mode": {
    "name": "ipython",
    "version": 3
   },
   "file_extension": ".py",
   "mimetype": "text/x-python",
   "name": "python",
   "nbconvert_exporter": "python",
   "pygments_lexer": "ipython3",
   "version": "3.6.0"
  }
 },
 "nbformat": 4,
 "nbformat_minor": 2
}
