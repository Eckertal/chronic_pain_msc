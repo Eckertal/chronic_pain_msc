{
 "cells": [
  {
   "cell_type": "markdown",
   "metadata": {},
   "source": [
    "# Healthy Brain\n",
    "\n",
    "Construction of a Markov Model with 2 hierarchy levels. \n",
    "\n",
    "Transprobs are taken from Pp=0.3"
   ]
  },
  {
   "cell_type": "code",
   "execution_count": 5,
   "metadata": {
    "collapsed": true
   },
   "outputs": [],
   "source": [
    "import sumProduct as sp\n",
    "import numpy as np\n",
    "import graphviz as gp\n",
    "import subprocess\n",
    "import matplotlib.pyplot as plt"
   ]
  },
  {
   "cell_type": "code",
   "execution_count": 6,
   "metadata": {
    "collapsed": false
   },
   "outputs": [],
   "source": [
    "factors = []\n",
    "variables = []\n",
    "hidden = []\n",
    "sensory = []\n",
    "allNodes = []"
   ]
  },
  {
   "cell_type": "code",
   "execution_count": 7,
   "metadata": {
    "collapsed": false
   },
   "outputs": [
    {
     "data": {
      "text/plain": [
       "5"
      ]
     },
     "execution_count": 7,
     "metadata": {},
     "output_type": "execute_result"
    }
   ],
   "source": [
    "vlist=['P'+str(i) for i in range(5)]\n",
    "hidden=[sp.variableNode(name, vrange=['pain','nopain']) for name in vlist]\n",
    "len(hidden)"
   ]
  },
  {
   "cell_type": "code",
   "execution_count": 8,
   "metadata": {
    "collapsed": false
   },
   "outputs": [
    {
     "name": "stdout",
     "output_type": "stream",
     "text": [
      "10\n"
     ]
    }
   ],
   "source": [
    "Slist=['S'+str(i) for i in range(5)]\n",
    "sensory=[sp.variableNode(name, vrange=['tickle','noci']) for name in Slist]\n",
    "variables=hidden+sensory\n",
    "print(len(variables))"
   ]
  },
  {
   "cell_type": "code",
   "execution_count": 9,
   "metadata": {
    "collapsed": false
   },
   "outputs": [
    {
     "name": "stdout",
     "output_type": "stream",
     "text": [
      "1\n"
     ]
    }
   ],
   "source": [
    "# Prior on P0\n",
    "\n",
    "pT0=sp.factorNode()\n",
    "pT0.addNeighbour(hidden[0])\n",
    "\n",
    "def PT0(x):\n",
    "    T1,=x\n",
    "    if T1=='pain':\n",
    "        return 0.3\n",
    "    if T1=='nopain':\n",
    "        return 0.7\n",
    "    raise ValueError('Invalid argument'+str(x))\n",
    "pT0.setValues(PT0)\n",
    "factors+=[pT0]\n",
    "print(len(factors))"
   ]
  },
  {
   "cell_type": "code",
   "execution_count": 10,
   "metadata": {
    "collapsed": false
   },
   "outputs": [],
   "source": [
    "def pTgivenT(x):\n",
    "    T2,T1=x\n",
    "    if T1=='pain' and T2=='pain':\n",
    "        return 0.43324968665739805\n",
    "    if T1=='pain' and T2=='nopain':\n",
    "        return 0.2428929914325436\n",
    "    if T1=='nopain' and T2=='pain':\n",
    "        return 0.566750313342602\n",
    "    if T1=='nopain' and T2=='nopain':\n",
    "        return 0.7571070085674564  \n",
    "    raise ValueError('Invalid argument'+str(x))\n",
    "\n",
    "def pSgivenT(x):\n",
    "    S1,T1=x\n",
    "    if S1=='tickle' and T1=='nopain':\n",
    "        return 0.9\n",
    "    if S1=='noci' and T1=='nopain':\n",
    "        return 0.1\n",
    "    if S1=='tickle' and T1=='pain':\n",
    "        return 0.1\n",
    "    if S1=='noci' and T1=='pain':\n",
    "        return 0.9\n",
    "    raise ValueError('Invalid argument'+str(x))"
   ]
  },
  {
   "cell_type": "code",
   "execution_count": 11,
   "metadata": {
    "collapsed": false
   },
   "outputs": [
    {
     "name": "stdout",
     "output_type": "stream",
     "text": [
      "10\n"
     ]
    }
   ],
   "source": [
    "parent=hidden[0]\n",
    "\n",
    "for child in hidden[1:]:\n",
    "        p=sp.factorNode()\n",
    "        p.addNeighbour(child)\n",
    "        p.addNeighbour(parent)\n",
    "        p.setValues(pTgivenT)\n",
    "        s=sp.factorNode()\n",
    "        factors+=[p]\n",
    "        parent=child\n",
    "\n",
    "child = sensory[0]\n",
    "\n",
    "for s,h in zip(hidden,sensory):\n",
    "    f=sp.factorNode()\n",
    "    f.addNeighbour(h)\n",
    "    f.addNeighbour(s)\n",
    "    factors+=[f]\n",
    "    f.setValues(pSgivenT)\n",
    "\n",
    "print(len(factors))"
   ]
  },
  {
   "cell_type": "code",
   "execution_count": 12,
   "metadata": {
    "collapsed": false
   },
   "outputs": [
    {
     "data": {
      "text/plain": [
       "0"
      ]
     },
     "execution_count": 12,
     "metadata": {},
     "output_type": "execute_result"
    }
   ],
   "source": [
    "outf=open(\"Easier.dot\",\"w\")\n",
    "outf.write(pT0.dotPrint())\n",
    "outf.close()\n",
    "subprocess.call(\"neato -T png -o Easier.png Easier.dot\", shell=True)"
   ]
  },
  {
   "cell_type": "markdown",
   "metadata": {},
   "source": [
    "<img src=\"files/image.png\">"
   ]
  },
  {
   "cell_type": "markdown",
   "metadata": {},
   "source": [
    "# Experiments using sp.observe()"
   ]
  },
  {
   "cell_type": "code",
   "execution_count": 13,
   "metadata": {
    "collapsed": true
   },
   "outputs": [],
   "source": [
    "allNodes=variables+factors"
   ]
  },
  {
   "cell_type": "code",
   "execution_count": 14,
   "metadata": {
    "collapsed": false
   },
   "outputs": [],
   "source": [
    "sp.runSumProduct(allNodes)"
   ]
  },
  {
   "cell_type": "code",
   "execution_count": 15,
   "metadata": {
    "collapsed": false,
    "scrolled": true
   },
   "outputs": [
    {
     "name": "stdout",
     "output_type": "stream",
     "text": [
      "Node  P0  has marginals  ({'pain': 0.15533637631507338, 'nopain': 0.8446636236849266}, 1.1597899161787144)\n",
      "Node  P1  has marginals  ({'pain': 0.2737334400962028, 'nopain': 0.7262665599037972}, 1.1597899161787144)\n",
      "Node  P2  has marginals  ({'pain': 0.3019271157741509, 'nopain': 0.6980728842258492}, 1.1597899161787142)\n",
      "Node  P3  has marginals  ({'pain': 0.3370066208698852, 'nopain': 0.6629933791301147}, 1.1597899161787142)\n",
      "Node  P4  has marginals  ({'pain': 0.49977357556489854, 'nopain': 0.5002264244351015}, 1.159789916178714)\n",
      "Node  S0  has marginals  ({'tickle': 0.7757308989479413, 'noci': 0.22426910105205872}, 1.1597899161787144)\n",
      "Node  S1  has marginals  ({'tickle': 0.6810132479230377, 'noci': 0.31898675207696225}, 1.1597899161787144)\n",
      "Node  S2  has marginals  ({'tickle': 0.6584583073806793, 'noci': 0.3415416926193207}, 1.1597899161787142)\n",
      "Node  S3  has marginals  ({'tickle': 0.6303947033040919, 'noci': 0.3696052966959082}, 1.1597899161787142)\n",
      "Node  S4  has marginals  ({'tickle': 0.5001811395480812, 'noci': 0.4998188604519188}, 1.159789916178714)\n"
     ]
    }
   ],
   "source": [
    "for v in variables: \n",
    "    print(\"Node \",v.name,\" has marginals \",v.marginal())"
   ]
  },
  {
   "cell_type": "code",
   "execution_count": 16,
   "metadata": {
    "collapsed": false
   },
   "outputs": [
    {
     "name": "stdout",
     "output_type": "stream",
     "text": [
      "Node  P0 has marginals  ({'pain': 0.6233704867400088, 'nopain': 0.3766295132599913}, 0.2601050419106428)\n",
      "Node  P1 has marginals  ({'pain': 0.36301554011054177, 'nopain': 0.6369844598894583}, 0.2601050419106428)\n",
      "Node  P2 has marginals  ({'pain': 0.319107926707037, 'nopain': 0.680892073292963}, 0.26010504191064276)\n",
      "Node  P3 has marginals  ({'pain': 0.3404450904224253, 'nopain': 0.6595549095775748}, 0.26010504191064276)\n",
      "Node  P4 has marginals  ({'pain': 0.500504805240756, 'nopain': 0.499495194759244}, 0.26010504191064276)\n",
      "Node  S0 has marginals  ({'tickle': 0.0, 'noci': 1.0}, 0.2601050419106428)\n",
      "Node  S1 has marginals  ({'tickle': 0.6095875679115667, 'noci': 0.3904124320884334}, 0.2601050419106428)\n",
      "Node  S2 has marginals  ({'tickle': 0.6447136586343705, 'noci': 0.35528634136562964}, 0.26010504191064276)\n",
      "Node  S3 has marginals  ({'tickle': 0.6276439276620597, 'noci': 0.3723560723379402}, 0.2601050419106428)\n",
      "Node  S4 has marginals  ({'tickle': 0.4995961558073952, 'noci': 0.5004038441926048}, 0.26010504191064276)\n"
     ]
    }
   ],
   "source": [
    "sensory[0].observe('noci')\n",
    "\n",
    "sp.runSumProduct(allNodes)\n",
    "sensory[2].receive\n",
    "for v in variables: \n",
    "    print (\"Node \", v.name, \"has marginals \", v.marginal())"
   ]
  },
  {
   "cell_type": "code",
   "execution_count": 17,
   "metadata": {
    "collapsed": false
   },
   "outputs": [
    {
     "name": "stdout",
     "output_type": "stream",
     "text": [
      "Node  P0 has marginals  ({'pain': 1.0, 'nopain': 0.0}, 0.1621418065793678)\n",
      "Node  P1 has marginals  ({'pain': 0.4348613161389182, 'nopain': 0.5651386838610817}, 0.16214180657936783)\n",
      "Node  P2 has marginals  ({'pain': 0.3329334157364368, 'nopain': 0.6670665842635631}, 0.1621418065793678)\n",
      "Node  P3 has marginals  ({'pain': 0.3432120449778459, 'nopain': 0.6567879550221541}, 0.1621418065793678)\n",
      "Node  P4 has marginals  ({'pain': 0.5010932296114701, 'nopain': 0.49890677038853004}, 0.16214180657936778)\n",
      "Node  S0 has marginals  ({'tickle': 0.0, 'noci': 1.0}, 0.1621418065793678)\n",
      "Node  S1 has marginals  ({'tickle': 0.5521109470888653, 'noci': 0.44788905291113457}, 0.16214180657936783)\n",
      "Node  S2 has marginals  ({'tickle': 0.6336532674108505, 'noci': 0.36634673258914946}, 0.1621418065793678)\n",
      "Node  S3 has marginals  ({'tickle': 0.6254303640177233, 'noci': 0.3745696359822767}, 0.1621418065793678)\n",
      "Node  S4 has marginals  ({'tickle': 0.499125416310824, 'noci': 0.500874583689176}, 0.16214180657936778)\n"
     ]
    }
   ],
   "source": [
    "hidden[0].observe('pain')\n",
    "sp.runSumProduct(allNodes)\n",
    "for v in variables: \n",
    "    print (\"Node \", v.name, \"has marginals \", v.marginal())"
   ]
  },
  {
   "cell_type": "code",
   "execution_count": 18,
   "metadata": {
    "collapsed": false
   },
   "outputs": [
    {
     "name": "stdout",
     "output_type": "stream",
     "text": [
      "Node  P0 has marginals  ({'pain': 1.0, 'nopain': 0.0}, 0.0895202663932344)\n",
      "Node  P1 has marginals  ({'pain': 0.07876339319693382, 'nopain': 0.9212366068030662}, 0.08952026639323439)\n",
      "Node  P2 has marginals  ({'pain': 0.2644084696758365, 'nopain': 0.7355915303241635}, 0.08952026639323438)\n",
      "Node  P3 has marginals  ({'pain': 0.32949785293305583, 'nopain': 0.6705021470669442}, 0.08952026639323438)\n",
      "Node  P4 has marginals  ({'pain': 0.49817675062268535, 'nopain': 0.5018232493773146}, 0.08952026639323438)\n",
      "Node  S0 has marginals  ({'tickle': 0.0, 'noci': 1.0}, 0.0895202663932344)\n",
      "Node  S1 has marginals  ({'tickle': 1.0, 'noci': 0.0}, 0.08952026639323439)\n",
      "Node  S2 has marginals  ({'tickle': 0.6884732242593308, 'noci': 0.3115267757406691}, 0.08952026639323438)\n",
      "Node  S3 has marginals  ({'tickle': 0.6364017176535554, 'noci': 0.3635982823464447}, 0.08952026639323438)\n",
      "Node  S4 has marginals  ({'tickle': 0.5014585995018516, 'noci': 0.4985414004981483}, 0.08952026639323438)\n"
     ]
    }
   ],
   "source": [
    "sensory[1].observe('tickle')\n",
    "sp.runSumProduct(allNodes)\n",
    "for v in variables: \n",
    "    print (\"Node \", v.name, \"has marginals \", v.marginal())"
   ]
  },
  {
   "cell_type": "code",
   "execution_count": 19,
   "metadata": {
    "collapsed": false
   },
   "outputs": [
    {
     "name": "stdout",
     "output_type": "stream",
     "text": [
      "({'pain': 0.03463814251642801, 'nopain': 0.965361857483572}, 0.06903653350661047)\n"
     ]
    }
   ],
   "source": [
    "hidden[0].observe('nopain')\n",
    "sp.runSumProduct(allNodes)\n",
    "print(hidden[1].marginal())"
   ]
  },
  {
   "cell_type": "code",
   "execution_count": 20,
   "metadata": {
    "collapsed": false
   },
   "outputs": [],
   "source": [
    "sensory[0].observe()\n",
    "hidden[0].observe()\n",
    "sensory[1].observe()"
   ]
  },
  {
   "cell_type": "code",
   "execution_count": 21,
   "metadata": {
    "collapsed": false
   },
   "outputs": [
    {
     "name": "stdout",
     "output_type": "stream",
     "text": [
      "Node  P0 has marginals  ({'pain': 0.15533637631507338, 'nopain': 0.8446636236849266}, 1.1597899161787144)\n",
      "Node  P1 has marginals  ({'pain': 0.2737334400962028, 'nopain': 0.7262665599037972}, 1.1597899161787144)\n",
      "Node  P2 has marginals  ({'pain': 0.3019271157741509, 'nopain': 0.6980728842258492}, 1.1597899161787142)\n",
      "Node  P3 has marginals  ({'pain': 0.3370066208698852, 'nopain': 0.6629933791301147}, 1.1597899161787142)\n",
      "Node  P4 has marginals  ({'pain': 0.49977357556489854, 'nopain': 0.5002264244351015}, 1.159789916178714)\n",
      "Node  S0 has marginals  ({'tickle': 0.7757308989479413, 'noci': 0.22426910105205872}, 1.1597899161787144)\n",
      "Node  S1 has marginals  ({'tickle': 0.6810132479230377, 'noci': 0.31898675207696225}, 1.1597899161787144)\n",
      "Node  S2 has marginals  ({'tickle': 0.6584583073806793, 'noci': 0.3415416926193207}, 1.1597899161787142)\n",
      "Node  S3 has marginals  ({'tickle': 0.6303947033040919, 'noci': 0.3696052966959082}, 1.1597899161787142)\n",
      "Node  S4 has marginals  ({'tickle': 0.5001811395480812, 'noci': 0.4998188604519188}, 1.159789916178714)\n"
     ]
    }
   ],
   "source": [
    "sp.runSumProduct(allNodes)\n",
    "\n",
    "\n",
    "for v in variables: \n",
    "    print (\"Node \", v.name, \"has marginals \", v.marginal())"
   ]
  },
  {
   "cell_type": "markdown",
   "metadata": {},
   "source": [
    "# Plot: Surprise, compared for S0=noci vs S0=tickle vs none"
   ]
  },
  {
   "cell_type": "code",
   "execution_count": 22,
   "metadata": {
    "collapsed": false
   },
   "outputs": [
    {
     "name": "stdout",
     "output_type": "stream",
     "text": [
      "Node  P0 has marginals  ({'pain': 0.6233704867400088, 'nopain': 0.3766295132599913}, 0.2601050419106428)\n",
      "Node  P1 has marginals  ({'pain': 0.36301554011054177, 'nopain': 0.6369844598894583}, 0.2601050419106428)\n",
      "Node  P2 has marginals  ({'pain': 0.319107926707037, 'nopain': 0.680892073292963}, 0.26010504191064276)\n",
      "Node  P3 has marginals  ({'pain': 0.3404450904224253, 'nopain': 0.6595549095775748}, 0.26010504191064276)\n",
      "Node  P4 has marginals  ({'pain': 0.500504805240756, 'nopain': 0.499495194759244}, 0.26010504191064276)\n",
      "Node  S0 has marginals  ({'tickle': 0.0, 'noci': 1.0}, 0.2601050419106428)\n",
      "Node  S1 has marginals  ({'tickle': 0.6095875679115667, 'noci': 0.3904124320884334}, 0.2601050419106428)\n",
      "Node  S2 has marginals  ({'tickle': 0.6447136586343705, 'noci': 0.35528634136562964}, 0.26010504191064276)\n",
      "Node  S3 has marginals  ({'tickle': 0.6276439276620597, 'noci': 0.3723560723379402}, 0.2601050419106428)\n",
      "Node  S4 has marginals  ({'tickle': 0.4995961558073952, 'noci': 0.5004038441926048}, 0.26010504191064276)\n",
      "[0.2601050419106428, 0.2601050419106428, 0.26010504191064276, 0.2601050419106428, 0.26010504191064276]\n"
     ]
    }
   ],
   "source": [
    "# Create list with surprise states when S0=noci. \n",
    "\n",
    "sensory[0].observe('noci')\n",
    "sp.runSumProduct(allNodes)\n",
    "for v in variables: \n",
    "    print (\"Node \", v.name, \"has marginals \", v.marginal())\n",
    "    \n",
    "S0NociSurprise=[]\n",
    "for node in sensory: \n",
    "    S0NociSurprise.append(node.marginal()[1])\n",
    "print(S0NociSurprise)"
   ]
  },
  {
   "cell_type": "code",
   "execution_count": 23,
   "metadata": {
    "collapsed": false
   },
   "outputs": [
    {
     "name": "stdout",
     "output_type": "stream",
     "text": [
      "Node  P0 has marginals ({'pain': 0.020024518364002656, 'nopain': 0.9799754816359973}, 0.8996848742680716)\n",
      "Node  P1 has marginals ({'pain': 0.24792137519404198, 'nopain': 0.752078624805958}, 0.8996848742680718)\n",
      "Node  P2 has marginals ({'pain': 0.2969600259901942, 'nopain': 0.7030399740098057}, 0.8996848742680716)\n",
      "Node  P3 has marginals ({'pain': 0.3360125358378349, 'nopain': 0.6639874641621651}, 0.8996848742680716)\n",
      "Node  P4 has marginals ({'pain': 0.499562172071381, 'nopain': 0.500437827928619}, 0.8996848742680715)\n",
      "Node  S0 has marginals ({'tickle': 1.0, 'noci': 0.0}, 0.8996848742680716)\n",
      "Node  S1 has marginals ({'tickle': 0.7016628998447664, 'noci': 0.2983371001552335}, 0.8996848742680719)\n",
      "Node  S2 has marginals ({'tickle': 0.6624319792078446, 'noci': 0.3375680207921554}, 0.8996848742680716)\n",
      "Node  S3 has marginals ({'tickle': 0.6311899713297321, 'noci': 0.3688100286702679}, 0.8996848742680716)\n",
      "Node  S4 has marginals ({'tickle': 0.5003502623428951, 'noci': 0.49964973765710474}, 0.8996848742680716)\n",
      "[0.8996848742680716, 0.8996848742680719, 0.8996848742680716, 0.8996848742680716, 0.8996848742680716]\n"
     ]
    }
   ],
   "source": [
    "# Create list with surprise states when S0=tickle\n",
    "sensory[0].observe()\n",
    "\n",
    "sensory[0].observe('tickle')\n",
    "sp.runSumProduct(allNodes)\n",
    "for v in variables: \n",
    "    print(\"Node \", v.name, \"has marginals\", v.marginal())\n",
    "    \n",
    "S0TickleSurprise=[]\n",
    "for node in sensory: \n",
    "    S0TickleSurprise.append(node.marginal()[1])\n",
    "print(S0TickleSurprise)"
   ]
  },
  {
   "cell_type": "code",
   "execution_count": 24,
   "metadata": {
    "collapsed": false
   },
   "outputs": [
    {
     "name": "stdout",
     "output_type": "stream",
     "text": [
      "Node  P0 has marginals ({'pain': 0.15533637631507338, 'nopain': 0.8446636236849266}, 1.1597899161787144)\n",
      "Node  P1 has marginals ({'pain': 0.2737334400962028, 'nopain': 0.7262665599037972}, 1.1597899161787144)\n",
      "Node  P2 has marginals ({'pain': 0.3019271157741509, 'nopain': 0.6980728842258492}, 1.1597899161787142)\n",
      "Node  P3 has marginals ({'pain': 0.3370066208698852, 'nopain': 0.6629933791301147}, 1.1597899161787142)\n",
      "Node  P4 has marginals ({'pain': 0.49977357556489854, 'nopain': 0.5002264244351015}, 1.159789916178714)\n",
      "Node  S0 has marginals ({'tickle': 0.7757308989479413, 'noci': 0.22426910105205872}, 1.1597899161787144)\n",
      "Node  S1 has marginals ({'tickle': 0.6810132479230377, 'noci': 0.31898675207696225}, 1.1597899161787144)\n",
      "Node  S2 has marginals ({'tickle': 0.6584583073806793, 'noci': 0.3415416926193207}, 1.1597899161787142)\n",
      "Node  S3 has marginals ({'tickle': 0.6303947033040919, 'noci': 0.3696052966959082}, 1.1597899161787142)\n",
      "Node  S4 has marginals ({'tickle': 0.5001811395480812, 'noci': 0.4998188604519188}, 1.159789916178714)\n",
      "[1.1597899161787144, 1.1597899161787144, 1.1597899161787142, 1.1597899161787142, 1.159789916178714]\n"
     ]
    }
   ],
   "source": [
    "# Create list with unobserved sensory states\n",
    "\n",
    "sensory[0].observe()\n",
    "\n",
    "sp.runSumProduct(allNodes)\n",
    "for v in variables: \n",
    "    print(\"Node \", v.name, \"has marginals\", v.marginal())\n",
    "\n",
    "SurpriseUnobserved=[]\n",
    "for node in sensory: \n",
    "    SurpriseUnobserved.append(node.marginal()[1])\n",
    "print(SurpriseUnobserved)"
   ]
  },
  {
   "cell_type": "code",
   "execution_count": 25,
   "metadata": {
    "collapsed": false
   },
   "outputs": [
    {
     "name": "stdout",
     "output_type": "stream",
     "text": [
      "[0.2601050419106428, 0.2601050419106428, 0.26010504191064276, 0.2601050419106428, 0.26010504191064276] [0.8996848742680716, 0.8996848742680719, 0.8996848742680716, 0.8996848742680716, 0.8996848742680716] [1.1597899161787144, 1.1597899161787144, 1.1597899161787142, 1.1597899161787142, 1.159789916178714]\n"
     ]
    },
    {
     "data": {
      "image/png": "[encoded data removed]",
      "text/plain": [
       "<matplotlib.figure.Figure at 0x2187d650400>"
      ]
     },
     "metadata": {},
     "output_type": "display_data"
    }
   ],
   "source": [
    "print(S0NociSurprise, S0TickleSurprise, SurpriseUnobserved)\n",
    "\n",
    "bar_width = 0.3\n",
    "opacity = 0.9\n",
    "index=np.arange(len(hidden))\n",
    "\n",
    "plt.figure(figsize=(12.0,8.0))\n",
    "plt.title(\"Surprise over time, Healthy Brain, different observations at S0\", fontsize=20)\n",
    "plt.ylabel(\"Surprise\", fontsize=18)\n",
    "plt.xlabel(\"Timestep\", fontsize=18)\n",
    "plt.xticks(index)\n",
    "\n",
    "plt.bar(index, height=S0NociSurprise, width=bar_width, align='center', alpha=0.75, label='S0=noci', color='red')\n",
    "plt.bar(index+bar_width, height=S0TickleSurprise, width=bar_width, align='center', alpha=0.75, label='S0=tickle', color='green')\n",
    "plt.bar(index+2*bar_width, height=SurpriseUnobserved, width=bar_width, align='center', alpha=0.75, label='unobserved', color='blue')\n",
    "\n",
    "plt.legend(fontsize=13)\n",
    "plt.tight_layout()\n",
    "plt.savefig(\"Surprise_Comparison.png\")\n",
    "plt.show()\n"
   ]
  },
  {
   "cell_type": "markdown",
   "metadata": {},
   "source": [
    "# Surprise Plot, observation at S3"
   ]
  },
  {
   "cell_type": "code",
   "execution_count": 26,
   "metadata": {
    "collapsed": false
   },
   "outputs": [
    {
     "name": "stdout",
     "output_type": "stream",
     "text": [
      "({'pain': 0.15742277086200415, 'nopain': 0.8425772291379959}, 0.42866449607415613)\n",
      "({'pain': 0.29030549984017145, 'nopain': 0.7096945001598285}, 0.42866449607415624)\n",
      "({'pain': 0.39322825826749813, 'nopain': 0.6067717417325019}, 0.42866449607415613)\n",
      "({'pain': 0.8206212451344843, 'nopain': 0.1793787548655156}, 0.42866449607415613)\n",
      "({'pain': 0.6026197283481011, 'nopain': 0.3973802716518989}, 0.42866449607415613)\n",
      "({'tickle': 0.7740617833103968, 'noci': 0.22593821668960334}, 0.42866449607415613)\n",
      "({'tickle': 0.6677556001278627, 'noci': 0.33224439987213716}, 0.42866449607415624)\n",
      "({'tickle': 0.5854173933860015, 'noci': 0.41458260661399854}, 0.4286644960741562)\n",
      "({'tickle': 0.0, 'noci': 1.0}, 0.42866449607415613)\n",
      "({'tickle': 0.4179042173215191, 'noci': 0.5820957826784808}, 0.42866449607415613)\n",
      "[0.42866449607415613, 0.42866449607415624, 0.42866449607415613, 0.42866449607415613, 0.42866449607415613]\n"
     ]
    }
   ],
   "source": [
    "surprise=[]\n",
    "\n",
    "sensory[0].observe()\n",
    "sp.runSumProduct(allNodes)\n",
    "\n",
    "sensory[3].observe('noci')\n",
    "sp.runSumProduct(allNodes)\n",
    "\n",
    "for v in variables: \n",
    "    print(v.marginal())\n",
    "\n",
    "for node in hidden: \n",
    "    surprise.append(node.marginal()[1])\n",
    "print(surprise)"
   ]
  },
  {
   "cell_type": "code",
   "execution_count": 27,
   "metadata": {
    "collapsed": false
   },
   "outputs": [
    {
     "data": {
      "image/png": "[encoded data removed]",
      "text/plain": [
       "<matplotlib.figure.Figure at 0x2187dce37f0>"
      ]
     },
     "metadata": {},
     "output_type": "display_data"
    }
   ],
   "source": [
    "bar_width = 0.5\n",
    "opacity = 0.9\n",
    "index=np.arange(len(hidden))\n",
    "\n",
    "plt.figure(figsize=(12.0,8.0))\n",
    "plt.title(\"Surprise time course\", fontsize=20)\n",
    "plt.ylabel('Surprise', fontsize=18)\n",
    "plt.xlabel('Timestep', fontsize=18)\n",
    "plt.xticks(index)\n",
    "\n",
    "plt.bar(index, height=surprise, align='center', alpha=0.75, color='green')\n",
    "\n",
    "plt.tight_layout()\n",
    "plt.savefig(\"Histogram_Surprise.png\")\n",
    "plt.show()"
   ]
  },
  {
   "cell_type": "markdown",
   "metadata": {},
   "source": [
    "# Pain Plot Healthy Person\n"
   ]
  },
  {
   "cell_type": "code",
   "execution_count": 28,
   "metadata": {
    "collapsed": true
   },
   "outputs": [],
   "source": [
    "# Plotten des Pain. RUmspielen mit den functions. \n",
    "# Mit den kranken Hirnen testen: nopoain führt zu pain etc. "
   ]
  },
  {
   "cell_type": "code",
   "execution_count": 29,
   "metadata": {
    "collapsed": false
   },
   "outputs": [
    {
     "name": "stdout",
     "output_type": "stream",
     "text": [
      "({'pain': 0.15533637631507338, 'nopain': 0.8446636236849266}, 1.1597899161787144)\n",
      "({'pain': 0.2737334400962028, 'nopain': 0.7262665599037972}, 1.1597899161787144)\n",
      "({'pain': 0.3019271157741509, 'nopain': 0.6980728842258492}, 1.1597899161787142)\n",
      "({'pain': 0.3370066208698852, 'nopain': 0.6629933791301147}, 1.1597899161787142)\n",
      "({'pain': 0.49977357556489854, 'nopain': 0.5002264244351015}, 1.159789916178714)\n",
      "({'tickle': 0.7757308989479413, 'noci': 0.22426910105205872}, 1.1597899161787144)\n",
      "({'tickle': 0.6810132479230377, 'noci': 0.31898675207696225}, 1.1597899161787144)\n",
      "({'tickle': 0.6584583073806793, 'noci': 0.3415416926193207}, 1.1597899161787142)\n",
      "({'tickle': 0.6303947033040919, 'noci': 0.3696052966959082}, 1.1597899161787142)\n",
      "({'tickle': 0.5001811395480812, 'noci': 0.4998188604519188}, 1.159789916178714)\n"
     ]
    }
   ],
   "source": [
    "Marginals=[]\n",
    "Pain=[]\n",
    "sensory[3].observe()\n",
    "sp.runSumProduct(allNodes)\n",
    "for v in variables: \n",
    "    print(v.marginal())"
   ]
  },
  {
   "cell_type": "code",
   "execution_count": 30,
   "metadata": {
    "collapsed": false
   },
   "outputs": [],
   "source": [
    "for h in hidden: \n",
    "    Marginals.append(h.marginal()[0])"
   ]
  },
  {
   "cell_type": "code",
   "execution_count": 31,
   "metadata": {
    "collapsed": false
   },
   "outputs": [
    {
     "name": "stdout",
     "output_type": "stream",
     "text": [
      "[{'pain': 0.15533637631507338, 'nopain': 0.8446636236849266}, {'pain': 0.2737334400962028, 'nopain': 0.7262665599037972}, {'pain': 0.3019271157741509, 'nopain': 0.6980728842258492}, {'pain': 0.3370066208698852, 'nopain': 0.6629933791301147}, {'pain': 0.49977357556489854, 'nopain': 0.5002264244351015}]\n"
     ]
    }
   ],
   "source": [
    "print(Marginals)"
   ]
  },
  {
   "cell_type": "code",
   "execution_count": 34,
   "metadata": {
    "collapsed": false
   },
   "outputs": [
    {
     "name": "stdout",
     "output_type": "stream",
     "text": [
      "[0.15533637631507338, 0.2737334400962028, 0.3019271157741509, 0.3370066208698852, 0.49977357556489854]\n",
      "[0.8446636236849266, 0.7262665599037972, 0.6980728842258492, 0.6629933791301147, 0.5002264244351015]\n"
     ]
    }
   ],
   "source": [
    "pain_prob = [d['pain'] for d in Marginals]\n",
    "print(pain_prob)\n",
    "nopain_prob = [d['nopain'] for d in Marginals]\n",
    "print(nopain_prob)"
   ]
  },
  {
   "cell_type": "code",
   "execution_count": 35,
   "metadata": {
    "collapsed": false
   },
   "outputs": [
    {
     "data": {
      "image/png": "[encoded data removed]",
      "text/plain": [
       "<matplotlib.figure.Figure at 0x2187dd32908>"
      ]
     },
     "metadata": {},
     "output_type": "display_data"
    },
    {
     "data": {
      "image/png": "[encoded data removed]",
      "text/plain": [
       "<matplotlib.figure.Figure at 0x2187dc09f28>"
      ]
     },
     "metadata": {},
     "output_type": "display_data"
    }
   ],
   "source": [
    "bar_width=0.3\n",
    "opacity=0.9\n",
    "index=np.arange(len(hidden))\n",
    "\n",
    "plt.figure(figsize=(12.0,8.0))\n",
    "plt.title(\"Pain Probability - Healthy Brain\", fontsize=20)\n",
    "plt.ylabel('Probability of Pain', fontsize=18)\n",
    "plt.xlabel('Sensation', fontsize=18)\n",
    "plt.xticks(index)\n",
    "\n",
    "plt.bar(index, height=pain_prob, width=bar_width, align='center', alpha=0.75, label='Pain', color='red')\n",
    "plt.bar(index+bar_width, height=nopain_prob, width=bar_width, align='center', alpha=0.75, label='No Pain', color='green')\n",
    "\n",
    "plt.legend(fontsize=15)\n",
    "plt.tight_layout()\n",
    "plt.savefig(\"PainProb_Healthy.pdf\")\n",
    "plt.show()"
   ]
  },
  {
   "cell_type": "markdown",
   "metadata": {
    "collapsed": true
   },
   "source": [
    "<img src=\"files/Easier.png\">"
   ]
  },
  {
   "cell_type": "code",
   "execution_count": null,
   "metadata": {
    "collapsed": true
   },
   "outputs": [],
   "source": []
  }
 ],
 "metadata": {
  "kernelspec": {
   "display_name": "Python 3",
   "language": "python",
   "name": "python3"
  },
  "language_info": {
   "codemirror_mode": {
    "name": "ipython",
    "version": 3
   },
   "file_extension": ".py",
   "mimetype": "text/x-python",
   "name": "python",
   "nbconvert_exporter": "python",
   "pygments_lexer": "ipython3",
   "version": "3.6.0"
  }
 },
 "nbformat": 4,
 "nbformat_minor": 2
}
