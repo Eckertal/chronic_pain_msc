{
 "cells": [
  {
   "cell_type": "markdown",
   "metadata": {},
   "source": [
    "# Transprobs dependent on Pp"
   ]
  },
  {
   "cell_type": "code",
   "execution_count": 1,
   "metadata": {
    "collapsed": true
   },
   "outputs": [],
   "source": [
    "import numpy as np\n",
    "import matplotlib.pyplot as plt"
   ]
  },
  {
   "cell_type": "code",
   "execution_count": 2,
   "metadata": {
    "collapsed": true
   },
   "outputs": [],
   "source": [
    "Pp=0.8\n",
    "PkeepPainlist08=[]\n",
    "PkeepNoPainlist08=[]"
   ]
  },
  {
   "cell_type": "code",
   "execution_count": 24,
   "metadata": {
    "collapsed": false
   },
   "outputs": [],
   "source": [
    "PkeepPain08=np.random.random()\n",
    "PkeepNoPain08=(1.0-2*Pp)/(1-Pp)+Pp/(1-Pp)*PkeepPain08\n",
    "\n",
    "while not ( (0<=PkeepNoPain08) and (PkeepNoPain08<=1.0)):\n",
    "    PkeepPain08=np.random.random()\n",
    "    PkeepNoPain08=(1.0-2*Pp)/(1-Pp)+Pp/(1-Pp)*PkeepPain08"
   ]
  },
  {
   "cell_type": "code",
   "execution_count": 25,
   "metadata": {
    "collapsed": false
   },
   "outputs": [
    {
     "data": {
      "text/plain": [
       "[0.5185840556739483,\n",
       " 0.804686671108652,\n",
       " 0.6618236830961144,\n",
       " 0.5235404359483931,\n",
       " 0.7575368640637055,\n",
       " 0.4162035690412309,\n",
       " 0.5022084561557314,\n",
       " 0.9558127978247422]"
      ]
     },
     "execution_count": 25,
     "metadata": {},
     "output_type": "execute_result"
    }
   ],
   "source": [
    "PkeepNoPainlist08.append(PkeepNoPain08)\n",
    "PkeepNoPainlist08"
   ]
  },
  {
   "cell_type": "code",
   "execution_count": 26,
   "metadata": {
    "collapsed": false
   },
   "outputs": [
    {
     "data": {
      "text/plain": [
       "[0.8796460139184872,\n",
       " 0.9511716677771631,\n",
       " 0.9154559207740287,\n",
       " 0.8808851089870984,\n",
       " 0.9393842160159265,\n",
       " 0.8540508922603078,\n",
       " 0.875552114038933,\n",
       " 0.9889531994561856]"
      ]
     },
     "execution_count": 26,
     "metadata": {},
     "output_type": "execute_result"
    }
   ],
   "source": [
    "PkeepPainlist08.append(PkeepPain08)\n",
    "PkeepPainlist08"
   ]
  },
  {
   "cell_type": "code",
   "execution_count": 169,
   "metadata": {
    "collapsed": true
   },
   "outputs": [],
   "source": [
    "Pp2=0.01\n",
    "PkeepPainlist001=[]\n",
    "PkeepNoPainlist001=[]"
   ]
  },
  {
   "cell_type": "code",
   "execution_count": 179,
   "metadata": {
    "collapsed": true
   },
   "outputs": [],
   "source": [
    "PkeepPain001=np.random.random()\n",
    "PkeepNoPain001=(1.0-2*Pp2)/(1-Pp2)+Pp2/(1-Pp2)*PkeepPain001\n",
    "\n",
    "while not ( (0<=PkeepNoPain001) and (PkeepNoPain001<1.0) ):\n",
    "    PkeepPain001=np.random.random()\n",
    "    PkeepNoPain001=(1.0-2*Pp2)/(1-Pp2)+Pp2/(1-Pp2)*PkeepPain001"
   ]
  },
  {
   "cell_type": "code",
   "execution_count": 180,
   "metadata": {
    "collapsed": false
   },
   "outputs": [
    {
     "data": {
      "text/plain": [
       "[0.725489990030413, 0.4874093111297939, 0.7130785609986922, 0.4531649795441577]"
      ]
     },
     "execution_count": 180,
     "metadata": {},
     "output_type": "execute_result"
    }
   ],
   "source": [
    "PkeepPainlist001.append(PkeepPain001)\n",
    "PkeepPainlist001"
   ]
  },
  {
   "cell_type": "code",
   "execution_count": 181,
   "metadata": {
    "collapsed": false
   },
   "outputs": [
    {
     "data": {
      "text/plain": [
       "[0.9972271716164689,\n",
       " 0.9948223162740384,\n",
       " 0.9971018036464515,\n",
       " 0.9944764139347895]"
      ]
     },
     "execution_count": 181,
     "metadata": {},
     "output_type": "execute_result"
    }
   ],
   "source": [
    "PkeepNoPainlist001.append(PkeepNoPain001)\n",
    "PkeepNoPainlist001"
   ]
  },
  {
   "cell_type": "code",
   "execution_count": 205,
   "metadata": {
    "collapsed": true
   },
   "outputs": [],
   "source": [
    "Pp3=0.99\n",
    "PkeepPainlist099=[]\n",
    "PkeepNoPainlist099=[]"
   ]
  },
  {
   "cell_type": "code",
   "execution_count": 212,
   "metadata": {
    "collapsed": true
   },
   "outputs": [],
   "source": [
    "PkeepPain099=np.random.random()\n",
    "PkeepNoPain099=(1.0-2*Pp3)/(1-Pp3)+Pp3/(1-Pp3)*PkeepPain09\n",
    "\n",
    "while not ( (0<=PkeepNoPain099) and (PkeepNoPain099<1.0) ):\n",
    "    PkeepPain099=np.random.random()\n",
    "    PkeepNoPain099=(1.0-2*Pp3)/(1-Pp3)+Pp3/(1-Pp3)*PkeepPain099"
   ]
  },
  {
   "cell_type": "code",
   "execution_count": 213,
   "metadata": {
    "collapsed": false
   },
   "outputs": [
    {
     "data": {
      "text/plain": [
       "[0.9341377089181485, 0.9341377089181485, 0.9341377089181485]"
      ]
     },
     "execution_count": 213,
     "metadata": {},
     "output_type": "execute_result"
    }
   ],
   "source": [
    "PkeepPainlist099.append(PkeepPain09)\n",
    "PkeepPainlist099"
   ]
  },
  {
   "cell_type": "code",
   "execution_count": 214,
   "metadata": {
    "collapsed": false
   },
   "outputs": [
    {
     "data": {
      "text/plain": [
       "[0.9625538333553436, 0.6639726258641332, 0.48032689501630443]"
      ]
     },
     "execution_count": 214,
     "metadata": {},
     "output_type": "execute_result"
    }
   ],
   "source": [
    "PkeepNoPainlist099.append(PkeepNoPain099)\n",
    "PkeepNoPainlist099"
   ]
  },
  {
   "cell_type": "code",
   "execution_count": 216,
   "metadata": {
    "collapsed": true
   },
   "outputs": [],
   "source": [
    "Pp4=0.3\n",
    "PkeepPainlist03=[]\n",
    "PkeepNoPainlist03=[]"
   ]
  },
  {
   "cell_type": "code",
   "execution_count": 232,
   "metadata": {
    "collapsed": true
   },
   "outputs": [],
   "source": [
    "PkeepPain03=np.random.random()\n",
    "PkeepNoPain03=(1.0-2*Pp4)/(1-Pp4)+Pp4/(1-Pp4)*PkeepPain03\n",
    "\n",
    "while not ( (0<PkeepNoPain03) and (PkeepNoPain03<1.0) ):\n",
    "    PkeepPain03=np.random.random()\n",
    "    PkeepNoPain03=(1.0-2*Pp4)/(1-Pp4)+Pp4/(1-Pp4)*PkeepPain03"
   ]
  },
  {
   "cell_type": "code",
   "execution_count": 233,
   "metadata": {
    "collapsed": false
   },
   "outputs": [
    {
     "data": {
      "text/plain": [
       "[0.36200955242355504,\n",
       " 0.5175476622788086,\n",
       " 0.7811396466258667,\n",
       " 0.43324968665739805,\n",
       " 0.5453542942235091,\n",
       " 0.7339807653460811]"
      ]
     },
     "execution_count": 233,
     "metadata": {},
     "output_type": "execute_result"
    }
   ],
   "source": [
    "PkeepPainlist03.append(PkeepPain03)\n",
    "PkeepPainlist03"
   ]
  },
  {
   "cell_type": "code",
   "execution_count": 234,
   "metadata": {
    "collapsed": false
   },
   "outputs": [
    {
     "data": {
      "text/plain": [
       "[0.726575522467238,\n",
       " 0.7932347124052037,\n",
       " 0.9062027056968001,\n",
       " 0.7571070085674564,\n",
       " 0.805151840381504,\n",
       " 0.885991756576892]"
      ]
     },
     "execution_count": 234,
     "metadata": {},
     "output_type": "execute_result"
    }
   ],
   "source": [
    "PkeepNoPainlist03.append(PkeepNoPain03)\n",
    "PkeepNoPainlist03"
   ]
  },
  {
   "cell_type": "code",
   "execution_count": 235,
   "metadata": {
    "collapsed": false
   },
   "outputs": [
    {
     "data": {
      "text/plain": [
       "<matplotlib.figure.Figure at 0x24cc6f572e8>"
      ]
     },
     "metadata": {},
     "output_type": "display_data"
    },
    {
     "data": {
      "image/png": "[encoded data removed]",
      "text/plain": [
       "<matplotlib.figure.Figure at 0x24cc6f57eb8>"
      ]
     },
     "metadata": {},
     "output_type": "display_data"
    }
   ],
   "source": [
    "fig = plt.figure()\n",
    "plt.figure(figsize=(12.0,8.0))\n",
    "plt.style.use('seaborn-whitegrid')\n",
    "ax = plt.axes()\n",
    "\n",
    "plt.title('Transition probabilities in order to reach asymptote', fontsize=18)\n",
    "ax.plot(PkeepPainlist05, PkeepNoPainlist05, label='Pp=0.5')\n",
    "ax.plot(PkeepPainlist001, PkeepNoPainlist001, label='Pp=0.01')\n",
    "ax.plot(PkeepPainlist099, PkeepNoPainlist099, label='Pp=0.99')\n",
    "ax.plot(PkeepPainlist03, PkeepNoPainlist03, label='Pp=0.3')\n",
    "plt.xlabel('PkeepPain', fontsize=18)\n",
    "plt.ylabel('PkeepNoPain', fontsize=18)\n",
    "plt.xlim(0.0,1.0)\n",
    "plt.ylim(0.0,1.0)\n",
    "\n",
    "plt.legend(fontsize=15)\n",
    "\n",
    "plt.savefig(\"TransProbs.png\")\n",
    "plt.show()"
   ]
  },
  {
   "cell_type": "markdown",
   "metadata": {
    "collapsed": true
   },
   "source": [
    "Diese Werte brauchen wir für die Transition Probs um einen asymptotischen Pain/ No Pain State zu erhalten. \n",
    "\n",
    "Sie liegen auf der Gerade, die wir am Donnerstag hergeleitet haben: \n",
    "\n",
    "## $\\frac{(1.0-2*P_{p})}{1.0-P_{p}} + \\frac{(P_{p})}{(1-P_{p})} * PkeepPain$\n",
    "\n",
    "Diese Gerade zeigt den linearen Zusammenhang zwischen PkeepPain und PkeepNoPain an. Die Art dieser Abhängigkeit wollten wir stärker eingrenzen, um die Matrix besser zu beschreiben, damit das Gleichungssystem gelöst werden kann. --> Wie kann das System trotz dieser Abhängigkeit zwischen den beiden Wahrscheinlichkeiten in einem steady state gelangen= Wie kann man die Matrix eindeutiger beschreiben? Die Matrix wurde bisher beschrieben durch: \n",
    "\n",
    "## $ P_{p} = P_{P_{t+1} \\vert\\ P_{t}}*P_{t} + P_{P_{t+1} \\vert\\ P_{np_{t}}} * P_{np} $\n",
    "\n",
    "### and\n",
    "\n",
    "## $ P_{np} = P_{np_{t+1} \\vert\\ P_{t}} * P_{t} + P_{np_{t+1} \\vert\\ P_{np_{t}}} * P_{np} $\n",
    "\n",
    "### and\n",
    "\n",
    "## $ P_{P_{t+1} \\vert\\ P_{t}} + P_{np_{t+1} \\vert\\ P_{t}} = 1$\n",
    "\n",
    "### and\n",
    "\n",
    "## $ P_{np_{t+1} \\vert\\ np_{t}} + P_{p_{t+1} \\vert\\ np_{t}} = 1$\n",
    "\n",
    "Hiermit haben wir jetzt in einer principled Manier Transition Probs gefunden, die wir für jeweils die Gesunden und die Kranken in das HMM pluggen können! Das konnte der PC nicht weil in dem unterbeschriebenen Gleichungssystem der Zshg zwischen \n",
    "### $P_{P_{t+1} \\vert\\ P_{t}} $ und $ P_{np_{t+1}\\vert\\ np_{t}}$ \n",
    "nicht klar war. \n",
    "\n",
    "Wir wissen: bei einem gegebenen Pp können sich die trans probs im Bereich dieser Gerade abspielen, damit wir noch einen steady state erreichen können."
   ]
  }
 ],
 "metadata": {
  "kernelspec": {
   "display_name": "Python 3",
   "language": "python",
   "name": "python3"
  },
  "language_info": {
   "codemirror_mode": {
    "name": "ipython",
    "version": 3
   },
   "file_extension": ".py",
   "mimetype": "text/x-python",
   "name": "python",
   "nbconvert_exporter": "python",
   "pygments_lexer": "ipython3",
   "version": "3.6.0"
  }
 },
 "nbformat": 4,
 "nbformat_minor": 2
}
