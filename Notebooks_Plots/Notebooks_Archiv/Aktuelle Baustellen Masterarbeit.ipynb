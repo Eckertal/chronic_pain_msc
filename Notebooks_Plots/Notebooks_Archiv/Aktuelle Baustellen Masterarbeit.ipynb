{
 "cells": [
  {
   "cell_type": "markdown",
   "metadata": {},
   "source": [
    "# Baustelle: Vereinfachte Modellkonstruktion\n",
    "\n",
    "Ich möchte das Modell mit for loops aufbauen, anstatt jeden node manuell zu programmieren. \n",
    "\n",
    "Dazu möchte ich eine Liste mit Variable Node namen erstellen und die dann den Nodes zuordnen. \n",
    "\n",
    "Die Liste mit Namen könnte aus dem mergen zwischen 'V' und der Zahl von 0-10 bestehen. \n",
    "\n",
    "Manches funktioniert auch schon - aber warum steht da nicht der Name wenn ich v.name aufrufe?"
   ]
  },
  {
   "cell_type": "code",
   "execution_count": 1,
   "metadata": {
    "collapsed": true
   },
   "outputs": [],
   "source": [
    "import sumProduct as sp\n",
    "from itertools import product"
   ]
  },
  {
   "cell_type": "markdown",
   "metadata": {},
   "source": [
    "- I want to create a list of variable nodes that I want to be named as P1, P2, P3..."
   ]
  },
  {
   "cell_type": "code",
   "execution_count": 2,
   "metadata": {
    "collapsed": false
   },
   "outputs": [],
   "source": [
    "b=[list(range(100))]"
   ]
  },
  {
   "cell_type": "code",
   "execution_count": 3,
   "metadata": {
    "collapsed": false
   },
   "outputs": [],
   "source": [
    "a=[('P') *100]\n",
    "b=[list(range(100))]"
   ]
  },
  {
   "cell_type": "code",
   "execution_count": 4,
   "metadata": {
    "collapsed": false
   },
   "outputs": [
    {
     "data": {
      "text/plain": [
       "'PPPPPPPPPPPPPPPPPPPPPPPPPPPPPPPPPPPPPPPPPPPPPPPPPPPPPPPPPPPPPPPPPPPPPPPPPPPPPPPPPPPPPPPPPPPPPPPPPPPP'"
      ]
     },
     "execution_count": 4,
     "metadata": {},
     "output_type": "execute_result"
    }
   ],
   "source": [
    "a[0]"
   ]
  },
  {
   "cell_type": "code",
   "execution_count": 5,
   "metadata": {
    "collapsed": false
   },
   "outputs": [
    {
     "name": "stdout",
     "output_type": "stream",
     "text": [
      "[('PPPPPPPPPPPPPPPPPPPPPPPPPPPPPPPPPPPPPPPPPPPPPPPPPPPPPPPPPPPPPPPPPPPPPPPPPPPPPPPPPPPPPPPPPPPPPPPPPPPP', 'c'), ('PPPPPPPPPPPPPPPPPPPPPPPPPPPPPPPPPPPPPPPPPPPPPPPPPPPPPPPPPPPPPPPPPPPPPPPPPPPPPPPPPPPPPPPPPPPPPPPPPPPP', 'd')]\n"
     ]
    }
   ],
   "source": [
    "x=['P'*100]\n",
    "y=['c', 'd']\n",
    "result=[]\n",
    "for i in x: \n",
    "    for j in y: \n",
    "        result.append( (i,j))\n",
    "print(result)"
   ]
  },
  {
   "cell_type": "code",
   "execution_count": 6,
   "metadata": {
    "collapsed": false
   },
   "outputs": [],
   "source": [
    "##### Suche aktuell nach einer Methode eine solche Liste einfach und flexibel zu erstellen #######\n",
    "Vlist=['P1','P2','P3','P4','P5','P6','P7','P8','P9','P10','P11']"
   ]
  },
  {
   "cell_type": "code",
   "execution_count": 7,
   "metadata": {
    "collapsed": false
   },
   "outputs": [],
   "source": [
    "variables=[sp.variableNode(name,vrange=['pain','nopain']) for name in Vlist]"
   ]
  },
  {
   "cell_type": "code",
   "execution_count": 8,
   "metadata": {
    "collapsed": false
   },
   "outputs": [
    {
     "data": {
      "text/plain": [
       "[<sumProduct.variableNode at 0x2aa29945128>,\n",
       " <sumProduct.variableNode at 0x2aa298aca20>,\n",
       " <sumProduct.variableNode at 0x2aa2994e550>,\n",
       " <sumProduct.variableNode at 0x2aa2994e4e0>,\n",
       " <sumProduct.variableNode at 0x2aa2994e588>,\n",
       " <sumProduct.variableNode at 0x2aa2994e6d8>,\n",
       " <sumProduct.variableNode at 0x2aa2994e978>,\n",
       " <sumProduct.variableNode at 0x2aa2994e438>,\n",
       " <sumProduct.variableNode at 0x2aa2994e860>,\n",
       " <sumProduct.variableNode at 0x2aa2994e898>,\n",
       " <sumProduct.variableNode at 0x2aa2994eb38>]"
      ]
     },
     "execution_count": 8,
     "metadata": {},
     "output_type": "execute_result"
    }
   ],
   "source": [
    "variables"
   ]
  },
  {
   "cell_type": "markdown",
   "metadata": {},
   "source": [
    "# Baustelle Factor graph\n",
    "\n",
    "Ich möchte einen übersichtlicheren und intuitiveren Factor graph erstellen, in dem man zB die beiden Hierarchiebenen eindeutig voneinander unterscheiden kann. Kann auch ruhig etwas farbenfroher sein. "
   ]
  },
  {
   "cell_type": "code",
   "execution_count": 9,
   "metadata": {
    "collapsed": false
   },
   "outputs": [],
   "source": [
    "from graphviz import Digraph\n",
    "from IPython.display import Image"
   ]
  },
  {
   "cell_type": "code",
   "execution_count": 10,
   "metadata": {
    "collapsed": false
   },
   "outputs": [
    {
     "data": {
      "text/plain": [
       "'StupidModel.gv.pdf'"
      ]
     },
     "execution_count": 10,
     "metadata": {},
     "output_type": "execute_result"
    }
   ],
   "source": [
    "# This should make a nice factor graph for the stupid perception model\n",
    "from graphviz import Digraph\n",
    "f=Digraph('finite_state_machine', filename='StupidModel.gv')\n",
    "f.attr(rankdit='LR', size='8.5')\n",
    "# Factor Nodes\n",
    "f.attr('node', shape='box')\n",
    "f.node('p(P1)')\n",
    "f.node('p(P2P1)')\n",
    "f.node('p(S1P1)')\n",
    "f.node('p(S2P2)')\n",
    "\n",
    "# Variable Nodes\n",
    "f.attr('node', shape='circle')\n",
    "f.node('P1')\n",
    "f.node('P2')\n",
    "f.node('P3')\n",
    "f.node('S1')\n",
    "f.node('S2')\n",
    "\n",
    "f.edge('p(S1P1)', 'S1')\n",
    "f.edge('p(S2P2)', 'S2')\n",
    "f.edge('p(P1)', 'P1')\n",
    "f.edge('P1', 'p(P2P1)')\n",
    "f.edge('P1', 'p(S1P1)')\n",
    "f.edge('p(P2P1)', 'P2')\n",
    "f.edge('P2', 'p(S2P2)')\n",
    "\n",
    "\n",
    "\n",
    "f.view()"
   ]
  },
  {
   "cell_type": "code",
   "execution_count": 11,
   "metadata": {
    "collapsed": false
   },
   "outputs": [
    {
     "data": {
      "text/plain": [
       "'Horizontalpriorextra.gv.pdf'"
      ]
     },
     "execution_count": 11,
     "metadata": {},
     "output_type": "execute_result"
    }
   ],
   "source": [
    "# Now try to make this more horizontal. \n",
    "\n",
    "h=Digraph('H', filename='Horizontalpriorextra.gv')\n",
    "\n",
    "with h.subgraph(name='cluster_prior') as c: \n",
    "    c.node_attr.update(color='black', shape='box')\n",
    "    c.node('p(P1)')\n",
    "\n",
    "with h.subgraph(name='cluster_P') as c: \n",
    "    c.node_attr.update(color='green')\n",
    "    c.edges([('p(P1)', 'P1'),('P1', 'p(P2P1)'), ('p(P2P1)', 'P2'), ('p(P3P2)', 'P3'), ('P2', 'p(P3P2)')])\n",
    "\n",
    "with h.subgraph(name='cluster_S') as c:\n",
    "    c.node_attr.update(color='red')\n",
    "    c.edges([('p(S1P1)', 'S1'), ('p(S2P2)', 'S2'), ('p(S3P3)', 'S3')])\n",
    "    \n",
    "h.edge('P1', 'p(S1P1)')\n",
    "h.edge('P2', 'p(S2P2)')\n",
    "h.edge('P3', 'p(S3P3)')\n",
    "\n",
    "h.node('p(S1P1)', shape='box', color='black')\n",
    "h.node('p(S2P2)', shape='box', color='black')\n",
    "h.node('p(P2P1)', shape='box', color='black')\n",
    "h.node('p(P1)', shape='box', color='black')\n",
    "h.node('p(P3P2)', shape='box', color='black')\n",
    "h.node('p(S3P3)', shape='box', color='black')\n",
    "#h.node(['p(S1P1)','p(S2P2)','p(P1)','p(P2P1)'], shape='box')\n",
    "#h.node(['S1','S2','P1','P2'], shape='circle')\n",
    "\n",
    "h.view()"
   ]
  },
  {
   "cell_type": "code",
   "execution_count": 12,
   "metadata": {
    "collapsed": false
   },
   "outputs": [
    {
     "data": {
      "text/plain": [
       "'Angles.gv.pdf'"
      ]
     },
     "execution_count": 12,
     "metadata": {},
     "output_type": "execute_result"
    }
   ],
   "source": [
    "g=Digraph('G', filename='Angles.gv')\n",
    "g.attr(bgcolor='white')\n",
    "with g.subgraph(name='cluster_1') as c:\n",
    "    c.attr(fontcolor='black')\n",
    "    c.attr('node', shape='circle', style='filled', fillcolor='yellow:red', gradientangle='360', label='P9:360', fontcolor='black')\n",
    "    c.node('n9')\n",
    "    for i, a in zip(range(8, 0, -1), range(360 - 45, -1, -45)):\n",
    "        c.attr('node', gradientangle='%d' %a, label='n%d_%d' % (i,a))\n",
    "        c.node('n%d' % i)\n",
    "    c.attr(label='Hierarchical factor graph TRYOUT')\n",
    "with g.subgraph(name='cluster_2') as c:\n",
    "    c.attr(fontcolor='white')\n",
    "    c.attr('node', shape='circle', style='radial', fillcolor='white:green', gradientangle='360', label='P18:360', fontcolor='black')\n",
    "    c.node('n18')\n",
    "    for i, a in zip(range(17, 9, -1), range(360 - 45, -1, -45)):\n",
    "        c.attr('node', label='S9:360')\n",
    "        c.node('n%d' % i)\n",
    "        c.attr(label='Radial Angle Variations (blue to green gradient)')\n",
    "g.edge('n5', 'n14')\n",
    "g.view()"
   ]
  }
 ],
 "metadata": {
  "kernelspec": {
   "display_name": "Python 3",
   "language": "python",
   "name": "python3"
  },
  "language_info": {
   "codemirror_mode": {
    "name": "ipython",
    "version": 3
   },
   "file_extension": ".py",
   "mimetype": "text/x-python",
   "name": "python",
   "nbconvert_exporter": "python",
   "pygments_lexer": "ipython3",
   "version": "3.6.0"
  }
 },
 "nbformat": 4,
 "nbformat_minor": 2
}
