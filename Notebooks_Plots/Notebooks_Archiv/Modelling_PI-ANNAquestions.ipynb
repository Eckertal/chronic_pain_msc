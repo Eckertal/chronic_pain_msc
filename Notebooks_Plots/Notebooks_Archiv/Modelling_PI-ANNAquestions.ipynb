{
 "cells": [
  {
   "cell_type": "markdown",
   "metadata": {},
   "source": [
    "# Modelling PI-ANNA questions"
   ]
  },
  {
   "cell_type": "code",
   "execution_count": 13,
   "metadata": {
    "collapsed": true
   },
   "outputs": [],
   "source": [
    "import scipy.io\n",
    "import os\n",
    "import numpy as np\n",
    "\n",
    "import sumProduct as sp\n",
    "import graphviz as gp\n",
    "import matplotlib.pyplot as plt\n",
    "import subprocess\n",
    "\n",
    "import autograd as ag\n",
    "import autograd.numpy as anp\n",
    "import autograd.scipy.special as spf\n",
    "import scipy.optimize as opt"
   ]
  },
  {
   "cell_type": "markdown",
   "metadata": {},
   "source": [
    "Hiermit suchen wir jetzt das P(Pain) das dazu führt dass der Patient im chronic pain state landet - welche Werte müssen für P(Pain) und P(Nopain)\n",
    "\n",
    "Die ersten beiden Werte: pain und nopain, der zweite: residuals"
   ]
  },
  {
   "cell_type": "code",
   "execution_count": 14,
   "metadata": {
    "collapsed": false
   },
   "outputs": [],
   "source": [
    "A = np.array([[0.5, 1-.5],[0.2, 1-0.2],[0.35, 1-0.35],\n",
    "             [0.07, 1-0.07],[0.05, 1-0.05],[0.04, 1-0.04],\n",
    "             [0.1, 1-0.1],[0.1, 1-0.1],[0.1, 1-0.1],\n",
    "             [0.15, 1-0.15],[0.5, 0.5],[0.03, 1-0.03],\n",
    "             [0.03, 1-0.03],[0.03, 1-0.03],[0.04, 1-0.04],\n",
    "             [0.1, 1-0.1],[0.05, 1-0.05],[0.1, 1-0.1],\n",
    "             [0.0,0.0],[0.0,0.0],[0.0,0.0],\n",
    "             [0.0,0.0],[0.03,1-0.03],[0.0,0.0],\n",
    "             [0.18,1-0.18],[0.33,1-0.33],[0.31,1-0.31],\n",
    "             [0.22,1-0.22],[0.35,1-0.35],[0.0,0.0],\n",
    "             [0.69,1-0.69],[0.73,1-0.73],[0.53,1-0.53],\n",
    "             [0.25,1-0.25],[0.3,1-0.3],[0.3,1-0.3],\n",
    "             [0.0,0.0],[0.0,0.0],[0.0,0.0],\n",
    "             [0.2,1-0.2],[0.45,1-0.45],[0.7,1-0.7],\n",
    "             [0.07,1-0.07],[0.13,1-0.13],[0.13,1-0.13],\n",
    "             [0.03,1-0.03],[0.03,1-0.03],[0.16,1-0.16],\n",
    "             [0.0,0.0],[0.5,0.5],[0.5,0.5],\n",
    "             [0.07,1-0.07],[0.04,1-0.04],[0.01,1-0.01],\n",
    "             [0.36,1-0.36],[0.2,1-0.2],[0.39,1-0.39],\n",
    "             [0.01, 1-0.01],[.32,1-0.32],[0.31,1-0.31],\n",
    "             [0.53, 1-0.53],[0.38,1-0.38],[0.3,1-0.3],\n",
    "             [0.92,1-0.92],[0.48,1-0.48],[0.45,1-0.45],\n",
    "             [0.88,1-0.88],[0.83,1-0.83],[0.93,1-0.93],\n",
    "             [0.04,1-0.04],[.82,1-0.82],[.74,1-.74],\n",
    "             [0.53,1-0.53],[0.73,1-0.73],[0.77,1-0.77],\n",
    "             [0.25,1-0.25],[0.56,1-0.56],[0.24,1-0.24],\n",
    "             [0,0],[0,0],[.43,1-.43],\n",
    "             [.88,1-.88],[.91,1-.91],[.93,1-.93],\n",
    "             [.31,1-.31],[.75,1-.75],[.48,1-.48],\n",
    "             [.03,1-0.03],[.31,1-.31],[.17,1-.17],\n",
    "             [.04,1-.04],[.13,1-.13],[.19,1-.19],\n",
    "             [.18,1-.18],[.44,1-.44],[.29,1-.29],\n",
    "             [1.0,0.0],[1.0,0.0],[1.0,0.0],\n",
    "             [.12,1-.12],[.43,1-.43],[0.0,0.0],\n",
    "             [.99,1-.99],[.54,1-.54],[.36,1-.36]])"
   ]
  },
  {
   "cell_type": "code",
   "execution_count": 15,
   "metadata": {
    "collapsed": false
   },
   "outputs": [
    {
     "data": {
      "text/plain": [
       "array([[0.5 , 0.5 ],\n",
       "       [0.2 , 0.8 ],\n",
       "       [0.35, 0.65],\n",
       "       [0.07, 0.93],\n",
       "       [0.05, 0.95],\n",
       "       [0.04, 0.96],\n",
       "       [0.1 , 0.9 ],\n",
       "       [0.1 , 0.9 ],\n",
       "       [0.1 , 0.9 ],\n",
       "       [0.15, 0.85],\n",
       "       [0.5 , 0.5 ],\n",
       "       [0.03, 0.97],\n",
       "       [0.03, 0.97],\n",
       "       [0.03, 0.97],\n",
       "       [0.04, 0.96],\n",
       "       [0.1 , 0.9 ],\n",
       "       [0.05, 0.95],\n",
       "       [0.1 , 0.9 ],\n",
       "       [0.  , 0.  ],\n",
       "       [0.  , 0.  ],\n",
       "       [0.  , 0.  ],\n",
       "       [0.  , 0.  ],\n",
       "       [0.03, 0.97],\n",
       "       [0.  , 0.  ],\n",
       "       [0.18, 0.82],\n",
       "       [0.33, 0.67],\n",
       "       [0.31, 0.69],\n",
       "       [0.22, 0.78],\n",
       "       [0.35, 0.65],\n",
       "       [0.  , 0.  ],\n",
       "       [0.69, 0.31],\n",
       "       [0.73, 0.27],\n",
       "       [0.53, 0.47],\n",
       "       [0.25, 0.75],\n",
       "       [0.3 , 0.7 ],\n",
       "       [0.3 , 0.7 ],\n",
       "       [0.  , 0.  ],\n",
       "       [0.  , 0.  ],\n",
       "       [0.  , 0.  ],\n",
       "       [0.2 , 0.8 ],\n",
       "       [0.45, 0.55],\n",
       "       [0.7 , 0.3 ],\n",
       "       [0.07, 0.93],\n",
       "       [0.13, 0.87],\n",
       "       [0.13, 0.87],\n",
       "       [0.03, 0.97],\n",
       "       [0.03, 0.97],\n",
       "       [0.16, 0.84],\n",
       "       [0.  , 0.  ],\n",
       "       [0.5 , 0.5 ],\n",
       "       [0.5 , 0.5 ],\n",
       "       [0.07, 0.93],\n",
       "       [0.04, 0.96],\n",
       "       [0.01, 0.99],\n",
       "       [0.36, 0.64],\n",
       "       [0.2 , 0.8 ],\n",
       "       [0.39, 0.61],\n",
       "       [0.01, 0.99],\n",
       "       [0.32, 0.68],\n",
       "       [0.31, 0.69],\n",
       "       [0.53, 0.47],\n",
       "       [0.38, 0.62],\n",
       "       [0.3 , 0.7 ],\n",
       "       [0.92, 0.08],\n",
       "       [0.48, 0.52],\n",
       "       [0.45, 0.55],\n",
       "       [0.88, 0.12],\n",
       "       [0.83, 0.17],\n",
       "       [0.93, 0.07],\n",
       "       [0.04, 0.96],\n",
       "       [0.82, 0.18],\n",
       "       [0.74, 0.26],\n",
       "       [0.53, 0.47],\n",
       "       [0.73, 0.27],\n",
       "       [0.77, 0.23],\n",
       "       [0.25, 0.75],\n",
       "       [0.56, 0.44],\n",
       "       [0.24, 0.76],\n",
       "       [0.  , 0.  ],\n",
       "       [0.  , 0.  ],\n",
       "       [0.43, 0.57],\n",
       "       [0.88, 0.12],\n",
       "       [0.91, 0.09],\n",
       "       [0.93, 0.07],\n",
       "       [0.31, 0.69],\n",
       "       [0.75, 0.25],\n",
       "       [0.48, 0.52],\n",
       "       [0.03, 0.97],\n",
       "       [0.31, 0.69],\n",
       "       [0.17, 0.83],\n",
       "       [0.04, 0.96],\n",
       "       [0.13, 0.87],\n",
       "       [0.19, 0.81],\n",
       "       [0.18, 0.82],\n",
       "       [0.44, 0.56],\n",
       "       [0.29, 0.71],\n",
       "       [1.  , 0.  ],\n",
       "       [1.  , 0.  ],\n",
       "       [1.  , 0.  ],\n",
       "       [0.12, 0.88],\n",
       "       [0.43, 0.57],\n",
       "       [0.  , 0.  ],\n",
       "       [0.99, 0.01],\n",
       "       [0.54, 0.46],\n",
       "       [0.36, 0.64]])"
      ]
     },
     "execution_count": 15,
     "metadata": {},
     "output_type": "execute_result"
    }
   ],
   "source": [
    "A"
   ]
  },
  {
   "cell_type": "code",
   "execution_count": 16,
   "metadata": {
    "collapsed": false
   },
   "outputs": [
    {
     "name": "stdout",
     "output_type": "stream",
     "text": [
      "[[0.5 0.5]\n",
      " [1.  0. ]\n",
      " [0.  1. ]\n",
      " [0.5 0.5]\n",
      " [1.  0. ]\n",
      " [0.  1. ]\n",
      " [0.5 0.5]\n",
      " [1.  0. ]\n",
      " [0.  1. ]]\n",
      "[[1. ]\n",
      " [0. ]\n",
      " [0.1]\n",
      " [1. ]\n",
      " [0. ]\n",
      " [0.1]\n",
      " [1. ]\n",
      " [0. ]\n",
      " [0.1]]\n",
      "[[0.31666667]\n",
      " [0.41666667]]\n"
     ]
    },
    {
     "name": "stderr",
     "output_type": "stream",
     "text": [
      "C:\\Users\\OEM\\Anaconda3\\lib\\site-packages\\ipykernel\\__main__.py:5: FutureWarning: `rcond` parameter will change to the default of machine precision times ``max(M, N)`` where M and N are the input matrix dimensions.\n",
      "To use the future default and silence this warning we advise to pass `rcond=None`, to keep using the old, explicitly pass `rcond=-1`.\n"
     ]
    }
   ],
   "source": [
    "a= np.array([[.5,1-.5],[1,0],[0,1],[.5,1-.5],[1,0],[0,1],[.5,1-.5],[1,0],[0,1]])\n",
    "b = np.array([[1],[0],[.1],[1],[0],[.1],[1],[0],[.1]])\n",
    "print(a)\n",
    "print(b)\n",
    "P=np.linalg.lstsq(a,b)[0]\n",
    "print(P)"
   ]
  },
  {
   "cell_type": "code",
   "execution_count": 17,
   "metadata": {
    "collapsed": true
   },
   "outputs": [],
   "source": [
    "B = np.array([[0.2],[0.35],[.7],\n",
    "              [0.05],[0.04],[0.03],\n",
    "              [0.1],[0.1],[0.1],\n",
    "              [.5],[.03],[.0],\n",
    "              [.03],[.04],[.03],\n",
    "              [.05],[.1],[.1],\n",
    "              [0.0],[0.0],[0.0],\n",
    "              [0.03],[0.0],[0.2],\n",
    "              [.33],[.31],[.44],\n",
    "              [.35],[.0],[.0],\n",
    "              [.73],[.53],[.38],\n",
    "              [.3],[.3],[.33],\n",
    "              [0],[0],[0],\n",
    "              [.45],[.7],[.5],\n",
    "              [.13],[.13],[.14],\n",
    "              [.03],[.16],[.06],\n",
    "              [.5],[.5],[.2],\n",
    "              [.04],[.01],[.13],\n",
    "              [.2],[.39],[.42],\n",
    "              [.32],[.31],[.72],\n",
    "              [.38],[.3],[.69],\n",
    "              [.48],[.45],[.80],\n",
    "              [.83],[.93],[.46],\n",
    "              [.82],[.74],[.96],\n",
    "              [.73],[.77],[.77],\n",
    "              [.56],[.24],[.08],\n",
    "              [.0],[.43],[.93],\n",
    "              [.91],[.93],[.99],\n",
    "              [.75],[.48],[.92],\n",
    "              [.31],[.17],[.02],\n",
    "              [.13],[.19],[.01],\n",
    "              [.44],[.29],[.92],\n",
    "              [1],[1],[1],\n",
    "              [.43],[.0],[.12],\n",
    "              [.54],[.36],[.98]])"
   ]
  },
  {
   "cell_type": "code",
   "execution_count": 18,
   "metadata": {
    "collapsed": false
   },
   "outputs": [
    {
     "data": {
      "text/plain": [
       "array([[0.2 ],\n",
       "       [0.35],\n",
       "       [0.7 ],\n",
       "       [0.05],\n",
       "       [0.04],\n",
       "       [0.03],\n",
       "       [0.1 ],\n",
       "       [0.1 ],\n",
       "       [0.1 ],\n",
       "       [0.5 ],\n",
       "       [0.03],\n",
       "       [0.  ],\n",
       "       [0.03],\n",
       "       [0.04],\n",
       "       [0.03],\n",
       "       [0.05],\n",
       "       [0.1 ],\n",
       "       [0.1 ],\n",
       "       [0.  ],\n",
       "       [0.  ],\n",
       "       [0.  ],\n",
       "       [0.03],\n",
       "       [0.  ],\n",
       "       [0.2 ],\n",
       "       [0.33],\n",
       "       [0.31],\n",
       "       [0.44],\n",
       "       [0.35],\n",
       "       [0.  ],\n",
       "       [0.  ],\n",
       "       [0.73],\n",
       "       [0.53],\n",
       "       [0.38],\n",
       "       [0.3 ],\n",
       "       [0.3 ],\n",
       "       [0.33],\n",
       "       [0.  ],\n",
       "       [0.  ],\n",
       "       [0.  ],\n",
       "       [0.45],\n",
       "       [0.7 ],\n",
       "       [0.5 ],\n",
       "       [0.13],\n",
       "       [0.13],\n",
       "       [0.14],\n",
       "       [0.03],\n",
       "       [0.16],\n",
       "       [0.06],\n",
       "       [0.5 ],\n",
       "       [0.5 ],\n",
       "       [0.2 ],\n",
       "       [0.04],\n",
       "       [0.01],\n",
       "       [0.13],\n",
       "       [0.2 ],\n",
       "       [0.39],\n",
       "       [0.42],\n",
       "       [0.32],\n",
       "       [0.31],\n",
       "       [0.72],\n",
       "       [0.38],\n",
       "       [0.3 ],\n",
       "       [0.69],\n",
       "       [0.48],\n",
       "       [0.45],\n",
       "       [0.8 ],\n",
       "       [0.83],\n",
       "       [0.93],\n",
       "       [0.46],\n",
       "       [0.82],\n",
       "       [0.74],\n",
       "       [0.96],\n",
       "       [0.73],\n",
       "       [0.77],\n",
       "       [0.77],\n",
       "       [0.56],\n",
       "       [0.24],\n",
       "       [0.08],\n",
       "       [0.  ],\n",
       "       [0.43],\n",
       "       [0.93],\n",
       "       [0.91],\n",
       "       [0.93],\n",
       "       [0.99],\n",
       "       [0.75],\n",
       "       [0.48],\n",
       "       [0.92],\n",
       "       [0.31],\n",
       "       [0.17],\n",
       "       [0.02],\n",
       "       [0.13],\n",
       "       [0.19],\n",
       "       [0.01],\n",
       "       [0.44],\n",
       "       [0.29],\n",
       "       [0.92],\n",
       "       [1.  ],\n",
       "       [1.  ],\n",
       "       [1.  ],\n",
       "       [0.43],\n",
       "       [0.  ],\n",
       "       [0.12],\n",
       "       [0.54],\n",
       "       [0.36],\n",
       "       [0.98]])"
      ]
     },
     "execution_count": 18,
     "metadata": {},
     "output_type": "execute_result"
    }
   ],
   "source": [
    "B"
   ]
  },
  {
   "cell_type": "code",
   "execution_count": 19,
   "metadata": {
    "collapsed": false
   },
   "outputs": [
    {
     "data": {
      "text/plain": [
       "105"
      ]
     },
     "execution_count": 19,
     "metadata": {},
     "output_type": "execute_result"
    }
   ],
   "source": [
    "len(B)"
   ]
  },
  {
   "cell_type": "code",
   "execution_count": 20,
   "metadata": {
    "collapsed": false
   },
   "outputs": [
    {
     "data": {
      "text/plain": [
       "3.0"
      ]
     },
     "execution_count": 20,
     "metadata": {},
     "output_type": "execute_result"
    }
   ],
   "source": [
    "105/35"
   ]
  },
  {
   "cell_type": "code",
   "execution_count": 21,
   "metadata": {
    "collapsed": false
   },
   "outputs": [
    {
     "name": "stderr",
     "output_type": "stream",
     "text": [
      "C:\\Users\\OEM\\Anaconda3\\lib\\site-packages\\ipykernel\\__main__.py:1: FutureWarning: `rcond` parameter will change to the default of machine precision times ``max(M, N)`` where M and N are the input matrix dimensions.\n",
      "To use the future default and silence this warning we advise to pass `rcond=None`, to keep using the old, explicitly pass `rcond=-1`.\n",
      "  if __name__ == '__main__':\n"
     ]
    }
   ],
   "source": [
    "P = np.linalg.lstsq(A,B)[0]"
   ]
  },
  {
   "cell_type": "code",
   "execution_count": 22,
   "metadata": {
    "collapsed": false
   },
   "outputs": [
    {
     "data": {
      "text/plain": [
       "array([[0.87493722],\n",
       "       [0.12563615]])"
      ]
     },
     "execution_count": 22,
     "metadata": {},
     "output_type": "execute_result"
    }
   ],
   "source": [
    "P"
   ]
  },
  {
   "cell_type": "code",
   "execution_count": 23,
   "metadata": {
    "collapsed": false
   },
   "outputs": [
    {
     "data": {
      "text/plain": [
       "105"
      ]
     },
     "execution_count": 23,
     "metadata": {},
     "output_type": "execute_result"
    }
   ],
   "source": [
    "C = np.dot(A,P)\n",
    "len(C)"
   ]
  },
  {
   "cell_type": "markdown",
   "metadata": {},
   "source": [
    "\n",
    "### 1) Matrix bauen aus allen Versuchspersonen. $\\checkmark$\n",
    "\n",
    "### 2) Vektor bauen $\\checkmark$\n",
    "\n",
    "### 3) least square $\\checkmark$    Besser: beta regression!\n",
    "\n",
    "### 4) hidden factors diese Probs einfügen\n",
    "\n",
    "### 5) laufen lassen bzw. therapieren"
   ]
  },
  {
   "cell_type": "markdown",
   "metadata": {
    "collapsed": true
   },
   "source": [
    "# Model"
   ]
  },
  {
   "cell_type": "code",
   "execution_count": 12,
   "metadata": {
    "collapsed": false
   },
   "outputs": [
    {
     "name": "stdout",
     "output_type": "stream",
     "text": [
      "8\n"
     ]
    }
   ],
   "source": [
    "vlist=['H'+str(i) for i in range(4)]\n",
    "hidden=[sp.variableNode(name, vrange=['pain', 'nopain']) for name in vlist]\n",
    "Slist=['S'+str(i) for i in range(4)]\n",
    "sensory=[sp.variableNode(name, vrange=['tickle','noci']) for name in Slist]\n",
    "variables=sensory+hidden\n",
    "print(len(variables))\n",
    "factors=[]"
   ]
  },
  {
   "cell_type": "code",
   "execution_count": 13,
   "metadata": {
    "collapsed": true
   },
   "outputs": [],
   "source": [
    "prior=sp.freeEnergyFactorNode()\n",
    "prior.addNeighbour(hidden[0])\n",
    "\n",
    "def exprior(condrv,conditioners):\n",
    "    if condrv[0] is None:\n",
    "        return 500.0\n",
    "    if condrv[0]=='nopain':\n",
    "        return 0.2\n",
    "    if condrv[0]=='pain':\n",
    "        return 0.8\n",
    "    \n",
    "prior.setPrior(exprior)\n",
    "factors.append(prior)\n",
    "prior.predictFactor()\n",
    "\n",
    "\n",
    "\n",
    "# Hier kommen die PkeepPain und PkeepNoPain aus den Daten rein\n",
    "def hiddenprior(condrv,conditioners):\n",
    "    print(condrv,conditioners),\n",
    "    if condrv[0] is None:\n",
    "        return 200.0\n",
    "    if conditioners[0]=='pain':\n",
    "        if condrv[0]=='pain':\n",
    "            return 0.9\n",
    "        if condrv[0]=='nopain':\n",
    "            return 0.1\n",
    "    else:\n",
    "        if condrv[0]=='pain':\n",
    "            return 0.9\n",
    "        if condrv[0]=='nopain':\n",
    "            return 0.1\n",
    "\n",
    "        \n",
    "#Hier kommen die P(sensation|pain) rein aus den Daten\n",
    "def sensprior(condrv,conditioners):\n",
    "    print(condrv,conditioners)\n",
    "    if condrv[0] is None:\n",
    "        return 1000.0\n",
    "    if conditioners[0]=='pain':\n",
    "        if condrv[0]=='noci':\n",
    "            return 0.9\n",
    "        if condrv[0]=='tickle':\n",
    "            return 0.1\n",
    "    else:\n",
    "        if condrv[0]=='tickle':\n",
    "            return 0.9\n",
    "        if condrv[0]=='noci':\n",
    "            return 0.1        "
   ]
  },
  {
   "cell_type": "code",
   "execution_count": 14,
   "metadata": {
    "collapsed": false
   },
   "outputs": [
    {
     "name": "stdout",
     "output_type": "stream",
     "text": [
      "(None,) ('pain',)\n",
      "('pain',) ('pain',)\n",
      "('nopain',) ('pain',)\n",
      "(None,) ('nopain',)\n",
      "('pain',) ('nopain',)\n",
      "('nopain',) ('nopain',)\n",
      "(None,) ('pain',)\n",
      "('pain',) ('pain',)\n",
      "('nopain',) ('pain',)\n",
      "(None,) ('nopain',)\n",
      "('pain',) ('nopain',)\n",
      "('nopain',) ('nopain',)\n",
      "(None,) ('pain',)\n",
      "('pain',) ('pain',)\n",
      "('nopain',) ('pain',)\n",
      "(None,) ('nopain',)\n",
      "('pain',) ('nopain',)\n",
      "('nopain',) ('nopain',)\n",
      "4\n",
      "3\n"
     ]
    }
   ],
   "source": [
    "parent=hidden[0]\n",
    "hiddenfactors=[]\n",
    "for child in hidden[1:]:\n",
    "    fe=sp.freeEnergyFactorNode()\n",
    "    fe.addNeighbour(child,isConditioner=False)\n",
    "    fe.addNeighbour(parent,isConditioner=True)\n",
    "    fe.setPrior(hiddenprior)\n",
    "    factors.append(fe)\n",
    "    hiddenfactors.append(fe)\n",
    "    parent=child\n",
    "    fe.predictFactor()\n",
    "print(len(factors))\n",
    "print(len(hiddenfactors))"
   ]
  },
  {
   "cell_type": "code",
   "execution_count": 15,
   "metadata": {
    "collapsed": false
   },
   "outputs": [
    {
     "name": "stdout",
     "output_type": "stream",
     "text": [
      "(None,) ('pain',)\n",
      "('tickle',) ('pain',)\n",
      "('noci',) ('pain',)\n",
      "(None,) ('nopain',)\n",
      "('tickle',) ('nopain',)\n",
      "('noci',) ('nopain',)\n",
      "(None,) ('pain',)\n",
      "('tickle',) ('pain',)\n",
      "('noci',) ('pain',)\n",
      "(None,) ('nopain',)\n",
      "('tickle',) ('nopain',)\n",
      "('noci',) ('nopain',)\n",
      "(None,) ('pain',)\n",
      "('tickle',) ('pain',)\n",
      "('noci',) ('pain',)\n",
      "(None,) ('nopain',)\n",
      "('tickle',) ('nopain',)\n",
      "('noci',) ('nopain',)\n",
      "(None,) ('pain',)\n",
      "('tickle',) ('pain',)\n",
      "('noci',) ('pain',)\n",
      "(None,) ('nopain',)\n",
      "('tickle',) ('nopain',)\n",
      "('noci',) ('nopain',)\n"
     ]
    }
   ],
   "source": [
    "sensfactors=[]\n",
    "for h,s in zip(hidden,sensory):\n",
    "    f=sp.freeEnergyFactorNode()\n",
    "    f.addNeighbour(s)\n",
    "    f.addNeighbour(h,isConditioner=True)\n",
    "    f.setPrior(sensprior)\n",
    "    factors+=[f]\n",
    "    sensfactors+=[f]\n",
    "    f.predictFactor()\n",
    "    \n",
    "allNodes=variables+factors"
   ]
  },
  {
   "cell_type": "code",
   "execution_count": 16,
   "metadata": {
    "collapsed": false
   },
   "outputs": [
    {
     "data": {
      "text/plain": [
       "0"
      ]
     },
     "execution_count": 16,
     "metadata": {},
     "output_type": "execute_result"
    }
   ],
   "source": [
    "outf=open(\"PiANNA.dot\",\"w\")\n",
    "outf.write(hidden[0].dotPrint())\n",
    "outf.close()\n",
    "subprocess.call(\"neato -T png -o PiANNA.png PiANNA.dot\", shell=True)"
   ]
  },
  {
   "cell_type": "markdown",
   "metadata": {
    "collapsed": true
   },
   "source": [
    "# Beta regression"
   ]
  },
  {
   "cell_type": "code",
   "execution_count": 2,
   "metadata": {
    "collapsed": true
   },
   "outputs": [],
   "source": [
    "def betaprob(pred_values,lam,nu):\n",
    "    \"\"\"log-likelihood of lambda and nu for beta-distributed pred_values. \n",
    "    lam=alpha/(alpha+beta), nu=alpha+beta\"\"\"\n",
    "    return np.sum(-spf.betaln(lam*nu,(1.0-lam)*nu)+(lam*nu-1.0)*np.log(pred_values+1e-10)+((1.0-lam)*nu-1.0)*np.log(1.0-pred_values+1e-10))"
   ]
  },
  {
   "cell_type": "code",
   "execution_count": 3,
   "metadata": {
    "collapsed": true
   },
   "outputs": [],
   "source": [
    "def time_series_prediction(values,persistence_probs):\n",
    "    \"\"\"Likelihood of time series. values[instance,time] \\in [0,1] are the pain probability values to be predicted\n",
    "    persistence_probs: probabilities of pain / nopain persistence\n",
    "    nu: pseudocount of beta-distribution for likelihood\"\"\"\n",
    "    \n",
    "    predictions=[]\n",
    "    for instance in values:\n",
    "        predicted_values=[]\n",
    "        for time_point in range(1,len(instance)):\n",
    "            ppain=instance[time_point-1]\n",
    "            # Markov chain prediction\n",
    "            predicted_values.append(ppain*persistence_probs[0]+(1.0-ppain)*(1.0-persistence_probs[1]))\n",
    "        predictions.append(predicted_values)\n",
    "        \n",
    "    return np.array(predictions)"
   ]
  },
  {
   "cell_type": "code",
   "execution_count": 4,
   "metadata": {
    "collapsed": true
   },
   "outputs": [],
   "source": [
    "def time_series_likelihood(values,persistence_probs,nu):\n",
    "    \"\"\"Likelihood of time series. values[instance,time] \\in [0,1] are the pain probability values to be predicted\n",
    "    persistence_probs: probabilities of pain / nopain persistence\n",
    "    nu: pseudocount of beta-distribution for likelihood\"\"\"\n",
    "    \n",
    "    predictions=time_series_prediction(values,persistence_probs)\n",
    "\n",
    "    return np.sum(betaprob(values[:,1:].flatten(),predictions.flatten(),nu))"
   ]
  },
  {
   "cell_type": "code",
   "execution_count": 5,
   "metadata": {
    "collapsed": true
   },
   "outputs": [],
   "source": [
    "def cost_function_and_gradient(values,nu):\n",
    "    \n",
    "    costfunc=lambda persistence_probs:-time_series_likelihood(values,persistence_probs,nu)\n",
    "    \n",
    "    costfunc_grad=ag.grad(costfunc)\n",
    "    \n",
    "    return lambda persistence_probs:(costfunc(persistence_probs),costfunc_grad(persistence_probs))"
   ]
  },
  {
   "cell_type": "code",
   "execution_count": 24,
   "metadata": {
    "collapsed": false
   },
   "outputs": [],
   "source": [
    "# Tanja's participants\n",
    "participants=A/100.0"
   ]
  },
  {
   "cell_type": "code",
   "execution_count": 25,
   "metadata": {
    "collapsed": true
   },
   "outputs": [],
   "source": [
    "# starting values for persistence probabilities of pain and nopain\n",
    "pprobs=anp.array([0.5,0.99])"
   ]
  },
  {
   "cell_type": "code",
   "execution_count": 26,
   "metadata": {
    "collapsed": false
   },
   "outputs": [
    {
     "ename": "TypeError",
     "evalue": "ufunc 'betaln' not supported for the input types, and the inputs could not be safely coerced to any supported types according to the casting rule ''safe''",
     "output_type": "error",
     "traceback": [
      "\u001b[0;31m---------------------------------------------------------------------------\u001b[0m",
      "\u001b[0;31mTypeError\u001b[0m                                 Traceback (most recent call last)",
      "\u001b[0;32m<ipython-input-26-250c922fb301>\u001b[0m in \u001b[0;36m<module>\u001b[0;34m()\u001b[0m\n\u001b[1;32m      2\u001b[0m \u001b[1;33m\u001b[0m\u001b[0m\n\u001b[1;32m      3\u001b[0m     \u001b[0mcgf\u001b[0m\u001b[1;33m=\u001b[0m\u001b[0mcost_function_and_gradient\u001b[0m\u001b[1;33m(\u001b[0m\u001b[0mvalues\u001b[0m\u001b[1;33m[\u001b[0m\u001b[0mnp\u001b[0m\u001b[1;33m.\u001b[0m\u001b[0mnewaxis\u001b[0m\u001b[1;33m,\u001b[0m\u001b[1;33m...\u001b[0m\u001b[1;33m]\u001b[0m\u001b[1;33m,\u001b[0m\u001b[1;36m1000.0\u001b[0m\u001b[1;33m)\u001b[0m\u001b[1;33m\u001b[0m\u001b[0m\n\u001b[0;32m----> 4\u001b[0;31m     \u001b[0mbest_p\u001b[0m\u001b[1;33m,\u001b[0m\u001b[0mbest_ll\u001b[0m\u001b[1;33m,\u001b[0m\u001b[0md\u001b[0m\u001b[1;33m=\u001b[0m\u001b[0mopt\u001b[0m\u001b[1;33m.\u001b[0m\u001b[0mfmin_l_bfgs_b\u001b[0m\u001b[1;33m(\u001b[0m\u001b[0mcgf\u001b[0m\u001b[1;33m,\u001b[0m\u001b[0mpprobs\u001b[0m\u001b[1;33m,\u001b[0m\u001b[0mbounds\u001b[0m\u001b[1;33m=\u001b[0m\u001b[1;33m[\u001b[0m\u001b[1;33m(\u001b[0m\u001b[1;36m0.01\u001b[0m\u001b[1;33m,\u001b[0m\u001b[1;36m0.99\u001b[0m\u001b[1;33m)\u001b[0m\u001b[1;33m]\u001b[0m\u001b[1;33m*\u001b[0m\u001b[0mlen\u001b[0m\u001b[1;33m(\u001b[0m\u001b[0mpprobs\u001b[0m\u001b[1;33m)\u001b[0m\u001b[1;33m,\u001b[0m\u001b[0mfactr\u001b[0m\u001b[1;33m=\u001b[0m\u001b[1;36m1000.0\u001b[0m\u001b[1;33m,\u001b[0m\u001b[0mpgtol\u001b[0m\u001b[1;33m=\u001b[0m\u001b[1;36m1e-8\u001b[0m\u001b[1;33m)\u001b[0m\u001b[1;33m\u001b[0m\u001b[0m\n\u001b[0m\u001b[1;32m      5\u001b[0m \u001b[1;33m\u001b[0m\u001b[0m\n\u001b[1;32m      6\u001b[0m     \u001b[0mpredictions\u001b[0m\u001b[1;33m=\u001b[0m\u001b[0mtime_series_prediction\u001b[0m\u001b[1;33m(\u001b[0m\u001b[0mvalues\u001b[0m\u001b[1;33m[\u001b[0m\u001b[0manp\u001b[0m\u001b[1;33m.\u001b[0m\u001b[0mnewaxis\u001b[0m\u001b[1;33m,\u001b[0m\u001b[1;33m...\u001b[0m\u001b[1;33m]\u001b[0m\u001b[1;33m,\u001b[0m\u001b[0mbest_p\u001b[0m\u001b[1;33m)\u001b[0m\u001b[1;33m\u001b[0m\u001b[0m\n",
      "\u001b[0;32mC:\\Users\\OEM\\Anaconda3\\lib\\site-packages\\scipy\\optimize\\lbfgsb.py\u001b[0m in \u001b[0;36mfmin_l_bfgs_b\u001b[0;34m(func, x0, fprime, args, approx_grad, bounds, m, factr, pgtol, epsilon, iprint, maxfun, maxiter, disp, callback, maxls)\u001b[0m\n\u001b[1;32m    191\u001b[0m \u001b[1;33m\u001b[0m\u001b[0m\n\u001b[1;32m    192\u001b[0m     res = _minimize_lbfgsb(fun, x0, args=args, jac=jac, bounds=bounds,\n\u001b[0;32m--> 193\u001b[0;31m                            **opts)\n\u001b[0m\u001b[1;32m    194\u001b[0m     d = {'grad': res['jac'],\n\u001b[1;32m    195\u001b[0m          \u001b[1;34m'task'\u001b[0m\u001b[1;33m:\u001b[0m \u001b[0mres\u001b[0m\u001b[1;33m[\u001b[0m\u001b[1;34m'message'\u001b[0m\u001b[1;33m]\u001b[0m\u001b[1;33m,\u001b[0m\u001b[1;33m\u001b[0m\u001b[0m\n",
      "\u001b[0;32mC:\\Users\\OEM\\Anaconda3\\lib\\site-packages\\scipy\\optimize\\lbfgsb.py\u001b[0m in \u001b[0;36m_minimize_lbfgsb\u001b[0;34m(fun, x0, args, jac, bounds, disp, maxcor, ftol, gtol, eps, maxfun, maxiter, iprint, callback, maxls, **unknown_options)\u001b[0m\n\u001b[1;32m    326\u001b[0m             \u001b[1;31m# until the completion of the current minimization iteration.\u001b[0m\u001b[1;33m\u001b[0m\u001b[1;33m\u001b[0m\u001b[0m\n\u001b[1;32m    327\u001b[0m             \u001b[1;31m# Overwrite f and g:\u001b[0m\u001b[1;33m\u001b[0m\u001b[1;33m\u001b[0m\u001b[0m\n\u001b[0;32m--> 328\u001b[0;31m             \u001b[0mf\u001b[0m\u001b[1;33m,\u001b[0m \u001b[0mg\u001b[0m \u001b[1;33m=\u001b[0m \u001b[0mfunc_and_grad\u001b[0m\u001b[1;33m(\u001b[0m\u001b[0mx\u001b[0m\u001b[1;33m)\u001b[0m\u001b[1;33m\u001b[0m\u001b[0m\n\u001b[0m\u001b[1;32m    329\u001b[0m         \u001b[1;32melif\u001b[0m \u001b[0mtask_str\u001b[0m\u001b[1;33m.\u001b[0m\u001b[0mstartswith\u001b[0m\u001b[1;33m(\u001b[0m\u001b[1;34mb'NEW_X'\u001b[0m\u001b[1;33m)\u001b[0m\u001b[1;33m:\u001b[0m\u001b[1;33m\u001b[0m\u001b[0m\n\u001b[1;32m    330\u001b[0m             \u001b[1;31m# new iteration\u001b[0m\u001b[1;33m\u001b[0m\u001b[1;33m\u001b[0m\u001b[0m\n",
      "\u001b[0;32mC:\\Users\\OEM\\Anaconda3\\lib\\site-packages\\scipy\\optimize\\lbfgsb.py\u001b[0m in \u001b[0;36mfunc_and_grad\u001b[0;34m(x)\u001b[0m\n\u001b[1;32m    276\u001b[0m     \u001b[1;32melse\u001b[0m\u001b[1;33m:\u001b[0m\u001b[1;33m\u001b[0m\u001b[0m\n\u001b[1;32m    277\u001b[0m         \u001b[1;32mdef\u001b[0m \u001b[0mfunc_and_grad\u001b[0m\u001b[1;33m(\u001b[0m\u001b[0mx\u001b[0m\u001b[1;33m)\u001b[0m\u001b[1;33m:\u001b[0m\u001b[1;33m\u001b[0m\u001b[0m\n\u001b[0;32m--> 278\u001b[0;31m             \u001b[0mf\u001b[0m \u001b[1;33m=\u001b[0m \u001b[0mfun\u001b[0m\u001b[1;33m(\u001b[0m\u001b[0mx\u001b[0m\u001b[1;33m,\u001b[0m \u001b[1;33m*\u001b[0m\u001b[0margs\u001b[0m\u001b[1;33m)\u001b[0m\u001b[1;33m\u001b[0m\u001b[0m\n\u001b[0m\u001b[1;32m    279\u001b[0m             \u001b[0mg\u001b[0m \u001b[1;33m=\u001b[0m \u001b[0mjac\u001b[0m\u001b[1;33m(\u001b[0m\u001b[0mx\u001b[0m\u001b[1;33m,\u001b[0m \u001b[1;33m*\u001b[0m\u001b[0margs\u001b[0m\u001b[1;33m)\u001b[0m\u001b[1;33m\u001b[0m\u001b[0m\n\u001b[1;32m    280\u001b[0m             \u001b[1;32mreturn\u001b[0m \u001b[0mf\u001b[0m\u001b[1;33m,\u001b[0m \u001b[0mg\u001b[0m\u001b[1;33m\u001b[0m\u001b[0m\n",
      "\u001b[0;32mC:\\Users\\OEM\\Anaconda3\\lib\\site-packages\\scipy\\optimize\\optimize.py\u001b[0m in \u001b[0;36mfunction_wrapper\u001b[0;34m(*wrapper_args)\u001b[0m\n\u001b[1;32m    290\u001b[0m     \u001b[1;32mdef\u001b[0m \u001b[0mfunction_wrapper\u001b[0m\u001b[1;33m(\u001b[0m\u001b[1;33m*\u001b[0m\u001b[0mwrapper_args\u001b[0m\u001b[1;33m)\u001b[0m\u001b[1;33m:\u001b[0m\u001b[1;33m\u001b[0m\u001b[0m\n\u001b[1;32m    291\u001b[0m         \u001b[0mncalls\u001b[0m\u001b[1;33m[\u001b[0m\u001b[1;36m0\u001b[0m\u001b[1;33m]\u001b[0m \u001b[1;33m+=\u001b[0m \u001b[1;36m1\u001b[0m\u001b[1;33m\u001b[0m\u001b[0m\n\u001b[0;32m--> 292\u001b[0;31m         \u001b[1;32mreturn\u001b[0m \u001b[0mfunction\u001b[0m\u001b[1;33m(\u001b[0m\u001b[1;33m*\u001b[0m\u001b[1;33m(\u001b[0m\u001b[0mwrapper_args\u001b[0m \u001b[1;33m+\u001b[0m \u001b[0margs\u001b[0m\u001b[1;33m)\u001b[0m\u001b[1;33m)\u001b[0m\u001b[1;33m\u001b[0m\u001b[0m\n\u001b[0m\u001b[1;32m    293\u001b[0m \u001b[1;33m\u001b[0m\u001b[0m\n\u001b[1;32m    294\u001b[0m     \u001b[1;32mreturn\u001b[0m \u001b[0mncalls\u001b[0m\u001b[1;33m,\u001b[0m \u001b[0mfunction_wrapper\u001b[0m\u001b[1;33m\u001b[0m\u001b[0m\n",
      "\u001b[0;32mC:\\Users\\OEM\\Anaconda3\\lib\\site-packages\\scipy\\optimize\\optimize.py\u001b[0m in \u001b[0;36m__call__\u001b[0;34m(self, x, *args)\u001b[0m\n\u001b[1;32m     61\u001b[0m     \u001b[1;32mdef\u001b[0m \u001b[0m__call__\u001b[0m\u001b[1;33m(\u001b[0m\u001b[0mself\u001b[0m\u001b[1;33m,\u001b[0m \u001b[0mx\u001b[0m\u001b[1;33m,\u001b[0m \u001b[1;33m*\u001b[0m\u001b[0margs\u001b[0m\u001b[1;33m)\u001b[0m\u001b[1;33m:\u001b[0m\u001b[1;33m\u001b[0m\u001b[0m\n\u001b[1;32m     62\u001b[0m         \u001b[0mself\u001b[0m\u001b[1;33m.\u001b[0m\u001b[0mx\u001b[0m \u001b[1;33m=\u001b[0m \u001b[0mnumpy\u001b[0m\u001b[1;33m.\u001b[0m\u001b[0masarray\u001b[0m\u001b[1;33m(\u001b[0m\u001b[0mx\u001b[0m\u001b[1;33m)\u001b[0m\u001b[1;33m.\u001b[0m\u001b[0mcopy\u001b[0m\u001b[1;33m(\u001b[0m\u001b[1;33m)\u001b[0m\u001b[1;33m\u001b[0m\u001b[0m\n\u001b[0;32m---> 63\u001b[0;31m         \u001b[0mfg\u001b[0m \u001b[1;33m=\u001b[0m \u001b[0mself\u001b[0m\u001b[1;33m.\u001b[0m\u001b[0mfun\u001b[0m\u001b[1;33m(\u001b[0m\u001b[0mx\u001b[0m\u001b[1;33m,\u001b[0m \u001b[1;33m*\u001b[0m\u001b[0margs\u001b[0m\u001b[1;33m)\u001b[0m\u001b[1;33m\u001b[0m\u001b[0m\n\u001b[0m\u001b[1;32m     64\u001b[0m         \u001b[0mself\u001b[0m\u001b[1;33m.\u001b[0m\u001b[0mjac\u001b[0m \u001b[1;33m=\u001b[0m \u001b[0mfg\u001b[0m\u001b[1;33m[\u001b[0m\u001b[1;36m1\u001b[0m\u001b[1;33m]\u001b[0m\u001b[1;33m\u001b[0m\u001b[0m\n\u001b[1;32m     65\u001b[0m         \u001b[1;32mreturn\u001b[0m \u001b[0mfg\u001b[0m\u001b[1;33m[\u001b[0m\u001b[1;36m0\u001b[0m\u001b[1;33m]\u001b[0m\u001b[1;33m\u001b[0m\u001b[0m\n",
      "\u001b[0;32m<ipython-input-5-40832a23ede0>\u001b[0m in \u001b[0;36m<lambda>\u001b[0;34m(persistence_probs)\u001b[0m\n\u001b[1;32m      5\u001b[0m     \u001b[0mcostfunc_grad\u001b[0m\u001b[1;33m=\u001b[0m\u001b[0mag\u001b[0m\u001b[1;33m.\u001b[0m\u001b[0mgrad\u001b[0m\u001b[1;33m(\u001b[0m\u001b[0mcostfunc\u001b[0m\u001b[1;33m)\u001b[0m\u001b[1;33m\u001b[0m\u001b[0m\n\u001b[1;32m      6\u001b[0m \u001b[1;33m\u001b[0m\u001b[0m\n\u001b[0;32m----> 7\u001b[0;31m     \u001b[1;32mreturn\u001b[0m \u001b[1;32mlambda\u001b[0m \u001b[0mpersistence_probs\u001b[0m\u001b[1;33m:\u001b[0m\u001b[1;33m(\u001b[0m\u001b[0mcostfunc\u001b[0m\u001b[1;33m(\u001b[0m\u001b[0mpersistence_probs\u001b[0m\u001b[1;33m)\u001b[0m\u001b[1;33m,\u001b[0m\u001b[0mcostfunc_grad\u001b[0m\u001b[1;33m(\u001b[0m\u001b[0mpersistence_probs\u001b[0m\u001b[1;33m)\u001b[0m\u001b[1;33m)\u001b[0m\u001b[1;33m\u001b[0m\u001b[0m\n\u001b[0m",
      "\u001b[0;32mC:\\Users\\OEM\\AppData\\Roaming\\Python\\Python36\\site-packages\\autograd\\wrap_util.py\u001b[0m in \u001b[0;36mnary_f\u001b[0;34m(*args, **kwargs)\u001b[0m\n\u001b[1;32m     18\u001b[0m             \u001b[1;32melse\u001b[0m\u001b[1;33m:\u001b[0m\u001b[1;33m\u001b[0m\u001b[0m\n\u001b[1;32m     19\u001b[0m                 \u001b[0mx\u001b[0m \u001b[1;33m=\u001b[0m \u001b[0mtuple\u001b[0m\u001b[1;33m(\u001b[0m\u001b[0margs\u001b[0m\u001b[1;33m[\u001b[0m\u001b[0mi\u001b[0m\u001b[1;33m]\u001b[0m \u001b[1;32mfor\u001b[0m \u001b[0mi\u001b[0m \u001b[1;32min\u001b[0m \u001b[0margnum\u001b[0m\u001b[1;33m)\u001b[0m\u001b[1;33m\u001b[0m\u001b[0m\n\u001b[0;32m---> 20\u001b[0;31m             \u001b[1;32mreturn\u001b[0m \u001b[0munary_operator\u001b[0m\u001b[1;33m(\u001b[0m\u001b[0munary_f\u001b[0m\u001b[1;33m,\u001b[0m \u001b[0mx\u001b[0m\u001b[1;33m,\u001b[0m \u001b[1;33m*\u001b[0m\u001b[0mnary_op_args\u001b[0m\u001b[1;33m,\u001b[0m \u001b[1;33m**\u001b[0m\u001b[0mnary_op_kwargs\u001b[0m\u001b[1;33m)\u001b[0m\u001b[1;33m\u001b[0m\u001b[0m\n\u001b[0m\u001b[1;32m     21\u001b[0m         \u001b[1;32mreturn\u001b[0m \u001b[0mnary_f\u001b[0m\u001b[1;33m\u001b[0m\u001b[0m\n\u001b[1;32m     22\u001b[0m     \u001b[1;32mreturn\u001b[0m \u001b[0mnary_operator\u001b[0m\u001b[1;33m\u001b[0m\u001b[0m\n",
      "\u001b[0;32mC:\\Users\\OEM\\AppData\\Roaming\\Python\\Python36\\site-packages\\autograd\\differential_operators.py\u001b[0m in \u001b[0;36mgrad\u001b[0;34m(fun, x)\u001b[0m\n\u001b[1;32m     22\u001b[0m     \u001b[0marguments\u001b[0m \u001b[1;32mas\u001b[0m\u001b[0;31m \u001b[0m\u001b[0;31m`\u001b[0m\u001b[0mfun\u001b[0m\u001b[0;31m`\u001b[0m\u001b[1;33m,\u001b[0m \u001b[0mbut\u001b[0m \u001b[0mreturns\u001b[0m \u001b[0mthe\u001b[0m \u001b[0mgradient\u001b[0m \u001b[0minstead\u001b[0m\u001b[1;33m.\u001b[0m \u001b[0mThe\u001b[0m \u001b[0mfunction\u001b[0m\u001b[0;31m \u001b[0m\u001b[0;31m`\u001b[0m\u001b[0mfun\u001b[0m\u001b[0;31m`\u001b[0m\u001b[1;33m\u001b[0m\u001b[0m\n\u001b[1;32m     23\u001b[0m     should be scalar-valued. The gradient has the same type as the argument.\"\"\"\n\u001b[0;32m---> 24\u001b[0;31m     \u001b[0mvjp\u001b[0m\u001b[1;33m,\u001b[0m \u001b[0mans\u001b[0m \u001b[1;33m=\u001b[0m \u001b[0m_make_vjp\u001b[0m\u001b[1;33m(\u001b[0m\u001b[0mfun\u001b[0m\u001b[1;33m,\u001b[0m \u001b[0mx\u001b[0m\u001b[1;33m)\u001b[0m\u001b[1;33m\u001b[0m\u001b[0m\n\u001b[0m\u001b[1;32m     25\u001b[0m     \u001b[1;32mif\u001b[0m \u001b[1;32mnot\u001b[0m \u001b[0mvspace\u001b[0m\u001b[1;33m(\u001b[0m\u001b[0mans\u001b[0m\u001b[1;33m)\u001b[0m\u001b[1;33m.\u001b[0m\u001b[0msize\u001b[0m \u001b[1;33m==\u001b[0m \u001b[1;36m1\u001b[0m\u001b[1;33m:\u001b[0m\u001b[1;33m\u001b[0m\u001b[0m\n\u001b[1;32m     26\u001b[0m         raise TypeError(\"Grad only applies to real scalar-output functions. \"\n",
      "\u001b[0;32mC:\\Users\\OEM\\AppData\\Roaming\\Python\\Python36\\site-packages\\autograd\\core.py\u001b[0m in \u001b[0;36mmake_vjp\u001b[0;34m(fun, x)\u001b[0m\n\u001b[1;32m      8\u001b[0m \u001b[1;32mdef\u001b[0m \u001b[0mmake_vjp\u001b[0m\u001b[1;33m(\u001b[0m\u001b[0mfun\u001b[0m\u001b[1;33m,\u001b[0m \u001b[0mx\u001b[0m\u001b[1;33m)\u001b[0m\u001b[1;33m:\u001b[0m\u001b[1;33m\u001b[0m\u001b[0m\n\u001b[1;32m      9\u001b[0m     \u001b[0mstart_node\u001b[0m \u001b[1;33m=\u001b[0m \u001b[0mVJPNode\u001b[0m\u001b[1;33m.\u001b[0m\u001b[0mnew_root\u001b[0m\u001b[1;33m(\u001b[0m\u001b[0mx\u001b[0m\u001b[1;33m)\u001b[0m\u001b[1;33m\u001b[0m\u001b[0m\n\u001b[0;32m---> 10\u001b[0;31m     \u001b[0mend_value\u001b[0m\u001b[1;33m,\u001b[0m \u001b[0mend_node\u001b[0m \u001b[1;33m=\u001b[0m  \u001b[0mtrace\u001b[0m\u001b[1;33m(\u001b[0m\u001b[0mstart_node\u001b[0m\u001b[1;33m,\u001b[0m \u001b[0mfun\u001b[0m\u001b[1;33m,\u001b[0m \u001b[0mx\u001b[0m\u001b[1;33m)\u001b[0m\u001b[1;33m\u001b[0m\u001b[0m\n\u001b[0m\u001b[1;32m     11\u001b[0m     \u001b[1;32mif\u001b[0m \u001b[0mend_node\u001b[0m \u001b[1;32mis\u001b[0m \u001b[1;32mNone\u001b[0m\u001b[1;33m:\u001b[0m\u001b[1;33m\u001b[0m\u001b[0m\n\u001b[1;32m     12\u001b[0m         \u001b[1;32mdef\u001b[0m \u001b[0mvjp\u001b[0m\u001b[1;33m(\u001b[0m\u001b[0mg\u001b[0m\u001b[1;33m)\u001b[0m\u001b[1;33m:\u001b[0m \u001b[1;32mreturn\u001b[0m \u001b[0mvspace\u001b[0m\u001b[1;33m(\u001b[0m\u001b[0mx\u001b[0m\u001b[1;33m)\u001b[0m\u001b[1;33m.\u001b[0m\u001b[0mzeros\u001b[0m\u001b[1;33m(\u001b[0m\u001b[1;33m)\u001b[0m\u001b[1;33m\u001b[0m\u001b[0m\n",
      "\u001b[0;32mC:\\Users\\OEM\\AppData\\Roaming\\Python\\Python36\\site-packages\\autograd\\tracer.py\u001b[0m in \u001b[0;36mtrace\u001b[0;34m(start_node, fun, x)\u001b[0m\n\u001b[1;32m      8\u001b[0m     \u001b[1;32mwith\u001b[0m \u001b[0mtrace_stack\u001b[0m\u001b[1;33m.\u001b[0m\u001b[0mnew_trace\u001b[0m\u001b[1;33m(\u001b[0m\u001b[1;33m)\u001b[0m \u001b[1;32mas\u001b[0m \u001b[0mt\u001b[0m\u001b[1;33m:\u001b[0m\u001b[1;33m\u001b[0m\u001b[0m\n\u001b[1;32m      9\u001b[0m         \u001b[0mstart_box\u001b[0m \u001b[1;33m=\u001b[0m \u001b[0mnew_box\u001b[0m\u001b[1;33m(\u001b[0m\u001b[0mx\u001b[0m\u001b[1;33m,\u001b[0m \u001b[0mt\u001b[0m\u001b[1;33m,\u001b[0m \u001b[0mstart_node\u001b[0m\u001b[1;33m)\u001b[0m\u001b[1;33m\u001b[0m\u001b[0m\n\u001b[0;32m---> 10\u001b[0;31m         \u001b[0mend_box\u001b[0m \u001b[1;33m=\u001b[0m \u001b[0mfun\u001b[0m\u001b[1;33m(\u001b[0m\u001b[0mstart_box\u001b[0m\u001b[1;33m)\u001b[0m\u001b[1;33m\u001b[0m\u001b[0m\n\u001b[0m\u001b[1;32m     11\u001b[0m         \u001b[1;32mif\u001b[0m \u001b[0misbox\u001b[0m\u001b[1;33m(\u001b[0m\u001b[0mend_box\u001b[0m\u001b[1;33m)\u001b[0m \u001b[1;32mand\u001b[0m \u001b[0mend_box\u001b[0m\u001b[1;33m.\u001b[0m\u001b[0m_trace\u001b[0m \u001b[1;33m==\u001b[0m \u001b[0mstart_box\u001b[0m\u001b[1;33m.\u001b[0m\u001b[0m_trace\u001b[0m\u001b[1;33m:\u001b[0m\u001b[1;33m\u001b[0m\u001b[0m\n\u001b[1;32m     12\u001b[0m             \u001b[1;32mreturn\u001b[0m \u001b[0mend_box\u001b[0m\u001b[1;33m.\u001b[0m\u001b[0m_value\u001b[0m\u001b[1;33m,\u001b[0m \u001b[0mend_box\u001b[0m\u001b[1;33m.\u001b[0m\u001b[0m_node\u001b[0m\u001b[1;33m\u001b[0m\u001b[0m\n",
      "\u001b[0;32mC:\\Users\\OEM\\AppData\\Roaming\\Python\\Python36\\site-packages\\autograd\\wrap_util.py\u001b[0m in \u001b[0;36munary_f\u001b[0;34m(x)\u001b[0m\n\u001b[1;32m     13\u001b[0m                 \u001b[1;32melse\u001b[0m\u001b[1;33m:\u001b[0m\u001b[1;33m\u001b[0m\u001b[0m\n\u001b[1;32m     14\u001b[0m                     \u001b[0msubargs\u001b[0m \u001b[1;33m=\u001b[0m \u001b[0msubvals\u001b[0m\u001b[1;33m(\u001b[0m\u001b[0margs\u001b[0m\u001b[1;33m,\u001b[0m \u001b[0mzip\u001b[0m\u001b[1;33m(\u001b[0m\u001b[0margnum\u001b[0m\u001b[1;33m,\u001b[0m \u001b[0mx\u001b[0m\u001b[1;33m)\u001b[0m\u001b[1;33m)\u001b[0m\u001b[1;33m\u001b[0m\u001b[0m\n\u001b[0;32m---> 15\u001b[0;31m                 \u001b[1;32mreturn\u001b[0m \u001b[0mfun\u001b[0m\u001b[1;33m(\u001b[0m\u001b[1;33m*\u001b[0m\u001b[0msubargs\u001b[0m\u001b[1;33m,\u001b[0m \u001b[1;33m**\u001b[0m\u001b[0mkwargs\u001b[0m\u001b[1;33m)\u001b[0m\u001b[1;33m\u001b[0m\u001b[0m\n\u001b[0m\u001b[1;32m     16\u001b[0m             \u001b[1;32mif\u001b[0m \u001b[0misinstance\u001b[0m\u001b[1;33m(\u001b[0m\u001b[0margnum\u001b[0m\u001b[1;33m,\u001b[0m \u001b[0mint\u001b[0m\u001b[1;33m)\u001b[0m\u001b[1;33m:\u001b[0m\u001b[1;33m\u001b[0m\u001b[0m\n\u001b[1;32m     17\u001b[0m                 \u001b[0mx\u001b[0m \u001b[1;33m=\u001b[0m \u001b[0margs\u001b[0m\u001b[1;33m[\u001b[0m\u001b[0margnum\u001b[0m\u001b[1;33m]\u001b[0m\u001b[1;33m\u001b[0m\u001b[0m\n",
      "\u001b[0;32m<ipython-input-5-40832a23ede0>\u001b[0m in \u001b[0;36m<lambda>\u001b[0;34m(persistence_probs)\u001b[0m\n\u001b[1;32m      1\u001b[0m \u001b[1;32mdef\u001b[0m \u001b[0mcost_function_and_gradient\u001b[0m\u001b[1;33m(\u001b[0m\u001b[0mvalues\u001b[0m\u001b[1;33m,\u001b[0m\u001b[0mnu\u001b[0m\u001b[1;33m)\u001b[0m\u001b[1;33m:\u001b[0m\u001b[1;33m\u001b[0m\u001b[0m\n\u001b[1;32m      2\u001b[0m \u001b[1;33m\u001b[0m\u001b[0m\n\u001b[0;32m----> 3\u001b[0;31m     \u001b[0mcostfunc\u001b[0m\u001b[1;33m=\u001b[0m\u001b[1;32mlambda\u001b[0m \u001b[0mpersistence_probs\u001b[0m\u001b[1;33m:\u001b[0m\u001b[1;33m-\u001b[0m\u001b[0mtime_series_likelihood\u001b[0m\u001b[1;33m(\u001b[0m\u001b[0mvalues\u001b[0m\u001b[1;33m,\u001b[0m\u001b[0mpersistence_probs\u001b[0m\u001b[1;33m,\u001b[0m\u001b[0mnu\u001b[0m\u001b[1;33m)\u001b[0m\u001b[1;33m\u001b[0m\u001b[0m\n\u001b[0m\u001b[1;32m      4\u001b[0m \u001b[1;33m\u001b[0m\u001b[0m\n\u001b[1;32m      5\u001b[0m     \u001b[0mcostfunc_grad\u001b[0m\u001b[1;33m=\u001b[0m\u001b[0mag\u001b[0m\u001b[1;33m.\u001b[0m\u001b[0mgrad\u001b[0m\u001b[1;33m(\u001b[0m\u001b[0mcostfunc\u001b[0m\u001b[1;33m)\u001b[0m\u001b[1;33m\u001b[0m\u001b[0m\n",
      "\u001b[0;32m<ipython-input-4-36ca540943ea>\u001b[0m in \u001b[0;36mtime_series_likelihood\u001b[0;34m(values, persistence_probs, nu)\u001b[0m\n\u001b[1;32m      6\u001b[0m     \u001b[0mpredictions\u001b[0m\u001b[1;33m=\u001b[0m\u001b[0mtime_series_prediction\u001b[0m\u001b[1;33m(\u001b[0m\u001b[0mvalues\u001b[0m\u001b[1;33m,\u001b[0m\u001b[0mpersistence_probs\u001b[0m\u001b[1;33m)\u001b[0m\u001b[1;33m\u001b[0m\u001b[0m\n\u001b[1;32m      7\u001b[0m \u001b[1;33m\u001b[0m\u001b[0m\n\u001b[0;32m----> 8\u001b[0;31m     \u001b[1;32mreturn\u001b[0m \u001b[0mnp\u001b[0m\u001b[1;33m.\u001b[0m\u001b[0msum\u001b[0m\u001b[1;33m(\u001b[0m\u001b[0mbetaprob\u001b[0m\u001b[1;33m(\u001b[0m\u001b[0mvalues\u001b[0m\u001b[1;33m[\u001b[0m\u001b[1;33m:\u001b[0m\u001b[1;33m,\u001b[0m\u001b[1;36m1\u001b[0m\u001b[1;33m:\u001b[0m\u001b[1;33m]\u001b[0m\u001b[1;33m.\u001b[0m\u001b[0mflatten\u001b[0m\u001b[1;33m(\u001b[0m\u001b[1;33m)\u001b[0m\u001b[1;33m,\u001b[0m\u001b[0mpredictions\u001b[0m\u001b[1;33m.\u001b[0m\u001b[0mflatten\u001b[0m\u001b[1;33m(\u001b[0m\u001b[1;33m)\u001b[0m\u001b[1;33m,\u001b[0m\u001b[0mnu\u001b[0m\u001b[1;33m)\u001b[0m\u001b[1;33m)\u001b[0m\u001b[1;33m\u001b[0m\u001b[0m\n\u001b[0m",
      "\u001b[0;32m<ipython-input-2-9f6e8af7a332>\u001b[0m in \u001b[0;36mbetaprob\u001b[0;34m(pred_values, lam, nu)\u001b[0m\n\u001b[1;32m      2\u001b[0m     \"\"\"log-likelihood of lambda and nu for beta-distributed pred_values. \n\u001b[1;32m      3\u001b[0m     lam=alpha/(alpha+beta), nu=alpha+beta\"\"\"\n\u001b[0;32m----> 4\u001b[0;31m     \u001b[1;32mreturn\u001b[0m \u001b[0mnp\u001b[0m\u001b[1;33m.\u001b[0m\u001b[0msum\u001b[0m\u001b[1;33m(\u001b[0m\u001b[1;33m-\u001b[0m\u001b[0mspf\u001b[0m\u001b[1;33m.\u001b[0m\u001b[0mbetaln\u001b[0m\u001b[1;33m(\u001b[0m\u001b[0mlam\u001b[0m\u001b[1;33m*\u001b[0m\u001b[0mnu\u001b[0m\u001b[1;33m,\u001b[0m\u001b[1;33m(\u001b[0m\u001b[1;36m1.0\u001b[0m\u001b[1;33m-\u001b[0m\u001b[0mlam\u001b[0m\u001b[1;33m)\u001b[0m\u001b[1;33m*\u001b[0m\u001b[0mnu\u001b[0m\u001b[1;33m)\u001b[0m\u001b[1;33m+\u001b[0m\u001b[1;33m(\u001b[0m\u001b[0mlam\u001b[0m\u001b[1;33m*\u001b[0m\u001b[0mnu\u001b[0m\u001b[1;33m-\u001b[0m\u001b[1;36m1.0\u001b[0m\u001b[1;33m)\u001b[0m\u001b[1;33m*\u001b[0m\u001b[0mnp\u001b[0m\u001b[1;33m.\u001b[0m\u001b[0mlog\u001b[0m\u001b[1;33m(\u001b[0m\u001b[0mpred_values\u001b[0m\u001b[1;33m+\u001b[0m\u001b[1;36m1e-10\u001b[0m\u001b[1;33m)\u001b[0m\u001b[1;33m+\u001b[0m\u001b[1;33m(\u001b[0m\u001b[1;33m(\u001b[0m\u001b[1;36m1.0\u001b[0m\u001b[1;33m-\u001b[0m\u001b[0mlam\u001b[0m\u001b[1;33m)\u001b[0m\u001b[1;33m*\u001b[0m\u001b[0mnu\u001b[0m\u001b[1;33m-\u001b[0m\u001b[1;36m1.0\u001b[0m\u001b[1;33m)\u001b[0m\u001b[1;33m*\u001b[0m\u001b[0mnp\u001b[0m\u001b[1;33m.\u001b[0m\u001b[0mlog\u001b[0m\u001b[1;33m(\u001b[0m\u001b[1;36m1.0\u001b[0m\u001b[1;33m-\u001b[0m\u001b[0mpred_values\u001b[0m\u001b[1;33m+\u001b[0m\u001b[1;36m1e-10\u001b[0m\u001b[1;33m)\u001b[0m\u001b[1;33m)\u001b[0m\u001b[1;33m\u001b[0m\u001b[0m\n\u001b[0m",
      "\u001b[0;32mC:\\Users\\OEM\\AppData\\Roaming\\Python\\Python36\\site-packages\\autograd\\tracer.py\u001b[0m in \u001b[0;36mf_wrapped\u001b[0;34m(*args, **kwargs)\u001b[0m\n\u001b[1;32m     46\u001b[0m             \u001b[1;32mreturn\u001b[0m \u001b[0mnew_box\u001b[0m\u001b[1;33m(\u001b[0m\u001b[0mans\u001b[0m\u001b[1;33m,\u001b[0m \u001b[0mtrace\u001b[0m\u001b[1;33m,\u001b[0m \u001b[0mnode\u001b[0m\u001b[1;33m)\u001b[0m\u001b[1;33m\u001b[0m\u001b[0m\n\u001b[1;32m     47\u001b[0m         \u001b[1;32melse\u001b[0m\u001b[1;33m:\u001b[0m\u001b[1;33m\u001b[0m\u001b[0m\n\u001b[0;32m---> 48\u001b[0;31m             \u001b[1;32mreturn\u001b[0m \u001b[0mf_raw\u001b[0m\u001b[1;33m(\u001b[0m\u001b[1;33m*\u001b[0m\u001b[0margs\u001b[0m\u001b[1;33m,\u001b[0m \u001b[1;33m**\u001b[0m\u001b[0mkwargs\u001b[0m\u001b[1;33m)\u001b[0m\u001b[1;33m\u001b[0m\u001b[0m\n\u001b[0m\u001b[1;32m     49\u001b[0m     \u001b[0mf_wrapped\u001b[0m\u001b[1;33m.\u001b[0m\u001b[0mfun\u001b[0m \u001b[1;33m=\u001b[0m \u001b[0mf_raw\u001b[0m\u001b[1;33m\u001b[0m\u001b[0m\n\u001b[1;32m     50\u001b[0m     \u001b[0mf_wrapped\u001b[0m\u001b[1;33m.\u001b[0m\u001b[0m_is_autograd_primitive\u001b[0m \u001b[1;33m=\u001b[0m \u001b[1;32mTrue\u001b[0m\u001b[1;33m\u001b[0m\u001b[0m\n",
      "\u001b[0;31mTypeError\u001b[0m: ufunc 'betaln' not supported for the input types, and the inputs could not be safely coerced to any supported types according to the casting rule ''safe''"
     ]
    }
   ],
   "source": [
    "for values in participants:\n",
    "\n",
    "    cgf=cost_function_and_gradient(values[np.newaxis,...],1000.0)\n",
    "    best_p,best_ll,d=opt.fmin_l_bfgs_b(cgf,pprobs,bounds=[(0.01,0.99)]*len(pprobs),factr=1000.0,pgtol=1e-8)\n",
    "    \n",
    "    predictions=time_series_prediction(values[anp.newaxis,...],best_p)\n",
    "    \n",
    "    print(\"Best transition probabilities\",best_p,\"Actual and predicted pain values\",values[1:],predictions)"
   ]
  },
  {
   "cell_type": "code",
   "execution_count": null,
   "metadata": {
    "collapsed": true
   },
   "outputs": [],
   "source": []
  }
 ],
 "metadata": {
  "kernelspec": {
   "display_name": "Python 3",
   "language": "python",
   "name": "python3"
  },
  "language_info": {
   "codemirror_mode": {
    "name": "ipython",
    "version": 3
   },
   "file_extension": ".py",
   "mimetype": "text/x-python",
   "name": "python",
   "nbconvert_exporter": "python",
   "pygments_lexer": "ipython3",
   "version": "3.6.0"
  }
 },
 "nbformat": 4,
 "nbformat_minor": 2
}
